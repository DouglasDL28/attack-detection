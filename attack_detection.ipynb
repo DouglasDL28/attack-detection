{
 "cells": [
  {
   "cell_type": "code",
   "execution_count": 28,
   "metadata": {},
   "outputs": [],
   "source": [
    "import pandas as pd\n",
    "from sklearn.preprocessing import MinMaxScaler\n",
    "from sklearn.model_selection import train_test_split, cross_val_score, cross_validate\n",
    "from sklearn.ensemble import RandomForestClassifier\n",
    "from sklearn.metrics import confusion_matrix, precision_score, recall_score, f1_score, classification_report, accuracy_score"
   ]
  },
  {
   "cell_type": "code",
   "execution_count": 14,
   "metadata": {},
   "outputs": [],
   "source": [
    "df = pd.read_csv(\"dataset/clean_df.csv\")"
   ]
  },
  {
   "cell_type": "code",
   "execution_count": 15,
   "metadata": {
    "scrolled": false
   },
   "outputs": [
    {
     "data": {
      "text/plain": [
       "Index(['Unnamed: 0', 'FIRST_SWITCHED', 'FLOW_DURATION_MILLISECONDS', 'IN_PKTS',\n",
       "       'L4_DST_PORT', 'L4_SRC_PORT', 'LAST_SWITCHED', 'OUT_BYTES', 'OUT_PKTS',\n",
       "       'SRC_TO_DST_SECOND_BYTES',\n",
       "       ...\n",
       "       'L7_PROTO_NAME_WEBEX', 'L7_PROTO_NAME_WHATSAPP',\n",
       "       'L7_PROTO_NAME_WHATSAPPFILES', 'L7_PROTO_NAME_WHOIS_DAS',\n",
       "       'L7_PROTO_NAME_WIREGUARD', 'L7_PROTO_NAME_WSD', 'L7_PROTO_NAME_XBOX',\n",
       "       'L7_PROTO_NAME_XDMCP', 'L7_PROTO_NAME_ZABBIX', 'L7_PROTO_NAME_ZOOM'],\n",
       "      dtype='object', length=152)"
      ]
     },
     "execution_count": 15,
     "metadata": {},
     "output_type": "execute_result"
    }
   ],
   "source": [
    "df.columns"
   ]
  },
  {
   "cell_type": "code",
   "execution_count": 16,
   "metadata": {},
   "outputs": [
    {
     "data": {
      "text/plain": [
       "152"
      ]
     },
     "execution_count": 16,
     "metadata": {},
     "output_type": "execute_result"
    }
   ],
   "source": [
    "len(df.columns)"
   ]
  },
  {
   "cell_type": "code",
   "execution_count": 17,
   "metadata": {},
   "outputs": [
    {
     "data": {
      "text/plain": [
       "151"
      ]
     },
     "execution_count": 17,
     "metadata": {},
     "output_type": "execute_result"
    }
   ],
   "source": [
    "# Drop the column unnamed\n",
    "df = df.drop([\"Unnamed: 0\"], axis = 1)\n",
    "len(df.columns)"
   ]
  },
  {
   "cell_type": "code",
   "execution_count": 19,
   "metadata": {
    "scrolled": false
   },
   "outputs": [
    {
     "data": {
      "text/html": [
       "<div>\n",
       "<style scoped>\n",
       "    .dataframe tbody tr th:only-of-type {\n",
       "        vertical-align: middle;\n",
       "    }\n",
       "\n",
       "    .dataframe tbody tr th {\n",
       "        vertical-align: top;\n",
       "    }\n",
       "\n",
       "    .dataframe thead th {\n",
       "        text-align: right;\n",
       "    }\n",
       "</style>\n",
       "<table border=\"1\" class=\"dataframe\">\n",
       "  <thead>\n",
       "    <tr style=\"text-align: right;\">\n",
       "      <th></th>\n",
       "      <th>FIRST_SWITCHED</th>\n",
       "      <th>FLOW_DURATION_MILLISECONDS</th>\n",
       "      <th>IN_PKTS</th>\n",
       "      <th>L4_DST_PORT</th>\n",
       "      <th>L4_SRC_PORT</th>\n",
       "      <th>LAST_SWITCHED</th>\n",
       "      <th>OUT_BYTES</th>\n",
       "      <th>OUT_PKTS</th>\n",
       "      <th>SRC_TO_DST_SECOND_BYTES</th>\n",
       "      <th>TCP_FLAGS</th>\n",
       "      <th>...</th>\n",
       "      <th>L7_PROTO_NAME_WEBEX</th>\n",
       "      <th>L7_PROTO_NAME_WHATSAPP</th>\n",
       "      <th>L7_PROTO_NAME_WHATSAPPFILES</th>\n",
       "      <th>L7_PROTO_NAME_WHOIS_DAS</th>\n",
       "      <th>L7_PROTO_NAME_WIREGUARD</th>\n",
       "      <th>L7_PROTO_NAME_WSD</th>\n",
       "      <th>L7_PROTO_NAME_XBOX</th>\n",
       "      <th>L7_PROTO_NAME_XDMCP</th>\n",
       "      <th>L7_PROTO_NAME_ZABBIX</th>\n",
       "      <th>L7_PROTO_NAME_ZOOM</th>\n",
       "    </tr>\n",
       "  </thead>\n",
       "  <tbody>\n",
       "    <tr>\n",
       "      <th>count</th>\n",
       "      <td>8.134629e+06</td>\n",
       "      <td>8.134629e+06</td>\n",
       "      <td>8.134629e+06</td>\n",
       "      <td>8.134629e+06</td>\n",
       "      <td>8.134629e+06</td>\n",
       "      <td>8.134629e+06</td>\n",
       "      <td>8.134629e+06</td>\n",
       "      <td>8.134629e+06</td>\n",
       "      <td>8.134629e+06</td>\n",
       "      <td>8.134629e+06</td>\n",
       "      <td>...</td>\n",
       "      <td>8.134629e+06</td>\n",
       "      <td>8.134629e+06</td>\n",
       "      <td>8.134629e+06</td>\n",
       "      <td>8.134629e+06</td>\n",
       "      <td>8.134629e+06</td>\n",
       "      <td>8.134629e+06</td>\n",
       "      <td>8.134629e+06</td>\n",
       "      <td>8.134629e+06</td>\n",
       "      <td>8.134629e+06</td>\n",
       "      <td>8.134629e+06</td>\n",
       "    </tr>\n",
       "    <tr>\n",
       "      <th>mean</th>\n",
       "      <td>1.617671e+09</td>\n",
       "      <td>3.002158e+04</td>\n",
       "      <td>1.406474e+01</td>\n",
       "      <td>1.346493e+04</td>\n",
       "      <td>4.335424e+04</td>\n",
       "      <td>1.617671e+09</td>\n",
       "      <td>4.481556e+00</td>\n",
       "      <td>1.470231e+01</td>\n",
       "      <td>5.337484e+00</td>\n",
       "      <td>1.798452e+01</td>\n",
       "      <td>...</td>\n",
       "      <td>2.458625e-07</td>\n",
       "      <td>1.475175e-06</td>\n",
       "      <td>2.790539e-05</td>\n",
       "      <td>1.376830e-05</td>\n",
       "      <td>1.475175e-06</td>\n",
       "      <td>1.671865e-05</td>\n",
       "      <td>4.769732e-05</td>\n",
       "      <td>9.957430e-06</td>\n",
       "      <td>6.146562e-06</td>\n",
       "      <td>1.229312e-07</td>\n",
       "    </tr>\n",
       "    <tr>\n",
       "      <th>std</th>\n",
       "      <td>7.478372e+05</td>\n",
       "      <td>4.489698e+04</td>\n",
       "      <td>1.190673e+03</td>\n",
       "      <td>2.029677e+04</td>\n",
       "      <td>1.559924e+04</td>\n",
       "      <td>7.478592e+05</td>\n",
       "      <td>2.399330e+00</td>\n",
       "      <td>8.630361e+02</td>\n",
       "      <td>1.541397e+00</td>\n",
       "      <td>1.074724e+01</td>\n",
       "      <td>...</td>\n",
       "      <td>4.958452e-04</td>\n",
       "      <td>1.214567e-03</td>\n",
       "      <td>5.282482e-03</td>\n",
       "      <td>3.710540e-03</td>\n",
       "      <td>1.214567e-03</td>\n",
       "      <td>4.088810e-03</td>\n",
       "      <td>6.906160e-03</td>\n",
       "      <td>3.155524e-03</td>\n",
       "      <td>2.479219e-03</td>\n",
       "      <td>3.506155e-04</td>\n",
       "    </tr>\n",
       "    <tr>\n",
       "      <th>min</th>\n",
       "      <td>1.616660e+09</td>\n",
       "      <td>0.000000e+00</td>\n",
       "      <td>1.000000e+00</td>\n",
       "      <td>0.000000e+00</td>\n",
       "      <td>0.000000e+00</td>\n",
       "      <td>1.616660e+09</td>\n",
       "      <td>0.000000e+00</td>\n",
       "      <td>0.000000e+00</td>\n",
       "      <td>3.332205e+00</td>\n",
       "      <td>0.000000e+00</td>\n",
       "      <td>...</td>\n",
       "      <td>0.000000e+00</td>\n",
       "      <td>0.000000e+00</td>\n",
       "      <td>0.000000e+00</td>\n",
       "      <td>0.000000e+00</td>\n",
       "      <td>0.000000e+00</td>\n",
       "      <td>0.000000e+00</td>\n",
       "      <td>0.000000e+00</td>\n",
       "      <td>0.000000e+00</td>\n",
       "      <td>0.000000e+00</td>\n",
       "      <td>0.000000e+00</td>\n",
       "    </tr>\n",
       "    <tr>\n",
       "      <th>25%</th>\n",
       "      <td>1.616671e+09</td>\n",
       "      <td>0.000000e+00</td>\n",
       "      <td>1.000000e+00</td>\n",
       "      <td>8.000000e+01</td>\n",
       "      <td>3.887000e+04</td>\n",
       "      <td>1.616671e+09</td>\n",
       "      <td>3.688879e+00</td>\n",
       "      <td>1.000000e+00</td>\n",
       "      <td>3.784190e+00</td>\n",
       "      <td>1.600000e+01</td>\n",
       "      <td>...</td>\n",
       "      <td>0.000000e+00</td>\n",
       "      <td>0.000000e+00</td>\n",
       "      <td>0.000000e+00</td>\n",
       "      <td>0.000000e+00</td>\n",
       "      <td>0.000000e+00</td>\n",
       "      <td>0.000000e+00</td>\n",
       "      <td>0.000000e+00</td>\n",
       "      <td>0.000000e+00</td>\n",
       "      <td>0.000000e+00</td>\n",
       "      <td>0.000000e+00</td>\n",
       "    </tr>\n",
       "    <tr>\n",
       "      <th>50%</th>\n",
       "      <td>1.618224e+09</td>\n",
       "      <td>3.300000e+01</td>\n",
       "      <td>2.000000e+00</td>\n",
       "      <td>8.000000e+01</td>\n",
       "      <td>4.921500e+04</td>\n",
       "      <td>1.618224e+09</td>\n",
       "      <td>4.934474e+00</td>\n",
       "      <td>1.000000e+00</td>\n",
       "      <td>4.962845e+00</td>\n",
       "      <td>2.200000e+01</td>\n",
       "      <td>...</td>\n",
       "      <td>0.000000e+00</td>\n",
       "      <td>0.000000e+00</td>\n",
       "      <td>0.000000e+00</td>\n",
       "      <td>0.000000e+00</td>\n",
       "      <td>0.000000e+00</td>\n",
       "      <td>0.000000e+00</td>\n",
       "      <td>0.000000e+00</td>\n",
       "      <td>0.000000e+00</td>\n",
       "      <td>0.000000e+00</td>\n",
       "      <td>0.000000e+00</td>\n",
       "    </tr>\n",
       "    <tr>\n",
       "      <th>75%</th>\n",
       "      <td>1.618232e+09</td>\n",
       "      <td>6.024200e+04</td>\n",
       "      <td>1.100000e+01</td>\n",
       "      <td>2.466700e+04</td>\n",
       "      <td>5.089500e+04</td>\n",
       "      <td>1.618232e+09</td>\n",
       "      <td>6.269096e+00</td>\n",
       "      <td>1.000000e+01</td>\n",
       "      <td>6.947937e+00</td>\n",
       "      <td>2.400000e+01</td>\n",
       "      <td>...</td>\n",
       "      <td>0.000000e+00</td>\n",
       "      <td>0.000000e+00</td>\n",
       "      <td>0.000000e+00</td>\n",
       "      <td>0.000000e+00</td>\n",
       "      <td>0.000000e+00</td>\n",
       "      <td>0.000000e+00</td>\n",
       "      <td>0.000000e+00</td>\n",
       "      <td>0.000000e+00</td>\n",
       "      <td>0.000000e+00</td>\n",
       "      <td>0.000000e+00</td>\n",
       "    </tr>\n",
       "    <tr>\n",
       "      <th>max</th>\n",
       "      <td>1.618262e+09</td>\n",
       "      <td>1.199990e+05</td>\n",
       "      <td>2.087191e+06</td>\n",
       "      <td>6.553500e+04</td>\n",
       "      <td>6.553500e+04</td>\n",
       "      <td>1.618263e+09</td>\n",
       "      <td>2.150833e+01</td>\n",
       "      <td>1.484506e+06</td>\n",
       "      <td>2.107333e+01</td>\n",
       "      <td>2.470000e+02</td>\n",
       "      <td>...</td>\n",
       "      <td>1.000000e+00</td>\n",
       "      <td>1.000000e+00</td>\n",
       "      <td>1.000000e+00</td>\n",
       "      <td>1.000000e+00</td>\n",
       "      <td>1.000000e+00</td>\n",
       "      <td>1.000000e+00</td>\n",
       "      <td>1.000000e+00</td>\n",
       "      <td>1.000000e+00</td>\n",
       "      <td>1.000000e+00</td>\n",
       "      <td>1.000000e+00</td>\n",
       "    </tr>\n",
       "  </tbody>\n",
       "</table>\n",
       "<p>8 rows × 151 columns</p>\n",
       "</div>"
      ],
      "text/plain": [
       "       FIRST_SWITCHED  FLOW_DURATION_MILLISECONDS       IN_PKTS   L4_DST_PORT  \\\n",
       "count    8.134629e+06                8.134629e+06  8.134629e+06  8.134629e+06   \n",
       "mean     1.617671e+09                3.002158e+04  1.406474e+01  1.346493e+04   \n",
       "std      7.478372e+05                4.489698e+04  1.190673e+03  2.029677e+04   \n",
       "min      1.616660e+09                0.000000e+00  1.000000e+00  0.000000e+00   \n",
       "25%      1.616671e+09                0.000000e+00  1.000000e+00  8.000000e+01   \n",
       "50%      1.618224e+09                3.300000e+01  2.000000e+00  8.000000e+01   \n",
       "75%      1.618232e+09                6.024200e+04  1.100000e+01  2.466700e+04   \n",
       "max      1.618262e+09                1.199990e+05  2.087191e+06  6.553500e+04   \n",
       "\n",
       "        L4_SRC_PORT  LAST_SWITCHED     OUT_BYTES      OUT_PKTS  \\\n",
       "count  8.134629e+06   8.134629e+06  8.134629e+06  8.134629e+06   \n",
       "mean   4.335424e+04   1.617671e+09  4.481556e+00  1.470231e+01   \n",
       "std    1.559924e+04   7.478592e+05  2.399330e+00  8.630361e+02   \n",
       "min    0.000000e+00   1.616660e+09  0.000000e+00  0.000000e+00   \n",
       "25%    3.887000e+04   1.616671e+09  3.688879e+00  1.000000e+00   \n",
       "50%    4.921500e+04   1.618224e+09  4.934474e+00  1.000000e+00   \n",
       "75%    5.089500e+04   1.618232e+09  6.269096e+00  1.000000e+01   \n",
       "max    6.553500e+04   1.618263e+09  2.150833e+01  1.484506e+06   \n",
       "\n",
       "       SRC_TO_DST_SECOND_BYTES     TCP_FLAGS  ...  L7_PROTO_NAME_WEBEX  \\\n",
       "count             8.134629e+06  8.134629e+06  ...         8.134629e+06   \n",
       "mean              5.337484e+00  1.798452e+01  ...         2.458625e-07   \n",
       "std               1.541397e+00  1.074724e+01  ...         4.958452e-04   \n",
       "min               3.332205e+00  0.000000e+00  ...         0.000000e+00   \n",
       "25%               3.784190e+00  1.600000e+01  ...         0.000000e+00   \n",
       "50%               4.962845e+00  2.200000e+01  ...         0.000000e+00   \n",
       "75%               6.947937e+00  2.400000e+01  ...         0.000000e+00   \n",
       "max               2.107333e+01  2.470000e+02  ...         1.000000e+00   \n",
       "\n",
       "       L7_PROTO_NAME_WHATSAPP  L7_PROTO_NAME_WHATSAPPFILES  \\\n",
       "count            8.134629e+06                 8.134629e+06   \n",
       "mean             1.475175e-06                 2.790539e-05   \n",
       "std              1.214567e-03                 5.282482e-03   \n",
       "min              0.000000e+00                 0.000000e+00   \n",
       "25%              0.000000e+00                 0.000000e+00   \n",
       "50%              0.000000e+00                 0.000000e+00   \n",
       "75%              0.000000e+00                 0.000000e+00   \n",
       "max              1.000000e+00                 1.000000e+00   \n",
       "\n",
       "       L7_PROTO_NAME_WHOIS_DAS  L7_PROTO_NAME_WIREGUARD  L7_PROTO_NAME_WSD  \\\n",
       "count             8.134629e+06             8.134629e+06       8.134629e+06   \n",
       "mean              1.376830e-05             1.475175e-06       1.671865e-05   \n",
       "std               3.710540e-03             1.214567e-03       4.088810e-03   \n",
       "min               0.000000e+00             0.000000e+00       0.000000e+00   \n",
       "25%               0.000000e+00             0.000000e+00       0.000000e+00   \n",
       "50%               0.000000e+00             0.000000e+00       0.000000e+00   \n",
       "75%               0.000000e+00             0.000000e+00       0.000000e+00   \n",
       "max               1.000000e+00             1.000000e+00       1.000000e+00   \n",
       "\n",
       "       L7_PROTO_NAME_XBOX  L7_PROTO_NAME_XDMCP  L7_PROTO_NAME_ZABBIX  \\\n",
       "count        8.134629e+06         8.134629e+06          8.134629e+06   \n",
       "mean         4.769732e-05         9.957430e-06          6.146562e-06   \n",
       "std          6.906160e-03         3.155524e-03          2.479219e-03   \n",
       "min          0.000000e+00         0.000000e+00          0.000000e+00   \n",
       "25%          0.000000e+00         0.000000e+00          0.000000e+00   \n",
       "50%          0.000000e+00         0.000000e+00          0.000000e+00   \n",
       "75%          0.000000e+00         0.000000e+00          0.000000e+00   \n",
       "max          1.000000e+00         1.000000e+00          1.000000e+00   \n",
       "\n",
       "       L7_PROTO_NAME_ZOOM  \n",
       "count        8.134629e+06  \n",
       "mean         1.229312e-07  \n",
       "std          3.506155e-04  \n",
       "min          0.000000e+00  \n",
       "25%          0.000000e+00  \n",
       "50%          0.000000e+00  \n",
       "75%          0.000000e+00  \n",
       "max          1.000000e+00  \n",
       "\n",
       "[8 rows x 151 columns]"
      ]
     },
     "execution_count": 19,
     "metadata": {},
     "output_type": "execute_result"
    }
   ],
   "source": [
    "df.describe()"
   ]
  },
  {
   "cell_type": "code",
   "execution_count": 21,
   "metadata": {},
   "outputs": [],
   "source": [
    "def scale_x(data):\n",
    "    min_max_scaler = MinMaxScaler()\n",
    "    return min_max_scaler.fit_transform(data)\n",
    "    "
   ]
  },
  {
   "cell_type": "code",
   "execution_count": 25,
   "metadata": {},
   "outputs": [],
   "source": [
    "def store_df(name, X, y):\n",
    "    compression_opts = dict(method='zip',\n",
    "                            archive_name=name+'_X.csv')  \n",
    "    X.to_csv(name+'_X.zip', index=True,\n",
    "              compression=compression_opts)  \n",
    "    compression_opts = dict(method='zip',\n",
    "                            archive_name=name+'_y.csv')  \n",
    "    y.to_csv(name+'_y.zip', index=True,\n",
    "              compression=compression_opts)  "
   ]
  },
  {
   "cell_type": "code",
   "execution_count": 22,
   "metadata": {},
   "outputs": [],
   "source": [
    "random_forest_df = df.copy()"
   ]
  },
  {
   "cell_type": "markdown",
   "metadata": {},
   "source": [
    "# Get representative sampling\n",
    "\n",
    "We will get 100k sampling form each label right now each one has ~2M so we will get 5% of each one"
   ]
  },
  {
   "cell_type": "code",
   "execution_count": null,
   "metadata": {},
   "outputs": [],
   "source": [
    "len(sample_df)"
   ]
  },
  {
   "cell_type": "markdown",
   "metadata": {},
   "source": [
    "### Train, Test, Validation Split"
   ]
  },
  {
   "cell_type": "code",
   "execution_count": null,
   "metadata": {},
   "outputs": [],
   "source": [
    "y = sample_df[\"LABEL\"]\n",
    "X = sample_df.drop([\"LABEL\"], axis = 1)"
   ]
  },
  {
   "cell_type": "code",
   "execution_count": null,
   "metadata": {},
   "outputs": [],
   "source": [
    "from sklearn.model_selection import train_test_split\n",
    "X_train_beta, X_test, y_train_beta, y_test = train_test_split(X, y, test_size=0.3, random_state=42)\n",
    "validation_rate = 15/70\n",
    "X_train, X_validation, y_train, y_validation = train_test_split(X_train_beta, y_train_beta, test_size=validation_rate, random_state=42)"
   ]
  },
  {
   "cell_type": "code",
   "execution_count": 112,
   "metadata": {},
   "outputs": [],
   "source": [
    "# columns_to_change = [\n",
    "#     \"FIRST_SWITCHED\", \"FLOW_DURATION_MILLISECONDS\", \"IN_PKTS\", \"L4_DST_PORT\", \"L4_SRC_PORT\", \"LAST_SWITCHED\",\n",
    "#     \"OUT_BYTES\", \"OUT_PKTS\", \"SRC_TO_DST_SECOND_BYTES\"\n",
    "# ]\n",
    "# X_validation[columns_to_change] = scaler.fit_transform(X_validation[columns_to_change])\n",
    "# X_train[columns_to_change] = scaler.fit_transform(X_train[columns_to_change])\n",
    "# X_test[columns_to_change] = scaler.fit_transform(X_test[columns_to_change])"
   ]
  },
  {
   "cell_type": "code",
   "execution_count": 113,
   "metadata": {},
   "outputs": [],
   "source": [
    "# store_df(\"test_values\", X_test, y_test)\n",
    "# store_df(\"train_values\", X_train, y_train)\n",
    "# store_df(\"validate_values\", X_validation, y_validation)"
   ]
  },
  {
   "cell_type": "markdown",
   "metadata": {},
   "source": [
    "## Random Forest Model"
   ]
  },
  {
   "cell_type": "code",
   "execution_count": 114,
   "metadata": {},
   "outputs": [],
   "source": [
    "rf = RandomForestClassifier(n_estimators = 1000, random_state = 42)"
   ]
  },
  {
   "cell_type": "code",
   "execution_count": 115,
   "metadata": {},
   "outputs": [
    {
     "data": {
      "text/plain": [
       "RandomForestClassifier(n_estimators=1000, random_state=42)"
      ]
     },
     "execution_count": 115,
     "metadata": {},
     "output_type": "execute_result"
    }
   ],
   "source": [
    "# Entrenamos el modelo\n",
    "rf.fit(X_train, y_train)"
   ]
  },
  {
   "cell_type": "code",
   "execution_count": 116,
   "metadata": {},
   "outputs": [
    {
     "name": "stdout",
     "output_type": "stream",
     "text": [
      "We predict validation\n"
     ]
    }
   ],
   "source": [
    "# Realizamos predicciones con las metricas de validación\n",
    "print(\"We predict validation\")\n",
    "predictions = rf.predict(X_validation)"
   ]
  },
  {
   "cell_type": "markdown",
   "metadata": {},
   "source": [
    "#### Validación"
   ]
  },
  {
   "cell_type": "code",
   "execution_count": 117,
   "metadata": {},
   "outputs": [
    {
     "name": "stdout",
     "output_type": "stream",
     "text": [
      "Matrix de confusión:  [[3805    0    0    3]\n",
      " [2759 1018    0    0]\n",
      " [   0    0 3314    0]\n",
      " [   3    0    0 1300]]\n",
      "                                precision    recall  f1-score   support\n",
      "\n",
      "                   Normal flow       0.58      1.00      0.73      3808\n",
      "         SYN Scan - aggressive       1.00      0.27      0.42      3777\n",
      "Denial of Service R-U-Dead-Yet       1.00      1.00      1.00      3314\n",
      "   Denial of Service Slowloris       1.00      1.00      1.00      1303\n",
      "\n",
      "                      accuracy                           0.77     12202\n",
      "                     macro avg       0.89      0.82      0.79     12202\n",
      "                  weighted avg       0.87      0.77      0.74     12202\n",
      "\n",
      "recall_score:  <function recall_score at 0x152473040>\n",
      "precision_score:  <function precision_score at 0x152468f70>\n",
      "f1_score:  <function f1_score at 0x152468c10>\n",
      "accuracy:  0.7733978036387478\n"
     ]
    }
   ],
   "source": [
    "# Get the results\n",
    "validation_confusion_matrix = confusion_matrix(y_validation, predictions)\n",
    "validation_recall_score = recall_score(y_validation, predictions, average=None)\n",
    "validation_precision_score = precision_score(y_validation, predictions, average=None)\n",
    "validation_f1_score = f1_score(y_validation, predictions, average=None)\n",
    "print(\"Matrix de confusión: \", validation_confusion_matrix)\n",
    "target_names =[    \"Normal flow\",\n",
    "    \"SYN Scan - aggressive\",\n",
    "    \"Denial of Service R-U-Dead-Yet\",\n",
    "    \"Denial of Service Slowloris\"]\n",
    "print(classification_report(y_validation, predictions, target_names = target_names))\n",
    "print(\"recall_score: \",recall_score)\n",
    "print(\"precision_score: \", precision_score)\n",
    "print(\"f1_score: \", f1_score)\n",
    "print(\"accuracy: \", accuracy_score(y_validation, predictions))"
   ]
  },
  {
   "cell_type": "code",
   "execution_count": null,
   "metadata": {},
   "outputs": [],
   "source": []
  }
 ],
 "metadata": {
  "kernelspec": {
   "display_name": "Python 3 (ipykernel)",
   "language": "python",
   "name": "python3"
  },
  "language_info": {
   "codemirror_mode": {
    "name": "ipython",
    "version": 3
   },
   "file_extension": ".py",
   "mimetype": "text/x-python",
   "name": "python",
   "nbconvert_exporter": "python",
   "pygments_lexer": "ipython3",
   "version": "3.7.12"
  }
 },
 "nbformat": 4,
 "nbformat_minor": 2
}
