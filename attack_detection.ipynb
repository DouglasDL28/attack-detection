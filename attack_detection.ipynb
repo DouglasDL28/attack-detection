{
 "cells": [
  {
   "cell_type": "code",
   "execution_count": 31,
   "metadata": {},
   "outputs": [],
   "source": [
    "import pandas as pd\n",
    "from sklearn.preprocessing import MinMaxScaler, StandardScaler\n",
    "from sklearn.model_selection import train_test_split, cross_val_score\n",
    "from sklearn.ensemble import RandomForestClassifier\n",
    "from sklearn.pipeline import make_pipeline\n",
    "from sklearn.multiclass import OneVsRestClassifier\n",
    "# from sklearn.preprocessing import label_binarize\n",
    "\n",
    "import utils"
   ]
  },
  {
   "cell_type": "code",
   "execution_count": 2,
   "metadata": {},
   "outputs": [],
   "source": [
    "df = pd.read_csv(\"dataset/clean_df.csv\")"
   ]
  },
  {
   "cell_type": "code",
   "execution_count": 3,
   "metadata": {
    "scrolled": false
   },
   "outputs": [
    {
     "data": {
      "text/plain": [
       "Index(['FIRST_SWITCHED', 'FLOW_DURATION_MILLISECONDS', 'IN_PKTS',\n",
       "       'L4_DST_PORT', 'L4_SRC_PORT', 'LAST_SWITCHED', 'OUT_BYTES', 'OUT_PKTS',\n",
       "       'SRC_TO_DST_SECOND_BYTES', 'TCP_FLAGS', 'TCP_WIN_MAX_OUT',\n",
       "       'TCP_WIN_MSS_IN', 'LABEL', 'PROTOCOL_MAP_ICMP',\n",
       "       'PROTOCOL_MAP_IPV6_ICMP', 'PROTOCOL_MAP_TCP', 'PROTOCOL_MAP_UDP',\n",
       "       'L7_PROTO_NAME_AMAZON', 'L7_PROTO_NAME_BITTORRENT', 'L7_PROTO_NAME_DNS',\n",
       "       'L7_PROTO_NAME_GOOGLE', 'L7_PROTO_NAME_HTTP',\n",
       "       'L7_PROTO_NAME_HTTP_PROXY', 'L7_PROTO_NAME_ICMP', 'L7_PROTO_NAME_NFS',\n",
       "       'L7_PROTO_NAME_NTP', 'L7_PROTO_NAME_QUIC', 'L7_PROTO_NAME_SSH',\n",
       "       'L7_PROTO_NAME_STUN', 'L7_PROTO_NAME_TEAMVIEWER', 'L7_PROTO_NAME_TLS',\n",
       "       'L7_PROTO_NAME_UNKNOWN'],\n",
       "      dtype='object')"
      ]
     },
     "execution_count": 3,
     "metadata": {},
     "output_type": "execute_result"
    }
   ],
   "source": [
    "df.columns"
   ]
  },
  {
   "cell_type": "code",
   "execution_count": 4,
   "metadata": {},
   "outputs": [
    {
     "data": {
      "text/plain": [
       "(488370, 32)"
      ]
     },
     "execution_count": 4,
     "metadata": {},
     "output_type": "execute_result"
    }
   ],
   "source": [
    "df.shape"
   ]
  },
  {
   "cell_type": "code",
   "execution_count": 5,
   "metadata": {
    "scrolled": false
   },
   "outputs": [
    {
     "data": {
      "text/html": [
       "<div>\n",
       "<style scoped>\n",
       "    .dataframe tbody tr th:only-of-type {\n",
       "        vertical-align: middle;\n",
       "    }\n",
       "\n",
       "    .dataframe tbody tr th {\n",
       "        vertical-align: top;\n",
       "    }\n",
       "\n",
       "    .dataframe thead th {\n",
       "        text-align: right;\n",
       "    }\n",
       "</style>\n",
       "<table border=\"1\" class=\"dataframe\">\n",
       "  <thead>\n",
       "    <tr style=\"text-align: right;\">\n",
       "      <th></th>\n",
       "      <th>count</th>\n",
       "      <th>mean</th>\n",
       "      <th>std</th>\n",
       "      <th>min</th>\n",
       "      <th>25%</th>\n",
       "      <th>50%</th>\n",
       "      <th>75%</th>\n",
       "      <th>max</th>\n",
       "    </tr>\n",
       "  </thead>\n",
       "  <tbody>\n",
       "    <tr>\n",
       "      <th>FIRST_SWITCHED</th>\n",
       "      <td>488370.0</td>\n",
       "      <td>1.617767e+09</td>\n",
       "      <td>714813.717396</td>\n",
       "      <td>1.616660e+09</td>\n",
       "      <td>1.616673e+09</td>\n",
       "      <td>1.618227e+09</td>\n",
       "      <td>1.618239e+09</td>\n",
       "      <td>1.618262e+09</td>\n",
       "    </tr>\n",
       "    <tr>\n",
       "      <th>FLOW_DURATION_MILLISECONDS</th>\n",
       "      <td>488370.0</td>\n",
       "      <td>3.450301e+04</td>\n",
       "      <td>42511.977751</td>\n",
       "      <td>0.000000e+00</td>\n",
       "      <td>0.000000e+00</td>\n",
       "      <td>4.020000e+02</td>\n",
       "      <td>6.027000e+04</td>\n",
       "      <td>1.199980e+05</td>\n",
       "    </tr>\n",
       "    <tr>\n",
       "      <th>IN_PKTS</th>\n",
       "      <td>488370.0</td>\n",
       "      <td>1.333558e+00</td>\n",
       "      <td>1.226605</td>\n",
       "      <td>0.000000e+00</td>\n",
       "      <td>0.000000e+00</td>\n",
       "      <td>1.386294e+00</td>\n",
       "      <td>2.397895e+00</td>\n",
       "      <td>1.228577e+01</td>\n",
       "    </tr>\n",
       "    <tr>\n",
       "      <th>L4_DST_PORT</th>\n",
       "      <td>488370.0</td>\n",
       "      <td>1.121238e+04</td>\n",
       "      <td>19153.052098</td>\n",
       "      <td>0.000000e+00</td>\n",
       "      <td>8.000000e+01</td>\n",
       "      <td>8.000000e+01</td>\n",
       "      <td>1.506675e+04</td>\n",
       "      <td>6.553500e+04</td>\n",
       "    </tr>\n",
       "    <tr>\n",
       "      <th>L4_SRC_PORT</th>\n",
       "      <td>488370.0</td>\n",
       "      <td>4.293148e+04</td>\n",
       "      <td>15591.181890</td>\n",
       "      <td>0.000000e+00</td>\n",
       "      <td>3.752800e+04</td>\n",
       "      <td>4.921400e+04</td>\n",
       "      <td>5.126800e+04</td>\n",
       "      <td>6.553500e+04</td>\n",
       "    </tr>\n",
       "    <tr>\n",
       "      <th>LAST_SWITCHED</th>\n",
       "      <td>488370.0</td>\n",
       "      <td>1.617767e+09</td>\n",
       "      <td>714835.844461</td>\n",
       "      <td>1.616660e+09</td>\n",
       "      <td>1.616673e+09</td>\n",
       "      <td>1.618227e+09</td>\n",
       "      <td>1.618239e+09</td>\n",
       "      <td>1.618262e+09</td>\n",
       "    </tr>\n",
       "    <tr>\n",
       "      <th>OUT_BYTES</th>\n",
       "      <td>488370.0</td>\n",
       "      <td>4.785248e+00</td>\n",
       "      <td>2.291955</td>\n",
       "      <td>0.000000e+00</td>\n",
       "      <td>3.688879e+00</td>\n",
       "      <td>5.375278e+00</td>\n",
       "      <td>6.269096e+00</td>\n",
       "      <td>1.946137e+01</td>\n",
       "    </tr>\n",
       "    <tr>\n",
       "      <th>OUT_PKTS</th>\n",
       "      <td>488370.0</td>\n",
       "      <td>1.230466e+00</td>\n",
       "      <td>1.209224</td>\n",
       "      <td>0.000000e+00</td>\n",
       "      <td>0.000000e+00</td>\n",
       "      <td>1.098612e+00</td>\n",
       "      <td>2.302585e+00</td>\n",
       "      <td>1.222736e+01</td>\n",
       "    </tr>\n",
       "    <tr>\n",
       "      <th>SRC_TO_DST_SECOND_BYTES</th>\n",
       "      <td>488370.0</td>\n",
       "      <td>5.601531e+00</td>\n",
       "      <td>1.529573</td>\n",
       "      <td>3.332205e+00</td>\n",
       "      <td>3.784190e+00</td>\n",
       "      <td>5.407172e+00</td>\n",
       "      <td>6.967909e+00</td>\n",
       "      <td>1.914172e+01</td>\n",
       "    </tr>\n",
       "    <tr>\n",
       "      <th>TCP_FLAGS</th>\n",
       "      <td>488370.0</td>\n",
       "      <td>1.950446e+01</td>\n",
       "      <td>10.394781</td>\n",
       "      <td>0.000000e+00</td>\n",
       "      <td>1.900000e+01</td>\n",
       "      <td>2.400000e+01</td>\n",
       "      <td>2.700000e+01</td>\n",
       "      <td>2.230000e+02</td>\n",
       "    </tr>\n",
       "    <tr>\n",
       "      <th>TCP_WIN_MAX_OUT</th>\n",
       "      <td>488370.0</td>\n",
       "      <td>1.104979e+04</td>\n",
       "      <td>14847.354080</td>\n",
       "      <td>0.000000e+00</td>\n",
       "      <td>0.000000e+00</td>\n",
       "      <td>1.140000e+02</td>\n",
       "      <td>2.796000e+04</td>\n",
       "      <td>6.553500e+04</td>\n",
       "    </tr>\n",
       "    <tr>\n",
       "      <th>TCP_WIN_MSS_IN</th>\n",
       "      <td>488370.0</td>\n",
       "      <td>9.541896e+02</td>\n",
       "      <td>677.067779</td>\n",
       "      <td>0.000000e+00</td>\n",
       "      <td>0.000000e+00</td>\n",
       "      <td>1.410000e+03</td>\n",
       "      <td>1.460000e+03</td>\n",
       "      <td>8.960000e+03</td>\n",
       "    </tr>\n",
       "    <tr>\n",
       "      <th>LABEL</th>\n",
       "      <td>488370.0</td>\n",
       "      <td>1.488744e+00</td>\n",
       "      <td>1.128002</td>\n",
       "      <td>0.000000e+00</td>\n",
       "      <td>0.000000e+00</td>\n",
       "      <td>1.000000e+00</td>\n",
       "      <td>3.000000e+00</td>\n",
       "      <td>3.000000e+00</td>\n",
       "    </tr>\n",
       "    <tr>\n",
       "      <th>PROTOCOL_MAP_ICMP</th>\n",
       "      <td>488370.0</td>\n",
       "      <td>1.800889e-02</td>\n",
       "      <td>0.132983</td>\n",
       "      <td>0.000000e+00</td>\n",
       "      <td>0.000000e+00</td>\n",
       "      <td>0.000000e+00</td>\n",
       "      <td>0.000000e+00</td>\n",
       "      <td>1.000000e+00</td>\n",
       "    </tr>\n",
       "    <tr>\n",
       "      <th>PROTOCOL_MAP_IPV6_ICMP</th>\n",
       "      <td>488370.0</td>\n",
       "      <td>2.047628e-06</td>\n",
       "      <td>0.001431</td>\n",
       "      <td>0.000000e+00</td>\n",
       "      <td>0.000000e+00</td>\n",
       "      <td>0.000000e+00</td>\n",
       "      <td>0.000000e+00</td>\n",
       "      <td>1.000000e+00</td>\n",
       "    </tr>\n",
       "    <tr>\n",
       "      <th>PROTOCOL_MAP_TCP</th>\n",
       "      <td>488370.0</td>\n",
       "      <td>8.735487e-01</td>\n",
       "      <td>0.332358</td>\n",
       "      <td>0.000000e+00</td>\n",
       "      <td>1.000000e+00</td>\n",
       "      <td>1.000000e+00</td>\n",
       "      <td>1.000000e+00</td>\n",
       "      <td>1.000000e+00</td>\n",
       "    </tr>\n",
       "    <tr>\n",
       "      <th>PROTOCOL_MAP_UDP</th>\n",
       "      <td>488370.0</td>\n",
       "      <td>1.084403e-01</td>\n",
       "      <td>0.310936</td>\n",
       "      <td>0.000000e+00</td>\n",
       "      <td>0.000000e+00</td>\n",
       "      <td>0.000000e+00</td>\n",
       "      <td>0.000000e+00</td>\n",
       "      <td>1.000000e+00</td>\n",
       "    </tr>\n",
       "    <tr>\n",
       "      <th>L7_PROTO_NAME_AMAZON</th>\n",
       "      <td>488370.0</td>\n",
       "      <td>4.668591e-04</td>\n",
       "      <td>0.021602</td>\n",
       "      <td>0.000000e+00</td>\n",
       "      <td>0.000000e+00</td>\n",
       "      <td>0.000000e+00</td>\n",
       "      <td>0.000000e+00</td>\n",
       "      <td>1.000000e+00</td>\n",
       "    </tr>\n",
       "    <tr>\n",
       "      <th>L7_PROTO_NAME_BITTORRENT</th>\n",
       "      <td>488370.0</td>\n",
       "      <td>9.691422e-03</td>\n",
       "      <td>0.097967</td>\n",
       "      <td>0.000000e+00</td>\n",
       "      <td>0.000000e+00</td>\n",
       "      <td>0.000000e+00</td>\n",
       "      <td>0.000000e+00</td>\n",
       "      <td>1.000000e+00</td>\n",
       "    </tr>\n",
       "    <tr>\n",
       "      <th>L7_PROTO_NAME_DNS</th>\n",
       "      <td>488370.0</td>\n",
       "      <td>7.193521e-02</td>\n",
       "      <td>0.258381</td>\n",
       "      <td>0.000000e+00</td>\n",
       "      <td>0.000000e+00</td>\n",
       "      <td>0.000000e+00</td>\n",
       "      <td>0.000000e+00</td>\n",
       "      <td>1.000000e+00</td>\n",
       "    </tr>\n",
       "    <tr>\n",
       "      <th>L7_PROTO_NAME_GOOGLE</th>\n",
       "      <td>488370.0</td>\n",
       "      <td>1.652436e-03</td>\n",
       "      <td>0.040617</td>\n",
       "      <td>0.000000e+00</td>\n",
       "      <td>0.000000e+00</td>\n",
       "      <td>0.000000e+00</td>\n",
       "      <td>0.000000e+00</td>\n",
       "      <td>1.000000e+00</td>\n",
       "    </tr>\n",
       "    <tr>\n",
       "      <th>L7_PROTO_NAME_HTTP</th>\n",
       "      <td>488370.0</td>\n",
       "      <td>4.936053e-01</td>\n",
       "      <td>0.499960</td>\n",
       "      <td>0.000000e+00</td>\n",
       "      <td>0.000000e+00</td>\n",
       "      <td>0.000000e+00</td>\n",
       "      <td>1.000000e+00</td>\n",
       "      <td>1.000000e+00</td>\n",
       "    </tr>\n",
       "    <tr>\n",
       "      <th>L7_PROTO_NAME_HTTP_PROXY</th>\n",
       "      <td>488370.0</td>\n",
       "      <td>4.648115e-04</td>\n",
       "      <td>0.021554</td>\n",
       "      <td>0.000000e+00</td>\n",
       "      <td>0.000000e+00</td>\n",
       "      <td>0.000000e+00</td>\n",
       "      <td>0.000000e+00</td>\n",
       "      <td>1.000000e+00</td>\n",
       "    </tr>\n",
       "    <tr>\n",
       "      <th>L7_PROTO_NAME_ICMP</th>\n",
       "      <td>488370.0</td>\n",
       "      <td>1.800889e-02</td>\n",
       "      <td>0.132983</td>\n",
       "      <td>0.000000e+00</td>\n",
       "      <td>0.000000e+00</td>\n",
       "      <td>0.000000e+00</td>\n",
       "      <td>0.000000e+00</td>\n",
       "      <td>1.000000e+00</td>\n",
       "    </tr>\n",
       "    <tr>\n",
       "      <th>L7_PROTO_NAME_NFS</th>\n",
       "      <td>488370.0</td>\n",
       "      <td>7.780986e-04</td>\n",
       "      <td>0.027884</td>\n",
       "      <td>0.000000e+00</td>\n",
       "      <td>0.000000e+00</td>\n",
       "      <td>0.000000e+00</td>\n",
       "      <td>0.000000e+00</td>\n",
       "      <td>1.000000e+00</td>\n",
       "    </tr>\n",
       "    <tr>\n",
       "      <th>L7_PROTO_NAME_NTP</th>\n",
       "      <td>488370.0</td>\n",
       "      <td>1.187624e-03</td>\n",
       "      <td>0.034441</td>\n",
       "      <td>0.000000e+00</td>\n",
       "      <td>0.000000e+00</td>\n",
       "      <td>0.000000e+00</td>\n",
       "      <td>0.000000e+00</td>\n",
       "      <td>1.000000e+00</td>\n",
       "    </tr>\n",
       "    <tr>\n",
       "      <th>L7_PROTO_NAME_QUIC</th>\n",
       "      <td>488370.0</td>\n",
       "      <td>1.883818e-03</td>\n",
       "      <td>0.043362</td>\n",
       "      <td>0.000000e+00</td>\n",
       "      <td>0.000000e+00</td>\n",
       "      <td>0.000000e+00</td>\n",
       "      <td>0.000000e+00</td>\n",
       "      <td>1.000000e+00</td>\n",
       "    </tr>\n",
       "    <tr>\n",
       "      <th>L7_PROTO_NAME_SSH</th>\n",
       "      <td>488370.0</td>\n",
       "      <td>7.615128e-03</td>\n",
       "      <td>0.086932</td>\n",
       "      <td>0.000000e+00</td>\n",
       "      <td>0.000000e+00</td>\n",
       "      <td>0.000000e+00</td>\n",
       "      <td>0.000000e+00</td>\n",
       "      <td>1.000000e+00</td>\n",
       "    </tr>\n",
       "    <tr>\n",
       "      <th>L7_PROTO_NAME_STUN</th>\n",
       "      <td>488370.0</td>\n",
       "      <td>5.063784e-03</td>\n",
       "      <td>0.070980</td>\n",
       "      <td>0.000000e+00</td>\n",
       "      <td>0.000000e+00</td>\n",
       "      <td>0.000000e+00</td>\n",
       "      <td>0.000000e+00</td>\n",
       "      <td>1.000000e+00</td>\n",
       "    </tr>\n",
       "    <tr>\n",
       "      <th>L7_PROTO_NAME_TEAMVIEWER</th>\n",
       "      <td>488370.0</td>\n",
       "      <td>1.390339e-03</td>\n",
       "      <td>0.037261</td>\n",
       "      <td>0.000000e+00</td>\n",
       "      <td>0.000000e+00</td>\n",
       "      <td>0.000000e+00</td>\n",
       "      <td>0.000000e+00</td>\n",
       "      <td>1.000000e+00</td>\n",
       "    </tr>\n",
       "    <tr>\n",
       "      <th>L7_PROTO_NAME_TLS</th>\n",
       "      <td>488370.0</td>\n",
       "      <td>6.528452e-02</td>\n",
       "      <td>0.247027</td>\n",
       "      <td>0.000000e+00</td>\n",
       "      <td>0.000000e+00</td>\n",
       "      <td>0.000000e+00</td>\n",
       "      <td>0.000000e+00</td>\n",
       "      <td>1.000000e+00</td>\n",
       "    </tr>\n",
       "    <tr>\n",
       "      <th>L7_PROTO_NAME_UNKNOWN</th>\n",
       "      <td>488370.0</td>\n",
       "      <td>3.172574e-01</td>\n",
       "      <td>0.465409</td>\n",
       "      <td>0.000000e+00</td>\n",
       "      <td>0.000000e+00</td>\n",
       "      <td>0.000000e+00</td>\n",
       "      <td>1.000000e+00</td>\n",
       "      <td>1.000000e+00</td>\n",
       "    </tr>\n",
       "  </tbody>\n",
       "</table>\n",
       "</div>"
      ],
      "text/plain": [
       "                               count          mean            std  \\\n",
       "FIRST_SWITCHED              488370.0  1.617767e+09  714813.717396   \n",
       "FLOW_DURATION_MILLISECONDS  488370.0  3.450301e+04   42511.977751   \n",
       "IN_PKTS                     488370.0  1.333558e+00       1.226605   \n",
       "L4_DST_PORT                 488370.0  1.121238e+04   19153.052098   \n",
       "L4_SRC_PORT                 488370.0  4.293148e+04   15591.181890   \n",
       "LAST_SWITCHED               488370.0  1.617767e+09  714835.844461   \n",
       "OUT_BYTES                   488370.0  4.785248e+00       2.291955   \n",
       "OUT_PKTS                    488370.0  1.230466e+00       1.209224   \n",
       "SRC_TO_DST_SECOND_BYTES     488370.0  5.601531e+00       1.529573   \n",
       "TCP_FLAGS                   488370.0  1.950446e+01      10.394781   \n",
       "TCP_WIN_MAX_OUT             488370.0  1.104979e+04   14847.354080   \n",
       "TCP_WIN_MSS_IN              488370.0  9.541896e+02     677.067779   \n",
       "LABEL                       488370.0  1.488744e+00       1.128002   \n",
       "PROTOCOL_MAP_ICMP           488370.0  1.800889e-02       0.132983   \n",
       "PROTOCOL_MAP_IPV6_ICMP      488370.0  2.047628e-06       0.001431   \n",
       "PROTOCOL_MAP_TCP            488370.0  8.735487e-01       0.332358   \n",
       "PROTOCOL_MAP_UDP            488370.0  1.084403e-01       0.310936   \n",
       "L7_PROTO_NAME_AMAZON        488370.0  4.668591e-04       0.021602   \n",
       "L7_PROTO_NAME_BITTORRENT    488370.0  9.691422e-03       0.097967   \n",
       "L7_PROTO_NAME_DNS           488370.0  7.193521e-02       0.258381   \n",
       "L7_PROTO_NAME_GOOGLE        488370.0  1.652436e-03       0.040617   \n",
       "L7_PROTO_NAME_HTTP          488370.0  4.936053e-01       0.499960   \n",
       "L7_PROTO_NAME_HTTP_PROXY    488370.0  4.648115e-04       0.021554   \n",
       "L7_PROTO_NAME_ICMP          488370.0  1.800889e-02       0.132983   \n",
       "L7_PROTO_NAME_NFS           488370.0  7.780986e-04       0.027884   \n",
       "L7_PROTO_NAME_NTP           488370.0  1.187624e-03       0.034441   \n",
       "L7_PROTO_NAME_QUIC          488370.0  1.883818e-03       0.043362   \n",
       "L7_PROTO_NAME_SSH           488370.0  7.615128e-03       0.086932   \n",
       "L7_PROTO_NAME_STUN          488370.0  5.063784e-03       0.070980   \n",
       "L7_PROTO_NAME_TEAMVIEWER    488370.0  1.390339e-03       0.037261   \n",
       "L7_PROTO_NAME_TLS           488370.0  6.528452e-02       0.247027   \n",
       "L7_PROTO_NAME_UNKNOWN       488370.0  3.172574e-01       0.465409   \n",
       "\n",
       "                                     min           25%           50%  \\\n",
       "FIRST_SWITCHED              1.616660e+09  1.616673e+09  1.618227e+09   \n",
       "FLOW_DURATION_MILLISECONDS  0.000000e+00  0.000000e+00  4.020000e+02   \n",
       "IN_PKTS                     0.000000e+00  0.000000e+00  1.386294e+00   \n",
       "L4_DST_PORT                 0.000000e+00  8.000000e+01  8.000000e+01   \n",
       "L4_SRC_PORT                 0.000000e+00  3.752800e+04  4.921400e+04   \n",
       "LAST_SWITCHED               1.616660e+09  1.616673e+09  1.618227e+09   \n",
       "OUT_BYTES                   0.000000e+00  3.688879e+00  5.375278e+00   \n",
       "OUT_PKTS                    0.000000e+00  0.000000e+00  1.098612e+00   \n",
       "SRC_TO_DST_SECOND_BYTES     3.332205e+00  3.784190e+00  5.407172e+00   \n",
       "TCP_FLAGS                   0.000000e+00  1.900000e+01  2.400000e+01   \n",
       "TCP_WIN_MAX_OUT             0.000000e+00  0.000000e+00  1.140000e+02   \n",
       "TCP_WIN_MSS_IN              0.000000e+00  0.000000e+00  1.410000e+03   \n",
       "LABEL                       0.000000e+00  0.000000e+00  1.000000e+00   \n",
       "PROTOCOL_MAP_ICMP           0.000000e+00  0.000000e+00  0.000000e+00   \n",
       "PROTOCOL_MAP_IPV6_ICMP      0.000000e+00  0.000000e+00  0.000000e+00   \n",
       "PROTOCOL_MAP_TCP            0.000000e+00  1.000000e+00  1.000000e+00   \n",
       "PROTOCOL_MAP_UDP            0.000000e+00  0.000000e+00  0.000000e+00   \n",
       "L7_PROTO_NAME_AMAZON        0.000000e+00  0.000000e+00  0.000000e+00   \n",
       "L7_PROTO_NAME_BITTORRENT    0.000000e+00  0.000000e+00  0.000000e+00   \n",
       "L7_PROTO_NAME_DNS           0.000000e+00  0.000000e+00  0.000000e+00   \n",
       "L7_PROTO_NAME_GOOGLE        0.000000e+00  0.000000e+00  0.000000e+00   \n",
       "L7_PROTO_NAME_HTTP          0.000000e+00  0.000000e+00  0.000000e+00   \n",
       "L7_PROTO_NAME_HTTP_PROXY    0.000000e+00  0.000000e+00  0.000000e+00   \n",
       "L7_PROTO_NAME_ICMP          0.000000e+00  0.000000e+00  0.000000e+00   \n",
       "L7_PROTO_NAME_NFS           0.000000e+00  0.000000e+00  0.000000e+00   \n",
       "L7_PROTO_NAME_NTP           0.000000e+00  0.000000e+00  0.000000e+00   \n",
       "L7_PROTO_NAME_QUIC          0.000000e+00  0.000000e+00  0.000000e+00   \n",
       "L7_PROTO_NAME_SSH           0.000000e+00  0.000000e+00  0.000000e+00   \n",
       "L7_PROTO_NAME_STUN          0.000000e+00  0.000000e+00  0.000000e+00   \n",
       "L7_PROTO_NAME_TEAMVIEWER    0.000000e+00  0.000000e+00  0.000000e+00   \n",
       "L7_PROTO_NAME_TLS           0.000000e+00  0.000000e+00  0.000000e+00   \n",
       "L7_PROTO_NAME_UNKNOWN       0.000000e+00  0.000000e+00  0.000000e+00   \n",
       "\n",
       "                                     75%           max  \n",
       "FIRST_SWITCHED              1.618239e+09  1.618262e+09  \n",
       "FLOW_DURATION_MILLISECONDS  6.027000e+04  1.199980e+05  \n",
       "IN_PKTS                     2.397895e+00  1.228577e+01  \n",
       "L4_DST_PORT                 1.506675e+04  6.553500e+04  \n",
       "L4_SRC_PORT                 5.126800e+04  6.553500e+04  \n",
       "LAST_SWITCHED               1.618239e+09  1.618262e+09  \n",
       "OUT_BYTES                   6.269096e+00  1.946137e+01  \n",
       "OUT_PKTS                    2.302585e+00  1.222736e+01  \n",
       "SRC_TO_DST_SECOND_BYTES     6.967909e+00  1.914172e+01  \n",
       "TCP_FLAGS                   2.700000e+01  2.230000e+02  \n",
       "TCP_WIN_MAX_OUT             2.796000e+04  6.553500e+04  \n",
       "TCP_WIN_MSS_IN              1.460000e+03  8.960000e+03  \n",
       "LABEL                       3.000000e+00  3.000000e+00  \n",
       "PROTOCOL_MAP_ICMP           0.000000e+00  1.000000e+00  \n",
       "PROTOCOL_MAP_IPV6_ICMP      0.000000e+00  1.000000e+00  \n",
       "PROTOCOL_MAP_TCP            1.000000e+00  1.000000e+00  \n",
       "PROTOCOL_MAP_UDP            0.000000e+00  1.000000e+00  \n",
       "L7_PROTO_NAME_AMAZON        0.000000e+00  1.000000e+00  \n",
       "L7_PROTO_NAME_BITTORRENT    0.000000e+00  1.000000e+00  \n",
       "L7_PROTO_NAME_DNS           0.000000e+00  1.000000e+00  \n",
       "L7_PROTO_NAME_GOOGLE        0.000000e+00  1.000000e+00  \n",
       "L7_PROTO_NAME_HTTP          1.000000e+00  1.000000e+00  \n",
       "L7_PROTO_NAME_HTTP_PROXY    0.000000e+00  1.000000e+00  \n",
       "L7_PROTO_NAME_ICMP          0.000000e+00  1.000000e+00  \n",
       "L7_PROTO_NAME_NFS           0.000000e+00  1.000000e+00  \n",
       "L7_PROTO_NAME_NTP           0.000000e+00  1.000000e+00  \n",
       "L7_PROTO_NAME_QUIC          0.000000e+00  1.000000e+00  \n",
       "L7_PROTO_NAME_SSH           0.000000e+00  1.000000e+00  \n",
       "L7_PROTO_NAME_STUN          0.000000e+00  1.000000e+00  \n",
       "L7_PROTO_NAME_TEAMVIEWER    0.000000e+00  1.000000e+00  \n",
       "L7_PROTO_NAME_TLS           0.000000e+00  1.000000e+00  \n",
       "L7_PROTO_NAME_UNKNOWN       1.000000e+00  1.000000e+00  "
      ]
     },
     "execution_count": 5,
     "metadata": {},
     "output_type": "execute_result"
    }
   ],
   "source": [
    "df.describe().transpose()"
   ]
  },
  {
   "cell_type": "code",
   "execution_count": 6,
   "metadata": {},
   "outputs": [],
   "source": [
    "def scale_x(data):\n",
    "    min_max_scaler = MinMaxScaler()\n",
    "    return min_max_scaler.fit_transform(data)\n",
    "    "
   ]
  },
  {
   "cell_type": "code",
   "execution_count": 7,
   "metadata": {},
   "outputs": [],
   "source": [
    "def store_df(name, X, y):\n",
    "    compression_opts = dict(method='zip',\n",
    "                            archive_name=name+'_X.csv')  \n",
    "    X.to_csv(name+'_X.zip', index=True,\n",
    "              compression=compression_opts)  \n",
    "    compression_opts = dict(method='zip',\n",
    "                            archive_name=name+'_y.csv')  \n",
    "    y.to_csv(name+'_y.zip', index=True,\n",
    "              compression=compression_opts)  "
   ]
  },
  {
   "cell_type": "code",
   "execution_count": 8,
   "metadata": {},
   "outputs": [],
   "source": [
    "random_forest_df = df.copy()"
   ]
  },
  {
   "cell_type": "markdown",
   "metadata": {},
   "source": [
    "# Train, Test, Validation Split"
   ]
  },
  {
   "cell_type": "code",
   "execution_count": 9,
   "metadata": {},
   "outputs": [
    {
     "data": {
      "text/plain": [
       "((488370,), (488370, 31))"
      ]
     },
     "execution_count": 9,
     "metadata": {},
     "output_type": "execute_result"
    }
   ],
   "source": [
    "y = df[\"LABEL\"]\n",
    "X = df.drop([\"LABEL\"], axis = 1)\n",
    "\n",
    "y.shape, X.shape"
   ]
  },
  {
   "cell_type": "code",
   "execution_count": 10,
   "metadata": {},
   "outputs": [],
   "source": [
    "from sklearn.model_selection import train_test_split\n",
    "\n",
    "val_rate = 15/45\n",
    "\n",
    "X_train, X_test, y_train, y_test = train_test_split(X, y, test_size=0.45, random_state=42)\n",
    "X_test, X_val, y_test, y_val = train_test_split(X_test, y_test, test_size=val_rate, random_state=42)"
   ]
  },
  {
   "cell_type": "code",
   "execution_count": 11,
   "metadata": {},
   "outputs": [
    {
     "name": "stdout",
     "output_type": "stream",
     "text": [
      "0.5499989761860884\n",
      "0.1500010238139116\n",
      "0.3\n"
     ]
    }
   ],
   "source": [
    "print(len(X_train) / len(X))\n",
    "print(len(X_val) / len(X))\n",
    "print(len(X_test) / len(X))"
   ]
  },
  {
   "cell_type": "markdown",
   "metadata": {},
   "source": [
    "# Random Forest Model"
   ]
  },
  {
   "cell_type": "code",
   "execution_count": 12,
   "metadata": {},
   "outputs": [],
   "source": [
    "rf = RandomForestClassifier(n_estimators=50, random_state=42)"
   ]
  },
  {
   "cell_type": "code",
   "execution_count": 13,
   "metadata": {},
   "outputs": [
    {
     "data": {
      "text/plain": [
       "RandomForestClassifier(n_estimators=50, random_state=42)"
      ]
     },
     "execution_count": 13,
     "metadata": {},
     "output_type": "execute_result"
    }
   ],
   "source": [
    "# Entrenamos el modelo\n",
    "rf.fit(X_train, y_train)"
   ]
  },
  {
   "cell_type": "markdown",
   "metadata": {},
   "source": [
    "### Validación"
   ]
  },
  {
   "cell_type": "code",
   "execution_count": 14,
   "metadata": {},
   "outputs": [
    {
     "data": {
      "text/plain": [
       "(73256,)"
      ]
     },
     "execution_count": 14,
     "metadata": {},
     "output_type": "execute_result"
    }
   ],
   "source": [
    "# Realizamos predicciones con las metricas de validación\n",
    "val_preds = rf.predict(X_val)\n",
    "val_preds.shape"
   ]
  },
  {
   "cell_type": "code",
   "execution_count": 15,
   "metadata": {},
   "outputs": [
    {
     "name": "stdout",
     "output_type": "stream",
     "text": [
      "Matrix de confusión: \n",
      " [[18663     2     1     3]\n",
      " [    1 18855     0     0]\n",
      " [    0     0 17008     0]\n",
      " [    2     0     0 18721]]\n",
      "                                precision    recall  f1-score   support\n",
      "\n",
      "                   Normal flow       1.00      1.00      1.00     18669\n",
      "         SYN Scan - aggressive       1.00      1.00      1.00     18856\n",
      "Denial of Service R-U-Dead-Yet       1.00      1.00      1.00     17008\n",
      "   Denial of Service Slowloris       1.00      1.00      1.00     18723\n",
      "\n",
      "                      accuracy                           1.00     73256\n",
      "                     macro avg       1.00      1.00      1.00     73256\n",
      "                  weighted avg       1.00      1.00      1.00     73256\n",
      "\n",
      "recall_score:  [0.99967861 0.99994697 1.         0.99989318]\n",
      "precision_score:  [0.99983928 0.99989394 0.99994121 0.99983978]\n",
      "f1_score:  [0.99975894 0.99992045 0.9999706  0.99986648]\n",
      "accuracy:  0.9998771431691602\n"
     ]
    }
   ],
   "source": [
    "# Get the results\n",
    "utils.evaluate_model(y_val, val_preds)"
   ]
  },
  {
   "cell_type": "markdown",
   "metadata": {},
   "source": [
    "### Prueba"
   ]
  },
  {
   "cell_type": "code",
   "execution_count": 16,
   "metadata": {},
   "outputs": [],
   "source": [
    "# Realizamos predicciones con las metricas de validación\n",
    "test_preds = rf.predict(X_test)"
   ]
  },
  {
   "cell_type": "code",
   "execution_count": 17,
   "metadata": {},
   "outputs": [
    {
     "name": "stdout",
     "output_type": "stream",
     "text": [
      "Matrix de confusión: \n",
      " [[37172     1     1     2]\n",
      " [    4 37568     0     0]\n",
      " [    1     0 34285     0]\n",
      " [    0     0     0 37477]]\n",
      "                                precision    recall  f1-score   support\n",
      "\n",
      "                   Normal flow       1.00      1.00      1.00     37176\n",
      "         SYN Scan - aggressive       1.00      1.00      1.00     37572\n",
      "Denial of Service R-U-Dead-Yet       1.00      1.00      1.00     34286\n",
      "   Denial of Service Slowloris       1.00      1.00      1.00     37477\n",
      "\n",
      "                      accuracy                           1.00    146511\n",
      "                     macro avg       1.00      1.00      1.00    146511\n",
      "                  weighted avg       1.00      1.00      1.00    146511\n",
      "\n",
      "recall_score:  [0.9998924  0.99989354 0.99997083 1.        ]\n",
      "precision_score:  [0.99986551 0.99997338 0.99997083 0.99994664]\n",
      "f1_score:  [0.99987896 0.99993346 0.99997083 0.99997332]\n",
      "accuracy:  0.999938571165305\n"
     ]
    }
   ],
   "source": [
    "# Get the results\n",
    "utils.evaluate_model(y_test, test_preds)"
   ]
  },
  {
   "cell_type": "markdown",
   "metadata": {},
   "source": [
    "### Gráfica de la curva ROC"
   ]
  },
  {
   "cell_type": "code",
   "execution_count": 18,
   "metadata": {},
   "outputs": [
    {
     "name": "stderr",
     "output_type": "stream",
     "text": [
      "/Users/douglasdeleon/Documents/DouglasJr/UVG/semestre9/SecurityDS/proyecto-1/attack-detection/venv/lib/python3.7/site-packages/sklearn/base.py:451: UserWarning: X does not have valid feature names, but RandomForestClassifier was fitted with feature names\n",
      "  \"X does not have valid feature names, but\"\n"
     ]
    },
    {
     "data": {
      "image/png": "[encoded data removed]",
      "text/plain": [
       "<Figure size 576x396 with 1 Axes>"
      ]
     },
     "metadata": {},
     "output_type": "display_data"
    },
    {
     "data": {
      "text/plain": [
       "ROCAUC(ax=<AxesSubplot:title={'center':'ROC Curves for RandomForestClassifier'}, xlabel='False Positive Rate', ylabel='True Positive Rate'>,\n",
       "       encoder={0: 'Normal flow', 1: 'SYN Scan - aggressive',\n",
       "                2: 'Denial of Service R-U-Dead-Yet',\n",
       "                3: 'Denial of Service Slowloris'},\n",
       "       estimator=RandomForestClassifier(n_estimators=50, random_state=42))"
      ]
     },
     "execution_count": 18,
     "metadata": {},
     "output_type": "execute_result"
    }
   ],
   "source": [
    "utils.plot_roc_curve(rf, X_train, y_train, X_test, y_test)"
   ]
  },
  {
   "cell_type": "markdown",
   "metadata": {},
   "source": [
    "## K-Fold cross validation"
   ]
  },
  {
   "cell_type": "code",
   "execution_count": 29,
   "metadata": {},
   "outputs": [],
   "source": [
    "# New division\n",
    "X_train, X_test, y_train, y_test = train_test_split(X, y, test_size=0.30, random_state=42)"
   ]
  },
  {
   "cell_type": "code",
   "execution_count": 33,
   "metadata": {},
   "outputs": [],
   "source": [
    "rf = RandomForestClassifier(n_estimators=50, random_state=42)"
   ]
  },
  {
   "cell_type": "code",
   "execution_count": 34,
   "metadata": {},
   "outputs": [
    {
     "data": {
      "text/plain": [
       "array([0.99982449, 0.99997075, 0.99976599, 0.99985374, 0.99988299,\n",
       "       0.99991224, 0.99982449, 0.99988299, 0.9999415 , 0.99997075])"
      ]
     },
     "execution_count": 34,
     "metadata": {},
     "output_type": "execute_result"
    }
   ],
   "source": [
    "scores = cross_val_score(rf, X_train, y_train, cv=10)\n",
    "scores"
   ]
  },
  {
   "cell_type": "markdown",
   "metadata": {},
   "source": [
    "# Support Vector Machine"
   ]
  },
  {
   "cell_type": "code",
   "execution_count": 19,
   "metadata": {},
   "outputs": [],
   "source": [
    "from sklearn.svm import LinearSVC"
   ]
  },
  {
   "cell_type": "code",
   "execution_count": 20,
   "metadata": {},
   "outputs": [],
   "source": [
    "svc = make_pipeline(StandardScaler(), LinearSVC(max_iter=2000))"
   ]
  },
  {
   "cell_type": "code",
   "execution_count": 21,
   "metadata": {},
   "outputs": [
    {
     "name": "stderr",
     "output_type": "stream",
     "text": [
      "/Users/douglasdeleon/Documents/DouglasJr/UVG/semestre9/SecurityDS/proyecto-1/attack-detection/venv/lib/python3.7/site-packages/sklearn/svm/_base.py:1208: ConvergenceWarning: Liblinear failed to converge, increase the number of iterations.\n",
      "  ConvergenceWarning,\n"
     ]
    },
    {
     "data": {
      "text/plain": [
       "Pipeline(steps=[('standardscaler', StandardScaler()),\n",
       "                ('linearsvc', LinearSVC(max_iter=2000))])"
      ]
     },
     "execution_count": 21,
     "metadata": {},
     "output_type": "execute_result"
    }
   ],
   "source": [
    "# Train the model\n",
    "svc.fit(X_train, y_train)"
   ]
  },
  {
   "cell_type": "markdown",
   "metadata": {},
   "source": [
    "## Validation"
   ]
  },
  {
   "cell_type": "code",
   "execution_count": 22,
   "metadata": {},
   "outputs": [],
   "source": [
    "val_preds = svc.predict(X_val)"
   ]
  },
  {
   "cell_type": "code",
   "execution_count": 23,
   "metadata": {},
   "outputs": [
    {
     "name": "stdout",
     "output_type": "stream",
     "text": [
      "Matrix de confusión: \n",
      " [[18276   223    62   108]\n",
      " [   11 18845     0     0]\n",
      " [    1     0 16714   293]\n",
      " [    0     0    27 18696]]\n",
      "                                precision    recall  f1-score   support\n",
      "\n",
      "                   Normal flow       1.00      0.98      0.99     18669\n",
      "         SYN Scan - aggressive       0.99      1.00      0.99     18856\n",
      "Denial of Service R-U-Dead-Yet       0.99      0.98      0.99     17008\n",
      "   Denial of Service Slowloris       0.98      1.00      0.99     18723\n",
      "\n",
      "                      accuracy                           0.99     73256\n",
      "                     macro avg       0.99      0.99      0.99     73256\n",
      "                  weighted avg       0.99      0.99      0.99     73256\n",
      "\n",
      "recall_score:  [0.97894906 0.99941663 0.98271402 0.99855792]\n",
      "precision_score:  [0.99934383 0.98830501 0.99470333 0.97900194]\n",
      "f1_score:  [0.98904132 0.99382976 0.98867233 0.98868324]\n",
      "accuracy:  0.9901031997379054\n"
     ]
    }
   ],
   "source": [
    "utils.evaluate_model(y_val, val_preds)"
   ]
  },
  {
   "cell_type": "markdown",
   "metadata": {},
   "source": [
    "## Test"
   ]
  },
  {
   "cell_type": "code",
   "execution_count": 24,
   "metadata": {},
   "outputs": [],
   "source": [
    "test_preds = svc.predict(X_test)"
   ]
  },
  {
   "cell_type": "code",
   "execution_count": 25,
   "metadata": {},
   "outputs": [
    {
     "name": "stdout",
     "output_type": "stream",
     "text": [
      "Matrix de confusión: \n",
      " [[36437   412   121   206]\n",
      " [   24 37548     0     0]\n",
      " [    2     0 33737   547]\n",
      " [    0     0    72 37405]]\n",
      "                                precision    recall  f1-score   support\n",
      "\n",
      "                   Normal flow       1.00      0.98      0.99     37176\n",
      "         SYN Scan - aggressive       0.99      1.00      0.99     37572\n",
      "Denial of Service R-U-Dead-Yet       0.99      0.98      0.99     34286\n",
      "   Denial of Service Slowloris       0.98      1.00      0.99     37477\n",
      "\n",
      "                      accuracy                           0.99    146511\n",
      "                     macro avg       0.99      0.99      0.99    146511\n",
      "                  weighted avg       0.99      0.99      0.99    146511\n",
      "\n",
      "recall_score:  [0.98012158 0.99936123 0.98398763 0.99807882]\n",
      "precision_score:  [0.99928695 0.98914647 0.99431182 0.98026626]\n",
      "f1_score:  [0.98961148 0.99422761 0.98912279 0.98909235]\n",
      "accuracy:  0.9905536103091236\n"
     ]
    }
   ],
   "source": [
    "utils.evaluate_model(y_test, test_preds)"
   ]
  },
  {
   "cell_type": "markdown",
   "metadata": {},
   "source": [
    "## Gráfica de la curva ROC"
   ]
  },
  {
   "cell_type": "code",
   "execution_count": 28,
   "metadata": {},
   "outputs": [
    {
     "name": "stderr",
     "output_type": "stream",
     "text": [
      "/Users/douglasdeleon/Documents/DouglasJr/UVG/semestre9/SecurityDS/proyecto-1/attack-detection/venv/lib/python3.7/site-packages/sklearn/base.py:451: UserWarning: X does not have valid feature names, but StandardScaler was fitted with feature names\n",
      "  \"X does not have valid feature names, but\"\n"
     ]
    },
    {
     "data": {
      "image/png": "[encoded data removed]",
      "text/plain": [
       "<Figure size 576x396 with 1 Axes>"
      ]
     },
     "metadata": {},
     "output_type": "display_data"
    },
    {
     "data": {
      "text/plain": [
       "ROCAUC(ax=<AxesSubplot:title={'center':'ROC Curves for LinearSVC'}, xlabel='False Positive Rate', ylabel='True Positive Rate'>,\n",
       "       encoder={0: 'Normal flow', 1: 'SYN Scan - aggressive',\n",
       "                2: 'Denial of Service R-U-Dead-Yet',\n",
       "                3: 'Denial of Service Slowloris'},\n",
       "       estimator=Pipeline(steps=[('standardscaler', StandardScaler()),\n",
       "                                 ('linearsvc', LinearSVC(max_iter=2000))]))"
      ]
     },
     "execution_count": 28,
     "metadata": {},
     "output_type": "execute_result"
    }
   ],
   "source": [
    "utils.plot_roc_curve(svc, X_train, y_train, X_test, y_test)"
   ]
  },
  {
   "cell_type": "markdown",
   "metadata": {},
   "source": [
    "# K Fold cross validation"
   ]
  },
  {
   "cell_type": "code",
   "execution_count": 35,
   "metadata": {},
   "outputs": [],
   "source": [
    "X_train, X_test, y_train, y_test = train_test_split(X, y, test_size=0.45, random_state=42)"
   ]
  },
  {
   "cell_type": "code",
   "execution_count": 36,
   "metadata": {},
   "outputs": [],
   "source": [
    "svc = make_pipeline(StandardScaler(), LinearSVC(max_iter=2000))"
   ]
  },
  {
   "cell_type": "code",
   "execution_count": 37,
   "metadata": {},
   "outputs": [
    {
     "data": {
      "text/plain": [
       "array([0.99970217, 0.99977663, 0.9997394 , 0.99992554, 0.99992554,\n",
       "       0.99977662, 0.99985108, 0.99992554, 0.99992554, 0.99985108])"
      ]
     },
     "execution_count": 37,
     "metadata": {},
     "output_type": "execute_result"
    }
   ],
   "source": [
    "scores = cross_val_score(rf, X_train, y_train, cv=10)\n",
    "scores"
   ]
  }
 ],
 "metadata": {
  "kernelspec": {
   "display_name": "Python 3 (ipykernel)",
   "language": "python",
   "name": "python3"
  },
  "language_info": {
   "codemirror_mode": {
    "name": "ipython",
    "version": 3
   },
   "file_extension": ".py",
   "mimetype": "text/x-python",
   "name": "python",
   "nbconvert_exporter": "python",
   "pygments_lexer": "ipython3",
   "version": "3.7.12"
  }
 },
 "nbformat": 4,
 "nbformat_minor": 2
}
