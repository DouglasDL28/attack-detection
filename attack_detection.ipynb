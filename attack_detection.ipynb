{
 "cells": [
  {
   "cell_type": "code",
   "execution_count": 1,
   "metadata": {},
   "outputs": [],
   "source": [
    "import pandas as pd\n",
    "from sklearn.preprocessing import MinMaxScaler\n",
    "from sklearn.model_selection import train_test_split, cross_val_score, cross_validate\n",
    "from sklearn.ensemble import RandomForestClassifier\n",
    "from sklearn.metrics import confusion_matrix, precision_score, recall_score, f1_score, classification_report, accuracy_score"
   ]
  },
  {
   "cell_type": "code",
   "execution_count": 4,
   "metadata": {},
   "outputs": [],
   "source": [
    "df = pd.read_csv(\"dataset/clean_df.csv\")"
   ]
  },
  {
   "cell_type": "code",
   "execution_count": 5,
   "metadata": {
    "scrolled": false
   },
   "outputs": [
    {
     "data": {
      "text/plain": [
       "Index(['Unnamed: 0', 'FIRST_SWITCHED', 'FLOW_DURATION_MILLISECONDS', 'IN_PKTS',\n",
       "       'L4_DST_PORT', 'L4_SRC_PORT', 'LAST_SWITCHED', 'OUT_BYTES', 'OUT_PKTS',\n",
       "       'SRC_TO_DST_SECOND_BYTES', 'TCP_FLAGS', 'TCP_WIN_MAX_OUT',\n",
       "       'TCP_WIN_MSS_IN', 'LABEL', 'PROTOCOL_MAP_icmp', 'PROTOCOL_MAP_tcp',\n",
       "       'PROTOCOL_MAP_udp', 'L7_PROTO_NAME_AJP', 'L7_PROTO_NAME_AMAZON',\n",
       "       'L7_PROTO_NAME_APPLE', 'L7_PROTO_NAME_BGP', 'L7_PROTO_NAME_BITTORRENT',\n",
       "       'L7_PROTO_NAME_CISCOVPN', 'L7_PROTO_NAME_CITRIX',\n",
       "       'L7_PROTO_NAME_CLOUDFLARE', 'L7_PROTO_NAME_COAP', 'L7_PROTO_NAME_CORBA',\n",
       "       'L7_PROTO_NAME_DCE_RPC', 'L7_PROTO_NAME_DNP3', 'L7_PROTO_NAME_DNS',\n",
       "       'L7_PROTO_NAME_FACEBOOK', 'L7_PROTO_NAME_FTP_CONTROL',\n",
       "       'L7_PROTO_NAME_FTP_DATA', 'L7_PROTO_NAME_GIT', 'L7_PROTO_NAME_GOOGLE',\n",
       "       'L7_PROTO_NAME_H323', 'L7_PROTO_NAME_HTTP', 'L7_PROTO_NAME_HTTP_PROXY',\n",
       "       'L7_PROTO_NAME_IAX', 'L7_PROTO_NAME_ICMP', 'L7_PROTO_NAME_IEC60870',\n",
       "       'L7_PROTO_NAME_IMAP', 'L7_PROTO_NAME_IMAPS', 'L7_PROTO_NAME_IPSEC',\n",
       "       'L7_PROTO_NAME_KERBEROS', 'L7_PROTO_NAME_LDAP', 'L7_PROTO_NAME_MDNS',\n",
       "       'L7_PROTO_NAME_MEMCACHED', 'L7_PROTO_NAME_MICROSOFT',\n",
       "       'L7_PROTO_NAME_MINING', 'L7_PROTO_NAME_MODBUS', 'L7_PROTO_NAME_MONGODB',\n",
       "       'L7_PROTO_NAME_MQTT', 'L7_PROTO_NAME_MSSQL_TDS',\n",
       "       'L7_PROTO_NAME_NESTLOGSINK', 'L7_PROTO_NAME_NETBIOS',\n",
       "       'L7_PROTO_NAME_NFS', 'L7_PROTO_NAME_NTP', 'L7_PROTO_NAME_OPENVPN',\n",
       "       'L7_PROTO_NAME_OSPF', 'L7_PROTO_NAME_PLAYSTATION',\n",
       "       'L7_PROTO_NAME_POSTGRESQL', 'L7_PROTO_NAME_QUIC', 'L7_PROTO_NAME_RDP',\n",
       "       'L7_PROTO_NAME_REDIS', 'L7_PROTO_NAME_REMOTESCAN',\n",
       "       'L7_PROTO_NAME_RSYNC', 'L7_PROTO_NAME_RTP', 'L7_PROTO_NAME_RTSP',\n",
       "       'L7_PROTO_NAME_RX', 'L7_PROTO_NAME_S7COMM', 'L7_PROTO_NAME_SIP',\n",
       "       'L7_PROTO_NAME_SKYPE', 'L7_PROTO_NAME_SMBV23', 'L7_PROTO_NAME_SMTP',\n",
       "       'L7_PROTO_NAME_SMTPS', 'L7_PROTO_NAME_SNMP', 'L7_PROTO_NAME_SOCKS',\n",
       "       'L7_PROTO_NAME_SSDP', 'L7_PROTO_NAME_SSH', 'L7_PROTO_NAME_STARCRAFT',\n",
       "       'L7_PROTO_NAME_STEAM', 'L7_PROTO_NAME_STUN',\n",
       "       'L7_PROTO_NAME_TARGUSDATASPEED', 'L7_PROTO_NAME_TEAMVIEWER',\n",
       "       'L7_PROTO_NAME_TELNET', 'L7_PROTO_NAME_TINC', 'L7_PROTO_NAME_TLS',\n",
       "       'L7_PROTO_NAME_UBNTAC2', 'L7_PROTO_NAME_UNKNOWN', 'L7_PROTO_NAME_VIBER',\n",
       "       'L7_PROTO_NAME_VNC', 'L7_PROTO_NAME_WHATSAPPFILES', 'L7_PROTO_NAME_WSD',\n",
       "       'L7_PROTO_NAME_XBOX', 'L7_PROTO_NAME_XDMCP', 'L7_PROTO_NAME_ZABBIX'],\n",
       "      dtype='object')"
      ]
     },
     "execution_count": 5,
     "metadata": {},
     "output_type": "execute_result"
    }
   ],
   "source": [
    "df.columns"
   ]
  },
  {
   "cell_type": "code",
   "execution_count": 6,
   "metadata": {},
   "outputs": [
    {
     "data": {
      "text/plain": [
       "97"
      ]
     },
     "execution_count": 6,
     "metadata": {},
     "output_type": "execute_result"
    }
   ],
   "source": [
    "len(df.columns)"
   ]
  },
  {
   "cell_type": "code",
   "execution_count": 7,
   "metadata": {},
   "outputs": [
    {
     "data": {
      "text/plain": [
       "96"
      ]
     },
     "execution_count": 7,
     "metadata": {},
     "output_type": "execute_result"
    }
   ],
   "source": [
    "# Drop the column unnamed\n",
    "df = df.drop([\"Unnamed: 0\"], axis = 1)\n",
    "len(df.columns)"
   ]
  },
  {
   "cell_type": "code",
   "execution_count": 8,
   "metadata": {
    "scrolled": false
   },
   "outputs": [
    {
     "data": {
      "text/html": [
       "<div>\n",
       "<style scoped>\n",
       "    .dataframe tbody tr th:only-of-type {\n",
       "        vertical-align: middle;\n",
       "    }\n",
       "\n",
       "    .dataframe tbody tr th {\n",
       "        vertical-align: top;\n",
       "    }\n",
       "\n",
       "    .dataframe thead th {\n",
       "        text-align: right;\n",
       "    }\n",
       "</style>\n",
       "<table border=\"1\" class=\"dataframe\">\n",
       "  <thead>\n",
       "    <tr style=\"text-align: right;\">\n",
       "      <th></th>\n",
       "      <th>FIRST_SWITCHED</th>\n",
       "      <th>FLOW_DURATION_MILLISECONDS</th>\n",
       "      <th>IN_PKTS</th>\n",
       "      <th>L4_DST_PORT</th>\n",
       "      <th>L4_SRC_PORT</th>\n",
       "      <th>LAST_SWITCHED</th>\n",
       "      <th>OUT_BYTES</th>\n",
       "      <th>OUT_PKTS</th>\n",
       "      <th>SRC_TO_DST_SECOND_BYTES</th>\n",
       "      <th>TCP_FLAGS</th>\n",
       "      <th>...</th>\n",
       "      <th>L7_PROTO_NAME_TLS</th>\n",
       "      <th>L7_PROTO_NAME_UBNTAC2</th>\n",
       "      <th>L7_PROTO_NAME_UNKNOWN</th>\n",
       "      <th>L7_PROTO_NAME_VIBER</th>\n",
       "      <th>L7_PROTO_NAME_VNC</th>\n",
       "      <th>L7_PROTO_NAME_WHATSAPPFILES</th>\n",
       "      <th>L7_PROTO_NAME_WSD</th>\n",
       "      <th>L7_PROTO_NAME_XBOX</th>\n",
       "      <th>L7_PROTO_NAME_XDMCP</th>\n",
       "      <th>L7_PROTO_NAME_ZABBIX</th>\n",
       "    </tr>\n",
       "  </thead>\n",
       "  <tbody>\n",
       "    <tr>\n",
       "      <th>count</th>\n",
       "      <td>9.767300e+04</td>\n",
       "      <td>97673.000000</td>\n",
       "      <td>97673.000000</td>\n",
       "      <td>97673.000000</td>\n",
       "      <td>97673.000000</td>\n",
       "      <td>9.767300e+04</td>\n",
       "      <td>97673.000000</td>\n",
       "      <td>97673.000000</td>\n",
       "      <td>97673.000000</td>\n",
       "      <td>97673.000000</td>\n",
       "      <td>...</td>\n",
       "      <td>97673.000000</td>\n",
       "      <td>97673.00000</td>\n",
       "      <td>97673.000000</td>\n",
       "      <td>97673.000000</td>\n",
       "      <td>97673.000000</td>\n",
       "      <td>97673.00000</td>\n",
       "      <td>97673.000000</td>\n",
       "      <td>97673.000000</td>\n",
       "      <td>97673.000000</td>\n",
       "      <td>97673.000000</td>\n",
       "    </tr>\n",
       "    <tr>\n",
       "      <th>mean</th>\n",
       "      <td>1.617767e+09</td>\n",
       "      <td>34460.110727</td>\n",
       "      <td>11.383504</td>\n",
       "      <td>11227.300482</td>\n",
       "      <td>42867.620100</td>\n",
       "      <td>1.617767e+09</td>\n",
       "      <td>4.776386</td>\n",
       "      <td>12.397889</td>\n",
       "      <td>5.600985</td>\n",
       "      <td>19.500712</td>\n",
       "      <td>...</td>\n",
       "      <td>0.064849</td>\n",
       "      <td>0.00001</td>\n",
       "      <td>0.317754</td>\n",
       "      <td>0.000031</td>\n",
       "      <td>0.000072</td>\n",
       "      <td>0.00001</td>\n",
       "      <td>0.000020</td>\n",
       "      <td>0.000031</td>\n",
       "      <td>0.000020</td>\n",
       "      <td>0.000020</td>\n",
       "    </tr>\n",
       "    <tr>\n",
       "      <th>std</th>\n",
       "      <td>7.146678e+05</td>\n",
       "      <td>42458.042828</td>\n",
       "      <td>202.795456</td>\n",
       "      <td>19192.477749</td>\n",
       "      <td>15615.596848</td>\n",
       "      <td>7.146899e+05</td>\n",
       "      <td>2.294412</td>\n",
       "      <td>262.955155</td>\n",
       "      <td>1.523983</td>\n",
       "      <td>10.367545</td>\n",
       "      <td>...</td>\n",
       "      <td>0.246261</td>\n",
       "      <td>0.00320</td>\n",
       "      <td>0.465606</td>\n",
       "      <td>0.005542</td>\n",
       "      <td>0.008465</td>\n",
       "      <td>0.00320</td>\n",
       "      <td>0.004525</td>\n",
       "      <td>0.005542</td>\n",
       "      <td>0.004525</td>\n",
       "      <td>0.004525</td>\n",
       "    </tr>\n",
       "    <tr>\n",
       "      <th>min</th>\n",
       "      <td>1.616660e+09</td>\n",
       "      <td>0.000000</td>\n",
       "      <td>1.000000</td>\n",
       "      <td>0.000000</td>\n",
       "      <td>0.000000</td>\n",
       "      <td>1.616660e+09</td>\n",
       "      <td>0.000000</td>\n",
       "      <td>0.000000</td>\n",
       "      <td>3.332205</td>\n",
       "      <td>0.000000</td>\n",
       "      <td>...</td>\n",
       "      <td>0.000000</td>\n",
       "      <td>0.00000</td>\n",
       "      <td>0.000000</td>\n",
       "      <td>0.000000</td>\n",
       "      <td>0.000000</td>\n",
       "      <td>0.00000</td>\n",
       "      <td>0.000000</td>\n",
       "      <td>0.000000</td>\n",
       "      <td>0.000000</td>\n",
       "      <td>0.000000</td>\n",
       "    </tr>\n",
       "    <tr>\n",
       "      <th>25%</th>\n",
       "      <td>1.616673e+09</td>\n",
       "      <td>0.000000</td>\n",
       "      <td>1.000000</td>\n",
       "      <td>80.000000</td>\n",
       "      <td>37424.000000</td>\n",
       "      <td>1.616673e+09</td>\n",
       "      <td>3.688879</td>\n",
       "      <td>1.000000</td>\n",
       "      <td>3.784190</td>\n",
       "      <td>19.000000</td>\n",
       "      <td>...</td>\n",
       "      <td>0.000000</td>\n",
       "      <td>0.00000</td>\n",
       "      <td>0.000000</td>\n",
       "      <td>0.000000</td>\n",
       "      <td>0.000000</td>\n",
       "      <td>0.00000</td>\n",
       "      <td>0.000000</td>\n",
       "      <td>0.000000</td>\n",
       "      <td>0.000000</td>\n",
       "      <td>0.000000</td>\n",
       "    </tr>\n",
       "    <tr>\n",
       "      <th>50%</th>\n",
       "      <td>1.618227e+09</td>\n",
       "      <td>401.000000</td>\n",
       "      <td>4.000000</td>\n",
       "      <td>80.000000</td>\n",
       "      <td>49214.000000</td>\n",
       "      <td>1.618227e+09</td>\n",
       "      <td>5.370638</td>\n",
       "      <td>3.000000</td>\n",
       "      <td>5.407172</td>\n",
       "      <td>24.000000</td>\n",
       "      <td>...</td>\n",
       "      <td>0.000000</td>\n",
       "      <td>0.00000</td>\n",
       "      <td>0.000000</td>\n",
       "      <td>0.000000</td>\n",
       "      <td>0.000000</td>\n",
       "      <td>0.00000</td>\n",
       "      <td>0.000000</td>\n",
       "      <td>0.000000</td>\n",
       "      <td>0.000000</td>\n",
       "      <td>0.000000</td>\n",
       "    </tr>\n",
       "    <tr>\n",
       "      <th>75%</th>\n",
       "      <td>1.618239e+09</td>\n",
       "      <td>60273.000000</td>\n",
       "      <td>11.000000</td>\n",
       "      <td>15086.000000</td>\n",
       "      <td>51229.000000</td>\n",
       "      <td>1.618239e+09</td>\n",
       "      <td>6.269096</td>\n",
       "      <td>10.000000</td>\n",
       "      <td>6.967909</td>\n",
       "      <td>27.000000</td>\n",
       "      <td>...</td>\n",
       "      <td>0.000000</td>\n",
       "      <td>0.00000</td>\n",
       "      <td>1.000000</td>\n",
       "      <td>0.000000</td>\n",
       "      <td>0.000000</td>\n",
       "      <td>0.00000</td>\n",
       "      <td>0.000000</td>\n",
       "      <td>0.000000</td>\n",
       "      <td>0.000000</td>\n",
       "      <td>0.000000</td>\n",
       "    </tr>\n",
       "    <tr>\n",
       "      <th>max</th>\n",
       "      <td>1.618262e+09</td>\n",
       "      <td>119995.000000</td>\n",
       "      <td>32708.000000</td>\n",
       "      <td>65535.000000</td>\n",
       "      <td>65535.000000</td>\n",
       "      <td>1.618262e+09</td>\n",
       "      <td>17.939323</td>\n",
       "      <td>42335.000000</td>\n",
       "      <td>17.047960</td>\n",
       "      <td>223.000000</td>\n",
       "      <td>...</td>\n",
       "      <td>1.000000</td>\n",
       "      <td>1.00000</td>\n",
       "      <td>1.000000</td>\n",
       "      <td>1.000000</td>\n",
       "      <td>1.000000</td>\n",
       "      <td>1.00000</td>\n",
       "      <td>1.000000</td>\n",
       "      <td>1.000000</td>\n",
       "      <td>1.000000</td>\n",
       "      <td>1.000000</td>\n",
       "    </tr>\n",
       "  </tbody>\n",
       "</table>\n",
       "<p>8 rows × 96 columns</p>\n",
       "</div>"
      ],
      "text/plain": [
       "       FIRST_SWITCHED  FLOW_DURATION_MILLISECONDS       IN_PKTS   L4_DST_PORT  \\\n",
       "count    9.767300e+04                97673.000000  97673.000000  97673.000000   \n",
       "mean     1.617767e+09                34460.110727     11.383504  11227.300482   \n",
       "std      7.146678e+05                42458.042828    202.795456  19192.477749   \n",
       "min      1.616660e+09                    0.000000      1.000000      0.000000   \n",
       "25%      1.616673e+09                    0.000000      1.000000     80.000000   \n",
       "50%      1.618227e+09                  401.000000      4.000000     80.000000   \n",
       "75%      1.618239e+09                60273.000000     11.000000  15086.000000   \n",
       "max      1.618262e+09               119995.000000  32708.000000  65535.000000   \n",
       "\n",
       "        L4_SRC_PORT  LAST_SWITCHED     OUT_BYTES      OUT_PKTS  \\\n",
       "count  97673.000000   9.767300e+04  97673.000000  97673.000000   \n",
       "mean   42867.620100   1.617767e+09      4.776386     12.397889   \n",
       "std    15615.596848   7.146899e+05      2.294412    262.955155   \n",
       "min        0.000000   1.616660e+09      0.000000      0.000000   \n",
       "25%    37424.000000   1.616673e+09      3.688879      1.000000   \n",
       "50%    49214.000000   1.618227e+09      5.370638      3.000000   \n",
       "75%    51229.000000   1.618239e+09      6.269096     10.000000   \n",
       "max    65535.000000   1.618262e+09     17.939323  42335.000000   \n",
       "\n",
       "       SRC_TO_DST_SECOND_BYTES     TCP_FLAGS  ...  L7_PROTO_NAME_TLS  \\\n",
       "count             97673.000000  97673.000000  ...       97673.000000   \n",
       "mean                  5.600985     19.500712  ...           0.064849   \n",
       "std                   1.523983     10.367545  ...           0.246261   \n",
       "min                   3.332205      0.000000  ...           0.000000   \n",
       "25%                   3.784190     19.000000  ...           0.000000   \n",
       "50%                   5.407172     24.000000  ...           0.000000   \n",
       "75%                   6.967909     27.000000  ...           0.000000   \n",
       "max                  17.047960    223.000000  ...           1.000000   \n",
       "\n",
       "       L7_PROTO_NAME_UBNTAC2  L7_PROTO_NAME_UNKNOWN  L7_PROTO_NAME_VIBER  \\\n",
       "count            97673.00000           97673.000000         97673.000000   \n",
       "mean                 0.00001               0.317754             0.000031   \n",
       "std                  0.00320               0.465606             0.005542   \n",
       "min                  0.00000               0.000000             0.000000   \n",
       "25%                  0.00000               0.000000             0.000000   \n",
       "50%                  0.00000               0.000000             0.000000   \n",
       "75%                  0.00000               1.000000             0.000000   \n",
       "max                  1.00000               1.000000             1.000000   \n",
       "\n",
       "       L7_PROTO_NAME_VNC  L7_PROTO_NAME_WHATSAPPFILES  L7_PROTO_NAME_WSD  \\\n",
       "count       97673.000000                  97673.00000       97673.000000   \n",
       "mean            0.000072                      0.00001           0.000020   \n",
       "std             0.008465                      0.00320           0.004525   \n",
       "min             0.000000                      0.00000           0.000000   \n",
       "25%             0.000000                      0.00000           0.000000   \n",
       "50%             0.000000                      0.00000           0.000000   \n",
       "75%             0.000000                      0.00000           0.000000   \n",
       "max             1.000000                      1.00000           1.000000   \n",
       "\n",
       "       L7_PROTO_NAME_XBOX  L7_PROTO_NAME_XDMCP  L7_PROTO_NAME_ZABBIX  \n",
       "count        97673.000000         97673.000000          97673.000000  \n",
       "mean             0.000031             0.000020              0.000020  \n",
       "std              0.005542             0.004525              0.004525  \n",
       "min              0.000000             0.000000              0.000000  \n",
       "25%              0.000000             0.000000              0.000000  \n",
       "50%              0.000000             0.000000              0.000000  \n",
       "75%              0.000000             0.000000              0.000000  \n",
       "max              1.000000             1.000000              1.000000  \n",
       "\n",
       "[8 rows x 96 columns]"
      ]
     },
     "execution_count": 8,
     "metadata": {},
     "output_type": "execute_result"
    }
   ],
   "source": [
    "df.describe()"
   ]
  },
  {
   "cell_type": "code",
   "execution_count": 21,
   "metadata": {},
   "outputs": [],
   "source": [
    "def scale_x(data):\n",
    "    min_max_scaler = MinMaxScaler()\n",
    "    return min_max_scaler.fit_transform(data)\n",
    "    "
   ]
  },
  {
   "cell_type": "code",
   "execution_count": 25,
   "metadata": {},
   "outputs": [],
   "source": [
    "def store_df(name, X, y):\n",
    "    compression_opts = dict(method='zip',\n",
    "                            archive_name=name+'_X.csv')  \n",
    "    X.to_csv(name+'_X.zip', index=True,\n",
    "              compression=compression_opts)  \n",
    "    compression_opts = dict(method='zip',\n",
    "                            archive_name=name+'_y.csv')  \n",
    "    y.to_csv(name+'_y.zip', index=True,\n",
    "              compression=compression_opts)  "
   ]
  },
  {
   "cell_type": "code",
   "execution_count": 22,
   "metadata": {},
   "outputs": [],
   "source": [
    "random_forest_df = df.copy()"
   ]
  },
  {
   "cell_type": "markdown",
   "metadata": {},
   "source": [
    "# Get representative sampling\n",
    "\n",
    "We will get 100k sampling form each label right now each one has ~2M so we will get 5% of each one"
   ]
  },
  {
   "cell_type": "code",
   "execution_count": null,
   "metadata": {},
   "outputs": [],
   "source": [
    "len(sample_df)"
   ]
  },
  {
   "cell_type": "markdown",
   "metadata": {},
   "source": [
    "### Train, Test, Validation Split"
   ]
  },
  {
   "cell_type": "code",
   "execution_count": null,
   "metadata": {},
   "outputs": [],
   "source": [
    "y = sample_df[\"LABEL\"]\n",
    "X = sample_df.drop([\"LABEL\"], axis = 1)"
   ]
  },
  {
   "cell_type": "code",
   "execution_count": null,
   "metadata": {},
   "outputs": [],
   "source": [
    "from sklearn.model_selection import train_test_split\n",
    "X_train_beta, X_test, y_train_beta, y_test = train_test_split(X, y, test_size=0.3, random_state=42)\n",
    "validation_rate = 15/70\n",
    "X_train, X_validation, y_train, y_validation = train_test_split(X_train_beta, y_train_beta, test_size=validation_rate, random_state=42)"
   ]
  },
  {
   "cell_type": "code",
   "execution_count": 112,
   "metadata": {},
   "outputs": [],
   "source": [
    "# columns_to_change = [\n",
    "#     \"FIRST_SWITCHED\", \"FLOW_DURATION_MILLISECONDS\", \"IN_PKTS\", \"L4_DST_PORT\", \"L4_SRC_PORT\", \"LAST_SWITCHED\",\n",
    "#     \"OUT_BYTES\", \"OUT_PKTS\", \"SRC_TO_DST_SECOND_BYTES\"\n",
    "# ]\n",
    "# X_validation[columns_to_change] = scaler.fit_transform(X_validation[columns_to_change])\n",
    "# X_train[columns_to_change] = scaler.fit_transform(X_train[columns_to_change])\n",
    "# X_test[columns_to_change] = scaler.fit_transform(X_test[columns_to_change])"
   ]
  },
  {
   "cell_type": "code",
   "execution_count": 113,
   "metadata": {},
   "outputs": [],
   "source": [
    "# store_df(\"test_values\", X_test, y_test)\n",
    "# store_df(\"train_values\", X_train, y_train)\n",
    "# store_df(\"validate_values\", X_validation, y_validation)"
   ]
  },
  {
   "cell_type": "markdown",
   "metadata": {},
   "source": [
    "## Random Forest Model"
   ]
  },
  {
   "cell_type": "code",
   "execution_count": 114,
   "metadata": {},
   "outputs": [],
   "source": [
    "rf = RandomForestClassifier(n_estimators = 1000, random_state = 42)"
   ]
  },
  {
   "cell_type": "code",
   "execution_count": 115,
   "metadata": {},
   "outputs": [
    {
     "data": {
      "text/plain": [
       "RandomForestClassifier(n_estimators=1000, random_state=42)"
      ]
     },
     "execution_count": 115,
     "metadata": {},
     "output_type": "execute_result"
    }
   ],
   "source": [
    "# Entrenamos el modelo\n",
    "rf.fit(X_train, y_train)"
   ]
  },
  {
   "cell_type": "code",
   "execution_count": 116,
   "metadata": {},
   "outputs": [
    {
     "name": "stdout",
     "output_type": "stream",
     "text": [
      "We predict validation\n"
     ]
    }
   ],
   "source": [
    "# Realizamos predicciones con las metricas de validación\n",
    "print(\"We predict validation\")\n",
    "predictions = rf.predict(X_validation)"
   ]
  },
  {
   "cell_type": "markdown",
   "metadata": {},
   "source": [
    "#### Validación"
   ]
  },
  {
   "cell_type": "code",
   "execution_count": 117,
   "metadata": {},
   "outputs": [
    {
     "name": "stdout",
     "output_type": "stream",
     "text": [
      "Matrix de confusión:  [[3805    0    0    3]\n",
      " [2759 1018    0    0]\n",
      " [   0    0 3314    0]\n",
      " [   3    0    0 1300]]\n",
      "                                precision    recall  f1-score   support\n",
      "\n",
      "                   Normal flow       0.58      1.00      0.73      3808\n",
      "         SYN Scan - aggressive       1.00      0.27      0.42      3777\n",
      "Denial of Service R-U-Dead-Yet       1.00      1.00      1.00      3314\n",
      "   Denial of Service Slowloris       1.00      1.00      1.00      1303\n",
      "\n",
      "                      accuracy                           0.77     12202\n",
      "                     macro avg       0.89      0.82      0.79     12202\n",
      "                  weighted avg       0.87      0.77      0.74     12202\n",
      "\n",
      "recall_score:  <function recall_score at 0x152473040>\n",
      "precision_score:  <function precision_score at 0x152468f70>\n",
      "f1_score:  <function f1_score at 0x152468c10>\n",
      "accuracy:  0.7733978036387478\n"
     ]
    }
   ],
   "source": [
    "# Get the results\n",
    "validation_confusion_matrix = confusion_matrix(y_validation, predictions)\n",
    "validation_recall_score = recall_score(y_validation, predictions, average=None)\n",
    "validation_precision_score = precision_score(y_validation, predictions, average=None)\n",
    "validation_f1_score = f1_score(y_validation, predictions, average=None)\n",
    "print(\"Matrix de confusión: \", validation_confusion_matrix)\n",
    "target_names =[    \"Normal flow\",\n",
    "    \"SYN Scan - aggressive\",\n",
    "    \"Denial of Service R-U-Dead-Yet\",\n",
    "    \"Denial of Service Slowloris\"]\n",
    "print(classification_report(y_validation, predictions, target_names = target_names))\n",
    "print(\"recall_score: \",recall_score)\n",
    "print(\"precision_score: \", precision_score)\n",
    "print(\"f1_score: \", f1_score)\n",
    "print(\"accuracy: \", accuracy_score(y_validation, predictions))"
   ]
  },
  {
   "cell_type": "code",
   "execution_count": null,
   "metadata": {},
   "outputs": [],
   "source": []
  }
 ],
 "metadata": {
  "kernelspec": {
   "display_name": "Python 3 (ipykernel)",
   "language": "python",
   "name": "python3"
  },
  "language_info": {
   "codemirror_mode": {
    "name": "ipython",
    "version": 3
   },
   "file_extension": ".py",
   "mimetype": "text/x-python",
   "name": "python",
   "nbconvert_exporter": "python",
   "pygments_lexer": "ipython3",
   "version": "3.7.12"
  }
 },
 "nbformat": 4,
 "nbformat_minor": 2
}
