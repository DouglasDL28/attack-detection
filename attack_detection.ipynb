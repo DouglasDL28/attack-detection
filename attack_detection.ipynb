{
 "cells": [
  {
   "cell_type": "code",
   "execution_count": 1,
   "metadata": {},
   "outputs": [],
   "source": [
    "import pandas as pd\n",
    "from sklearn.preprocessing import MinMaxScaler, StandardScaler\n",
    "from sklearn.model_selection import train_test_split, cross_val_score\n",
    "from sklearn.ensemble import RandomForestClassifier\n",
    "from sklearn.pipeline import make_pipeline\n",
    "from sklearn.multiclass import OneVsRestClassifier\n",
    "# from sklearn.preprocessing import label_binarize\n",
    "\n",
    "import utils"
   ]
  },
  {
   "cell_type": "code",
   "execution_count": 2,
   "metadata": {},
   "outputs": [],
   "source": [
    "df = pd.read_csv(\"dataset/clean_df.csv\")"
   ]
  },
  {
   "cell_type": "code",
   "execution_count": 3,
   "metadata": {
    "scrolled": false
   },
   "outputs": [
    {
     "data": {
      "text/plain": [
       "Index(['FIRST_SWITCHED', 'FLOW_DURATION_MILLISECONDS', 'IN_PKTS',\n",
       "       'L4_DST_PORT', 'L4_SRC_PORT', 'LAST_SWITCHED', 'OUT_BYTES', 'OUT_PKTS',\n",
       "       'SRC_TO_DST_SECOND_BYTES', 'TCP_FLAGS', 'TCP_WIN_MAX_OUT',\n",
       "       'TCP_WIN_MSS_IN', 'LABEL', 'PROTOCOL_MAP_ICMP', 'PROTOCOL_MAP_TCP',\n",
       "       'PROTOCOL_MAP_UDP', 'L7_PROTO_NAME_BITTORRENT', 'L7_PROTO_NAME_DNS',\n",
       "       'L7_PROTO_NAME_GOOGLE', 'L7_PROTO_NAME_HTTP', 'L7_PROTO_NAME_ICMP',\n",
       "       'L7_PROTO_NAME_NFS', 'L7_PROTO_NAME_NTP', 'L7_PROTO_NAME_QUIC',\n",
       "       'L7_PROTO_NAME_SSH', 'L7_PROTO_NAME_STUN', 'L7_PROTO_NAME_TEAMVIEWER',\n",
       "       'L7_PROTO_NAME_TLS', 'L7_PROTO_NAME_UNKNOWN'],\n",
       "      dtype='object')"
      ]
     },
     "execution_count": 3,
     "metadata": {},
     "output_type": "execute_result"
    }
   ],
   "source": [
    "df.columns"
   ]
  },
  {
   "cell_type": "code",
   "execution_count": 4,
   "metadata": {},
   "outputs": [
    {
     "data": {
      "text/plain": [
       "(400000, 29)"
      ]
     },
     "execution_count": 4,
     "metadata": {},
     "output_type": "execute_result"
    }
   ],
   "source": [
    "df.shape"
   ]
  },
  {
   "cell_type": "code",
   "execution_count": 5,
   "metadata": {
    "scrolled": true
   },
   "outputs": [
    {
     "data": {
      "text/html": [
       "<div>\n",
       "<style scoped>\n",
       "    .dataframe tbody tr th:only-of-type {\n",
       "        vertical-align: middle;\n",
       "    }\n",
       "\n",
       "    .dataframe tbody tr th {\n",
       "        vertical-align: top;\n",
       "    }\n",
       "\n",
       "    .dataframe thead th {\n",
       "        text-align: right;\n",
       "    }\n",
       "</style>\n",
       "<table border=\"1\" class=\"dataframe\">\n",
       "  <thead>\n",
       "    <tr style=\"text-align: right;\">\n",
       "      <th></th>\n",
       "      <th>count</th>\n",
       "      <th>mean</th>\n",
       "      <th>std</th>\n",
       "      <th>min</th>\n",
       "      <th>25%</th>\n",
       "      <th>50%</th>\n",
       "      <th>75%</th>\n",
       "      <th>max</th>\n",
       "    </tr>\n",
       "  </thead>\n",
       "  <tbody>\n",
       "    <tr>\n",
       "      <th>FIRST_SWITCHED</th>\n",
       "      <td>400000.0</td>\n",
       "      <td>1.617776e+09</td>\n",
       "      <td>710514.577823</td>\n",
       "      <td>1.616660e+09</td>\n",
       "      <td>1.616673e+09</td>\n",
       "      <td>1.618227e+09</td>\n",
       "      <td>1.618238e+09</td>\n",
       "      <td>1.618262e+09</td>\n",
       "    </tr>\n",
       "    <tr>\n",
       "      <th>FLOW_DURATION_MILLISECONDS</th>\n",
       "      <td>400000.0</td>\n",
       "      <td>3.549474e+04</td>\n",
       "      <td>43140.350029</td>\n",
       "      <td>0.000000e+00</td>\n",
       "      <td>0.000000e+00</td>\n",
       "      <td>4.710000e+02</td>\n",
       "      <td>6.028600e+04</td>\n",
       "      <td>1.199980e+05</td>\n",
       "    </tr>\n",
       "    <tr>\n",
       "      <th>IN_PKTS</th>\n",
       "      <td>400000.0</td>\n",
       "      <td>1.354171e+00</td>\n",
       "      <td>1.221682</td>\n",
       "      <td>0.000000e+00</td>\n",
       "      <td>0.000000e+00</td>\n",
       "      <td>1.386294e+00</td>\n",
       "      <td>2.397895e+00</td>\n",
       "      <td>1.219310e+01</td>\n",
       "    </tr>\n",
       "    <tr>\n",
       "      <th>L4_DST_PORT</th>\n",
       "      <td>400000.0</td>\n",
       "      <td>1.099432e+04</td>\n",
       "      <td>19033.252192</td>\n",
       "      <td>0.000000e+00</td>\n",
       "      <td>8.000000e+01</td>\n",
       "      <td>8.000000e+01</td>\n",
       "      <td>1.384025e+04</td>\n",
       "      <td>6.553500e+04</td>\n",
       "    </tr>\n",
       "    <tr>\n",
       "      <th>L4_SRC_PORT</th>\n",
       "      <td>400000.0</td>\n",
       "      <td>4.286045e+04</td>\n",
       "      <td>15623.473724</td>\n",
       "      <td>0.000000e+00</td>\n",
       "      <td>3.737400e+04</td>\n",
       "      <td>4.921400e+04</td>\n",
       "      <td>5.128600e+04</td>\n",
       "      <td>6.553500e+04</td>\n",
       "    </tr>\n",
       "    <tr>\n",
       "      <th>LAST_SWITCHED</th>\n",
       "      <td>400000.0</td>\n",
       "      <td>1.617776e+09</td>\n",
       "      <td>710537.005787</td>\n",
       "      <td>1.616660e+09</td>\n",
       "      <td>1.616673e+09</td>\n",
       "      <td>1.618227e+09</td>\n",
       "      <td>1.618238e+09</td>\n",
       "      <td>1.618262e+09</td>\n",
       "    </tr>\n",
       "    <tr>\n",
       "      <th>OUT_BYTES</th>\n",
       "      <td>400000.0</td>\n",
       "      <td>4.812031e+00</td>\n",
       "      <td>2.274144</td>\n",
       "      <td>0.000000e+00</td>\n",
       "      <td>3.688879e+00</td>\n",
       "      <td>5.438079e+00</td>\n",
       "      <td>6.269096e+00</td>\n",
       "      <td>1.852065e+01</td>\n",
       "    </tr>\n",
       "    <tr>\n",
       "      <th>OUT_PKTS</th>\n",
       "      <td>400000.0</td>\n",
       "      <td>1.249600e+00</td>\n",
       "      <td>1.203982</td>\n",
       "      <td>0.000000e+00</td>\n",
       "      <td>0.000000e+00</td>\n",
       "      <td>1.098612e+00</td>\n",
       "      <td>2.302585e+00</td>\n",
       "      <td>1.177256e+01</td>\n",
       "    </tr>\n",
       "    <tr>\n",
       "      <th>SRC_TO_DST_SECOND_BYTES</th>\n",
       "      <td>400000.0</td>\n",
       "      <td>5.624949e+00</td>\n",
       "      <td>1.521231</td>\n",
       "      <td>3.332205e+00</td>\n",
       "      <td>3.784190e+00</td>\n",
       "      <td>5.560682e+00</td>\n",
       "      <td>6.971669e+00</td>\n",
       "      <td>1.911135e+01</td>\n",
       "    </tr>\n",
       "    <tr>\n",
       "      <th>TCP_FLAGS</th>\n",
       "      <td>400000.0</td>\n",
       "      <td>1.958479e+01</td>\n",
       "      <td>10.160464</td>\n",
       "      <td>0.000000e+00</td>\n",
       "      <td>1.900000e+01</td>\n",
       "      <td>2.400000e+01</td>\n",
       "      <td>2.700000e+01</td>\n",
       "      <td>2.230000e+02</td>\n",
       "    </tr>\n",
       "    <tr>\n",
       "      <th>TCP_WIN_MAX_OUT</th>\n",
       "      <td>400000.0</td>\n",
       "      <td>1.103678e+04</td>\n",
       "      <td>14831.113169</td>\n",
       "      <td>0.000000e+00</td>\n",
       "      <td>0.000000e+00</td>\n",
       "      <td>1.140000e+02</td>\n",
       "      <td>2.796000e+04</td>\n",
       "      <td>6.553500e+04</td>\n",
       "    </tr>\n",
       "    <tr>\n",
       "      <th>TCP_WIN_MSS_IN</th>\n",
       "      <td>400000.0</td>\n",
       "      <td>9.440623e+02</td>\n",
       "      <td>680.824589</td>\n",
       "      <td>0.000000e+00</td>\n",
       "      <td>0.000000e+00</td>\n",
       "      <td>1.410000e+03</td>\n",
       "      <td>1.460000e+03</td>\n",
       "      <td>8.960000e+03</td>\n",
       "    </tr>\n",
       "    <tr>\n",
       "      <th>LABEL</th>\n",
       "      <td>400000.0</td>\n",
       "      <td>1.500000e+00</td>\n",
       "      <td>1.118035</td>\n",
       "      <td>0.000000e+00</td>\n",
       "      <td>7.500000e-01</td>\n",
       "      <td>1.500000e+00</td>\n",
       "      <td>2.250000e+00</td>\n",
       "      <td>3.000000e+00</td>\n",
       "    </tr>\n",
       "    <tr>\n",
       "      <th>PROTOCOL_MAP_ICMP</th>\n",
       "      <td>400000.0</td>\n",
       "      <td>1.776250e-02</td>\n",
       "      <td>0.132087</td>\n",
       "      <td>0.000000e+00</td>\n",
       "      <td>0.000000e+00</td>\n",
       "      <td>0.000000e+00</td>\n",
       "      <td>0.000000e+00</td>\n",
       "      <td>1.000000e+00</td>\n",
       "    </tr>\n",
       "    <tr>\n",
       "      <th>PROTOCOL_MAP_TCP</th>\n",
       "      <td>400000.0</td>\n",
       "      <td>8.759375e-01</td>\n",
       "      <td>0.329653</td>\n",
       "      <td>0.000000e+00</td>\n",
       "      <td>1.000000e+00</td>\n",
       "      <td>1.000000e+00</td>\n",
       "      <td>1.000000e+00</td>\n",
       "      <td>1.000000e+00</td>\n",
       "    </tr>\n",
       "    <tr>\n",
       "      <th>PROTOCOL_MAP_UDP</th>\n",
       "      <td>400000.0</td>\n",
       "      <td>1.063000e-01</td>\n",
       "      <td>0.308222</td>\n",
       "      <td>0.000000e+00</td>\n",
       "      <td>0.000000e+00</td>\n",
       "      <td>0.000000e+00</td>\n",
       "      <td>0.000000e+00</td>\n",
       "      <td>1.000000e+00</td>\n",
       "    </tr>\n",
       "    <tr>\n",
       "      <th>L7_PROTO_NAME_BITTORRENT</th>\n",
       "      <td>400000.0</td>\n",
       "      <td>9.867500e-03</td>\n",
       "      <td>0.098844</td>\n",
       "      <td>0.000000e+00</td>\n",
       "      <td>0.000000e+00</td>\n",
       "      <td>0.000000e+00</td>\n",
       "      <td>0.000000e+00</td>\n",
       "      <td>1.000000e+00</td>\n",
       "    </tr>\n",
       "    <tr>\n",
       "      <th>L7_PROTO_NAME_DNS</th>\n",
       "      <td>400000.0</td>\n",
       "      <td>6.978500e-02</td>\n",
       "      <td>0.254785</td>\n",
       "      <td>0.000000e+00</td>\n",
       "      <td>0.000000e+00</td>\n",
       "      <td>0.000000e+00</td>\n",
       "      <td>0.000000e+00</td>\n",
       "      <td>1.000000e+00</td>\n",
       "    </tr>\n",
       "    <tr>\n",
       "      <th>L7_PROTO_NAME_GOOGLE</th>\n",
       "      <td>400000.0</td>\n",
       "      <td>1.570000e-03</td>\n",
       "      <td>0.039592</td>\n",
       "      <td>0.000000e+00</td>\n",
       "      <td>0.000000e+00</td>\n",
       "      <td>0.000000e+00</td>\n",
       "      <td>0.000000e+00</td>\n",
       "      <td>1.000000e+00</td>\n",
       "    </tr>\n",
       "    <tr>\n",
       "      <th>L7_PROTO_NAME_HTTP</th>\n",
       "      <td>400000.0</td>\n",
       "      <td>5.049000e-01</td>\n",
       "      <td>0.499977</td>\n",
       "      <td>0.000000e+00</td>\n",
       "      <td>0.000000e+00</td>\n",
       "      <td>1.000000e+00</td>\n",
       "      <td>1.000000e+00</td>\n",
       "      <td>1.000000e+00</td>\n",
       "    </tr>\n",
       "    <tr>\n",
       "      <th>L7_PROTO_NAME_ICMP</th>\n",
       "      <td>400000.0</td>\n",
       "      <td>1.776250e-02</td>\n",
       "      <td>0.132087</td>\n",
       "      <td>0.000000e+00</td>\n",
       "      <td>0.000000e+00</td>\n",
       "      <td>0.000000e+00</td>\n",
       "      <td>0.000000e+00</td>\n",
       "      <td>1.000000e+00</td>\n",
       "    </tr>\n",
       "    <tr>\n",
       "      <th>L7_PROTO_NAME_NFS</th>\n",
       "      <td>400000.0</td>\n",
       "      <td>7.475000e-04</td>\n",
       "      <td>0.027330</td>\n",
       "      <td>0.000000e+00</td>\n",
       "      <td>0.000000e+00</td>\n",
       "      <td>0.000000e+00</td>\n",
       "      <td>0.000000e+00</td>\n",
       "      <td>1.000000e+00</td>\n",
       "    </tr>\n",
       "    <tr>\n",
       "      <th>L7_PROTO_NAME_NTP</th>\n",
       "      <td>400000.0</td>\n",
       "      <td>1.195000e-03</td>\n",
       "      <td>0.034548</td>\n",
       "      <td>0.000000e+00</td>\n",
       "      <td>0.000000e+00</td>\n",
       "      <td>0.000000e+00</td>\n",
       "      <td>0.000000e+00</td>\n",
       "      <td>1.000000e+00</td>\n",
       "    </tr>\n",
       "    <tr>\n",
       "      <th>L7_PROTO_NAME_QUIC</th>\n",
       "      <td>400000.0</td>\n",
       "      <td>1.815000e-03</td>\n",
       "      <td>0.042564</td>\n",
       "      <td>0.000000e+00</td>\n",
       "      <td>0.000000e+00</td>\n",
       "      <td>0.000000e+00</td>\n",
       "      <td>0.000000e+00</td>\n",
       "      <td>1.000000e+00</td>\n",
       "    </tr>\n",
       "    <tr>\n",
       "      <th>L7_PROTO_NAME_SSH</th>\n",
       "      <td>400000.0</td>\n",
       "      <td>7.517500e-03</td>\n",
       "      <td>0.086377</td>\n",
       "      <td>0.000000e+00</td>\n",
       "      <td>0.000000e+00</td>\n",
       "      <td>0.000000e+00</td>\n",
       "      <td>0.000000e+00</td>\n",
       "      <td>1.000000e+00</td>\n",
       "    </tr>\n",
       "    <tr>\n",
       "      <th>L7_PROTO_NAME_STUN</th>\n",
       "      <td>400000.0</td>\n",
       "      <td>5.032500e-03</td>\n",
       "      <td>0.070761</td>\n",
       "      <td>0.000000e+00</td>\n",
       "      <td>0.000000e+00</td>\n",
       "      <td>0.000000e+00</td>\n",
       "      <td>0.000000e+00</td>\n",
       "      <td>1.000000e+00</td>\n",
       "    </tr>\n",
       "    <tr>\n",
       "      <th>L7_PROTO_NAME_TEAMVIEWER</th>\n",
       "      <td>400000.0</td>\n",
       "      <td>1.305000e-03</td>\n",
       "      <td>0.036101</td>\n",
       "      <td>0.000000e+00</td>\n",
       "      <td>0.000000e+00</td>\n",
       "      <td>0.000000e+00</td>\n",
       "      <td>0.000000e+00</td>\n",
       "      <td>1.000000e+00</td>\n",
       "    </tr>\n",
       "    <tr>\n",
       "      <th>L7_PROTO_NAME_TLS</th>\n",
       "      <td>400000.0</td>\n",
       "      <td>6.385500e-02</td>\n",
       "      <td>0.244495</td>\n",
       "      <td>0.000000e+00</td>\n",
       "      <td>0.000000e+00</td>\n",
       "      <td>0.000000e+00</td>\n",
       "      <td>0.000000e+00</td>\n",
       "      <td>1.000000e+00</td>\n",
       "    </tr>\n",
       "    <tr>\n",
       "      <th>L7_PROTO_NAME_UNKNOWN</th>\n",
       "      <td>400000.0</td>\n",
       "      <td>3.101350e-01</td>\n",
       "      <td>0.462549</td>\n",
       "      <td>0.000000e+00</td>\n",
       "      <td>0.000000e+00</td>\n",
       "      <td>0.000000e+00</td>\n",
       "      <td>1.000000e+00</td>\n",
       "      <td>1.000000e+00</td>\n",
       "    </tr>\n",
       "  </tbody>\n",
       "</table>\n",
       "</div>"
      ],
      "text/plain": [
       "                               count          mean            std  \\\n",
       "FIRST_SWITCHED              400000.0  1.617776e+09  710514.577823   \n",
       "FLOW_DURATION_MILLISECONDS  400000.0  3.549474e+04   43140.350029   \n",
       "IN_PKTS                     400000.0  1.354171e+00       1.221682   \n",
       "L4_DST_PORT                 400000.0  1.099432e+04   19033.252192   \n",
       "L4_SRC_PORT                 400000.0  4.286045e+04   15623.473724   \n",
       "LAST_SWITCHED               400000.0  1.617776e+09  710537.005787   \n",
       "OUT_BYTES                   400000.0  4.812031e+00       2.274144   \n",
       "OUT_PKTS                    400000.0  1.249600e+00       1.203982   \n",
       "SRC_TO_DST_SECOND_BYTES     400000.0  5.624949e+00       1.521231   \n",
       "TCP_FLAGS                   400000.0  1.958479e+01      10.160464   \n",
       "TCP_WIN_MAX_OUT             400000.0  1.103678e+04   14831.113169   \n",
       "TCP_WIN_MSS_IN              400000.0  9.440623e+02     680.824589   \n",
       "LABEL                       400000.0  1.500000e+00       1.118035   \n",
       "PROTOCOL_MAP_ICMP           400000.0  1.776250e-02       0.132087   \n",
       "PROTOCOL_MAP_TCP            400000.0  8.759375e-01       0.329653   \n",
       "PROTOCOL_MAP_UDP            400000.0  1.063000e-01       0.308222   \n",
       "L7_PROTO_NAME_BITTORRENT    400000.0  9.867500e-03       0.098844   \n",
       "L7_PROTO_NAME_DNS           400000.0  6.978500e-02       0.254785   \n",
       "L7_PROTO_NAME_GOOGLE        400000.0  1.570000e-03       0.039592   \n",
       "L7_PROTO_NAME_HTTP          400000.0  5.049000e-01       0.499977   \n",
       "L7_PROTO_NAME_ICMP          400000.0  1.776250e-02       0.132087   \n",
       "L7_PROTO_NAME_NFS           400000.0  7.475000e-04       0.027330   \n",
       "L7_PROTO_NAME_NTP           400000.0  1.195000e-03       0.034548   \n",
       "L7_PROTO_NAME_QUIC          400000.0  1.815000e-03       0.042564   \n",
       "L7_PROTO_NAME_SSH           400000.0  7.517500e-03       0.086377   \n",
       "L7_PROTO_NAME_STUN          400000.0  5.032500e-03       0.070761   \n",
       "L7_PROTO_NAME_TEAMVIEWER    400000.0  1.305000e-03       0.036101   \n",
       "L7_PROTO_NAME_TLS           400000.0  6.385500e-02       0.244495   \n",
       "L7_PROTO_NAME_UNKNOWN       400000.0  3.101350e-01       0.462549   \n",
       "\n",
       "                                     min           25%           50%  \\\n",
       "FIRST_SWITCHED              1.616660e+09  1.616673e+09  1.618227e+09   \n",
       "FLOW_DURATION_MILLISECONDS  0.000000e+00  0.000000e+00  4.710000e+02   \n",
       "IN_PKTS                     0.000000e+00  0.000000e+00  1.386294e+00   \n",
       "L4_DST_PORT                 0.000000e+00  8.000000e+01  8.000000e+01   \n",
       "L4_SRC_PORT                 0.000000e+00  3.737400e+04  4.921400e+04   \n",
       "LAST_SWITCHED               1.616660e+09  1.616673e+09  1.618227e+09   \n",
       "OUT_BYTES                   0.000000e+00  3.688879e+00  5.438079e+00   \n",
       "OUT_PKTS                    0.000000e+00  0.000000e+00  1.098612e+00   \n",
       "SRC_TO_DST_SECOND_BYTES     3.332205e+00  3.784190e+00  5.560682e+00   \n",
       "TCP_FLAGS                   0.000000e+00  1.900000e+01  2.400000e+01   \n",
       "TCP_WIN_MAX_OUT             0.000000e+00  0.000000e+00  1.140000e+02   \n",
       "TCP_WIN_MSS_IN              0.000000e+00  0.000000e+00  1.410000e+03   \n",
       "LABEL                       0.000000e+00  7.500000e-01  1.500000e+00   \n",
       "PROTOCOL_MAP_ICMP           0.000000e+00  0.000000e+00  0.000000e+00   \n",
       "PROTOCOL_MAP_TCP            0.000000e+00  1.000000e+00  1.000000e+00   \n",
       "PROTOCOL_MAP_UDP            0.000000e+00  0.000000e+00  0.000000e+00   \n",
       "L7_PROTO_NAME_BITTORRENT    0.000000e+00  0.000000e+00  0.000000e+00   \n",
       "L7_PROTO_NAME_DNS           0.000000e+00  0.000000e+00  0.000000e+00   \n",
       "L7_PROTO_NAME_GOOGLE        0.000000e+00  0.000000e+00  0.000000e+00   \n",
       "L7_PROTO_NAME_HTTP          0.000000e+00  0.000000e+00  1.000000e+00   \n",
       "L7_PROTO_NAME_ICMP          0.000000e+00  0.000000e+00  0.000000e+00   \n",
       "L7_PROTO_NAME_NFS           0.000000e+00  0.000000e+00  0.000000e+00   \n",
       "L7_PROTO_NAME_NTP           0.000000e+00  0.000000e+00  0.000000e+00   \n",
       "L7_PROTO_NAME_QUIC          0.000000e+00  0.000000e+00  0.000000e+00   \n",
       "L7_PROTO_NAME_SSH           0.000000e+00  0.000000e+00  0.000000e+00   \n",
       "L7_PROTO_NAME_STUN          0.000000e+00  0.000000e+00  0.000000e+00   \n",
       "L7_PROTO_NAME_TEAMVIEWER    0.000000e+00  0.000000e+00  0.000000e+00   \n",
       "L7_PROTO_NAME_TLS           0.000000e+00  0.000000e+00  0.000000e+00   \n",
       "L7_PROTO_NAME_UNKNOWN       0.000000e+00  0.000000e+00  0.000000e+00   \n",
       "\n",
       "                                     75%           max  \n",
       "FIRST_SWITCHED              1.618238e+09  1.618262e+09  \n",
       "FLOW_DURATION_MILLISECONDS  6.028600e+04  1.199980e+05  \n",
       "IN_PKTS                     2.397895e+00  1.219310e+01  \n",
       "L4_DST_PORT                 1.384025e+04  6.553500e+04  \n",
       "L4_SRC_PORT                 5.128600e+04  6.553500e+04  \n",
       "LAST_SWITCHED               1.618238e+09  1.618262e+09  \n",
       "OUT_BYTES                   6.269096e+00  1.852065e+01  \n",
       "OUT_PKTS                    2.302585e+00  1.177256e+01  \n",
       "SRC_TO_DST_SECOND_BYTES     6.971669e+00  1.911135e+01  \n",
       "TCP_FLAGS                   2.700000e+01  2.230000e+02  \n",
       "TCP_WIN_MAX_OUT             2.796000e+04  6.553500e+04  \n",
       "TCP_WIN_MSS_IN              1.460000e+03  8.960000e+03  \n",
       "LABEL                       2.250000e+00  3.000000e+00  \n",
       "PROTOCOL_MAP_ICMP           0.000000e+00  1.000000e+00  \n",
       "PROTOCOL_MAP_TCP            1.000000e+00  1.000000e+00  \n",
       "PROTOCOL_MAP_UDP            0.000000e+00  1.000000e+00  \n",
       "L7_PROTO_NAME_BITTORRENT    0.000000e+00  1.000000e+00  \n",
       "L7_PROTO_NAME_DNS           0.000000e+00  1.000000e+00  \n",
       "L7_PROTO_NAME_GOOGLE        0.000000e+00  1.000000e+00  \n",
       "L7_PROTO_NAME_HTTP          1.000000e+00  1.000000e+00  \n",
       "L7_PROTO_NAME_ICMP          0.000000e+00  1.000000e+00  \n",
       "L7_PROTO_NAME_NFS           0.000000e+00  1.000000e+00  \n",
       "L7_PROTO_NAME_NTP           0.000000e+00  1.000000e+00  \n",
       "L7_PROTO_NAME_QUIC          0.000000e+00  1.000000e+00  \n",
       "L7_PROTO_NAME_SSH           0.000000e+00  1.000000e+00  \n",
       "L7_PROTO_NAME_STUN          0.000000e+00  1.000000e+00  \n",
       "L7_PROTO_NAME_TEAMVIEWER    0.000000e+00  1.000000e+00  \n",
       "L7_PROTO_NAME_TLS           0.000000e+00  1.000000e+00  \n",
       "L7_PROTO_NAME_UNKNOWN       1.000000e+00  1.000000e+00  "
      ]
     },
     "execution_count": 5,
     "metadata": {},
     "output_type": "execute_result"
    }
   ],
   "source": [
    "df.describe().transpose()"
   ]
  },
  {
   "cell_type": "code",
   "execution_count": 6,
   "metadata": {},
   "outputs": [],
   "source": [
    "def scale_x(data):\n",
    "    min_max_scaler = MinMaxScaler()\n",
    "    return min_max_scaler.fit_transform(data)\n",
    "    "
   ]
  },
  {
   "cell_type": "code",
   "execution_count": 7,
   "metadata": {},
   "outputs": [],
   "source": [
    "def store_df(name, X, y):\n",
    "    compression_opts = dict(method='zip',\n",
    "                            archive_name=name+'_X.csv')  \n",
    "    X.to_csv(name+'_X.zip', index=True,\n",
    "              compression=compression_opts)  \n",
    "    compression_opts = dict(method='zip',\n",
    "                            archive_name=name+'_y.csv')  \n",
    "    y.to_csv(name+'_y.zip', index=True,\n",
    "              compression=compression_opts)  "
   ]
  },
  {
   "cell_type": "code",
   "execution_count": 8,
   "metadata": {},
   "outputs": [],
   "source": [
    "random_forest_df = df.copy()"
   ]
  },
  {
   "cell_type": "markdown",
   "metadata": {},
   "source": [
    "# Train, Test, Validation Split"
   ]
  },
  {
   "cell_type": "code",
   "execution_count": 9,
   "metadata": {},
   "outputs": [
    {
     "data": {
      "text/plain": [
       "((400000,), (400000, 28))"
      ]
     },
     "execution_count": 9,
     "metadata": {},
     "output_type": "execute_result"
    }
   ],
   "source": [
    "y = df[\"LABEL\"]\n",
    "X = df.drop([\"LABEL\"], axis = 1)\n",
    "\n",
    "y.shape, X.shape"
   ]
  },
  {
   "cell_type": "code",
   "execution_count": 12,
   "metadata": {},
   "outputs": [],
   "source": [
    "from sklearn.model_selection import train_test_split\n",
    "\n",
    "val_rate = 15/45\n",
    "\n",
    "X_train, X_test, y_train, y_test = train_test_split(X, y, test_size=0.45, random_state=42)\n",
    "X_test, X_val, y_test, y_val = train_test_split(X_test, y_test, test_size=val_rate, random_state=42)"
   ]
  },
  {
   "cell_type": "code",
   "execution_count": 13,
   "metadata": {},
   "outputs": [
    {
     "name": "stdout",
     "output_type": "stream",
     "text": [
      "0.55\n",
      "0.15\n",
      "0.3\n"
     ]
    }
   ],
   "source": [
    "print(len(X_train) / len(X))\n",
    "print(len(X_val) / len(X))\n",
    "print(len(X_test) / len(X))"
   ]
  },
  {
   "cell_type": "markdown",
   "metadata": {},
   "source": [
    "# Random Forest Model"
   ]
  },
  {
   "cell_type": "code",
   "execution_count": 14,
   "metadata": {},
   "outputs": [],
   "source": [
    "rf = RandomForestClassifier(n_estimators=50, random_state=42)"
   ]
  },
  {
   "cell_type": "code",
   "execution_count": 15,
   "metadata": {},
   "outputs": [
    {
     "data": {
      "text/plain": [
       "RandomForestClassifier(n_estimators=50, random_state=42)"
      ]
     },
     "execution_count": 15,
     "metadata": {},
     "output_type": "execute_result"
    }
   ],
   "source": [
    "# Entrenamos el modelo\n",
    "rf.fit(X_train, y_train)"
   ]
  },
  {
   "cell_type": "markdown",
   "metadata": {},
   "source": [
    "### Validación"
   ]
  },
  {
   "cell_type": "code",
   "execution_count": 16,
   "metadata": {},
   "outputs": [
    {
     "data": {
      "text/plain": [
       "(60000,)"
      ]
     },
     "execution_count": 16,
     "metadata": {},
     "output_type": "execute_result"
    }
   ],
   "source": [
    "# Realizamos predicciones con las metricas de validación\n",
    "val_preds = rf.predict(X_val)\n",
    "val_preds.shape"
   ]
  },
  {
   "cell_type": "code",
   "execution_count": 17,
   "metadata": {},
   "outputs": [
    {
     "name": "stdout",
     "output_type": "stream",
     "text": [
      "Matrix de confusión: \n",
      " [[14881     1     1     2]\n",
      " [    5 14995     0     0]\n",
      " [    0     0 15020     0]\n",
      " [    0     0     0 15095]]\n",
      "                                precision    recall  f1-score   support\n",
      "\n",
      "                   Normal flow       1.00      1.00      1.00     14885\n",
      "         SYN Scan - aggressive       1.00      1.00      1.00     15000\n",
      "Denial of Service R-U-Dead-Yet       1.00      1.00      1.00     15020\n",
      "   Denial of Service Slowloris       1.00      1.00      1.00     15095\n",
      "\n",
      "                      accuracy                           1.00     60000\n",
      "                     macro avg       1.00      1.00      1.00     60000\n",
      "                  weighted avg       1.00      1.00      1.00     60000\n",
      "\n",
      "recall_score:  [0.99973127 0.99966667 1.         1.        ]\n",
      "precision_score:  [0.99966411 0.99993332 0.99993343 0.99986752]\n",
      "f1_score:  [0.99969769 0.99979997 0.99996671 0.99993376]\n",
      "accuracy:  0.99985\n"
     ]
    }
   ],
   "source": [
    "# Get the results\n",
    "utils.evaluate_model(y_val, val_preds)"
   ]
  },
  {
   "cell_type": "markdown",
   "metadata": {},
   "source": [
    "### Prueba"
   ]
  },
  {
   "cell_type": "code",
   "execution_count": 18,
   "metadata": {},
   "outputs": [],
   "source": [
    "# Realizamos predicciones con las metricas de validación\n",
    "test_preds = rf.predict(X_test)"
   ]
  },
  {
   "cell_type": "code",
   "execution_count": 19,
   "metadata": {},
   "outputs": [
    {
     "name": "stdout",
     "output_type": "stream",
     "text": [
      "Matrix de confusión: \n",
      " [[29977     0     0     8]\n",
      " [    7 30087     0     0]\n",
      " [    0     0 29968     0]\n",
      " [    1     0     0 29952]]\n",
      "                                precision    recall  f1-score   support\n",
      "\n",
      "                   Normal flow       1.00      1.00      1.00     29985\n",
      "         SYN Scan - aggressive       1.00      1.00      1.00     30094\n",
      "Denial of Service R-U-Dead-Yet       1.00      1.00      1.00     29968\n",
      "   Denial of Service Slowloris       1.00      1.00      1.00     29953\n",
      "\n",
      "                      accuracy                           1.00    120000\n",
      "                     macro avg       1.00      1.00      1.00    120000\n",
      "                  weighted avg       1.00      1.00      1.00    120000\n",
      "\n",
      "recall_score:  [0.9997332  0.9997674  1.         0.99996661]\n",
      "precision_score:  [0.9997332  1.         1.         0.99973298]\n",
      "f1_score:  [0.9997332  0.99988368 1.         0.99984978]\n",
      "accuracy:  0.9998666666666667\n"
     ]
    }
   ],
   "source": [
    "# Get the results\n",
    "utils.evaluate_model(y_test, test_preds)"
   ]
  },
  {
   "cell_type": "markdown",
   "metadata": {},
   "source": [
    "### Gráfica de la curva ROC"
   ]
  },
  {
   "cell_type": "code",
   "execution_count": 21,
   "metadata": {},
   "outputs": [],
   "source": [
    "utils.plot_roc_curve(rf, X_train, y_train, X_test, y_test)"
   ]
  },
  {
   "cell_type": "markdown",
   "metadata": {},
   "source": [
    "## K-Fold cross validation"
   ]
  },
  {
   "cell_type": "code",
   "execution_count": 22,
   "metadata": {},
   "outputs": [],
   "source": [
    "# New division\n",
    "X_train, X_test, y_train, y_test = train_test_split(X, y, test_size=0.30, random_state=42)"
   ]
  },
  {
   "cell_type": "code",
   "execution_count": 23,
   "metadata": {},
   "outputs": [],
   "source": [
    "rf = RandomForestClassifier(n_estimators=50, random_state=42)"
   ]
  },
  {
   "cell_type": "code",
   "execution_count": 24,
   "metadata": {},
   "outputs": [
    {
     "data": {
      "text/plain": [
       "array([0.99975   , 1.        , 0.99992857, 0.99996429, 0.99985714,\n",
       "       0.99992857, 0.99989286, 0.99982143, 0.99989286, 0.99982143])"
      ]
     },
     "execution_count": 24,
     "metadata": {},
     "output_type": "execute_result"
    }
   ],
   "source": [
    "scores = cross_val_score(rf, X_train, y_train, cv=10)\n",
    "scores"
   ]
  },
  {
   "cell_type": "markdown",
   "metadata": {},
   "source": [
    "# Support Vector Machine"
   ]
  },
  {
   "cell_type": "code",
   "execution_count": 25,
   "metadata": {},
   "outputs": [],
   "source": [
    "from sklearn.svm import LinearSVC"
   ]
  },
  {
   "cell_type": "code",
   "execution_count": 26,
   "metadata": {},
   "outputs": [],
   "source": [
    "svc = make_pipeline(StandardScaler(), LinearSVC(max_iter=10000))"
   ]
  },
  {
   "cell_type": "code",
   "execution_count": null,
   "metadata": {},
   "outputs": [],
   "source": [
    "# Train the model\n",
    "svc.fit(X_train, y_train)"
   ]
  },
  {
   "cell_type": "markdown",
   "metadata": {},
   "source": [
    "## Validation"
   ]
  },
  {
   "cell_type": "code",
   "execution_count": null,
   "metadata": {},
   "outputs": [],
   "source": [
    "val_preds = svc.predict(X_val)"
   ]
  },
  {
   "cell_type": "code",
   "execution_count": null,
   "metadata": {
    "scrolled": true
   },
   "outputs": [],
   "source": [
    "utils.evaluate_model(y_val, val_preds)"
   ]
  },
  {
   "cell_type": "markdown",
   "metadata": {},
   "source": [
    "## Test"
   ]
  },
  {
   "cell_type": "code",
   "execution_count": null,
   "metadata": {},
   "outputs": [],
   "source": [
    "test_preds = svc.predict(X_test)"
   ]
  },
  {
   "cell_type": "code",
   "execution_count": null,
   "metadata": {},
   "outputs": [],
   "source": [
    "utils.evaluate_model(y_test, test_preds)"
   ]
  },
  {
   "cell_type": "markdown",
   "metadata": {},
   "source": [
    "## Gráfica de la curva ROC"
   ]
  },
  {
   "cell_type": "code",
   "execution_count": 28,
   "metadata": {},
   "outputs": [
    {
     "name": "stderr",
     "output_type": "stream",
     "text": [
      "/Users/douglasdeleon/Documents/DouglasJr/UVG/semestre9/SecurityDS/proyecto-1/attack-detection/venv/lib/python3.7/site-packages/sklearn/base.py:451: UserWarning: X does not have valid feature names, but StandardScaler was fitted with feature names\n",
      "  \"X does not have valid feature names, but\"\n"
     ]
    },
    {
     "data": {
      "image/png": "[encoded data removed]",
      "text/plain": [
       "<Figure size 576x396 with 1 Axes>"
      ]
     },
     "metadata": {},
     "output_type": "display_data"
    },
    {
     "data": {
      "text/plain": [
       "ROCAUC(ax=<AxesSubplot:title={'center':'ROC Curves for LinearSVC'}, xlabel='False Positive Rate', ylabel='True Positive Rate'>,\n",
       "       encoder={0: 'Normal flow', 1: 'SYN Scan - aggressive',\n",
       "                2: 'Denial of Service R-U-Dead-Yet',\n",
       "                3: 'Denial of Service Slowloris'},\n",
       "       estimator=Pipeline(steps=[('standardscaler', StandardScaler()),\n",
       "                                 ('linearsvc', LinearSVC(max_iter=2000))]))"
      ]
     },
     "execution_count": 28,
     "metadata": {},
     "output_type": "execute_result"
    }
   ],
   "source": [
    "utils.plot_roc_curve(svc, X_train, y_train, X_test, y_test)"
   ]
  },
  {
   "cell_type": "markdown",
   "metadata": {},
   "source": [
    "# K Fold cross validation"
   ]
  },
  {
   "cell_type": "code",
   "execution_count": null,
   "metadata": {},
   "outputs": [],
   "source": [
    "X_train, X_test, y_train, y_test = train_test_split(X, y, test_size=0.45, random_state=42)"
   ]
  },
  {
   "cell_type": "code",
   "execution_count": null,
   "metadata": {},
   "outputs": [],
   "source": [
    "svc = make_pipeline(StandardScaler(), LinearSVC(max_iter=2000))"
   ]
  },
  {
   "cell_type": "code",
   "execution_count": null,
   "metadata": {},
   "outputs": [],
   "source": [
    "scores = cross_val_score(rf, X_train, y_train, cv=10)\n",
    "scores"
   ]
  },
  {
   "cell_type": "code",
   "execution_count": null,
   "metadata": {},
   "outputs": [],
   "source": []
  }
 ],
 "metadata": {
  "kernelspec": {
   "display_name": "Python 3 (ipykernel)",
   "language": "python",
   "name": "python3"
  },
  "language_info": {
   "codemirror_mode": {
    "name": "ipython",
    "version": 3
   },
   "file_extension": ".py",
   "mimetype": "text/x-python",
   "name": "python",
   "nbconvert_exporter": "python",
   "pygments_lexer": "ipython3",
   "version": "3.9.9"
  }
 },
 "nbformat": 4,
 "nbformat_minor": 2
}
