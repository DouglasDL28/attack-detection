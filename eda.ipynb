{
 "cells": [
  {
   "cell_type": "markdown",
   "metadata": {},
   "source": [
    "# EDA, Balancing and Sampling"
   ]
  },
  {
   "cell_type": "code",
   "execution_count": null,
   "metadata": {},
   "outputs": [],
   "source": [
    "import os.path\n",
    "\n",
    "import pandas as pd\n",
    "from pandas_profiling import ProfileReport"
   ]
  },
  {
   "cell_type": "code",
   "execution_count": null,
   "metadata": {},
   "outputs": [],
   "source": [
    "generate_reports: bool = True\n",
    "generate_dfs: bool = True"
   ]
  },
  {
   "cell_type": "code",
   "execution_count": null,
   "metadata": {},
   "outputs": [],
   "source": [
    "part_1 = pd.read_csv(\"dataset/dataset-part1.csv\")\n",
    "part_2 = pd.read_csv(\"dataset/dataset-part2.csv\")"
   ]
  },
  {
   "cell_type": "code",
   "execution_count": null,
   "metadata": {},
   "outputs": [],
   "source": [
    "df = pd.concat([part_1, part_2], ignore_index=True)"
   ]
  },
  {
   "cell_type": "markdown",
   "metadata": {},
   "source": [
    "## Exploratory Data Analysis"
   ]
  },
  {
   "cell_type": "code",
   "execution_count": null,
   "metadata": {},
   "outputs": [],
   "source": [
    "df.columns.values"
   ]
  },
  {
   "cell_type": "code",
   "execution_count": null,
   "metadata": {},
   "outputs": [],
   "source": [
    "df.info()"
   ]
  },
  {
   "cell_type": "code",
   "execution_count": null,
   "metadata": {},
   "outputs": [],
   "source": [
    "df.head()"
   ]
  },
  {
   "cell_type": "code",
   "execution_count": null,
   "metadata": {},
   "outputs": [],
   "source": [
    "df.describe(include=['object'])"
   ]
  },
  {
   "cell_type": "code",
   "execution_count": null,
   "metadata": {},
   "outputs": [],
   "source": [
    "object_columns = df.select_dtypes(include=['object']).columns\n",
    "df[object_columns].head(5)"
   ]
  },
  {
   "cell_type": "code",
   "execution_count": null,
   "metadata": {},
   "outputs": [],
   "source": [
    "df[\"LABEL\"].unique()"
   ]
  },
  {
   "cell_type": "code",
   "execution_count": null,
   "metadata": {},
   "outputs": [],
   "source": [
    "# Check for nan columns\n",
    "df.columns[df.isna().any()].tolist()\n",
    "# No nan"
   ]
  },
  {
   "cell_type": "code",
   "execution_count": null,
   "metadata": {},
   "outputs": [],
   "source": [
    "if not os.path.isfile(\"EDA.html\") and generate_reports:\n",
    "    profile = ProfileReport(df, title=\"Exploratory Data Analysis - Clean DF\", minimal=True)\n",
    "    profile.to_file(\"EDA.html\")"
   ]
  },
  {
   "cell_type": "markdown",
   "metadata": {},
   "source": [
    "## Datset Balancing"
   ]
  },
  {
   "cell_type": "code",
   "execution_count": null,
   "metadata": {},
   "outputs": [],
   "source": [
    "from imblearn.over_sampling import RandomOverSampler\n",
    "from collections import Counter\n",
    "\n",
    "ros = RandomOverSampler(sampling_strategy='minority')"
   ]
  },
  {
   "cell_type": "code",
   "execution_count": null,
   "metadata": {},
   "outputs": [],
   "source": [
    "labels_dic = {\n",
    "    0: \"Normal flow\",\n",
    "    1: \"SYN Scan - aggressive\",\n",
    "    2: \"Denial of Service R-U-Dead-Yet\",\n",
    "    3: \"Denial of Service Slowloris\"\n",
    "}"
   ]
  },
  {
   "cell_type": "code",
   "execution_count": null,
   "metadata": {},
   "outputs": [],
   "source": [
    "normal_flow = df.loc[df[\"LABEL\"] == labels_dic[0]]\n",
    "syn_attacks = df.loc[df[\"LABEL\"] == labels_dic[1]]\n",
    "r_u_dead_attacks = df.loc[df[\"LABEL\"] == labels_dic[2]]\n",
    "dos_attacks = df.loc[df[\"LABEL\"] == labels_dic[3]]"
   ]
  },
  {
   "cell_type": "code",
   "execution_count": null,
   "metadata": {},
   "outputs": [],
   "source": [
    "print(len(normal_flow))\n",
    "print(len(syn_attacks))\n",
    "print(len(r_u_dead_attacks))\n",
    "print(len(dos_attacks))"
   ]
  },
  {
   "cell_type": "markdown",
   "metadata": {},
   "source": [
    "### Oversampling DDoS attack"
   ]
  },
  {
   "cell_type": "code",
   "execution_count": null,
   "metadata": {},
   "outputs": [],
   "source": [
    "attacks_oversampling = pd.concat([syn_attacks, dos_attacks])\n",
    "y_oversampling = attacks_oversampling[\"LABEL\"]\n",
    "x_oversampling = attacks_oversampling.drop([\"LABEL\"], axis= 1)"
   ]
  },
  {
   "cell_type": "code",
   "execution_count": null,
   "metadata": {},
   "outputs": [],
   "source": [
    "X_oversampling_res, y_oversampling_res = ros.fit_resample(x_oversampling, y_oversampling)"
   ]
  },
  {
   "cell_type": "code",
   "execution_count": null,
   "metadata": {},
   "outputs": [],
   "source": [
    "print('Resampled dataset shape %s' % Counter(y_oversampling_res))"
   ]
  },
  {
   "cell_type": "code",
   "execution_count": null,
   "metadata": {},
   "outputs": [],
   "source": [
    "oversampling_result = X_oversampling_res.copy()\n",
    "oversampling_result[\"LABEL\"] = y_oversampling_res.copy()"
   ]
  },
  {
   "cell_type": "code",
   "execution_count": null,
   "metadata": {},
   "outputs": [],
   "source": [
    "df = pd.concat([normal_flow, r_u_dead_attacks, oversampling_result])"
   ]
  },
  {
   "cell_type": "markdown",
   "metadata": {},
   "source": [
    "### Undersampling benign"
   ]
  },
  {
   "cell_type": "markdown",
   "metadata": {},
   "source": [
    "from imblearn.under_sampling import RandomUnderSampler"
   ]
  },
  {
   "cell_type": "code",
   "execution_count": null,
   "metadata": {},
   "outputs": [],
   "source": [
    "normal_flow = df.loc[df[\"LABEL\"] == labels_dic[0]]\n",
    "syn_attacks = df.loc[df[\"LABEL\"] == labels_dic[1]]\n",
    "r_u_dead_attacks = df.loc[df[\"LABEL\"] == labels_dic[2]]\n",
    "dos_attacks = df.loc[df[\"LABEL\"] == labels_dic[3]]"
   ]
  },
  {
   "cell_type": "code",
   "execution_count": null,
   "metadata": {},
   "outputs": [],
   "source": [
    "benign_us = pd.concat([syn_attacks, normal_flow])"
   ]
  },
  {
   "cell_type": "code",
   "execution_count": null,
   "metadata": {},
   "outputs": [],
   "source": [
    "y = benign_us[\"LABEL\"]\n",
    "X = benign_us.drop([\"LABEL\"], axis=1)"
   ]
  },
  {
   "cell_type": "code",
   "execution_count": null,
   "metadata": {},
   "outputs": [],
   "source": [
    "rus = RandomUnderSampler(random_state=0)"
   ]
  },
  {
   "cell_type": "code",
   "execution_count": null,
   "metadata": {},
   "outputs": [],
   "source": [
    "X_undersampled, y_undersampled = rus.fit_resample(X, y)\n",
    "\n",
    "print('Resampled dataset shape %s' % Counter(y_undersampled))"
   ]
  },
  {
   "cell_type": "code",
   "execution_count": null,
   "metadata": {},
   "outputs": [],
   "source": [
    "X_undersampled[\"LABEL\"] = y_undersampled\n",
    "undersample_res = X_undersampled"
   ]
  },
  {
   "cell_type": "code",
   "execution_count": null,
   "metadata": {},
   "outputs": [],
   "source": [
    "df = pd.concat([dos_attacks, r_u_dead_attacks, undersample_res])"
   ]
  },
  {
   "cell_type": "markdown",
   "metadata": {},
   "source": [
    "### Generate balanced csv file"
   ]
  },
  {
   "cell_type": "code",
   "execution_count": null,
   "metadata": {},
   "outputs": [],
   "source": [
    "# create csv if it doesn't exist\n",
    "if not os.path.isfile(\"dataset/balanced_df.csv\") and generate_dfs:\n",
    "    df.to_csv(\"dataset/balanced_df.csv\", index_label=False)\n",
    "else:\n",
    "    df =pd.read_csv(\"dataset/balanced_df.csv\")\n",
    "\n",
    "\n",
    "df.shape"
   ]
  },
  {
   "cell_type": "markdown",
   "metadata": {},
   "source": [
    "## Sampling"
   ]
  },
  {
   "cell_type": "code",
   "execution_count": null,
   "metadata": {},
   "outputs": [],
   "source": [
    "if not os.path.isfile(\"dataset/sampled_df.csv\") and generate_dfs:\n",
    "    df = df.groupby('LABEL', group_keys=False).apply(lambda x: x.sample(frac=0.05))\n",
    "    df.to_csv(\"dataset/sampled_df.csv\", index_label=False)\n",
    "else:\n",
    "    df = pd.read_csv(\"dataset/sampled_df.csv\")\n",
    "\n",
    "df.shape"
   ]
  }
 ],
 "metadata": {
  "interpreter": {
   "hash": "c30ed9953166c46a373925bc872b270a46ca8c9de287d54e6d16603f90de65fb"
  },
  "kernelspec": {
   "display_name": "Python 3.7.12 ('venv': venv)",
   "language": "python",
   "name": "python3"
  },
  "language_info": {
   "name": "python",
   "version": "3.7.12"
  },
  "orig_nbformat": 4
 },
 "nbformat": 4,
 "nbformat_minor": 2
}
