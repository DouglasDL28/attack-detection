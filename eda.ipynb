{
 "cells": [
  {
   "cell_type": "markdown",
   "metadata": {},
   "source": [
    "# EDA, Balancing and Sampling"
   ]
  },
  {
   "cell_type": "code",
   "execution_count": 1,
   "metadata": {},
   "outputs": [],
   "source": [
    "import os.path\n",
    "\n",
    "import pandas as pd\n",
    "from pandas_profiling import ProfileReport"
   ]
  },
  {
   "cell_type": "code",
   "execution_count": 2,
   "metadata": {},
   "outputs": [],
   "source": [
    "generate_reports: bool = True\n",
    "generate_dfs: bool = True"
   ]
  },
  {
   "cell_type": "code",
   "execution_count": 3,
   "metadata": {},
   "outputs": [],
   "source": [
    "part_1 = pd.read_csv(\"dataset/dataset-part1.csv\")\n",
    "part_2 = pd.read_csv(\"dataset/dataset-part2.csv\")"
   ]
  },
  {
   "cell_type": "code",
   "execution_count": 4,
   "metadata": {},
   "outputs": [],
   "source": [
    "df = pd.concat([part_1, part_2], ignore_index=True)"
   ]
  },
  {
   "cell_type": "markdown",
   "metadata": {},
   "source": [
    "## Exploratory Data Analysis"
   ]
  },
  {
   "cell_type": "code",
   "execution_count": 5,
   "metadata": {},
   "outputs": [
    {
     "data": {
      "text/plain": [
       "array(['BIFLOW_DIRECTION', 'DIRECTION', 'DST_TO_SRC_SECOND_BYTES',\n",
       "       'FIREWALL_EVENT', 'FIRST_SWITCHED', 'FLOW_ACTIVE_TIMEOUT',\n",
       "       'FLOW_DURATION_MICROSECONDS', 'FLOW_DURATION_MILLISECONDS',\n",
       "       'FLOW_END_MILLISECONDS', 'FLOW_END_SEC', 'FLOW_ID',\n",
       "       'FLOW_INACTIVE_TIMEOUT', 'FLOW_START_MILLISECONDS',\n",
       "       'FLOW_START_SEC', 'FRAME_LENGTH', 'IN_BYTES', 'IN_PKTS',\n",
       "       'IPV4_DST_ADDR', 'IPV4_SRC_ADDR', 'L4_DST_PORT', 'L4_SRC_PORT',\n",
       "       'LAST_SWITCHED', 'MAX_IP_PKT_LEN', 'MIN_IP_PKT_LEN',\n",
       "       'OOORDER_IN_PKTS', 'OOORDER_OUT_PKTS', 'OUT_BYTES', 'OUT_PKTS',\n",
       "       'PROTOCOL', 'PROTOCOL_MAP', 'RETRANSMITTED_IN_BYTES',\n",
       "       'RETRANSMITTED_IN_PKTS', 'RETRANSMITTED_OUT_BYTES',\n",
       "       'RETRANSMITTED_OUT_PKTS', 'SRC_TO_DST_SECOND_BYTES', 'TCP_FLAGS',\n",
       "       'TCP_WIN_MAX_IN', 'TCP_WIN_MAX_OUT', 'TCP_WIN_MIN_IN',\n",
       "       'TCP_WIN_MIN_OUT', 'TCP_WIN_MSS_IN', 'TCP_WIN_MSS_OUT',\n",
       "       'TCP_WIN_SCALE_IN', 'TCP_WIN_SCALE_OUT', 'SRC_TOS', 'DST_TOS',\n",
       "       'L7_PROTO_NAME', 'SAMPLING_INTERVAL', 'TOTAL_FLOWS_EXP', 'LABEL'],\n",
       "      dtype=object)"
      ]
     },
     "execution_count": 5,
     "metadata": {},
     "output_type": "execute_result"
    }
   ],
   "source": [
    "df.columns.values"
   ]
  },
  {
   "cell_type": "code",
   "execution_count": 6,
   "metadata": {},
   "outputs": [
    {
     "name": "stdout",
     "output_type": "stream",
     "text": [
      "<class 'pandas.core.frame.DataFrame'>\n",
      "RangeIndex: 12207873 entries, 0 to 12207872\n",
      "Data columns (total 50 columns):\n",
      " #   Column                      Dtype \n",
      "---  ------                      ----- \n",
      " 0   BIFLOW_DIRECTION            int64 \n",
      " 1   DIRECTION                   int64 \n",
      " 2   DST_TO_SRC_SECOND_BYTES     object\n",
      " 3   FIREWALL_EVENT              int64 \n",
      " 4   FIRST_SWITCHED              int64 \n",
      " 5   FLOW_ACTIVE_TIMEOUT         int64 \n",
      " 6   FLOW_DURATION_MICROSECONDS  int64 \n",
      " 7   FLOW_DURATION_MILLISECONDS  int64 \n",
      " 8   FLOW_END_MILLISECONDS       int64 \n",
      " 9   FLOW_END_SEC                int64 \n",
      " 10  FLOW_ID                     int64 \n",
      " 11  FLOW_INACTIVE_TIMEOUT       int64 \n",
      " 12  FLOW_START_MILLISECONDS     int64 \n",
      " 13  FLOW_START_SEC              int64 \n",
      " 14  FRAME_LENGTH                int64 \n",
      " 15  IN_BYTES                    int64 \n",
      " 16  IN_PKTS                     int64 \n",
      " 17  IPV4_DST_ADDR               object\n",
      " 18  IPV4_SRC_ADDR               object\n",
      " 19  L4_DST_PORT                 int64 \n",
      " 20  L4_SRC_PORT                 int64 \n",
      " 21  LAST_SWITCHED               int64 \n",
      " 22  MAX_IP_PKT_LEN              int64 \n",
      " 23  MIN_IP_PKT_LEN              int64 \n",
      " 24  OOORDER_IN_PKTS             int64 \n",
      " 25  OOORDER_OUT_PKTS            int64 \n",
      " 26  OUT_BYTES                   int64 \n",
      " 27  OUT_PKTS                    int64 \n",
      " 28  PROTOCOL                    int64 \n",
      " 29  PROTOCOL_MAP                object\n",
      " 30  RETRANSMITTED_IN_BYTES      int64 \n",
      " 31  RETRANSMITTED_IN_PKTS       int64 \n",
      " 32  RETRANSMITTED_OUT_BYTES     int64 \n",
      " 33  RETRANSMITTED_OUT_PKTS      int64 \n",
      " 34  SRC_TO_DST_SECOND_BYTES     object\n",
      " 35  TCP_FLAGS                   int64 \n",
      " 36  TCP_WIN_MAX_IN              int64 \n",
      " 37  TCP_WIN_MAX_OUT             int64 \n",
      " 38  TCP_WIN_MIN_IN              int64 \n",
      " 39  TCP_WIN_MIN_OUT             int64 \n",
      " 40  TCP_WIN_MSS_IN              int64 \n",
      " 41  TCP_WIN_MSS_OUT             int64 \n",
      " 42  TCP_WIN_SCALE_IN            int64 \n",
      " 43  TCP_WIN_SCALE_OUT           int64 \n",
      " 44  SRC_TOS                     int64 \n",
      " 45  DST_TOS                     int64 \n",
      " 46  L7_PROTO_NAME               object\n",
      " 47  SAMPLING_INTERVAL           int64 \n",
      " 48  TOTAL_FLOWS_EXP             int64 \n",
      " 49  LABEL                       object\n",
      "dtypes: int64(43), object(7)\n",
      "memory usage: 4.5+ GB\n"
     ]
    }
   ],
   "source": [
    "df.info()"
   ]
  },
  {
   "cell_type": "code",
   "execution_count": 7,
   "metadata": {},
   "outputs": [
    {
     "data": {
      "text/html": [
       "<div>\n",
       "<style scoped>\n",
       "    .dataframe tbody tr th:only-of-type {\n",
       "        vertical-align: middle;\n",
       "    }\n",
       "\n",
       "    .dataframe tbody tr th {\n",
       "        vertical-align: top;\n",
       "    }\n",
       "\n",
       "    .dataframe thead th {\n",
       "        text-align: right;\n",
       "    }\n",
       "</style>\n",
       "<table border=\"1\" class=\"dataframe\">\n",
       "  <thead>\n",
       "    <tr style=\"text-align: right;\">\n",
       "      <th></th>\n",
       "      <th>BIFLOW_DIRECTION</th>\n",
       "      <th>DIRECTION</th>\n",
       "      <th>DST_TO_SRC_SECOND_BYTES</th>\n",
       "      <th>FIREWALL_EVENT</th>\n",
       "      <th>FIRST_SWITCHED</th>\n",
       "      <th>FLOW_ACTIVE_TIMEOUT</th>\n",
       "      <th>FLOW_DURATION_MICROSECONDS</th>\n",
       "      <th>FLOW_DURATION_MILLISECONDS</th>\n",
       "      <th>FLOW_END_MILLISECONDS</th>\n",
       "      <th>FLOW_END_SEC</th>\n",
       "      <th>...</th>\n",
       "      <th>TCP_WIN_MSS_IN</th>\n",
       "      <th>TCP_WIN_MSS_OUT</th>\n",
       "      <th>TCP_WIN_SCALE_IN</th>\n",
       "      <th>TCP_WIN_SCALE_OUT</th>\n",
       "      <th>SRC_TOS</th>\n",
       "      <th>DST_TOS</th>\n",
       "      <th>L7_PROTO_NAME</th>\n",
       "      <th>SAMPLING_INTERVAL</th>\n",
       "      <th>TOTAL_FLOWS_EXP</th>\n",
       "      <th>LABEL</th>\n",
       "    </tr>\n",
       "  </thead>\n",
       "  <tbody>\n",
       "    <tr>\n",
       "      <th>0</th>\n",
       "      <td>1</td>\n",
       "      <td>0</td>\n",
       "      <td>40</td>\n",
       "      <td>0</td>\n",
       "      <td>1616660040</td>\n",
       "      <td>120</td>\n",
       "      <td>339</td>\n",
       "      <td>0</td>\n",
       "      <td>1616660040010</td>\n",
       "      <td>1616660040</td>\n",
       "      <td>...</td>\n",
       "      <td>1460</td>\n",
       "      <td>0</td>\n",
       "      <td>0</td>\n",
       "      <td>0</td>\n",
       "      <td>0</td>\n",
       "      <td>0</td>\n",
       "      <td>Unknown</td>\n",
       "      <td>1</td>\n",
       "      <td>2293398</td>\n",
       "      <td>Normal flow</td>\n",
       "    </tr>\n",
       "    <tr>\n",
       "      <th>1</th>\n",
       "      <td>1</td>\n",
       "      <td>0</td>\n",
       "      <td>,</td>\n",
       "      <td>0</td>\n",
       "      <td>1616660040</td>\n",
       "      <td>120</td>\n",
       "      <td>0</td>\n",
       "      <td>0</td>\n",
       "      <td>1616660040068</td>\n",
       "      <td>1616660040</td>\n",
       "      <td>...</td>\n",
       "      <td>0</td>\n",
       "      <td>0</td>\n",
       "      <td>0</td>\n",
       "      <td>0</td>\n",
       "      <td>40</td>\n",
       "      <td>0</td>\n",
       "      <td>ICMP</td>\n",
       "      <td>1</td>\n",
       "      <td>2293400</td>\n",
       "      <td>Normal flow</td>\n",
       "    </tr>\n",
       "    <tr>\n",
       "      <th>2</th>\n",
       "      <td>1</td>\n",
       "      <td>0</td>\n",
       "      <td>104</td>\n",
       "      <td>0</td>\n",
       "      <td>1616660040</td>\n",
       "      <td>120</td>\n",
       "      <td>44725</td>\n",
       "      <td>44</td>\n",
       "      <td>1616660040114</td>\n",
       "      <td>1616660040</td>\n",
       "      <td>...</td>\n",
       "      <td>0</td>\n",
       "      <td>0</td>\n",
       "      <td>0</td>\n",
       "      <td>0</td>\n",
       "      <td>0</td>\n",
       "      <td>0</td>\n",
       "      <td>TLS</td>\n",
       "      <td>1</td>\n",
       "      <td>2293404</td>\n",
       "      <td>Normal flow</td>\n",
       "    </tr>\n",
       "    <tr>\n",
       "      <th>3</th>\n",
       "      <td>1</td>\n",
       "      <td>0</td>\n",
       "      <td>,</td>\n",
       "      <td>0</td>\n",
       "      <td>1616660040</td>\n",
       "      <td>120</td>\n",
       "      <td>0</td>\n",
       "      <td>0</td>\n",
       "      <td>1616660040122</td>\n",
       "      <td>1616660040</td>\n",
       "      <td>...</td>\n",
       "      <td>1440</td>\n",
       "      <td>0</td>\n",
       "      <td>8</td>\n",
       "      <td>0</td>\n",
       "      <td>40</td>\n",
       "      <td>0</td>\n",
       "      <td>Unknown</td>\n",
       "      <td>1</td>\n",
       "      <td>2293407</td>\n",
       "      <td>Normal flow</td>\n",
       "    </tr>\n",
       "    <tr>\n",
       "      <th>4</th>\n",
       "      <td>1</td>\n",
       "      <td>0</td>\n",
       "      <td>40</td>\n",
       "      <td>0</td>\n",
       "      <td>1616660040</td>\n",
       "      <td>120</td>\n",
       "      <td>1114</td>\n",
       "      <td>1</td>\n",
       "      <td>1616660040184</td>\n",
       "      <td>1616660040</td>\n",
       "      <td>...</td>\n",
       "      <td>0</td>\n",
       "      <td>0</td>\n",
       "      <td>0</td>\n",
       "      <td>0</td>\n",
       "      <td>0</td>\n",
       "      <td>0</td>\n",
       "      <td>TLS</td>\n",
       "      <td>1</td>\n",
       "      <td>2293409</td>\n",
       "      <td>Normal flow</td>\n",
       "    </tr>\n",
       "  </tbody>\n",
       "</table>\n",
       "<p>5 rows × 50 columns</p>\n",
       "</div>"
      ],
      "text/plain": [
       "   BIFLOW_DIRECTION  DIRECTION DST_TO_SRC_SECOND_BYTES  FIREWALL_EVENT  \\\n",
       "0                 1          0                      40               0   \n",
       "1                 1          0                       ,               0   \n",
       "2                 1          0                     104               0   \n",
       "3                 1          0                       ,               0   \n",
       "4                 1          0                      40               0   \n",
       "\n",
       "   FIRST_SWITCHED  FLOW_ACTIVE_TIMEOUT  FLOW_DURATION_MICROSECONDS  \\\n",
       "0      1616660040                  120                         339   \n",
       "1      1616660040                  120                           0   \n",
       "2      1616660040                  120                       44725   \n",
       "3      1616660040                  120                           0   \n",
       "4      1616660040                  120                        1114   \n",
       "\n",
       "   FLOW_DURATION_MILLISECONDS  FLOW_END_MILLISECONDS  FLOW_END_SEC  ...  \\\n",
       "0                           0          1616660040010    1616660040  ...   \n",
       "1                           0          1616660040068    1616660040  ...   \n",
       "2                          44          1616660040114    1616660040  ...   \n",
       "3                           0          1616660040122    1616660040  ...   \n",
       "4                           1          1616660040184    1616660040  ...   \n",
       "\n",
       "   TCP_WIN_MSS_IN  TCP_WIN_MSS_OUT  TCP_WIN_SCALE_IN  TCP_WIN_SCALE_OUT  \\\n",
       "0            1460                0                 0                  0   \n",
       "1               0                0                 0                  0   \n",
       "2               0                0                 0                  0   \n",
       "3            1440                0                 8                  0   \n",
       "4               0                0                 0                  0   \n",
       "\n",
       "   SRC_TOS  DST_TOS  L7_PROTO_NAME SAMPLING_INTERVAL TOTAL_FLOWS_EXP  \\\n",
       "0        0        0        Unknown                 1         2293398   \n",
       "1       40        0           ICMP                 1         2293400   \n",
       "2        0        0            TLS                 1         2293404   \n",
       "3       40        0        Unknown                 1         2293407   \n",
       "4        0        0            TLS                 1         2293409   \n",
       "\n",
       "         LABEL  \n",
       "0  Normal flow  \n",
       "1  Normal flow  \n",
       "2  Normal flow  \n",
       "3  Normal flow  \n",
       "4  Normal flow  \n",
       "\n",
       "[5 rows x 50 columns]"
      ]
     },
     "execution_count": 7,
     "metadata": {},
     "output_type": "execute_result"
    }
   ],
   "source": [
    "df.head()"
   ]
  },
  {
   "cell_type": "code",
   "execution_count": 8,
   "metadata": {},
   "outputs": [
    {
     "data": {
      "text/html": [
       "<div>\n",
       "<style scoped>\n",
       "    .dataframe tbody tr th:only-of-type {\n",
       "        vertical-align: middle;\n",
       "    }\n",
       "\n",
       "    .dataframe tbody tr th {\n",
       "        vertical-align: top;\n",
       "    }\n",
       "\n",
       "    .dataframe thead th {\n",
       "        text-align: right;\n",
       "    }\n",
       "</style>\n",
       "<table border=\"1\" class=\"dataframe\">\n",
       "  <thead>\n",
       "    <tr style=\"text-align: right;\">\n",
       "      <th></th>\n",
       "      <th>DST_TO_SRC_SECOND_BYTES</th>\n",
       "      <th>IPV4_DST_ADDR</th>\n",
       "      <th>IPV4_SRC_ADDR</th>\n",
       "      <th>PROTOCOL_MAP</th>\n",
       "      <th>SRC_TO_DST_SECOND_BYTES</th>\n",
       "      <th>L7_PROTO_NAME</th>\n",
       "      <th>LABEL</th>\n",
       "    </tr>\n",
       "  </thead>\n",
       "  <tbody>\n",
       "    <tr>\n",
       "      <th>count</th>\n",
       "      <td>12207873</td>\n",
       "      <td>12207873</td>\n",
       "      <td>12207873</td>\n",
       "      <td>12207873</td>\n",
       "      <td>12207873</td>\n",
       "      <td>12207873</td>\n",
       "      <td>12207873</td>\n",
       "    </tr>\n",
       "    <tr>\n",
       "      <th>unique</th>\n",
       "      <td>569243</td>\n",
       "      <td>440887</td>\n",
       "      <td>88463</td>\n",
       "      <td>5</td>\n",
       "      <td>3160289</td>\n",
       "      <td>457</td>\n",
       "      <td>4</td>\n",
       "    </tr>\n",
       "    <tr>\n",
       "      <th>top</th>\n",
       "      <td>40</td>\n",
       "      <td>10.114.224.65</td>\n",
       "      <td>10.114.241.166</td>\n",
       "      <td>tcp</td>\n",
       "      <td>44</td>\n",
       "      <td>Unknown</td>\n",
       "      <td>Normal flow</td>\n",
       "    </tr>\n",
       "    <tr>\n",
       "      <th>freq</th>\n",
       "      <td>3053652</td>\n",
       "      <td>3604686</td>\n",
       "      <td>5671376</td>\n",
       "      <td>8950058</td>\n",
       "      <td>2534718</td>\n",
       "      <td>4090802</td>\n",
       "      <td>6570058</td>\n",
       "    </tr>\n",
       "  </tbody>\n",
       "</table>\n",
       "</div>"
      ],
      "text/plain": [
       "       DST_TO_SRC_SECOND_BYTES  IPV4_DST_ADDR   IPV4_SRC_ADDR PROTOCOL_MAP  \\\n",
       "count                 12207873       12207873        12207873     12207873   \n",
       "unique                  569243         440887           88463            5   \n",
       "top                         40  10.114.224.65  10.114.241.166          tcp   \n",
       "freq                   3053652        3604686         5671376      8950058   \n",
       "\n",
       "       SRC_TO_DST_SECOND_BYTES L7_PROTO_NAME        LABEL  \n",
       "count                 12207873      12207873     12207873  \n",
       "unique                 3160289           457            4  \n",
       "top                         44       Unknown  Normal flow  \n",
       "freq                   2534718       4090802      6570058  "
      ]
     },
     "execution_count": 8,
     "metadata": {},
     "output_type": "execute_result"
    }
   ],
   "source": [
    "df.describe(include=['object'])"
   ]
  },
  {
   "cell_type": "code",
   "execution_count": 9,
   "metadata": {},
   "outputs": [
    {
     "data": {
      "text/html": [
       "<div>\n",
       "<style scoped>\n",
       "    .dataframe tbody tr th:only-of-type {\n",
       "        vertical-align: middle;\n",
       "    }\n",
       "\n",
       "    .dataframe tbody tr th {\n",
       "        vertical-align: top;\n",
       "    }\n",
       "\n",
       "    .dataframe thead th {\n",
       "        text-align: right;\n",
       "    }\n",
       "</style>\n",
       "<table border=\"1\" class=\"dataframe\">\n",
       "  <thead>\n",
       "    <tr style=\"text-align: right;\">\n",
       "      <th></th>\n",
       "      <th>DST_TO_SRC_SECOND_BYTES</th>\n",
       "      <th>IPV4_DST_ADDR</th>\n",
       "      <th>IPV4_SRC_ADDR</th>\n",
       "      <th>PROTOCOL_MAP</th>\n",
       "      <th>SRC_TO_DST_SECOND_BYTES</th>\n",
       "      <th>L7_PROTO_NAME</th>\n",
       "      <th>LABEL</th>\n",
       "    </tr>\n",
       "  </thead>\n",
       "  <tbody>\n",
       "    <tr>\n",
       "      <th>0</th>\n",
       "      <td>40</td>\n",
       "      <td>10.114.225.212</td>\n",
       "      <td>162.142.125.173</td>\n",
       "      <td>tcp</td>\n",
       "      <td>44</td>\n",
       "      <td>Unknown</td>\n",
       "      <td>Normal flow</td>\n",
       "    </tr>\n",
       "    <tr>\n",
       "      <th>1</th>\n",
       "      <td>,</td>\n",
       "      <td>10.114.225.215</td>\n",
       "      <td>45.79.106.170</td>\n",
       "      <td>icmp</td>\n",
       "      <td>68</td>\n",
       "      <td>ICMP</td>\n",
       "      <td>Normal flow</td>\n",
       "    </tr>\n",
       "    <tr>\n",
       "      <th>2</th>\n",
       "      <td>104</td>\n",
       "      <td>10.114.241.165</td>\n",
       "      <td>10.114.224.65</td>\n",
       "      <td>tcp</td>\n",
       "      <td>189</td>\n",
       "      <td>TLS</td>\n",
       "      <td>Normal flow</td>\n",
       "    </tr>\n",
       "    <tr>\n",
       "      <th>3</th>\n",
       "      <td>,</td>\n",
       "      <td>10.114.226.23</td>\n",
       "      <td>202.179.91.28</td>\n",
       "      <td>tcp</td>\n",
       "      <td>52</td>\n",
       "      <td>Unknown</td>\n",
       "      <td>Normal flow</td>\n",
       "    </tr>\n",
       "    <tr>\n",
       "      <th>4</th>\n",
       "      <td>40</td>\n",
       "      <td>10.114.224.65</td>\n",
       "      <td>10.114.241.165</td>\n",
       "      <td>tcp</td>\n",
       "      <td>189</td>\n",
       "      <td>TLS</td>\n",
       "      <td>Normal flow</td>\n",
       "    </tr>\n",
       "  </tbody>\n",
       "</table>\n",
       "</div>"
      ],
      "text/plain": [
       "  DST_TO_SRC_SECOND_BYTES   IPV4_DST_ADDR    IPV4_SRC_ADDR PROTOCOL_MAP  \\\n",
       "0                      40  10.114.225.212  162.142.125.173          tcp   \n",
       "1                       ,  10.114.225.215    45.79.106.170         icmp   \n",
       "2                     104  10.114.241.165    10.114.224.65          tcp   \n",
       "3                       ,   10.114.226.23    202.179.91.28          tcp   \n",
       "4                      40   10.114.224.65   10.114.241.165          tcp   \n",
       "\n",
       "  SRC_TO_DST_SECOND_BYTES L7_PROTO_NAME        LABEL  \n",
       "0                      44       Unknown  Normal flow  \n",
       "1                      68          ICMP  Normal flow  \n",
       "2                     189           TLS  Normal flow  \n",
       "3                      52       Unknown  Normal flow  \n",
       "4                     189           TLS  Normal flow  "
      ]
     },
     "execution_count": 9,
     "metadata": {},
     "output_type": "execute_result"
    }
   ],
   "source": [
    "object_columns = df.select_dtypes(include=['object']).columns\n",
    "df[object_columns].head(5)"
   ]
  },
  {
   "cell_type": "code",
   "execution_count": 10,
   "metadata": {},
   "outputs": [
    {
     "data": {
      "text/plain": [
       "array(['Normal flow', 'SYN Scan - aggressive',\n",
       "       'Denial of Service R-U-Dead-Yet', 'Denial of Service Slowloris'],\n",
       "      dtype=object)"
      ]
     },
     "execution_count": 10,
     "metadata": {},
     "output_type": "execute_result"
    }
   ],
   "source": [
    "df[\"LABEL\"].unique()"
   ]
  },
  {
   "cell_type": "code",
   "execution_count": 11,
   "metadata": {},
   "outputs": [
    {
     "data": {
      "text/plain": [
       "[]"
      ]
     },
     "execution_count": 11,
     "metadata": {},
     "output_type": "execute_result"
    }
   ],
   "source": [
    "# Check for nan columns\n",
    "df.columns[df.isna().any()].tolist()\n",
    "# No nan"
   ]
  },
  {
   "cell_type": "code",
   "execution_count": 13,
   "metadata": {},
   "outputs": [],
   "source": [
    "if not os.path.isfile(\"reports/EDA.html\") and generate_reports:\n",
    "    profile = ProfileReport(df, title=\"Exploratory Data Analysis - Clean DF\", minimal=True)\n",
    "    profile.to_file(\"reports/EDA.html\")"
   ]
  },
  {
   "cell_type": "markdown",
   "metadata": {},
   "source": [
    "## Datset Balancing"
   ]
  },
  {
   "cell_type": "code",
   "execution_count": 14,
   "metadata": {},
   "outputs": [],
   "source": [
    "from imblearn.over_sampling import RandomOverSampler\n",
    "from collections import Counter\n",
    "\n",
    "ros = RandomOverSampler(sampling_strategy='minority')"
   ]
  },
  {
   "cell_type": "code",
   "execution_count": 15,
   "metadata": {},
   "outputs": [],
   "source": [
    "labels_dic = {\n",
    "    0: \"Normal flow\",\n",
    "    1: \"SYN Scan - aggressive\",\n",
    "    2: \"Denial of Service R-U-Dead-Yet\",\n",
    "    3: \"Denial of Service Slowloris\"\n",
    "}"
   ]
  },
  {
   "cell_type": "code",
   "execution_count": 16,
   "metadata": {},
   "outputs": [],
   "source": [
    "normal_flow = df.loc[df[\"LABEL\"] == labels_dic[0]]\n",
    "syn_attacks = df.loc[df[\"LABEL\"] == labels_dic[1]]\n",
    "r_u_dead_attacks = df.loc[df[\"LABEL\"] == labels_dic[2]]\n",
    "dos_attacks = df.loc[df[\"LABEL\"] == labels_dic[3]]"
   ]
  },
  {
   "cell_type": "code",
   "execution_count": 17,
   "metadata": {},
   "outputs": [
    {
     "name": "stdout",
     "output_type": "stream",
     "text": [
      "6570058\n",
      "2496814\n",
      "2276947\n",
      "864054\n"
     ]
    }
   ],
   "source": [
    "print(len(normal_flow))\n",
    "print(len(syn_attacks))\n",
    "print(len(r_u_dead_attacks))\n",
    "print(len(dos_attacks))"
   ]
  },
  {
   "cell_type": "markdown",
   "metadata": {},
   "source": [
    "### Oversampling DDoS attack"
   ]
  },
  {
   "cell_type": "code",
   "execution_count": 18,
   "metadata": {},
   "outputs": [],
   "source": [
    "attacks_oversampling = pd.concat([syn_attacks, dos_attacks])\n",
    "y_oversampling = attacks_oversampling[\"LABEL\"]\n",
    "x_oversampling = attacks_oversampling.drop([\"LABEL\"], axis= 1)"
   ]
  },
  {
   "cell_type": "code",
   "execution_count": 19,
   "metadata": {},
   "outputs": [],
   "source": [
    "X_oversampling_res, y_oversampling_res = ros.fit_resample(x_oversampling, y_oversampling)"
   ]
  },
  {
   "cell_type": "code",
   "execution_count": 20,
   "metadata": {},
   "outputs": [
    {
     "name": "stdout",
     "output_type": "stream",
     "text": [
      "Resampled dataset shape Counter({'SYN Scan - aggressive': 2496814, 'Denial of Service Slowloris': 2496814})\n"
     ]
    }
   ],
   "source": [
    "print('Resampled dataset shape %s' % Counter(y_oversampling_res))"
   ]
  },
  {
   "cell_type": "code",
   "execution_count": 21,
   "metadata": {},
   "outputs": [],
   "source": [
    "oversampling_result = X_oversampling_res.copy()\n",
    "oversampling_result[\"LABEL\"] = y_oversampling_res.copy()"
   ]
  },
  {
   "cell_type": "code",
   "execution_count": 22,
   "metadata": {},
   "outputs": [],
   "source": [
    "df = pd.concat([normal_flow, r_u_dead_attacks, oversampling_result])"
   ]
  },
  {
   "cell_type": "markdown",
   "metadata": {},
   "source": [
    "### Undersampling benign"
   ]
  },
  {
   "cell_type": "code",
   "execution_count": 27,
   "metadata": {},
   "outputs": [],
   "source": [
    "from imblearn.under_sampling import RandomUnderSampler"
   ]
  },
  {
   "cell_type": "code",
   "execution_count": 23,
   "metadata": {},
   "outputs": [],
   "source": [
    "normal_flow = df.loc[df[\"LABEL\"] == labels_dic[0]]\n",
    "syn_attacks = df.loc[df[\"LABEL\"] == labels_dic[1]]\n",
    "r_u_dead_attacks = df.loc[df[\"LABEL\"] == labels_dic[2]]\n",
    "dos_attacks = df.loc[df[\"LABEL\"] == labels_dic[3]]"
   ]
  },
  {
   "cell_type": "code",
   "execution_count": 24,
   "metadata": {},
   "outputs": [],
   "source": [
    "benign_us = pd.concat([syn_attacks, normal_flow])"
   ]
  },
  {
   "cell_type": "code",
   "execution_count": 25,
   "metadata": {},
   "outputs": [],
   "source": [
    "y = benign_us[\"LABEL\"]\n",
    "X = benign_us.drop([\"LABEL\"], axis=1)"
   ]
  },
  {
   "cell_type": "code",
   "execution_count": 28,
   "metadata": {},
   "outputs": [],
   "source": [
    "rus = RandomUnderSampler(random_state=0)"
   ]
  },
  {
   "cell_type": "code",
   "execution_count": 29,
   "metadata": {},
   "outputs": [],
   "source": [
    "X_undersampled, y_undersampled = rus.fit_resample(X, y)\n",
    "\n",
    "print('Resampled dataset shape %s' % Counter(y_undersampled))"
   ]
  },
  {
   "cell_type": "code",
   "execution_count": null,
   "metadata": {},
   "outputs": [],
   "source": [
    "X_undersampled[\"LABEL\"] = y_undersampled\n",
    "undersample_res = X_undersampled"
   ]
  },
  {
   "cell_type": "code",
   "execution_count": null,
   "metadata": {},
   "outputs": [],
   "source": [
    "df = pd.concat([dos_attacks, r_u_dead_attacks, undersample_res])"
   ]
  },
  {
   "cell_type": "markdown",
   "metadata": {},
   "source": [
    "### Generate balanced csv file"
   ]
  },
  {
   "cell_type": "code",
   "execution_count": null,
   "metadata": {},
   "outputs": [],
   "source": [
    "# create csv if it doesn't exist\n",
    "if not os.path.isfile(\"dataset/balanced_df.csv\") and generate_dfs:\n",
    "    df.to_csv(\"dataset/balanced_df.csv\", index_label=False)\n",
    "\n",
    "df.shape"
   ]
  },
  {
   "cell_type": "markdown",
   "metadata": {},
   "source": [
    "## Sampling"
   ]
  },
  {
   "cell_type": "code",
   "execution_count": null,
   "metadata": {},
   "outputs": [],
   "source": [
    "df = df.groupby('LABEL', group_keys=False).apply(lambda x: x.sample(frac=0.05))\n",
    "if not os.path.isfile(\"dataset/sampled_df.csv\") and generate_dfs:\n",
    "    df.to_csv(\"dataset/sampled_df.csv\", index_label=False)\n",
    "\n",
    "df.shape"
   ]
  }
 ],
 "metadata": {
  "interpreter": {
   "hash": "c30ed9953166c46a373925bc872b270a46ca8c9de287d54e6d16603f90de65fb"
  },
  "kernelspec": {
   "display_name": "Python 3.7.12 ('venv': venv)",
   "language": "python",
   "name": "python3"
  },
  "language_info": {
   "codemirror_mode": {
    "name": "ipython",
    "version": 3
   },
   "file_extension": ".py",
   "mimetype": "text/x-python",
   "name": "python",
   "nbconvert_exporter": "python",
   "pygments_lexer": "ipython3",
   "version": "3.7.12"
  },
  "orig_nbformat": 4
 },
 "nbformat": 4,
 "nbformat_minor": 2
}
