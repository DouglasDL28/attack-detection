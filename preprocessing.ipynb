{
 "cells": [
  {
   "cell_type": "markdown",
   "metadata": {},
   "source": [
    "# Proyecto 1\n",
    "## Detección de ataques"
   ]
  },
  {
   "cell_type": "code",
   "execution_count": 1,
   "metadata": {},
   "outputs": [],
   "source": [
    "import os.path\n",
    "\n",
    "import pandas as pd\n",
    "from pandas_profiling import ProfileReport\n",
    "\n",
    "import utils"
   ]
  },
  {
   "cell_type": "code",
   "execution_count": 2,
   "metadata": {},
   "outputs": [],
   "source": [
    "generate_reports: bool = True"
   ]
  },
  {
   "cell_type": "code",
   "execution_count": 3,
   "metadata": {},
   "outputs": [],
   "source": [
    "part_1 = pd.read_csv(\"dataset/dataset-part1.csv\")\n",
    "part_2 = pd.read_csv(\"dataset/dataset-part2.csv\")"
   ]
  },
  {
   "cell_type": "code",
   "execution_count": 4,
   "metadata": {},
   "outputs": [],
   "source": [
    "df = pd.concat([part_1, part_2], ignore_index=True)"
   ]
  },
  {
   "cell_type": "markdown",
   "metadata": {},
   "source": [
    "## Análisis Exploratorio"
   ]
  },
  {
   "cell_type": "code",
   "execution_count": 5,
   "metadata": {},
   "outputs": [
    {
     "data": {
      "text/plain": [
       "array(['BIFLOW_DIRECTION', 'DIRECTION', 'DST_TO_SRC_SECOND_BYTES',\n",
       "       'FIREWALL_EVENT', 'FIRST_SWITCHED', 'FLOW_ACTIVE_TIMEOUT',\n",
       "       'FLOW_DURATION_MICROSECONDS', 'FLOW_DURATION_MILLISECONDS',\n",
       "       'FLOW_END_MILLISECONDS', 'FLOW_END_SEC', 'FLOW_ID',\n",
       "       'FLOW_INACTIVE_TIMEOUT', 'FLOW_START_MILLISECONDS',\n",
       "       'FLOW_START_SEC', 'FRAME_LENGTH', 'IN_BYTES', 'IN_PKTS',\n",
       "       'IPV4_DST_ADDR', 'IPV4_SRC_ADDR', 'L4_DST_PORT', 'L4_SRC_PORT',\n",
       "       'LAST_SWITCHED', 'MAX_IP_PKT_LEN', 'MIN_IP_PKT_LEN',\n",
       "       'OOORDER_IN_PKTS', 'OOORDER_OUT_PKTS', 'OUT_BYTES', 'OUT_PKTS',\n",
       "       'PROTOCOL', 'PROTOCOL_MAP', 'RETRANSMITTED_IN_BYTES',\n",
       "       'RETRANSMITTED_IN_PKTS', 'RETRANSMITTED_OUT_BYTES',\n",
       "       'RETRANSMITTED_OUT_PKTS', 'SRC_TO_DST_SECOND_BYTES', 'TCP_FLAGS',\n",
       "       'TCP_WIN_MAX_IN', 'TCP_WIN_MAX_OUT', 'TCP_WIN_MIN_IN',\n",
       "       'TCP_WIN_MIN_OUT', 'TCP_WIN_MSS_IN', 'TCP_WIN_MSS_OUT',\n",
       "       'TCP_WIN_SCALE_IN', 'TCP_WIN_SCALE_OUT', 'SRC_TOS', 'DST_TOS',\n",
       "       'L7_PROTO_NAME', 'SAMPLING_INTERVAL', 'TOTAL_FLOWS_EXP', 'LABEL'],\n",
       "      dtype=object)"
      ]
     },
     "execution_count": 5,
     "metadata": {},
     "output_type": "execute_result"
    }
   ],
   "source": [
    "df.columns.values"
   ]
  },
  {
   "cell_type": "code",
   "execution_count": 6,
   "metadata": {},
   "outputs": [
    {
     "name": "stdout",
     "output_type": "stream",
     "text": [
      "<class 'pandas.core.frame.DataFrame'>\n",
      "RangeIndex: 12207873 entries, 0 to 12207872\n",
      "Data columns (total 50 columns):\n",
      " #   Column                      Dtype \n",
      "---  ------                      ----- \n",
      " 0   BIFLOW_DIRECTION            int64 \n",
      " 1   DIRECTION                   int64 \n",
      " 2   DST_TO_SRC_SECOND_BYTES     object\n",
      " 3   FIREWALL_EVENT              int64 \n",
      " 4   FIRST_SWITCHED              int64 \n",
      " 5   FLOW_ACTIVE_TIMEOUT         int64 \n",
      " 6   FLOW_DURATION_MICROSECONDS  int64 \n",
      " 7   FLOW_DURATION_MILLISECONDS  int64 \n",
      " 8   FLOW_END_MILLISECONDS       int64 \n",
      " 9   FLOW_END_SEC                int64 \n",
      " 10  FLOW_ID                     int64 \n",
      " 11  FLOW_INACTIVE_TIMEOUT       int64 \n",
      " 12  FLOW_START_MILLISECONDS     int64 \n",
      " 13  FLOW_START_SEC              int64 \n",
      " 14  FRAME_LENGTH                int64 \n",
      " 15  IN_BYTES                    int64 \n",
      " 16  IN_PKTS                     int64 \n",
      " 17  IPV4_DST_ADDR               object\n",
      " 18  IPV4_SRC_ADDR               object\n",
      " 19  L4_DST_PORT                 int64 \n",
      " 20  L4_SRC_PORT                 int64 \n",
      " 21  LAST_SWITCHED               int64 \n",
      " 22  MAX_IP_PKT_LEN              int64 \n",
      " 23  MIN_IP_PKT_LEN              int64 \n",
      " 24  OOORDER_IN_PKTS             int64 \n",
      " 25  OOORDER_OUT_PKTS            int64 \n",
      " 26  OUT_BYTES                   int64 \n",
      " 27  OUT_PKTS                    int64 \n",
      " 28  PROTOCOL                    int64 \n",
      " 29  PROTOCOL_MAP                object\n",
      " 30  RETRANSMITTED_IN_BYTES      int64 \n",
      " 31  RETRANSMITTED_IN_PKTS       int64 \n",
      " 32  RETRANSMITTED_OUT_BYTES     int64 \n",
      " 33  RETRANSMITTED_OUT_PKTS      int64 \n",
      " 34  SRC_TO_DST_SECOND_BYTES     object\n",
      " 35  TCP_FLAGS                   int64 \n",
      " 36  TCP_WIN_MAX_IN              int64 \n",
      " 37  TCP_WIN_MAX_OUT             int64 \n",
      " 38  TCP_WIN_MIN_IN              int64 \n",
      " 39  TCP_WIN_MIN_OUT             int64 \n",
      " 40  TCP_WIN_MSS_IN              int64 \n",
      " 41  TCP_WIN_MSS_OUT             int64 \n",
      " 42  TCP_WIN_SCALE_IN            int64 \n",
      " 43  TCP_WIN_SCALE_OUT           int64 \n",
      " 44  SRC_TOS                     int64 \n",
      " 45  DST_TOS                     int64 \n",
      " 46  L7_PROTO_NAME               object\n",
      " 47  SAMPLING_INTERVAL           int64 \n",
      " 48  TOTAL_FLOWS_EXP             int64 \n",
      " 49  LABEL                       object\n",
      "dtypes: int64(43), object(7)\n",
      "memory usage: 4.5+ GB\n"
     ]
    }
   ],
   "source": [
    "df.info()"
   ]
  },
  {
   "cell_type": "code",
   "execution_count": 7,
   "metadata": {},
   "outputs": [
    {
     "data": {
      "text/html": [
       "<div>\n",
       "<style scoped>\n",
       "    .dataframe tbody tr th:only-of-type {\n",
       "        vertical-align: middle;\n",
       "    }\n",
       "\n",
       "    .dataframe tbody tr th {\n",
       "        vertical-align: top;\n",
       "    }\n",
       "\n",
       "    .dataframe thead th {\n",
       "        text-align: right;\n",
       "    }\n",
       "</style>\n",
       "<table border=\"1\" class=\"dataframe\">\n",
       "  <thead>\n",
       "    <tr style=\"text-align: right;\">\n",
       "      <th></th>\n",
       "      <th>BIFLOW_DIRECTION</th>\n",
       "      <th>DIRECTION</th>\n",
       "      <th>DST_TO_SRC_SECOND_BYTES</th>\n",
       "      <th>FIREWALL_EVENT</th>\n",
       "      <th>FIRST_SWITCHED</th>\n",
       "      <th>FLOW_ACTIVE_TIMEOUT</th>\n",
       "      <th>FLOW_DURATION_MICROSECONDS</th>\n",
       "      <th>FLOW_DURATION_MILLISECONDS</th>\n",
       "      <th>FLOW_END_MILLISECONDS</th>\n",
       "      <th>FLOW_END_SEC</th>\n",
       "      <th>...</th>\n",
       "      <th>TCP_WIN_MSS_IN</th>\n",
       "      <th>TCP_WIN_MSS_OUT</th>\n",
       "      <th>TCP_WIN_SCALE_IN</th>\n",
       "      <th>TCP_WIN_SCALE_OUT</th>\n",
       "      <th>SRC_TOS</th>\n",
       "      <th>DST_TOS</th>\n",
       "      <th>L7_PROTO_NAME</th>\n",
       "      <th>SAMPLING_INTERVAL</th>\n",
       "      <th>TOTAL_FLOWS_EXP</th>\n",
       "      <th>LABEL</th>\n",
       "    </tr>\n",
       "  </thead>\n",
       "  <tbody>\n",
       "    <tr>\n",
       "      <th>0</th>\n",
       "      <td>1</td>\n",
       "      <td>0</td>\n",
       "      <td>40</td>\n",
       "      <td>0</td>\n",
       "      <td>1616660040</td>\n",
       "      <td>120</td>\n",
       "      <td>339</td>\n",
       "      <td>0</td>\n",
       "      <td>1616660040010</td>\n",
       "      <td>1616660040</td>\n",
       "      <td>...</td>\n",
       "      <td>1460</td>\n",
       "      <td>0</td>\n",
       "      <td>0</td>\n",
       "      <td>0</td>\n",
       "      <td>0</td>\n",
       "      <td>0</td>\n",
       "      <td>Unknown</td>\n",
       "      <td>1</td>\n",
       "      <td>2293398</td>\n",
       "      <td>Normal flow</td>\n",
       "    </tr>\n",
       "    <tr>\n",
       "      <th>1</th>\n",
       "      <td>1</td>\n",
       "      <td>0</td>\n",
       "      <td>,</td>\n",
       "      <td>0</td>\n",
       "      <td>1616660040</td>\n",
       "      <td>120</td>\n",
       "      <td>0</td>\n",
       "      <td>0</td>\n",
       "      <td>1616660040068</td>\n",
       "      <td>1616660040</td>\n",
       "      <td>...</td>\n",
       "      <td>0</td>\n",
       "      <td>0</td>\n",
       "      <td>0</td>\n",
       "      <td>0</td>\n",
       "      <td>40</td>\n",
       "      <td>0</td>\n",
       "      <td>ICMP</td>\n",
       "      <td>1</td>\n",
       "      <td>2293400</td>\n",
       "      <td>Normal flow</td>\n",
       "    </tr>\n",
       "    <tr>\n",
       "      <th>2</th>\n",
       "      <td>1</td>\n",
       "      <td>0</td>\n",
       "      <td>104</td>\n",
       "      <td>0</td>\n",
       "      <td>1616660040</td>\n",
       "      <td>120</td>\n",
       "      <td>44725</td>\n",
       "      <td>44</td>\n",
       "      <td>1616660040114</td>\n",
       "      <td>1616660040</td>\n",
       "      <td>...</td>\n",
       "      <td>0</td>\n",
       "      <td>0</td>\n",
       "      <td>0</td>\n",
       "      <td>0</td>\n",
       "      <td>0</td>\n",
       "      <td>0</td>\n",
       "      <td>TLS</td>\n",
       "      <td>1</td>\n",
       "      <td>2293404</td>\n",
       "      <td>Normal flow</td>\n",
       "    </tr>\n",
       "    <tr>\n",
       "      <th>3</th>\n",
       "      <td>1</td>\n",
       "      <td>0</td>\n",
       "      <td>,</td>\n",
       "      <td>0</td>\n",
       "      <td>1616660040</td>\n",
       "      <td>120</td>\n",
       "      <td>0</td>\n",
       "      <td>0</td>\n",
       "      <td>1616660040122</td>\n",
       "      <td>1616660040</td>\n",
       "      <td>...</td>\n",
       "      <td>1440</td>\n",
       "      <td>0</td>\n",
       "      <td>8</td>\n",
       "      <td>0</td>\n",
       "      <td>40</td>\n",
       "      <td>0</td>\n",
       "      <td>Unknown</td>\n",
       "      <td>1</td>\n",
       "      <td>2293407</td>\n",
       "      <td>Normal flow</td>\n",
       "    </tr>\n",
       "    <tr>\n",
       "      <th>4</th>\n",
       "      <td>1</td>\n",
       "      <td>0</td>\n",
       "      <td>40</td>\n",
       "      <td>0</td>\n",
       "      <td>1616660040</td>\n",
       "      <td>120</td>\n",
       "      <td>1114</td>\n",
       "      <td>1</td>\n",
       "      <td>1616660040184</td>\n",
       "      <td>1616660040</td>\n",
       "      <td>...</td>\n",
       "      <td>0</td>\n",
       "      <td>0</td>\n",
       "      <td>0</td>\n",
       "      <td>0</td>\n",
       "      <td>0</td>\n",
       "      <td>0</td>\n",
       "      <td>TLS</td>\n",
       "      <td>1</td>\n",
       "      <td>2293409</td>\n",
       "      <td>Normal flow</td>\n",
       "    </tr>\n",
       "  </tbody>\n",
       "</table>\n",
       "<p>5 rows × 50 columns</p>\n",
       "</div>"
      ],
      "text/plain": [
       "   BIFLOW_DIRECTION  DIRECTION DST_TO_SRC_SECOND_BYTES  FIREWALL_EVENT  \\\n",
       "0                 1          0                      40               0   \n",
       "1                 1          0                       ,               0   \n",
       "2                 1          0                     104               0   \n",
       "3                 1          0                       ,               0   \n",
       "4                 1          0                      40               0   \n",
       "\n",
       "   FIRST_SWITCHED  FLOW_ACTIVE_TIMEOUT  FLOW_DURATION_MICROSECONDS  \\\n",
       "0      1616660040                  120                         339   \n",
       "1      1616660040                  120                           0   \n",
       "2      1616660040                  120                       44725   \n",
       "3      1616660040                  120                           0   \n",
       "4      1616660040                  120                        1114   \n",
       "\n",
       "   FLOW_DURATION_MILLISECONDS  FLOW_END_MILLISECONDS  FLOW_END_SEC  ...  \\\n",
       "0                           0          1616660040010    1616660040  ...   \n",
       "1                           0          1616660040068    1616660040  ...   \n",
       "2                          44          1616660040114    1616660040  ...   \n",
       "3                           0          1616660040122    1616660040  ...   \n",
       "4                           1          1616660040184    1616660040  ...   \n",
       "\n",
       "   TCP_WIN_MSS_IN  TCP_WIN_MSS_OUT  TCP_WIN_SCALE_IN  TCP_WIN_SCALE_OUT  \\\n",
       "0            1460                0                 0                  0   \n",
       "1               0                0                 0                  0   \n",
       "2               0                0                 0                  0   \n",
       "3            1440                0                 8                  0   \n",
       "4               0                0                 0                  0   \n",
       "\n",
       "   SRC_TOS  DST_TOS  L7_PROTO_NAME SAMPLING_INTERVAL TOTAL_FLOWS_EXP  \\\n",
       "0        0        0        Unknown                 1         2293398   \n",
       "1       40        0           ICMP                 1         2293400   \n",
       "2        0        0            TLS                 1         2293404   \n",
       "3       40        0        Unknown                 1         2293407   \n",
       "4        0        0            TLS                 1         2293409   \n",
       "\n",
       "         LABEL  \n",
       "0  Normal flow  \n",
       "1  Normal flow  \n",
       "2  Normal flow  \n",
       "3  Normal flow  \n",
       "4  Normal flow  \n",
       "\n",
       "[5 rows x 50 columns]"
      ]
     },
     "execution_count": 7,
     "metadata": {},
     "output_type": "execute_result"
    }
   ],
   "source": [
    "df.head()"
   ]
  },
  {
   "cell_type": "code",
   "execution_count": 8,
   "metadata": {},
   "outputs": [
    {
     "data": {
      "text/html": [
       "<div>\n",
       "<style scoped>\n",
       "    .dataframe tbody tr th:only-of-type {\n",
       "        vertical-align: middle;\n",
       "    }\n",
       "\n",
       "    .dataframe tbody tr th {\n",
       "        vertical-align: top;\n",
       "    }\n",
       "\n",
       "    .dataframe thead th {\n",
       "        text-align: right;\n",
       "    }\n",
       "</style>\n",
       "<table border=\"1\" class=\"dataframe\">\n",
       "  <thead>\n",
       "    <tr style=\"text-align: right;\">\n",
       "      <th></th>\n",
       "      <th>DST_TO_SRC_SECOND_BYTES</th>\n",
       "      <th>IPV4_DST_ADDR</th>\n",
       "      <th>IPV4_SRC_ADDR</th>\n",
       "      <th>PROTOCOL_MAP</th>\n",
       "      <th>SRC_TO_DST_SECOND_BYTES</th>\n",
       "      <th>L7_PROTO_NAME</th>\n",
       "      <th>LABEL</th>\n",
       "    </tr>\n",
       "  </thead>\n",
       "  <tbody>\n",
       "    <tr>\n",
       "      <th>count</th>\n",
       "      <td>12207873</td>\n",
       "      <td>12207873</td>\n",
       "      <td>12207873</td>\n",
       "      <td>12207873</td>\n",
       "      <td>12207873</td>\n",
       "      <td>12207873</td>\n",
       "      <td>12207873</td>\n",
       "    </tr>\n",
       "    <tr>\n",
       "      <th>unique</th>\n",
       "      <td>569243</td>\n",
       "      <td>440887</td>\n",
       "      <td>88463</td>\n",
       "      <td>5</td>\n",
       "      <td>3160289</td>\n",
       "      <td>457</td>\n",
       "      <td>4</td>\n",
       "    </tr>\n",
       "    <tr>\n",
       "      <th>top</th>\n",
       "      <td>40</td>\n",
       "      <td>10.114.224.65</td>\n",
       "      <td>10.114.241.166</td>\n",
       "      <td>tcp</td>\n",
       "      <td>44</td>\n",
       "      <td>Unknown</td>\n",
       "      <td>Normal flow</td>\n",
       "    </tr>\n",
       "    <tr>\n",
       "      <th>freq</th>\n",
       "      <td>3053652</td>\n",
       "      <td>3604686</td>\n",
       "      <td>5671376</td>\n",
       "      <td>8950058</td>\n",
       "      <td>2534718</td>\n",
       "      <td>4090802</td>\n",
       "      <td>6570058</td>\n",
       "    </tr>\n",
       "  </tbody>\n",
       "</table>\n",
       "</div>"
      ],
      "text/plain": [
       "       DST_TO_SRC_SECOND_BYTES  IPV4_DST_ADDR   IPV4_SRC_ADDR PROTOCOL_MAP  \\\n",
       "count                 12207873       12207873        12207873     12207873   \n",
       "unique                  569243         440887           88463            5   \n",
       "top                         40  10.114.224.65  10.114.241.166          tcp   \n",
       "freq                   3053652        3604686         5671376      8950058   \n",
       "\n",
       "       SRC_TO_DST_SECOND_BYTES L7_PROTO_NAME        LABEL  \n",
       "count                 12207873      12207873     12207873  \n",
       "unique                 3160289           457            4  \n",
       "top                         44       Unknown  Normal flow  \n",
       "freq                   2534718       4090802      6570058  "
      ]
     },
     "execution_count": 8,
     "metadata": {},
     "output_type": "execute_result"
    }
   ],
   "source": [
    "df.describe(include=['object'])"
   ]
  },
  {
   "cell_type": "code",
   "execution_count": 9,
   "metadata": {
    "scrolled": true
   },
   "outputs": [
    {
     "data": {
      "text/html": [
       "<div>\n",
       "<style scoped>\n",
       "    .dataframe tbody tr th:only-of-type {\n",
       "        vertical-align: middle;\n",
       "    }\n",
       "\n",
       "    .dataframe tbody tr th {\n",
       "        vertical-align: top;\n",
       "    }\n",
       "\n",
       "    .dataframe thead th {\n",
       "        text-align: right;\n",
       "    }\n",
       "</style>\n",
       "<table border=\"1\" class=\"dataframe\">\n",
       "  <thead>\n",
       "    <tr style=\"text-align: right;\">\n",
       "      <th></th>\n",
       "      <th>DST_TO_SRC_SECOND_BYTES</th>\n",
       "      <th>IPV4_DST_ADDR</th>\n",
       "      <th>IPV4_SRC_ADDR</th>\n",
       "      <th>PROTOCOL_MAP</th>\n",
       "      <th>SRC_TO_DST_SECOND_BYTES</th>\n",
       "      <th>L7_PROTO_NAME</th>\n",
       "      <th>LABEL</th>\n",
       "    </tr>\n",
       "  </thead>\n",
       "  <tbody>\n",
       "    <tr>\n",
       "      <th>0</th>\n",
       "      <td>40</td>\n",
       "      <td>10.114.225.212</td>\n",
       "      <td>162.142.125.173</td>\n",
       "      <td>tcp</td>\n",
       "      <td>44</td>\n",
       "      <td>Unknown</td>\n",
       "      <td>Normal flow</td>\n",
       "    </tr>\n",
       "    <tr>\n",
       "      <th>1</th>\n",
       "      <td>,</td>\n",
       "      <td>10.114.225.215</td>\n",
       "      <td>45.79.106.170</td>\n",
       "      <td>icmp</td>\n",
       "      <td>68</td>\n",
       "      <td>ICMP</td>\n",
       "      <td>Normal flow</td>\n",
       "    </tr>\n",
       "    <tr>\n",
       "      <th>2</th>\n",
       "      <td>104</td>\n",
       "      <td>10.114.241.165</td>\n",
       "      <td>10.114.224.65</td>\n",
       "      <td>tcp</td>\n",
       "      <td>189</td>\n",
       "      <td>TLS</td>\n",
       "      <td>Normal flow</td>\n",
       "    </tr>\n",
       "    <tr>\n",
       "      <th>3</th>\n",
       "      <td>,</td>\n",
       "      <td>10.114.226.23</td>\n",
       "      <td>202.179.91.28</td>\n",
       "      <td>tcp</td>\n",
       "      <td>52</td>\n",
       "      <td>Unknown</td>\n",
       "      <td>Normal flow</td>\n",
       "    </tr>\n",
       "    <tr>\n",
       "      <th>4</th>\n",
       "      <td>40</td>\n",
       "      <td>10.114.224.65</td>\n",
       "      <td>10.114.241.165</td>\n",
       "      <td>tcp</td>\n",
       "      <td>189</td>\n",
       "      <td>TLS</td>\n",
       "      <td>Normal flow</td>\n",
       "    </tr>\n",
       "  </tbody>\n",
       "</table>\n",
       "</div>"
      ],
      "text/plain": [
       "  DST_TO_SRC_SECOND_BYTES   IPV4_DST_ADDR    IPV4_SRC_ADDR PROTOCOL_MAP  \\\n",
       "0                      40  10.114.225.212  162.142.125.173          tcp   \n",
       "1                       ,  10.114.225.215    45.79.106.170         icmp   \n",
       "2                     104  10.114.241.165    10.114.224.65          tcp   \n",
       "3                       ,   10.114.226.23    202.179.91.28          tcp   \n",
       "4                      40   10.114.224.65   10.114.241.165          tcp   \n",
       "\n",
       "  SRC_TO_DST_SECOND_BYTES L7_PROTO_NAME        LABEL  \n",
       "0                      44       Unknown  Normal flow  \n",
       "1                      68          ICMP  Normal flow  \n",
       "2                     189           TLS  Normal flow  \n",
       "3                      52       Unknown  Normal flow  \n",
       "4                     189           TLS  Normal flow  "
      ]
     },
     "execution_count": 9,
     "metadata": {},
     "output_type": "execute_result"
    }
   ],
   "source": [
    "object_columns = df.select_dtypes(include=['object']).columns\n",
    "df[object_columns].head(5)"
   ]
  },
  {
   "cell_type": "code",
   "execution_count": 10,
   "metadata": {},
   "outputs": [
    {
     "data": {
      "text/plain": [
       "array(['Normal flow', 'SYN Scan - aggressive',\n",
       "       'Denial of Service R-U-Dead-Yet', 'Denial of Service Slowloris'],\n",
       "      dtype=object)"
      ]
     },
     "execution_count": 10,
     "metadata": {},
     "output_type": "execute_result"
    }
   ],
   "source": [
    "df[\"LABEL\"].unique()"
   ]
  },
  {
   "cell_type": "code",
   "execution_count": 11,
   "metadata": {},
   "outputs": [
    {
     "data": {
      "text/plain": [
       "[]"
      ]
     },
     "execution_count": 11,
     "metadata": {},
     "output_type": "execute_result"
    }
   ],
   "source": [
    "# Check for nan columns\n",
    "df.columns[df.isna().any()].tolist()\n",
    "# No nan"
   ]
  },
  {
   "cell_type": "code",
   "execution_count": 12,
   "metadata": {},
   "outputs": [],
   "source": [
    "if not os.path.isfile(\"cleanEDA.html\") and generate_reports:\n",
    "    profile = ProfileReport(df, title=\"Exploratory Data Analysis - Clean DF\", minimal=True)\n",
    "    profile.to_file(\"cleanEDA.html\")"
   ]
  },
  {
   "cell_type": "markdown",
   "metadata": {},
   "source": [
    "## Balancing and sampling"
   ]
  },
  {
   "cell_type": "markdown",
   "metadata": {},
   "source": [
    "### Dataset balancing"
   ]
  },
  {
   "cell_type": "code",
   "execution_count": 13,
   "metadata": {},
   "outputs": [],
   "source": [
    "from imblearn.over_sampling import RandomOverSampler\n",
    "from collections import Counter\n",
    "\n",
    "ros = RandomOverSampler(sampling_strategy='minority')"
   ]
  },
  {
   "cell_type": "code",
   "execution_count": 14,
   "metadata": {},
   "outputs": [],
   "source": [
    "labels_dic = {\n",
    "    0: \"Normal flow\",\n",
    "    1: \"SYN Scan - aggressive\",\n",
    "    2: \"Denial of Service R-U-Dead-Yet\",\n",
    "    3: \"Denial of Service Slowloris\"\n",
    "}"
   ]
  },
  {
   "cell_type": "code",
   "execution_count": 15,
   "metadata": {},
   "outputs": [],
   "source": [
    "normal_flow = df.loc[df[\"LABEL\"] == labels_dic[0]]\n",
    "syn_attacks = df.loc[df[\"LABEL\"] == labels_dic[1]]\n",
    "r_u_dead_attacks = df.loc[df[\"LABEL\"] == labels_dic[2]]\n",
    "dos_attacks = df.loc[df[\"LABEL\"] == labels_dic[3]]"
   ]
  },
  {
   "cell_type": "code",
   "execution_count": 16,
   "metadata": {},
   "outputs": [
    {
     "name": "stdout",
     "output_type": "stream",
     "text": [
      "6570058\n",
      "2496814\n",
      "2276947\n",
      "864054\n"
     ]
    }
   ],
   "source": [
    "print(len(normal_flow))\n",
    "print(len(syn_attacks))\n",
    "print(len(r_u_dead_attacks))\n",
    "print(len(dos_attacks))"
   ]
  },
  {
   "cell_type": "markdown",
   "metadata": {},
   "source": [
    "#### Oversampling DDoS attack"
   ]
  },
  {
   "cell_type": "code",
   "execution_count": 17,
   "metadata": {},
   "outputs": [],
   "source": [
    "attacks_oversampling = pd.concat([syn_attacks, dos_attacks])\n",
    "y_oversampling = attacks_oversampling[\"LABEL\"]\n",
    "x_oversampling = attacks_oversampling.drop([\"LABEL\"], axis= 1)"
   ]
  },
  {
   "cell_type": "code",
   "execution_count": 18,
   "metadata": {},
   "outputs": [],
   "source": [
    "X_oversampling_res, y_oversampling_res = ros.fit_resample(x_oversampling, y_oversampling)"
   ]
  },
  {
   "cell_type": "code",
   "execution_count": 19,
   "metadata": {
    "scrolled": true
   },
   "outputs": [
    {
     "name": "stdout",
     "output_type": "stream",
     "text": [
      "Resampled dataset shape Counter({'SYN Scan - aggressive': 2496814, 'Denial of Service Slowloris': 2496814})\n"
     ]
    }
   ],
   "source": [
    "print('Resampled dataset shape %s' % Counter(y_oversampling_res))"
   ]
  },
  {
   "cell_type": "code",
   "execution_count": 20,
   "metadata": {},
   "outputs": [],
   "source": [
    "oversampling_result = X_oversampling_res.copy()\n",
    "oversampling_result[\"LABEL\"] = y_oversampling_res.copy()"
   ]
  },
  {
   "cell_type": "code",
   "execution_count": 21,
   "metadata": {},
   "outputs": [],
   "source": [
    "df = pd.concat([normal_flow, r_u_dead_attacks, oversampling_result])"
   ]
  },
  {
   "cell_type": "markdown",
   "metadata": {},
   "source": [
    "#### Undersampling benign"
   ]
  },
  {
   "cell_type": "code",
   "execution_count": 22,
   "metadata": {},
   "outputs": [],
   "source": [
    "from imblearn.under_sampling import RandomUnderSampler"
   ]
  },
  {
   "cell_type": "code",
   "execution_count": 23,
   "metadata": {},
   "outputs": [],
   "source": [
    "normal_flow = df.loc[df[\"LABEL\"] == labels_dic[0]]\n",
    "syn_attacks = df.loc[df[\"LABEL\"] == labels_dic[1]]\n",
    "r_u_dead_attacks = df.loc[df[\"LABEL\"] == labels_dic[2]]\n",
    "dos_attacks = df.loc[df[\"LABEL\"] == labels_dic[3]]"
   ]
  },
  {
   "cell_type": "code",
   "execution_count": 24,
   "metadata": {},
   "outputs": [],
   "source": [
    "benign_us = pd.concat([syn_attacks, normal_flow])"
   ]
  },
  {
   "cell_type": "code",
   "execution_count": 25,
   "metadata": {},
   "outputs": [],
   "source": [
    "y = benign_us[\"LABEL\"]\n",
    "X = benign_us.drop([\"LABEL\"], axis=1)"
   ]
  },
  {
   "cell_type": "code",
   "execution_count": 26,
   "metadata": {},
   "outputs": [],
   "source": [
    "rus = RandomUnderSampler(random_state=0)"
   ]
  },
  {
   "cell_type": "code",
   "execution_count": 27,
   "metadata": {},
   "outputs": [
    {
     "name": "stdout",
     "output_type": "stream",
     "text": [
      "Resampled dataset shape Counter({'Normal flow': 2496814, 'SYN Scan - aggressive': 2496814})\n"
     ]
    }
   ],
   "source": [
    "X_undersampled, y_undersampled = rus.fit_resample(X, y)\n",
    "\n",
    "print('Resampled dataset shape %s' % Counter(y_undersampled))"
   ]
  },
  {
   "cell_type": "code",
   "execution_count": 28,
   "metadata": {},
   "outputs": [],
   "source": [
    "X_undersampled[\"LABEL\"] = y_undersampled\n",
    "undersample_res = X_undersampled"
   ]
  },
  {
   "cell_type": "code",
   "execution_count": 29,
   "metadata": {},
   "outputs": [],
   "source": [
    "df = pd.concat([dos_attacks, r_u_dead_attacks, undersample_res])"
   ]
  },
  {
   "cell_type": "code",
   "execution_count": 43,
   "metadata": {},
   "outputs": [
    {
     "name": "stderr",
     "output_type": "stream",
     "text": [
      "/Users/douglasdeleon/Documents/DouglasJr/UVG/semestre9/SecurityDS/proyecto-1/attack-detection/venv/lib/python3.7/site-packages/IPython/core/interactiveshell.py:3457: DtypeWarning: Columns (35) have mixed types.Specify dtype option on import or set low_memory=False.\n",
      "  exec(code_obj, self.user_global_ns, self.user_ns)\n"
     ]
    }
   ],
   "source": [
    "# create csv if it doesn't exist\n",
    "if not os.path.isfile(\"dataset/undersampled_df.csv\"):\n",
    "    df.to_csv(\"dataset/undersampled_df.csv\", index_label=False)\n",
    "\n",
    "df = pd.read_csv(\"dataset/undersampled_df.csv\")"
   ]
  },
  {
   "cell_type": "markdown",
   "metadata": {},
   "source": [
    "### Sampling"
   ]
  },
  {
   "cell_type": "code",
   "execution_count": 63,
   "metadata": {},
   "outputs": [],
   "source": [
    "if not os.path.isfile(\"dataset/sampled_dataset.csv\"):\n",
    "    df = df.groupby('LABEL', group_keys=False).apply(lambda x: x.sample(frac=0.01))\n",
    "    df.to_csv(\"dataset/sampled_dataset.csv\", index_label=False)\n",
    "else:\n",
    "    df = pd.read_csv(\"dataset/sampled_dataset.csv\")"
   ]
  },
  {
   "cell_type": "markdown",
   "metadata": {},
   "source": [
    "## Preprocessing"
   ]
  },
  {
   "cell_type": "markdown",
   "metadata": {},
   "source": [
    "### Remove unnecesary variables"
   ]
  },
  {
   "cell_type": "markdown",
   "metadata": {},
   "source": [
    "#### Drop constants"
   ]
  },
  {
   "cell_type": "code",
   "execution_count": 64,
   "metadata": {},
   "outputs": [],
   "source": [
    "# CONSTANTS \n",
    "constants = [\n",
    "    'BIFLOW_DIRECTION',\n",
    "    'FIREWALL_EVENT',\n",
    "    'FLOW_ACTIVE_TIMEOUT',\n",
    "    'FLOW_INACTIVE_TIMEOUT',\n",
    "    'FRAME_LENGTH',\n",
    "    'MAX_IP_PKT_LEN',\n",
    "    'MIN_IP_PKT_LEN',\n",
    "    'SAMPLING_INTERVAL',\n",
    "    'DIRECTION',\n",
    "    'OOORDER_IN_PKTS',\n",
    "    'OOORDER_OUT_PKTS',\n",
    "]\n",
    "\n",
    "# DIRECTION, OOORDER_IN_PKTS and OOORDER_OUT_PKTS has 99%> zero values, so it will be considered a constant."
   ]
  },
  {
   "cell_type": "code",
   "execution_count": 65,
   "metadata": {},
   "outputs": [
    {
     "data": {
      "text/plain": [
       "39"
      ]
     },
     "execution_count": 65,
     "metadata": {},
     "output_type": "execute_result"
    }
   ],
   "source": [
    "# Drop constants from dataframe\n",
    "df = df.drop(constants, axis=1)\n",
    "len(df.columns.values)"
   ]
  },
  {
   "cell_type": "markdown",
   "metadata": {},
   "source": [
    "#### Drop unique values"
   ]
  },
  {
   "cell_type": "code",
   "execution_count": 66,
   "metadata": {},
   "outputs": [],
   "source": [
    "# UNIQUE\n",
    "unique_vars = ['FLOW_ID', 'TOTAL_FLOWS_EXP']"
   ]
  },
  {
   "cell_type": "code",
   "execution_count": 67,
   "metadata": {},
   "outputs": [
    {
     "data": {
      "text/plain": [
       "37"
      ]
     },
     "execution_count": 67,
     "metadata": {},
     "output_type": "execute_result"
    }
   ],
   "source": [
    "df = df.drop(unique_vars, axis=1)\n",
    "len(df.columns.values)"
   ]
  },
  {
   "cell_type": "markdown",
   "metadata": {},
   "source": [
    "#### DROP IPS"
   ]
  },
  {
   "cell_type": "code",
   "execution_count": 68,
   "metadata": {},
   "outputs": [],
   "source": [
    "df = df.drop([\"IPV4_DST_ADDR\", \"IPV4_SRC_ADDR\"], axis = 1)"
   ]
  },
  {
   "cell_type": "markdown",
   "metadata": {},
   "source": [
    "#### DROP PROTOCOL COLUMN"
   ]
  },
  {
   "cell_type": "code",
   "execution_count": 69,
   "metadata": {
    "scrolled": true
   },
   "outputs": [],
   "source": [
    "df = df.drop([\"PROTOCOL\"], axis = 1)"
   ]
  },
  {
   "cell_type": "markdown",
   "metadata": {},
   "source": [
    "#### Clean data from report"
   ]
  },
  {
   "cell_type": "code",
   "execution_count": 70,
   "metadata": {},
   "outputs": [],
   "source": [
    "# Drop columns that almost everything is 0\n",
    "df = df.drop(columns=[\"RETRANSMITTED_IN_BYTES\", \"RETRANSMITTED_IN_PKTS\"], axis = 1)"
   ]
  },
  {
   "cell_type": "code",
   "execution_count": 71,
   "metadata": {},
   "outputs": [],
   "source": [
    "df = df.drop(columns=[\"RETRANSMITTED_OUT_BYTES\", \"RETRANSMITTED_OUT_PKTS\"], axis=1)"
   ]
  },
  {
   "cell_type": "code",
   "execution_count": 72,
   "metadata": {},
   "outputs": [],
   "source": [
    "df = df.drop(columns=[\"TCP_WIN_MSS_OUT\", \"TCP_WIN_SCALE_IN\", \"TCP_WIN_SCALE_IN\", \"TCP_WIN_SCALE_OUT\", \"SRC_TOS\", \"DST_TOS\"], axis=1)"
   ]
  },
  {
   "cell_type": "markdown",
   "metadata": {},
   "source": [
    "### Numerical preprocessing"
   ]
  },
  {
   "cell_type": "markdown",
   "metadata": {},
   "source": [
    "#### Fix DST_TO_SRC_SECOND_BYTES column"
   ]
  },
  {
   "cell_type": "code",
   "execution_count": 73,
   "metadata": {},
   "outputs": [],
   "source": [
    "# df[\"DST_TO_SRC_SECOND_BYTES\"].apply(np.isreal)\n",
    "DST_TO_SRC_SECOND_BYTES_INT_VALUES = list(filter(utils.is_int, df[\"DST_TO_SRC_SECOND_BYTES\"]))\n",
    "DST_TO_SRC_SECOND_BYTES_NON_INT_VALUES = list(filter(lambda x: not utils.is_int(x), df[\"DST_TO_SRC_SECOND_BYTES\"]))"
   ]
  },
  {
   "cell_type": "code",
   "execution_count": 74,
   "metadata": {},
   "outputs": [
    {
     "name": "stdout",
     "output_type": "stream",
     "text": [
      "Correct int values:  36902\n",
      "Incorrect int values:  60771\n",
      "Total values count:  97673\n"
     ]
    }
   ],
   "source": [
    "print(\"Correct int values: \", len(DST_TO_SRC_SECOND_BYTES_INT_VALUES))\n",
    "print(\"Incorrect int values: \", len(DST_TO_SRC_SECOND_BYTES_NON_INT_VALUES))\n",
    "print(\"Total values count: \", len(df[\"DST_TO_SRC_SECOND_BYTES\"]))"
   ]
  },
  {
   "cell_type": "code",
   "execution_count": 75,
   "metadata": {},
   "outputs": [],
   "source": [
    "df_safe_clean = df.copy()"
   ]
  },
  {
   "cell_type": "code",
   "execution_count": 76,
   "metadata": {},
   "outputs": [
    {
     "data": {
      "text/plain": [
       "0    216\n",
       "1    164\n",
       "2    624\n",
       "3    164\n",
       "4    676\n",
       "Name: DST_TO_SRC_SECOND_BYTES, dtype: int64"
      ]
     },
     "execution_count": 76,
     "metadata": {},
     "output_type": "execute_result"
    }
   ],
   "source": [
    "df[\"DST_TO_SRC_SECOND_BYTES\"] = df[\"DST_TO_SRC_SECOND_BYTES\"].apply(lambda x: int(x) if utils.is_int(x) else utils.normalize_dst_to_src_column(x))\n",
    "df[\"DST_TO_SRC_SECOND_BYTES\"].head()"
   ]
  },
  {
   "cell_type": "code",
   "execution_count": 77,
   "metadata": {},
   "outputs": [
    {
     "data": {
      "text/plain": [
       "0    216\n",
       "1    164\n",
       "2    624\n",
       "3    164\n",
       "4    676\n",
       "Name: DST_TO_SRC_SECOND_BYTES, dtype: int64"
      ]
     },
     "execution_count": 77,
     "metadata": {},
     "output_type": "execute_result"
    }
   ],
   "source": [
    "# Replace the 0 with 1\n",
    "df[\"DST_TO_SRC_SECOND_BYTES\"].replace({0: 1}, inplace=True)\n",
    "df[\"DST_TO_SRC_SECOND_BYTES\"].head()"
   ]
  },
  {
   "cell_type": "markdown",
   "metadata": {},
   "source": [
    "#### Fix SRC_TO_DST_SECOND_BYTES column"
   ]
  },
  {
   "cell_type": "code",
   "execution_count": 78,
   "metadata": {
    "scrolled": true
   },
   "outputs": [
    {
     "data": {
      "text/plain": [
       "0     748\n",
       "1     216\n",
       "2    1315\n",
       "3     216\n",
       "4    1273\n",
       "Name: SRC_TO_DST_SECOND_BYTES, dtype: int64"
      ]
     },
     "execution_count": 78,
     "metadata": {},
     "output_type": "execute_result"
    }
   ],
   "source": [
    "df[\"SRC_TO_DST_SECOND_BYTES\"] = df[\"SRC_TO_DST_SECOND_BYTES\"].apply(lambda x: int(x) if utils.is_int(x) else utils.normalize_dst_to_src_column(x))\n",
    "df[\"SRC_TO_DST_SECOND_BYTES\"].head()"
   ]
  },
  {
   "cell_type": "markdown",
   "metadata": {},
   "source": [
    "### Second profile report"
   ]
  },
  {
   "cell_type": "code",
   "execution_count": 79,
   "metadata": {
    "scrolled": true
   },
   "outputs": [],
   "source": [
    "if not os.path.isfile(\"reports/profile-numerical.html\") and generate_reports:\n",
    "    ProfileReport(df, title=\"Profile after numerical preprocessing\", minimal=True).to_file(\"reports/profile-numerical.html\")"
   ]
  },
  {
   "cell_type": "markdown",
   "metadata": {},
   "source": [
    "#### Reduce skew data"
   ]
  },
  {
   "cell_type": "code",
   "execution_count": 80,
   "metadata": {},
   "outputs": [],
   "source": [
    "import numpy as np\n",
    "from scipy.stats import skew\n",
    "def reduce_skew(column, fn = np.log):\n",
    "    print(\"Skew actual value for column \", column,\": \",skew(df[\"SRC_TO_DST_SECOND_BYTES\"]))\n",
    "    df[column].replace({0: 1}, inplace=True)\n",
    "    df[column] = df[column].apply(fn)\n",
    "    print(\"New value: \", skew(df[column]))"
   ]
  },
  {
   "cell_type": "code",
   "execution_count": 81,
   "metadata": {},
   "outputs": [],
   "source": [
    "safe_skew_copy = df.copy()"
   ]
  },
  {
   "cell_type": "code",
   "execution_count": 82,
   "metadata": {},
   "outputs": [
    {
     "name": "stdout",
     "output_type": "stream",
     "text": [
      "Skew actual value for column  SRC_TO_DST_SECOND_BYTES :  113.30416504382764\n",
      "New value:  0.1872506042276819\n",
      "Skew actual value for column  DST_TO_SRC_SECOND_BYTES :  0.1872506042276819\n",
      "New value:  -0.6001182906757618\n",
      "Skew actual value for column  OUT_BYTES :  0.1872506042276819\n",
      "New value:  -0.5996819020646983\n"
     ]
    }
   ],
   "source": [
    "reduce_skew(\"SRC_TO_DST_SECOND_BYTES\")\n",
    "reduce_skew(\"DST_TO_SRC_SECOND_BYTES\")\n",
    "reduce_skew(\"OUT_BYTES\")"
   ]
  },
  {
   "cell_type": "markdown",
   "metadata": {},
   "source": [
    "### Correlation check"
   ]
  },
  {
   "cell_type": "code",
   "execution_count": 83,
   "metadata": {},
   "outputs": [],
   "source": [
    "import seaborn as sn\n",
    "import matplotlib.pyplot as plt\n",
    "corrMatrix = df.corr()"
   ]
  },
  {
   "cell_type": "code",
   "execution_count": 84,
   "metadata": {
    "scrolled": true
   },
   "outputs": [
    {
     "name": "stderr",
     "output_type": "stream",
     "text": [
      "/Users/douglasdeleon/Documents/DouglasJr/UVG/semestre9/SecurityDS/proyecto-1/attack-detection/venv/lib/python3.7/site-packages/ipykernel_launcher.py:3: UserWarning: Matplotlib is currently using agg, which is a non-GUI backend, so cannot show the figure.\n",
      "  This is separate from the ipykernel package so we can avoid doing imports until\n"
     ]
    }
   ],
   "source": [
    "fig, ax = plt.subplots(figsize=(60,20)) \n",
    "sn.heatmap(corrMatrix, annot=True, linewidths=.5, ax=ax)\n",
    "plt.show()"
   ]
  },
  {
   "cell_type": "code",
   "execution_count": 85,
   "metadata": {},
   "outputs": [
    {
     "name": "stdout",
     "output_type": "stream",
     "text": [
      "La columna  DST_TO_SRC_SECOND_BYTES  tuvo correlación con las columnas\n",
      "[('OUT_BYTES', 0.9999994855511837), ('SRC_TO_DST_SECOND_BYTES', 0.7728654824382651)]\n",
      "\n",
      "\n",
      "La columna  FIRST_SWITCHED  tuvo correlación con las columnas\n",
      "[('FLOW_END_MILLISECONDS', 0.9999999987135727), ('FLOW_END_SEC', 0.9999999987144633), ('FLOW_START_MILLISECONDS', 0.999999999999915), ('FLOW_START_SEC', 1.0), ('LAST_SWITCHED', 0.9999999987144633)]\n",
      "\n",
      "\n",
      "La columna  FLOW_DURATION_MICROSECONDS  tuvo correlación con las columnas\n",
      "[('FLOW_DURATION_MILLISECONDS', 0.9999999999721548), ('SRC_TO_DST_SECOND_BYTES', 0.7678971150821113)]\n",
      "\n",
      "\n",
      "La columna  FLOW_DURATION_MILLISECONDS  tuvo correlación con las columnas\n",
      "[('FLOW_DURATION_MICROSECONDS', 0.9999999999721548), ('SRC_TO_DST_SECOND_BYTES', 0.7678967683146068)]\n",
      "\n",
      "\n",
      "La columna  FLOW_END_MILLISECONDS  tuvo correlación con las columnas\n",
      "[('FIRST_SWITCHED', 0.9999999987135727), ('FLOW_END_SEC', 0.9999999999999164), ('FLOW_START_MILLISECONDS', 0.9999999987132961), ('FLOW_START_SEC', 0.9999999987135741), ('LAST_SWITCHED', 0.9999999999999164)]\n",
      "\n",
      "\n",
      "La columna  FLOW_END_SEC  tuvo correlación con las columnas\n",
      "[('FIRST_SWITCHED', 0.9999999987144633), ('FLOW_END_MILLISECONDS', 0.9999999999999164), ('FLOW_START_MILLISECONDS', 0.9999999987141314), ('FLOW_START_SEC', 0.9999999987144659), ('LAST_SWITCHED', 1.0)]\n",
      "\n",
      "\n",
      "La columna  FLOW_START_MILLISECONDS  tuvo correlación con las columnas\n",
      "[('FIRST_SWITCHED', 0.999999999999915), ('FLOW_END_MILLISECONDS', 0.9999999987132961), ('FLOW_END_SEC', 0.9999999987141314), ('FLOW_START_SEC', 0.9999999999999137), ('LAST_SWITCHED', 0.9999999987141311)]\n",
      "\n",
      "\n",
      "La columna  FLOW_START_SEC  tuvo correlación con las columnas\n",
      "[('FIRST_SWITCHED', 1.0), ('FLOW_END_MILLISECONDS', 0.9999999987135741), ('FLOW_END_SEC', 0.9999999987144659), ('FLOW_START_MILLISECONDS', 0.9999999999999137), ('LAST_SWITCHED', 0.9999999987144633)]\n",
      "\n",
      "\n",
      "La columna  IN_BYTES  tuvo correlación con las columnas\n",
      "[('IN_PKTS', 0.7528699627842966)]\n",
      "\n",
      "\n",
      "La columna  IN_PKTS  tuvo correlación con las columnas\n",
      "[('IN_BYTES', 0.7528699627842966)]\n",
      "\n",
      "\n",
      "La columna  LAST_SWITCHED  tuvo correlación con las columnas\n",
      "[('FIRST_SWITCHED', 0.9999999987144633), ('FLOW_END_MILLISECONDS', 0.9999999999999164), ('FLOW_END_SEC', 1.0), ('FLOW_START_MILLISECONDS', 0.9999999987141311), ('FLOW_START_SEC', 0.9999999987144633)]\n",
      "\n",
      "\n",
      "La columna  OUT_BYTES  tuvo correlación con las columnas\n",
      "[('DST_TO_SRC_SECOND_BYTES', 0.9999994855511837), ('SRC_TO_DST_SECOND_BYTES', 0.7728792615665233)]\n",
      "\n",
      "\n",
      "La columna  SRC_TO_DST_SECOND_BYTES  tuvo correlación con las columnas\n",
      "[('DST_TO_SRC_SECOND_BYTES', 0.7728654824382651), ('FLOW_DURATION_MICROSECONDS', 0.7678971150821113), ('FLOW_DURATION_MILLISECONDS', 0.7678967683146068), ('OUT_BYTES', 0.7728792615665233)]\n",
      "\n",
      "\n",
      "La columna  TCP_WIN_MAX_IN  tuvo correlación con las columnas\n",
      "[('TCP_WIN_MAX_OUT', 0.8723105613650113), ('TCP_WIN_MIN_IN', 0.9990720649611314), ('TCP_WIN_MIN_OUT', 0.8717342373628784)]\n",
      "\n",
      "\n",
      "La columna  TCP_WIN_MAX_OUT  tuvo correlación con las columnas\n",
      "[('TCP_WIN_MAX_IN', 0.8723105613650113), ('TCP_WIN_MIN_IN', 0.869257386814609), ('TCP_WIN_MIN_OUT', 0.9989350554154112)]\n",
      "\n",
      "\n",
      "La columna  TCP_WIN_MIN_IN  tuvo correlación con las columnas\n",
      "[('TCP_WIN_MAX_IN', 0.9990720649611314), ('TCP_WIN_MAX_OUT', 0.869257386814609), ('TCP_WIN_MIN_OUT', 0.8690662218582367)]\n",
      "\n",
      "\n",
      "La columna  TCP_WIN_MIN_OUT  tuvo correlación con las columnas\n",
      "[('TCP_WIN_MAX_IN', 0.8717342373628784), ('TCP_WIN_MAX_OUT', 0.9989350554154112), ('TCP_WIN_MIN_IN', 0.8690662218582367)]\n",
      "\n",
      "\n"
     ]
    }
   ],
   "source": [
    "for column in corrMatrix:\n",
    "        correl = []\n",
    "        for index in corrMatrix[column].index:\n",
    "            if column != index and abs(corrMatrix[column][index]) >= 0.75:\n",
    "                correl.append((index, corrMatrix[column][index]))\n",
    "        if len(correl) > 0:\n",
    "            print(\"La columna \", column, \" tuvo correlación con las columnas\")\n",
    "            print(correl)\n",
    "            print(\"\\n\")"
   ]
  },
  {
   "cell_type": "code",
   "execution_count": 86,
   "metadata": {},
   "outputs": [],
   "source": [
    "# Remove useless columns\n",
    "columns_to_drop = [\n",
    "    \"DST_TO_SRC_SECOND_BYTES\", \"FLOW_END_MILLISECONDS\", \"FLOW_END_SEC\", \"FLOW_START_MILLISECONDS\", \"FLOW_START_SEC\",\n",
    "    \"FLOW_DURATION_MICROSECONDS\",\n",
    "    \"IN_BYTES\",\n",
    "    \"TCP_WIN_MIN_OUT\",\n",
    "    \"TCP_WIN_MIN_IN\",\n",
    "    \"TCP_WIN_MAX_IN\"\n",
    "]\n",
    "df = df.drop(columns=columns_to_drop, axis = 1)"
   ]
  },
  {
   "cell_type": "markdown",
   "metadata": {},
   "source": [
    "### Categorical variables preprocessing"
   ]
  },
  {
   "cell_type": "markdown",
   "metadata": {},
   "source": [
    "#### Create PROTOCOL_MAP dummies"
   ]
  },
  {
   "cell_type": "code",
   "execution_count": 87,
   "metadata": {},
   "outputs": [
    {
     "data": {
      "text/html": [
       "<div>\n",
       "<style scoped>\n",
       "    .dataframe tbody tr th:only-of-type {\n",
       "        vertical-align: middle;\n",
       "    }\n",
       "\n",
       "    .dataframe tbody tr th {\n",
       "        vertical-align: top;\n",
       "    }\n",
       "\n",
       "    .dataframe thead th {\n",
       "        text-align: right;\n",
       "    }\n",
       "</style>\n",
       "<table border=\"1\" class=\"dataframe\">\n",
       "  <thead>\n",
       "    <tr style=\"text-align: right;\">\n",
       "      <th></th>\n",
       "      <th>FIRST_SWITCHED</th>\n",
       "      <th>FLOW_DURATION_MILLISECONDS</th>\n",
       "      <th>IN_PKTS</th>\n",
       "      <th>L4_DST_PORT</th>\n",
       "      <th>L4_SRC_PORT</th>\n",
       "      <th>LAST_SWITCHED</th>\n",
       "      <th>OUT_BYTES</th>\n",
       "      <th>OUT_PKTS</th>\n",
       "      <th>SRC_TO_DST_SECOND_BYTES</th>\n",
       "      <th>TCP_FLAGS</th>\n",
       "      <th>TCP_WIN_MAX_OUT</th>\n",
       "      <th>TCP_WIN_MSS_IN</th>\n",
       "      <th>L7_PROTO_NAME</th>\n",
       "      <th>LABEL</th>\n",
       "      <th>PROTOCOL_MAP_icmp</th>\n",
       "      <th>PROTOCOL_MAP_tcp</th>\n",
       "      <th>PROTOCOL_MAP_udp</th>\n",
       "    </tr>\n",
       "  </thead>\n",
       "  <tbody>\n",
       "    <tr>\n",
       "      <th>0</th>\n",
       "      <td>1618224176</td>\n",
       "      <td>8962</td>\n",
       "      <td>6</td>\n",
       "      <td>80</td>\n",
       "      <td>30258</td>\n",
       "      <td>1618224185</td>\n",
       "      <td>5.375278</td>\n",
       "      <td>4</td>\n",
       "      <td>6.617403</td>\n",
       "      <td>27</td>\n",
       "      <td>27960</td>\n",
       "      <td>1410</td>\n",
       "      <td>HTTP</td>\n",
       "      <td>Denial of Service R-U-Dead-Yet</td>\n",
       "      <td>0</td>\n",
       "      <td>1</td>\n",
       "      <td>0</td>\n",
       "    </tr>\n",
       "    <tr>\n",
       "      <th>1</th>\n",
       "      <td>1618228480</td>\n",
       "      <td>17</td>\n",
       "      <td>4</td>\n",
       "      <td>80</td>\n",
       "      <td>60087</td>\n",
       "      <td>1618228480</td>\n",
       "      <td>5.099866</td>\n",
       "      <td>3</td>\n",
       "      <td>5.375278</td>\n",
       "      <td>19</td>\n",
       "      <td>27960</td>\n",
       "      <td>1410</td>\n",
       "      <td>HTTP</td>\n",
       "      <td>Denial of Service R-U-Dead-Yet</td>\n",
       "      <td>0</td>\n",
       "      <td>1</td>\n",
       "      <td>0</td>\n",
       "    </tr>\n",
       "    <tr>\n",
       "      <th>2</th>\n",
       "      <td>1618230693</td>\n",
       "      <td>109775</td>\n",
       "      <td>15</td>\n",
       "      <td>80</td>\n",
       "      <td>48415</td>\n",
       "      <td>1618230803</td>\n",
       "      <td>6.436150</td>\n",
       "      <td>12</td>\n",
       "      <td>7.181592</td>\n",
       "      <td>24</td>\n",
       "      <td>114</td>\n",
       "      <td>0</td>\n",
       "      <td>HTTP</td>\n",
       "      <td>Denial of Service R-U-Dead-Yet</td>\n",
       "      <td>0</td>\n",
       "      <td>1</td>\n",
       "      <td>0</td>\n",
       "    </tr>\n",
       "  </tbody>\n",
       "</table>\n",
       "</div>"
      ],
      "text/plain": [
       "   FIRST_SWITCHED  FLOW_DURATION_MILLISECONDS  IN_PKTS  L4_DST_PORT  \\\n",
       "0      1618224176                        8962        6           80   \n",
       "1      1618228480                          17        4           80   \n",
       "2      1618230693                      109775       15           80   \n",
       "\n",
       "   L4_SRC_PORT  LAST_SWITCHED  OUT_BYTES  OUT_PKTS  SRC_TO_DST_SECOND_BYTES  \\\n",
       "0        30258     1618224185   5.375278         4                 6.617403   \n",
       "1        60087     1618228480   5.099866         3                 5.375278   \n",
       "2        48415     1618230803   6.436150        12                 7.181592   \n",
       "\n",
       "   TCP_FLAGS  TCP_WIN_MAX_OUT  TCP_WIN_MSS_IN L7_PROTO_NAME  \\\n",
       "0         27            27960            1410          HTTP   \n",
       "1         19            27960            1410          HTTP   \n",
       "2         24              114               0          HTTP   \n",
       "\n",
       "                            LABEL  PROTOCOL_MAP_icmp  PROTOCOL_MAP_tcp  \\\n",
       "0  Denial of Service R-U-Dead-Yet                  0                 1   \n",
       "1  Denial of Service R-U-Dead-Yet                  0                 1   \n",
       "2  Denial of Service R-U-Dead-Yet                  0                 1   \n",
       "\n",
       "   PROTOCOL_MAP_udp  \n",
       "0                 0  \n",
       "1                 0  \n",
       "2                 0  "
      ]
     },
     "execution_count": 87,
     "metadata": {},
     "output_type": "execute_result"
    }
   ],
   "source": [
    "# Create the dummies\n",
    "df = pd.get_dummies(df, columns = [\"PROTOCOL_MAP\"])\n",
    "df.head(3)"
   ]
  },
  {
   "cell_type": "markdown",
   "metadata": {},
   "source": [
    "#### L7_PROTO_NAME dummies"
   ]
  },
  {
   "cell_type": "code",
   "execution_count": 88,
   "metadata": {},
   "outputs": [
    {
     "data": {
      "text/plain": [
       "array(['HTTP', 'HTTP.TargusDataspeed', 'TLS.YouTube', 'HTTP.Microsoft',\n",
       "       'TLS.Skype', 'TLS.Google', 'DNS.Google', 'Unknown', 'ICMP', 'DNS',\n",
       "       'TLS.Microsoft', 'BitTorrent', 'TLS.Microsoft365', 'ICMP.Amazon',\n",
       "       'TLS', 'SSH', 'Redis', 'DNS.Amazon', 'DNS.MS_OneDrive', 'Google',\n",
       "       'QUIC.Google', 'TLS.GoogleServices', 'STUN.Messenger',\n",
       "       'TLS.Amazon', 'DNS.Teams', 'TLS.Facebook', 'STUN.Skype', 'Amazon',\n",
       "       'DNS.GoogleDocs', 'TLS.Cloudflare', 'HTTP.UbuntuONE',\n",
       "       'DNS.Microsoft', 'DNS.Microsoft365', 'DNS.Apple', 'IMAP',\n",
       "       'DNS.OpenDNS', 'TLS.Dropbox', 'NTP.UbuntuONE', 'DNS.UbuntuONE',\n",
       "       'DNS.YouTube', 'TeamViewer', 'MsSQL-TDS', 'DNS.Yahoo',\n",
       "       'NTP.Cloudflare', 'TargusDataspeed', 'TLS.WhatsApp', 'NTP', 'SNMP',\n",
       "       'TLS.Teams', 'DNS.GoogleDrive', 'QUIC.YouTube', 'STUN.SkypeCall',\n",
       "       'TLS.WhatsAppFiles', 'NFS', 'STUN', 'DNS.GoogleServices',\n",
       "       'QUIC.Facebook', 'DNS.Skype', 'Telnet', 'DNS.Telegram',\n",
       "       'DNS.Cloudflare', 'Memcached', 'HTTP.TeamViewer', 'Playstation',\n",
       "       'SSDP', 'DNS.Github', 'FTP_DATA', 'DNS.AnyDesk', 'Skype',\n",
       "       'STUN.GoogleHangoutDuo', 'DNS.Facebook', 'TLS.Apple',\n",
       "       'DNS.Dropbox', 'RTP', 'HTTP.WindowsUpdate', 'HTTP_Proxy.HTTP',\n",
       "       'DNS.Slack', 'HTTP.Amazon', 'DNS.Pinterest', 'DNS.Instagram',\n",
       "       'TLS.GMail', 'DNS.WindowsUpdate', 'QUIC.NFS', 'TLS.Twitter',\n",
       "       'ICMP.Google', 'SMBv23', 'DNS.Messenger', 'TLS.TeamViewer',\n",
       "       'DNS.LinkedIn', 'TLS.Yahoo', 'OpenVPN', 'TLS.MS_OneDrive', 'SIP',\n",
       "       'VNC', 'HTTP.Google', 'IMAPS.Apple', 'DNS.Discord', 'DNS.GMail',\n",
       "       'HTTP_Proxy', 'TLS.Tor', 'Steam', 'DNS.AppleiTunes',\n",
       "       'Playstation.Google', 'LDAP.RX', 'STUN.Amazon', 'WSD', 'RDP',\n",
       "       'TLS.AppleiCloud', 'QUIC.GoogleServices', 'HTTP.Starcraft',\n",
       "       'DNS.AppleStore', 'COAP', 'Apple', 'Playstation.Skype',\n",
       "       'Microsoft', 'DNS.Twitter', 'HTTP.TLS', 'TLS.Reddit', 'MQTT',\n",
       "       'IMAPS.Google', 'TLS.Pinterest', 'MDNS', 'SMTPS',\n",
       "       'STUN.WhatsAppCall', 'HTTP.Mining', 'TLS.Starcraft', 'RTSP',\n",
       "       'CiscoVPN', 'HTTP.Microsoft365', 'LDAP', 'TLS.Discord',\n",
       "       'DNS.Wikipedia', 'RSYNC.Google', 'TLS.Zoom', 'DNS.Spotify',\n",
       "       'TLS.Instagram', 'DNS.Zoom', 'RSYNC', 'TLS.UbuntuONE',\n",
       "       'TLS.DoH_DoT', 'Modbus', 'ICMP.Webex', 'Mining', 'IPsec',\n",
       "       'DNS.WhatsApp', 'IMAPS', 'Kerberos', 'DNS.Reddit', 'RX',\n",
       "       'DNS.ApplePush', 'Cloudflare', 'TLS.Slack', 'STUN.Apple',\n",
       "       'Skype.SkypeCall', 'TLS.Tumblr', 'STUN.DNS', 'H323',\n",
       "       'TLS.WindowsUpdate', 'SOCKS', 'NetBIOS', 'DNS.AppleiCloud',\n",
       "       'FTP_CONTROL', 'TLS.Telegram', 'Xbox.NFS', 'PostgreSQL', 'Xbox',\n",
       "       'Starcraft', 'IEC60870', 'ICMP.Microsoft365', 'ICMP.Skype',\n",
       "       'DNS.Signal', 'BGP', 'TLS.Spotify', 'TLS.Github', 'Viber',\n",
       "       'HTTP.Apple', 'TLS.Wikipedia', 'DNS.TikTok', 'WhatsAppFiles',\n",
       "       'HTTP.Steam', 'TLS.Messenger', 'ICMP.Dropbox', 'TLS.GoogleDocs',\n",
       "       'DNS.Webex', 'UBNTAC2', 'RemoteScan', 'SMTP', 'Facebook',\n",
       "       'DNS.TeamViewer', 'DNS.NetFlix', 'TLS.LinkedIn', 'NTP.Google',\n",
       "       'QUIC.Instagram', 'NTP.Apple', 'HTTP.MS_OneDrive', 'AJP',\n",
       "       'STUN.Starcraft', 'XDMCP', 'Git', 'DCE_RPC', 'HTTP.Cloudflare',\n",
       "       'QUIC', 'DNS.DoH_DoT', 'DNS.PlayStore', 'TLS.AppleSiri',\n",
       "       'QUIC.GoogleDrive', 'TLS.AppleiTunes', 's7comm', 'TINC', 'IAX',\n",
       "       'Zabbix', 'Citrix', 'OSPF', 'DNP3', 'NestLogSink', 'MongoDB',\n",
       "       'Corba'], dtype=object)"
      ]
     },
     "execution_count": 88,
     "metadata": {},
     "output_type": "execute_result"
    }
   ],
   "source": [
    "df[\"L7_PROTO_NAME\"].unique()"
   ]
  },
  {
   "cell_type": "code",
   "execution_count": 89,
   "metadata": {},
   "outputs": [],
   "source": [
    "df[\"L7_PROTO_NAME\"] = df[\"L7_PROTO_NAME\"].map(lambda protocol: utils.lematize_protocol(protocol).upper())"
   ]
  },
  {
   "cell_type": "code",
   "execution_count": 90,
   "metadata": {},
   "outputs": [
    {
     "name": "stdout",
     "output_type": "stream",
     "text": [
      "80\n"
     ]
    },
    {
     "data": {
      "text/plain": [
       "array(['HTTP', 'TLS', 'DNS', 'UNKNOWN', 'ICMP', 'BITTORRENT', 'SSH',\n",
       "       'REDIS', 'GOOGLE', 'QUIC', 'STUN', 'AMAZON', 'IMAP', 'NTP',\n",
       "       'TEAMVIEWER', 'MSSQL-TDS', 'TARGUSDATASPEED', 'SNMP', 'NFS',\n",
       "       'TELNET', 'MEMCACHED', 'PLAYSTATION', 'SSDP', 'FTP_DATA', 'SKYPE',\n",
       "       'RTP', 'HTTP_PROXY', 'SMBV23', 'OPENVPN', 'SIP', 'VNC', 'IMAPS',\n",
       "       'STEAM', 'LDAP', 'WSD', 'RDP', 'COAP', 'APPLE', 'MICROSOFT',\n",
       "       'MQTT', 'MDNS', 'SMTPS', 'RTSP', 'CISCOVPN', 'RSYNC', 'MODBUS',\n",
       "       'MINING', 'IPSEC', 'KERBEROS', 'RX', 'CLOUDFLARE', 'H323', 'SOCKS',\n",
       "       'NETBIOS', 'FTP_CONTROL', 'XBOX', 'POSTGRESQL', 'STARCRAFT',\n",
       "       'IEC60870', 'BGP', 'VIBER', 'WHATSAPPFILES', 'UBNTAC2',\n",
       "       'REMOTESCAN', 'SMTP', 'FACEBOOK', 'AJP', 'XDMCP', 'GIT', 'DCE_RPC',\n",
       "       'S7COMM', 'TINC', 'IAX', 'ZABBIX', 'CITRIX', 'OSPF', 'DNP3',\n",
       "       'NESTLOGSINK', 'MONGODB', 'CORBA'], dtype=object)"
      ]
     },
     "execution_count": 90,
     "metadata": {},
     "output_type": "execute_result"
    }
   ],
   "source": [
    "print(len(df[\"L7_PROTO_NAME\"].unique()))\n",
    "\n",
    "df[\"L7_PROTO_NAME\"].unique()"
   ]
  },
  {
   "cell_type": "code",
   "execution_count": 91,
   "metadata": {},
   "outputs": [
    {
     "data": {
      "text/html": [
       "<div>\n",
       "<style scoped>\n",
       "    .dataframe tbody tr th:only-of-type {\n",
       "        vertical-align: middle;\n",
       "    }\n",
       "\n",
       "    .dataframe tbody tr th {\n",
       "        vertical-align: top;\n",
       "    }\n",
       "\n",
       "    .dataframe thead th {\n",
       "        text-align: right;\n",
       "    }\n",
       "</style>\n",
       "<table border=\"1\" class=\"dataframe\">\n",
       "  <thead>\n",
       "    <tr style=\"text-align: right;\">\n",
       "      <th></th>\n",
       "      <th>FIRST_SWITCHED</th>\n",
       "      <th>FLOW_DURATION_MILLISECONDS</th>\n",
       "      <th>IN_PKTS</th>\n",
       "      <th>L4_DST_PORT</th>\n",
       "      <th>L4_SRC_PORT</th>\n",
       "      <th>LAST_SWITCHED</th>\n",
       "      <th>OUT_BYTES</th>\n",
       "      <th>OUT_PKTS</th>\n",
       "      <th>SRC_TO_DST_SECOND_BYTES</th>\n",
       "      <th>TCP_FLAGS</th>\n",
       "      <th>...</th>\n",
       "      <th>L7_PROTO_NAME_TLS</th>\n",
       "      <th>L7_PROTO_NAME_UBNTAC2</th>\n",
       "      <th>L7_PROTO_NAME_UNKNOWN</th>\n",
       "      <th>L7_PROTO_NAME_VIBER</th>\n",
       "      <th>L7_PROTO_NAME_VNC</th>\n",
       "      <th>L7_PROTO_NAME_WHATSAPPFILES</th>\n",
       "      <th>L7_PROTO_NAME_WSD</th>\n",
       "      <th>L7_PROTO_NAME_XBOX</th>\n",
       "      <th>L7_PROTO_NAME_XDMCP</th>\n",
       "      <th>L7_PROTO_NAME_ZABBIX</th>\n",
       "    </tr>\n",
       "  </thead>\n",
       "  <tbody>\n",
       "    <tr>\n",
       "      <th>0</th>\n",
       "      <td>1618224176</td>\n",
       "      <td>8962</td>\n",
       "      <td>6</td>\n",
       "      <td>80</td>\n",
       "      <td>30258</td>\n",
       "      <td>1618224185</td>\n",
       "      <td>5.375278</td>\n",
       "      <td>4</td>\n",
       "      <td>6.617403</td>\n",
       "      <td>27</td>\n",
       "      <td>...</td>\n",
       "      <td>0</td>\n",
       "      <td>0</td>\n",
       "      <td>0</td>\n",
       "      <td>0</td>\n",
       "      <td>0</td>\n",
       "      <td>0</td>\n",
       "      <td>0</td>\n",
       "      <td>0</td>\n",
       "      <td>0</td>\n",
       "      <td>0</td>\n",
       "    </tr>\n",
       "    <tr>\n",
       "      <th>1</th>\n",
       "      <td>1618228480</td>\n",
       "      <td>17</td>\n",
       "      <td>4</td>\n",
       "      <td>80</td>\n",
       "      <td>60087</td>\n",
       "      <td>1618228480</td>\n",
       "      <td>5.099866</td>\n",
       "      <td>3</td>\n",
       "      <td>5.375278</td>\n",
       "      <td>19</td>\n",
       "      <td>...</td>\n",
       "      <td>0</td>\n",
       "      <td>0</td>\n",
       "      <td>0</td>\n",
       "      <td>0</td>\n",
       "      <td>0</td>\n",
       "      <td>0</td>\n",
       "      <td>0</td>\n",
       "      <td>0</td>\n",
       "      <td>0</td>\n",
       "      <td>0</td>\n",
       "    </tr>\n",
       "    <tr>\n",
       "      <th>2</th>\n",
       "      <td>1618230693</td>\n",
       "      <td>109775</td>\n",
       "      <td>15</td>\n",
       "      <td>80</td>\n",
       "      <td>48415</td>\n",
       "      <td>1618230803</td>\n",
       "      <td>6.436150</td>\n",
       "      <td>12</td>\n",
       "      <td>7.181592</td>\n",
       "      <td>24</td>\n",
       "      <td>...</td>\n",
       "      <td>0</td>\n",
       "      <td>0</td>\n",
       "      <td>0</td>\n",
       "      <td>0</td>\n",
       "      <td>0</td>\n",
       "      <td>0</td>\n",
       "      <td>0</td>\n",
       "      <td>0</td>\n",
       "      <td>0</td>\n",
       "      <td>0</td>\n",
       "    </tr>\n",
       "  </tbody>\n",
       "</table>\n",
       "<p>3 rows × 96 columns</p>\n",
       "</div>"
      ],
      "text/plain": [
       "   FIRST_SWITCHED  FLOW_DURATION_MILLISECONDS  IN_PKTS  L4_DST_PORT  \\\n",
       "0      1618224176                        8962        6           80   \n",
       "1      1618228480                          17        4           80   \n",
       "2      1618230693                      109775       15           80   \n",
       "\n",
       "   L4_SRC_PORT  LAST_SWITCHED  OUT_BYTES  OUT_PKTS  SRC_TO_DST_SECOND_BYTES  \\\n",
       "0        30258     1618224185   5.375278         4                 6.617403   \n",
       "1        60087     1618228480   5.099866         3                 5.375278   \n",
       "2        48415     1618230803   6.436150        12                 7.181592   \n",
       "\n",
       "   TCP_FLAGS  ...  L7_PROTO_NAME_TLS  L7_PROTO_NAME_UBNTAC2  \\\n",
       "0         27  ...                  0                      0   \n",
       "1         19  ...                  0                      0   \n",
       "2         24  ...                  0                      0   \n",
       "\n",
       "  L7_PROTO_NAME_UNKNOWN  L7_PROTO_NAME_VIBER  L7_PROTO_NAME_VNC  \\\n",
       "0                     0                    0                  0   \n",
       "1                     0                    0                  0   \n",
       "2                     0                    0                  0   \n",
       "\n",
       "   L7_PROTO_NAME_WHATSAPPFILES  L7_PROTO_NAME_WSD  L7_PROTO_NAME_XBOX  \\\n",
       "0                            0                  0                   0   \n",
       "1                            0                  0                   0   \n",
       "2                            0                  0                   0   \n",
       "\n",
       "   L7_PROTO_NAME_XDMCP  L7_PROTO_NAME_ZABBIX  \n",
       "0                    0                     0  \n",
       "1                    0                     0  \n",
       "2                    0                     0  \n",
       "\n",
       "[3 rows x 96 columns]"
      ]
     },
     "execution_count": 91,
     "metadata": {},
     "output_type": "execute_result"
    }
   ],
   "source": [
    "df = pd.get_dummies(df, columns = [\"L7_PROTO_NAME\"])\n",
    "df.head(3)"
   ]
  },
  {
   "cell_type": "markdown",
   "metadata": {},
   "source": [
    "#### Treat LABEL column"
   ]
  },
  {
   "cell_type": "code",
   "execution_count": 92,
   "metadata": {},
   "outputs": [
    {
     "data": {
      "text/plain": [
       "array(['Denial of Service R-U-Dead-Yet', 'Denial of Service Slowloris',\n",
       "       'Normal flow', 'SYN Scan - aggressive'], dtype=object)"
      ]
     },
     "execution_count": 92,
     "metadata": {},
     "output_type": "execute_result"
    }
   ],
   "source": [
    "df[\"LABEL\"].unique()"
   ]
  },
  {
   "cell_type": "code",
   "execution_count": 93,
   "metadata": {},
   "outputs": [
    {
     "data": {
      "text/plain": [
       "array([2, 3, 0, 1])"
      ]
     },
     "execution_count": 93,
     "metadata": {},
     "output_type": "execute_result"
    }
   ],
   "source": [
    "labels_dic = {\n",
    "    \"Normal flow\": 0,\n",
    "    \"SYN Scan - aggressive\": 1,\n",
    "    \"Denial of Service R-U-Dead-Yet\": 2,\n",
    "    \"Denial of Service Slowloris\": 3\n",
    "}\n",
    "df[\"LABEL\"] = df[\"LABEL\"].apply(lambda x: labels_dic[x])\n",
    "df[\"LABEL\"].unique()"
   ]
  },
  {
   "cell_type": "markdown",
   "metadata": {},
   "source": [
    "### Normalize column names"
   ]
  },
  {
   "cell_type": "code",
   "execution_count": 94,
   "metadata": {},
   "outputs": [
    {
     "data": {
      "text/plain": [
       "Index(['FIRST_SWITCHED', 'FLOW_DURATION_MILLISECONDS', 'IN_PKTS',\n",
       "       'L4_DST_PORT', 'L4_SRC_PORT', 'LAST_SWITCHED', 'OUT_BYTES', 'OUT_PKTS',\n",
       "       'SRC_TO_DST_SECOND_BYTES', 'TCP_FLAGS', 'TCP_WIN_MAX_OUT',\n",
       "       'TCP_WIN_MSS_IN', 'LABEL', 'PROTOCOL_MAP_icmp', 'PROTOCOL_MAP_tcp',\n",
       "       'PROTOCOL_MAP_udp', 'L7_PROTO_NAME_AJP', 'L7_PROTO_NAME_AMAZON',\n",
       "       'L7_PROTO_NAME_APPLE', 'L7_PROTO_NAME_BGP', 'L7_PROTO_NAME_BITTORRENT',\n",
       "       'L7_PROTO_NAME_CISCOVPN', 'L7_PROTO_NAME_CITRIX',\n",
       "       'L7_PROTO_NAME_CLOUDFLARE', 'L7_PROTO_NAME_COAP', 'L7_PROTO_NAME_CORBA',\n",
       "       'L7_PROTO_NAME_DCE_RPC', 'L7_PROTO_NAME_DNP3', 'L7_PROTO_NAME_DNS',\n",
       "       'L7_PROTO_NAME_FACEBOOK', 'L7_PROTO_NAME_FTP_CONTROL',\n",
       "       'L7_PROTO_NAME_FTP_DATA', 'L7_PROTO_NAME_GIT', 'L7_PROTO_NAME_GOOGLE',\n",
       "       'L7_PROTO_NAME_H323', 'L7_PROTO_NAME_HTTP', 'L7_PROTO_NAME_HTTP_PROXY',\n",
       "       'L7_PROTO_NAME_IAX', 'L7_PROTO_NAME_ICMP', 'L7_PROTO_NAME_IEC60870',\n",
       "       'L7_PROTO_NAME_IMAP', 'L7_PROTO_NAME_IMAPS', 'L7_PROTO_NAME_IPSEC',\n",
       "       'L7_PROTO_NAME_KERBEROS', 'L7_PROTO_NAME_LDAP', 'L7_PROTO_NAME_MDNS',\n",
       "       'L7_PROTO_NAME_MEMCACHED', 'L7_PROTO_NAME_MICROSOFT',\n",
       "       'L7_PROTO_NAME_MINING', 'L7_PROTO_NAME_MODBUS', 'L7_PROTO_NAME_MONGODB',\n",
       "       'L7_PROTO_NAME_MQTT', 'L7_PROTO_NAME_MSSQL_TDS',\n",
       "       'L7_PROTO_NAME_NESTLOGSINK', 'L7_PROTO_NAME_NETBIOS',\n",
       "       'L7_PROTO_NAME_NFS', 'L7_PROTO_NAME_NTP', 'L7_PROTO_NAME_OPENVPN',\n",
       "       'L7_PROTO_NAME_OSPF', 'L7_PROTO_NAME_PLAYSTATION',\n",
       "       'L7_PROTO_NAME_POSTGRESQL', 'L7_PROTO_NAME_QUIC', 'L7_PROTO_NAME_RDP',\n",
       "       'L7_PROTO_NAME_REDIS', 'L7_PROTO_NAME_REMOTESCAN',\n",
       "       'L7_PROTO_NAME_RSYNC', 'L7_PROTO_NAME_RTP', 'L7_PROTO_NAME_RTSP',\n",
       "       'L7_PROTO_NAME_RX', 'L7_PROTO_NAME_S7COMM', 'L7_PROTO_NAME_SIP',\n",
       "       'L7_PROTO_NAME_SKYPE', 'L7_PROTO_NAME_SMBV23', 'L7_PROTO_NAME_SMTP',\n",
       "       'L7_PROTO_NAME_SMTPS', 'L7_PROTO_NAME_SNMP', 'L7_PROTO_NAME_SOCKS',\n",
       "       'L7_PROTO_NAME_SSDP', 'L7_PROTO_NAME_SSH', 'L7_PROTO_NAME_STARCRAFT',\n",
       "       'L7_PROTO_NAME_STEAM', 'L7_PROTO_NAME_STUN',\n",
       "       'L7_PROTO_NAME_TARGUSDATASPEED', 'L7_PROTO_NAME_TEAMVIEWER',\n",
       "       'L7_PROTO_NAME_TELNET', 'L7_PROTO_NAME_TINC', 'L7_PROTO_NAME_TLS',\n",
       "       'L7_PROTO_NAME_UBNTAC2', 'L7_PROTO_NAME_UNKNOWN', 'L7_PROTO_NAME_VIBER',\n",
       "       'L7_PROTO_NAME_VNC', 'L7_PROTO_NAME_WHATSAPPFILES', 'L7_PROTO_NAME_WSD',\n",
       "       'L7_PROTO_NAME_XBOX', 'L7_PROTO_NAME_XDMCP', 'L7_PROTO_NAME_ZABBIX'],\n",
       "      dtype='object')"
      ]
     },
     "execution_count": 94,
     "metadata": {},
     "output_type": "execute_result"
    }
   ],
   "source": [
    "# Normalize columns\n",
    "df.columns = [column.replace(\"-\", \"_\") for column in df.columns]\n",
    "df.columns"
   ]
  },
  {
   "cell_type": "markdown",
   "metadata": {},
   "source": [
    "### Third profile report"
   ]
  },
  {
   "cell_type": "code",
   "execution_count": 95,
   "metadata": {},
   "outputs": [
    {
     "data": {
      "text/plain": [
       "(97673, 96)"
      ]
     },
     "execution_count": 95,
     "metadata": {},
     "output_type": "execute_result"
    }
   ],
   "source": [
    "df.shape"
   ]
  },
  {
   "cell_type": "code",
   "execution_count": 96,
   "metadata": {},
   "outputs": [],
   "source": [
    "if not os.path.isfile(\"reports/profile-categorical.html\") and generate_reports:\n",
    "    ProfileReport(df, title=\"Exploratory Data Analysis 2\").to_file(\"reports/profile-categorical.html\")"
   ]
  },
  {
   "cell_type": "markdown",
   "metadata": {},
   "source": [
    "### Create clean dataset"
   ]
  },
  {
   "cell_type": "code",
   "execution_count": 97,
   "metadata": {},
   "outputs": [],
   "source": [
    "df.to_csv(\"dataset/clean_df.csv\", index_label=False)"
   ]
  },
  {
   "cell_type": "code",
   "execution_count": 98,
   "metadata": {},
   "outputs": [
    {
     "data": {
      "text/plain": [
       "Index(['FIRST_SWITCHED', 'FLOW_DURATION_MILLISECONDS', 'IN_PKTS',\n",
       "       'L4_DST_PORT', 'L4_SRC_PORT', 'LAST_SWITCHED', 'OUT_BYTES', 'OUT_PKTS',\n",
       "       'SRC_TO_DST_SECOND_BYTES', 'TCP_FLAGS', 'TCP_WIN_MAX_OUT',\n",
       "       'TCP_WIN_MSS_IN', 'LABEL', 'PROTOCOL_MAP_icmp', 'PROTOCOL_MAP_tcp',\n",
       "       'PROTOCOL_MAP_udp', 'L7_PROTO_NAME_AJP', 'L7_PROTO_NAME_AMAZON',\n",
       "       'L7_PROTO_NAME_APPLE', 'L7_PROTO_NAME_BGP', 'L7_PROTO_NAME_BITTORRENT',\n",
       "       'L7_PROTO_NAME_CISCOVPN', 'L7_PROTO_NAME_CITRIX',\n",
       "       'L7_PROTO_NAME_CLOUDFLARE', 'L7_PROTO_NAME_COAP', 'L7_PROTO_NAME_CORBA',\n",
       "       'L7_PROTO_NAME_DCE_RPC', 'L7_PROTO_NAME_DNP3', 'L7_PROTO_NAME_DNS',\n",
       "       'L7_PROTO_NAME_FACEBOOK', 'L7_PROTO_NAME_FTP_CONTROL',\n",
       "       'L7_PROTO_NAME_FTP_DATA', 'L7_PROTO_NAME_GIT', 'L7_PROTO_NAME_GOOGLE',\n",
       "       'L7_PROTO_NAME_H323', 'L7_PROTO_NAME_HTTP', 'L7_PROTO_NAME_HTTP_PROXY',\n",
       "       'L7_PROTO_NAME_IAX', 'L7_PROTO_NAME_ICMP', 'L7_PROTO_NAME_IEC60870',\n",
       "       'L7_PROTO_NAME_IMAP', 'L7_PROTO_NAME_IMAPS', 'L7_PROTO_NAME_IPSEC',\n",
       "       'L7_PROTO_NAME_KERBEROS', 'L7_PROTO_NAME_LDAP', 'L7_PROTO_NAME_MDNS',\n",
       "       'L7_PROTO_NAME_MEMCACHED', 'L7_PROTO_NAME_MICROSOFT',\n",
       "       'L7_PROTO_NAME_MINING', 'L7_PROTO_NAME_MODBUS', 'L7_PROTO_NAME_MONGODB',\n",
       "       'L7_PROTO_NAME_MQTT', 'L7_PROTO_NAME_MSSQL_TDS',\n",
       "       'L7_PROTO_NAME_NESTLOGSINK', 'L7_PROTO_NAME_NETBIOS',\n",
       "       'L7_PROTO_NAME_NFS', 'L7_PROTO_NAME_NTP', 'L7_PROTO_NAME_OPENVPN',\n",
       "       'L7_PROTO_NAME_OSPF', 'L7_PROTO_NAME_PLAYSTATION',\n",
       "       'L7_PROTO_NAME_POSTGRESQL', 'L7_PROTO_NAME_QUIC', 'L7_PROTO_NAME_RDP',\n",
       "       'L7_PROTO_NAME_REDIS', 'L7_PROTO_NAME_REMOTESCAN',\n",
       "       'L7_PROTO_NAME_RSYNC', 'L7_PROTO_NAME_RTP', 'L7_PROTO_NAME_RTSP',\n",
       "       'L7_PROTO_NAME_RX', 'L7_PROTO_NAME_S7COMM', 'L7_PROTO_NAME_SIP',\n",
       "       'L7_PROTO_NAME_SKYPE', 'L7_PROTO_NAME_SMBV23', 'L7_PROTO_NAME_SMTP',\n",
       "       'L7_PROTO_NAME_SMTPS', 'L7_PROTO_NAME_SNMP', 'L7_PROTO_NAME_SOCKS',\n",
       "       'L7_PROTO_NAME_SSDP', 'L7_PROTO_NAME_SSH', 'L7_PROTO_NAME_STARCRAFT',\n",
       "       'L7_PROTO_NAME_STEAM', 'L7_PROTO_NAME_STUN',\n",
       "       'L7_PROTO_NAME_TARGUSDATASPEED', 'L7_PROTO_NAME_TEAMVIEWER',\n",
       "       'L7_PROTO_NAME_TELNET', 'L7_PROTO_NAME_TINC', 'L7_PROTO_NAME_TLS',\n",
       "       'L7_PROTO_NAME_UBNTAC2', 'L7_PROTO_NAME_UNKNOWN', 'L7_PROTO_NAME_VIBER',\n",
       "       'L7_PROTO_NAME_VNC', 'L7_PROTO_NAME_WHATSAPPFILES', 'L7_PROTO_NAME_WSD',\n",
       "       'L7_PROTO_NAME_XBOX', 'L7_PROTO_NAME_XDMCP', 'L7_PROTO_NAME_ZABBIX'],\n",
       "      dtype='object')"
      ]
     },
     "execution_count": 98,
     "metadata": {},
     "output_type": "execute_result"
    }
   ],
   "source": [
    "df.columns"
   ]
  },
  {
   "cell_type": "code",
   "execution_count": 99,
   "metadata": {},
   "outputs": [
    {
     "name": "stdout",
     "output_type": "stream",
     "text": [
      "FIRST_SWITCHED\n",
      "FLOW_DURATION_MILLISECONDS\n",
      "IN_PKTS\n",
      "L4_DST_PORT\n",
      "L4_SRC_PORT\n",
      "LAST_SWITCHED\n",
      "OUT_BYTES\n",
      "OUT_PKTS\n",
      "SRC_TO_DST_SECOND_BYTES\n",
      "TCP_FLAGS\n",
      "TCP_WIN_MAX_OUT\n",
      "TCP_WIN_MSS_IN\n",
      "LABEL\n",
      "PROTOCOL_MAP_icmp\n",
      "PROTOCOL_MAP_tcp\n",
      "PROTOCOL_MAP_udp\n",
      "L7_PROTO_NAME_AJP\n",
      "L7_PROTO_NAME_AMAZON\n",
      "L7_PROTO_NAME_APPLE\n",
      "L7_PROTO_NAME_BGP\n",
      "L7_PROTO_NAME_BITTORRENT\n",
      "L7_PROTO_NAME_CISCOVPN\n",
      "L7_PROTO_NAME_CITRIX\n",
      "L7_PROTO_NAME_CLOUDFLARE\n",
      "L7_PROTO_NAME_COAP\n",
      "L7_PROTO_NAME_CORBA\n",
      "L7_PROTO_NAME_DCE_RPC\n",
      "L7_PROTO_NAME_DNP3\n",
      "L7_PROTO_NAME_DNS\n",
      "L7_PROTO_NAME_FACEBOOK\n",
      "L7_PROTO_NAME_FTP_CONTROL\n",
      "L7_PROTO_NAME_FTP_DATA\n",
      "L7_PROTO_NAME_GIT\n",
      "L7_PROTO_NAME_GOOGLE\n",
      "L7_PROTO_NAME_H323\n",
      "L7_PROTO_NAME_HTTP\n",
      "L7_PROTO_NAME_HTTP_PROXY\n",
      "L7_PROTO_NAME_IAX\n",
      "L7_PROTO_NAME_ICMP\n",
      "L7_PROTO_NAME_IEC60870\n",
      "L7_PROTO_NAME_IMAP\n",
      "L7_PROTO_NAME_IMAPS\n",
      "L7_PROTO_NAME_IPSEC\n",
      "L7_PROTO_NAME_KERBEROS\n",
      "L7_PROTO_NAME_LDAP\n",
      "L7_PROTO_NAME_MDNS\n",
      "L7_PROTO_NAME_MEMCACHED\n",
      "L7_PROTO_NAME_MICROSOFT\n",
      "L7_PROTO_NAME_MINING\n",
      "L7_PROTO_NAME_MODBUS\n",
      "L7_PROTO_NAME_MONGODB\n",
      "L7_PROTO_NAME_MQTT\n",
      "L7_PROTO_NAME_MSSQL_TDS\n",
      "L7_PROTO_NAME_NESTLOGSINK\n",
      "L7_PROTO_NAME_NETBIOS\n",
      "L7_PROTO_NAME_NFS\n",
      "L7_PROTO_NAME_NTP\n",
      "L7_PROTO_NAME_OPENVPN\n",
      "L7_PROTO_NAME_OSPF\n",
      "L7_PROTO_NAME_PLAYSTATION\n",
      "L7_PROTO_NAME_POSTGRESQL\n",
      "L7_PROTO_NAME_QUIC\n",
      "L7_PROTO_NAME_RDP\n",
      "L7_PROTO_NAME_REDIS\n",
      "L7_PROTO_NAME_REMOTESCAN\n",
      "L7_PROTO_NAME_RSYNC\n",
      "L7_PROTO_NAME_RTP\n",
      "L7_PROTO_NAME_RTSP\n",
      "L7_PROTO_NAME_RX\n",
      "L7_PROTO_NAME_S7COMM\n",
      "L7_PROTO_NAME_SIP\n",
      "L7_PROTO_NAME_SKYPE\n",
      "L7_PROTO_NAME_SMBV23\n",
      "L7_PROTO_NAME_SMTP\n",
      "L7_PROTO_NAME_SMTPS\n",
      "L7_PROTO_NAME_SNMP\n",
      "L7_PROTO_NAME_SOCKS\n",
      "L7_PROTO_NAME_SSDP\n",
      "L7_PROTO_NAME_SSH\n",
      "L7_PROTO_NAME_STARCRAFT\n",
      "L7_PROTO_NAME_STEAM\n",
      "L7_PROTO_NAME_STUN\n",
      "L7_PROTO_NAME_TARGUSDATASPEED\n",
      "L7_PROTO_NAME_TEAMVIEWER\n",
      "L7_PROTO_NAME_TELNET\n",
      "L7_PROTO_NAME_TINC\n",
      "L7_PROTO_NAME_TLS\n",
      "L7_PROTO_NAME_UBNTAC2\n",
      "L7_PROTO_NAME_UNKNOWN\n",
      "L7_PROTO_NAME_VIBER\n",
      "L7_PROTO_NAME_VNC\n",
      "L7_PROTO_NAME_WHATSAPPFILES\n",
      "L7_PROTO_NAME_WSD\n",
      "L7_PROTO_NAME_XBOX\n",
      "L7_PROTO_NAME_XDMCP\n",
      "L7_PROTO_NAME_ZABBIX\n"
     ]
    }
   ],
   "source": [
    "for column in df.columns:\n",
    "    print(column)"
   ]
  },
  {
   "cell_type": "code",
   "execution_count": 100,
   "metadata": {},
   "outputs": [
    {
     "data": {
      "text/plain": [
       "96"
      ]
     },
     "execution_count": 100,
     "metadata": {},
     "output_type": "execute_result"
    }
   ],
   "source": [
    "len(df.columns)"
   ]
  },
  {
   "cell_type": "code",
   "execution_count": null,
   "metadata": {},
   "outputs": [],
   "source": []
  }
 ],
 "metadata": {
  "interpreter": {
   "hash": "c30ed9953166c46a373925bc872b270a46ca8c9de287d54e6d16603f90de65fb"
  },
  "kernelspec": {
   "display_name": "Python 3 (ipykernel)",
   "language": "python",
   "name": "python3"
  },
  "language_info": {
   "codemirror_mode": {
    "name": "ipython",
    "version": 3
   },
   "file_extension": ".py",
   "mimetype": "text/x-python",
   "name": "python",
   "nbconvert_exporter": "python",
   "pygments_lexer": "ipython3",
   "version": "3.7.12"
  }
 },
 "nbformat": 4,
 "nbformat_minor": 2
}
