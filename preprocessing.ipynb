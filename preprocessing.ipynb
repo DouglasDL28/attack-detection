{
 "cells": [
  {
   "cell_type": "markdown",
   "metadata": {},
   "source": [
    "# Proyecto 1\n",
    "## Detección de ataques"
   ]
  },
  {
   "cell_type": "code",
   "execution_count": 1,
   "metadata": {},
   "outputs": [],
   "source": [
    "import os.path\n",
    "\n",
    "import pandas as pd\n",
    "from pandas_profiling import ProfileReport\n",
    "\n",
    "import utils"
   ]
  },
  {
   "cell_type": "code",
   "execution_count": 2,
   "metadata": {},
   "outputs": [],
   "source": [
    "generate_reports: bool = True"
   ]
  },
  {
   "cell_type": "code",
   "execution_count": 3,
   "metadata": {},
   "outputs": [],
   "source": [
    "part_1 = pd.read_csv(\"dataset/dataset-part1.csv\")\n",
    "part_2 = pd.read_csv(\"dataset/dataset-part2.csv\")"
   ]
  },
  {
   "cell_type": "code",
   "execution_count": 4,
   "metadata": {},
   "outputs": [],
   "source": [
    "df = pd.concat([part_1, part_2], ignore_index=True)"
   ]
  },
  {
   "cell_type": "markdown",
   "metadata": {},
   "source": [
    "## Análisis Exploratorio"
   ]
  },
  {
   "cell_type": "code",
   "execution_count": 5,
   "metadata": {},
   "outputs": [
    {
     "data": {
      "text/plain": [
       "array(['BIFLOW_DIRECTION', 'DIRECTION', 'DST_TO_SRC_SECOND_BYTES',\n",
       "       'FIREWALL_EVENT', 'FIRST_SWITCHED', 'FLOW_ACTIVE_TIMEOUT',\n",
       "       'FLOW_DURATION_MICROSECONDS', 'FLOW_DURATION_MILLISECONDS',\n",
       "       'FLOW_END_MILLISECONDS', 'FLOW_END_SEC', 'FLOW_ID',\n",
       "       'FLOW_INACTIVE_TIMEOUT', 'FLOW_START_MILLISECONDS',\n",
       "       'FLOW_START_SEC', 'FRAME_LENGTH', 'IN_BYTES', 'IN_PKTS',\n",
       "       'IPV4_DST_ADDR', 'IPV4_SRC_ADDR', 'L4_DST_PORT', 'L4_SRC_PORT',\n",
       "       'LAST_SWITCHED', 'MAX_IP_PKT_LEN', 'MIN_IP_PKT_LEN',\n",
       "       'OOORDER_IN_PKTS', 'OOORDER_OUT_PKTS', 'OUT_BYTES', 'OUT_PKTS',\n",
       "       'PROTOCOL', 'PROTOCOL_MAP', 'RETRANSMITTED_IN_BYTES',\n",
       "       'RETRANSMITTED_IN_PKTS', 'RETRANSMITTED_OUT_BYTES',\n",
       "       'RETRANSMITTED_OUT_PKTS', 'SRC_TO_DST_SECOND_BYTES', 'TCP_FLAGS',\n",
       "       'TCP_WIN_MAX_IN', 'TCP_WIN_MAX_OUT', 'TCP_WIN_MIN_IN',\n",
       "       'TCP_WIN_MIN_OUT', 'TCP_WIN_MSS_IN', 'TCP_WIN_MSS_OUT',\n",
       "       'TCP_WIN_SCALE_IN', 'TCP_WIN_SCALE_OUT', 'SRC_TOS', 'DST_TOS',\n",
       "       'L7_PROTO_NAME', 'SAMPLING_INTERVAL', 'TOTAL_FLOWS_EXP', 'LABEL'],\n",
       "      dtype=object)"
      ]
     },
     "execution_count": 5,
     "metadata": {},
     "output_type": "execute_result"
    }
   ],
   "source": [
    "df.columns.values"
   ]
  },
  {
   "cell_type": "code",
   "execution_count": 6,
   "metadata": {},
   "outputs": [
    {
     "name": "stdout",
     "output_type": "stream",
     "text": [
      "<class 'pandas.core.frame.DataFrame'>\n",
      "RangeIndex: 12207873 entries, 0 to 12207872\n",
      "Data columns (total 50 columns):\n",
      " #   Column                      Dtype \n",
      "---  ------                      ----- \n",
      " 0   BIFLOW_DIRECTION            int64 \n",
      " 1   DIRECTION                   int64 \n",
      " 2   DST_TO_SRC_SECOND_BYTES     object\n",
      " 3   FIREWALL_EVENT              int64 \n",
      " 4   FIRST_SWITCHED              int64 \n",
      " 5   FLOW_ACTIVE_TIMEOUT         int64 \n",
      " 6   FLOW_DURATION_MICROSECONDS  int64 \n",
      " 7   FLOW_DURATION_MILLISECONDS  int64 \n",
      " 8   FLOW_END_MILLISECONDS       int64 \n",
      " 9   FLOW_END_SEC                int64 \n",
      " 10  FLOW_ID                     int64 \n",
      " 11  FLOW_INACTIVE_TIMEOUT       int64 \n",
      " 12  FLOW_START_MILLISECONDS     int64 \n",
      " 13  FLOW_START_SEC              int64 \n",
      " 14  FRAME_LENGTH                int64 \n",
      " 15  IN_BYTES                    int64 \n",
      " 16  IN_PKTS                     int64 \n",
      " 17  IPV4_DST_ADDR               object\n",
      " 18  IPV4_SRC_ADDR               object\n",
      " 19  L4_DST_PORT                 int64 \n",
      " 20  L4_SRC_PORT                 int64 \n",
      " 21  LAST_SWITCHED               int64 \n",
      " 22  MAX_IP_PKT_LEN              int64 \n",
      " 23  MIN_IP_PKT_LEN              int64 \n",
      " 24  OOORDER_IN_PKTS             int64 \n",
      " 25  OOORDER_OUT_PKTS            int64 \n",
      " 26  OUT_BYTES                   int64 \n",
      " 27  OUT_PKTS                    int64 \n",
      " 28  PROTOCOL                    int64 \n",
      " 29  PROTOCOL_MAP                object\n",
      " 30  RETRANSMITTED_IN_BYTES      int64 \n",
      " 31  RETRANSMITTED_IN_PKTS       int64 \n",
      " 32  RETRANSMITTED_OUT_BYTES     int64 \n",
      " 33  RETRANSMITTED_OUT_PKTS      int64 \n",
      " 34  SRC_TO_DST_SECOND_BYTES     object\n",
      " 35  TCP_FLAGS                   int64 \n",
      " 36  TCP_WIN_MAX_IN              int64 \n",
      " 37  TCP_WIN_MAX_OUT             int64 \n",
      " 38  TCP_WIN_MIN_IN              int64 \n",
      " 39  TCP_WIN_MIN_OUT             int64 \n",
      " 40  TCP_WIN_MSS_IN              int64 \n",
      " 41  TCP_WIN_MSS_OUT             int64 \n",
      " 42  TCP_WIN_SCALE_IN            int64 \n",
      " 43  TCP_WIN_SCALE_OUT           int64 \n",
      " 44  SRC_TOS                     int64 \n",
      " 45  DST_TOS                     int64 \n",
      " 46  L7_PROTO_NAME               object\n",
      " 47  SAMPLING_INTERVAL           int64 \n",
      " 48  TOTAL_FLOWS_EXP             int64 \n",
      " 49  LABEL                       object\n",
      "dtypes: int64(43), object(7)\n",
      "memory usage: 4.5+ GB\n"
     ]
    }
   ],
   "source": [
    "df.info()"
   ]
  },
  {
   "cell_type": "code",
   "execution_count": 7,
   "metadata": {},
   "outputs": [
    {
     "data": {
      "text/html": [
       "<div>\n",
       "<style scoped>\n",
       "    .dataframe tbody tr th:only-of-type {\n",
       "        vertical-align: middle;\n",
       "    }\n",
       "\n",
       "    .dataframe tbody tr th {\n",
       "        vertical-align: top;\n",
       "    }\n",
       "\n",
       "    .dataframe thead th {\n",
       "        text-align: right;\n",
       "    }\n",
       "</style>\n",
       "<table border=\"1\" class=\"dataframe\">\n",
       "  <thead>\n",
       "    <tr style=\"text-align: right;\">\n",
       "      <th></th>\n",
       "      <th>BIFLOW_DIRECTION</th>\n",
       "      <th>DIRECTION</th>\n",
       "      <th>DST_TO_SRC_SECOND_BYTES</th>\n",
       "      <th>FIREWALL_EVENT</th>\n",
       "      <th>FIRST_SWITCHED</th>\n",
       "      <th>FLOW_ACTIVE_TIMEOUT</th>\n",
       "      <th>FLOW_DURATION_MICROSECONDS</th>\n",
       "      <th>FLOW_DURATION_MILLISECONDS</th>\n",
       "      <th>FLOW_END_MILLISECONDS</th>\n",
       "      <th>FLOW_END_SEC</th>\n",
       "      <th>...</th>\n",
       "      <th>TCP_WIN_MSS_IN</th>\n",
       "      <th>TCP_WIN_MSS_OUT</th>\n",
       "      <th>TCP_WIN_SCALE_IN</th>\n",
       "      <th>TCP_WIN_SCALE_OUT</th>\n",
       "      <th>SRC_TOS</th>\n",
       "      <th>DST_TOS</th>\n",
       "      <th>L7_PROTO_NAME</th>\n",
       "      <th>SAMPLING_INTERVAL</th>\n",
       "      <th>TOTAL_FLOWS_EXP</th>\n",
       "      <th>LABEL</th>\n",
       "    </tr>\n",
       "  </thead>\n",
       "  <tbody>\n",
       "    <tr>\n",
       "      <th>0</th>\n",
       "      <td>1</td>\n",
       "      <td>0</td>\n",
       "      <td>40</td>\n",
       "      <td>0</td>\n",
       "      <td>1616660040</td>\n",
       "      <td>120</td>\n",
       "      <td>339</td>\n",
       "      <td>0</td>\n",
       "      <td>1616660040010</td>\n",
       "      <td>1616660040</td>\n",
       "      <td>...</td>\n",
       "      <td>1460</td>\n",
       "      <td>0</td>\n",
       "      <td>0</td>\n",
       "      <td>0</td>\n",
       "      <td>0</td>\n",
       "      <td>0</td>\n",
       "      <td>Unknown</td>\n",
       "      <td>1</td>\n",
       "      <td>2293398</td>\n",
       "      <td>Normal flow</td>\n",
       "    </tr>\n",
       "    <tr>\n",
       "      <th>1</th>\n",
       "      <td>1</td>\n",
       "      <td>0</td>\n",
       "      <td>,</td>\n",
       "      <td>0</td>\n",
       "      <td>1616660040</td>\n",
       "      <td>120</td>\n",
       "      <td>0</td>\n",
       "      <td>0</td>\n",
       "      <td>1616660040068</td>\n",
       "      <td>1616660040</td>\n",
       "      <td>...</td>\n",
       "      <td>0</td>\n",
       "      <td>0</td>\n",
       "      <td>0</td>\n",
       "      <td>0</td>\n",
       "      <td>40</td>\n",
       "      <td>0</td>\n",
       "      <td>ICMP</td>\n",
       "      <td>1</td>\n",
       "      <td>2293400</td>\n",
       "      <td>Normal flow</td>\n",
       "    </tr>\n",
       "    <tr>\n",
       "      <th>2</th>\n",
       "      <td>1</td>\n",
       "      <td>0</td>\n",
       "      <td>104</td>\n",
       "      <td>0</td>\n",
       "      <td>1616660040</td>\n",
       "      <td>120</td>\n",
       "      <td>44725</td>\n",
       "      <td>44</td>\n",
       "      <td>1616660040114</td>\n",
       "      <td>1616660040</td>\n",
       "      <td>...</td>\n",
       "      <td>0</td>\n",
       "      <td>0</td>\n",
       "      <td>0</td>\n",
       "      <td>0</td>\n",
       "      <td>0</td>\n",
       "      <td>0</td>\n",
       "      <td>TLS</td>\n",
       "      <td>1</td>\n",
       "      <td>2293404</td>\n",
       "      <td>Normal flow</td>\n",
       "    </tr>\n",
       "    <tr>\n",
       "      <th>3</th>\n",
       "      <td>1</td>\n",
       "      <td>0</td>\n",
       "      <td>,</td>\n",
       "      <td>0</td>\n",
       "      <td>1616660040</td>\n",
       "      <td>120</td>\n",
       "      <td>0</td>\n",
       "      <td>0</td>\n",
       "      <td>1616660040122</td>\n",
       "      <td>1616660040</td>\n",
       "      <td>...</td>\n",
       "      <td>1440</td>\n",
       "      <td>0</td>\n",
       "      <td>8</td>\n",
       "      <td>0</td>\n",
       "      <td>40</td>\n",
       "      <td>0</td>\n",
       "      <td>Unknown</td>\n",
       "      <td>1</td>\n",
       "      <td>2293407</td>\n",
       "      <td>Normal flow</td>\n",
       "    </tr>\n",
       "    <tr>\n",
       "      <th>4</th>\n",
       "      <td>1</td>\n",
       "      <td>0</td>\n",
       "      <td>40</td>\n",
       "      <td>0</td>\n",
       "      <td>1616660040</td>\n",
       "      <td>120</td>\n",
       "      <td>1114</td>\n",
       "      <td>1</td>\n",
       "      <td>1616660040184</td>\n",
       "      <td>1616660040</td>\n",
       "      <td>...</td>\n",
       "      <td>0</td>\n",
       "      <td>0</td>\n",
       "      <td>0</td>\n",
       "      <td>0</td>\n",
       "      <td>0</td>\n",
       "      <td>0</td>\n",
       "      <td>TLS</td>\n",
       "      <td>1</td>\n",
       "      <td>2293409</td>\n",
       "      <td>Normal flow</td>\n",
       "    </tr>\n",
       "  </tbody>\n",
       "</table>\n",
       "<p>5 rows × 50 columns</p>\n",
       "</div>"
      ],
      "text/plain": [
       "   BIFLOW_DIRECTION  DIRECTION DST_TO_SRC_SECOND_BYTES  FIREWALL_EVENT  \\\n",
       "0                 1          0                      40               0   \n",
       "1                 1          0                       ,               0   \n",
       "2                 1          0                     104               0   \n",
       "3                 1          0                       ,               0   \n",
       "4                 1          0                      40               0   \n",
       "\n",
       "   FIRST_SWITCHED  FLOW_ACTIVE_TIMEOUT  FLOW_DURATION_MICROSECONDS  \\\n",
       "0      1616660040                  120                         339   \n",
       "1      1616660040                  120                           0   \n",
       "2      1616660040                  120                       44725   \n",
       "3      1616660040                  120                           0   \n",
       "4      1616660040                  120                        1114   \n",
       "\n",
       "   FLOW_DURATION_MILLISECONDS  FLOW_END_MILLISECONDS  FLOW_END_SEC  ...  \\\n",
       "0                           0          1616660040010    1616660040  ...   \n",
       "1                           0          1616660040068    1616660040  ...   \n",
       "2                          44          1616660040114    1616660040  ...   \n",
       "3                           0          1616660040122    1616660040  ...   \n",
       "4                           1          1616660040184    1616660040  ...   \n",
       "\n",
       "   TCP_WIN_MSS_IN  TCP_WIN_MSS_OUT  TCP_WIN_SCALE_IN  TCP_WIN_SCALE_OUT  \\\n",
       "0            1460                0                 0                  0   \n",
       "1               0                0                 0                  0   \n",
       "2               0                0                 0                  0   \n",
       "3            1440                0                 8                  0   \n",
       "4               0                0                 0                  0   \n",
       "\n",
       "   SRC_TOS  DST_TOS  L7_PROTO_NAME SAMPLING_INTERVAL TOTAL_FLOWS_EXP  \\\n",
       "0        0        0        Unknown                 1         2293398   \n",
       "1       40        0           ICMP                 1         2293400   \n",
       "2        0        0            TLS                 1         2293404   \n",
       "3       40        0        Unknown                 1         2293407   \n",
       "4        0        0            TLS                 1         2293409   \n",
       "\n",
       "         LABEL  \n",
       "0  Normal flow  \n",
       "1  Normal flow  \n",
       "2  Normal flow  \n",
       "3  Normal flow  \n",
       "4  Normal flow  \n",
       "\n",
       "[5 rows x 50 columns]"
      ]
     },
     "execution_count": 7,
     "metadata": {},
     "output_type": "execute_result"
    }
   ],
   "source": [
    "df.head()"
   ]
  },
  {
   "cell_type": "code",
   "execution_count": 8,
   "metadata": {},
   "outputs": [
    {
     "data": {
      "text/html": [
       "<div>\n",
       "<style scoped>\n",
       "    .dataframe tbody tr th:only-of-type {\n",
       "        vertical-align: middle;\n",
       "    }\n",
       "\n",
       "    .dataframe tbody tr th {\n",
       "        vertical-align: top;\n",
       "    }\n",
       "\n",
       "    .dataframe thead th {\n",
       "        text-align: right;\n",
       "    }\n",
       "</style>\n",
       "<table border=\"1\" class=\"dataframe\">\n",
       "  <thead>\n",
       "    <tr style=\"text-align: right;\">\n",
       "      <th></th>\n",
       "      <th>DST_TO_SRC_SECOND_BYTES</th>\n",
       "      <th>IPV4_DST_ADDR</th>\n",
       "      <th>IPV4_SRC_ADDR</th>\n",
       "      <th>PROTOCOL_MAP</th>\n",
       "      <th>SRC_TO_DST_SECOND_BYTES</th>\n",
       "      <th>L7_PROTO_NAME</th>\n",
       "      <th>LABEL</th>\n",
       "    </tr>\n",
       "  </thead>\n",
       "  <tbody>\n",
       "    <tr>\n",
       "      <th>count</th>\n",
       "      <td>12207873</td>\n",
       "      <td>12207873</td>\n",
       "      <td>12207873</td>\n",
       "      <td>12207873</td>\n",
       "      <td>12207873</td>\n",
       "      <td>12207873</td>\n",
       "      <td>12207873</td>\n",
       "    </tr>\n",
       "    <tr>\n",
       "      <th>unique</th>\n",
       "      <td>569243</td>\n",
       "      <td>440887</td>\n",
       "      <td>88463</td>\n",
       "      <td>5</td>\n",
       "      <td>3160289</td>\n",
       "      <td>457</td>\n",
       "      <td>4</td>\n",
       "    </tr>\n",
       "    <tr>\n",
       "      <th>top</th>\n",
       "      <td>40</td>\n",
       "      <td>10.114.224.65</td>\n",
       "      <td>10.114.241.166</td>\n",
       "      <td>tcp</td>\n",
       "      <td>44</td>\n",
       "      <td>Unknown</td>\n",
       "      <td>Normal flow</td>\n",
       "    </tr>\n",
       "    <tr>\n",
       "      <th>freq</th>\n",
       "      <td>3053652</td>\n",
       "      <td>3604686</td>\n",
       "      <td>5671376</td>\n",
       "      <td>8950058</td>\n",
       "      <td>2534718</td>\n",
       "      <td>4090802</td>\n",
       "      <td>6570058</td>\n",
       "    </tr>\n",
       "  </tbody>\n",
       "</table>\n",
       "</div>"
      ],
      "text/plain": [
       "       DST_TO_SRC_SECOND_BYTES  IPV4_DST_ADDR   IPV4_SRC_ADDR PROTOCOL_MAP  \\\n",
       "count                 12207873       12207873        12207873     12207873   \n",
       "unique                  569243         440887           88463            5   \n",
       "top                         40  10.114.224.65  10.114.241.166          tcp   \n",
       "freq                   3053652        3604686         5671376      8950058   \n",
       "\n",
       "       SRC_TO_DST_SECOND_BYTES L7_PROTO_NAME        LABEL  \n",
       "count                 12207873      12207873     12207873  \n",
       "unique                 3160289           457            4  \n",
       "top                         44       Unknown  Normal flow  \n",
       "freq                   2534718       4090802      6570058  "
      ]
     },
     "execution_count": 8,
     "metadata": {},
     "output_type": "execute_result"
    }
   ],
   "source": [
    "df.describe(include=['object'])"
   ]
  },
  {
   "cell_type": "code",
   "execution_count": 9,
   "metadata": {
    "scrolled": true
   },
   "outputs": [
    {
     "data": {
      "text/html": [
       "<div>\n",
       "<style scoped>\n",
       "    .dataframe tbody tr th:only-of-type {\n",
       "        vertical-align: middle;\n",
       "    }\n",
       "\n",
       "    .dataframe tbody tr th {\n",
       "        vertical-align: top;\n",
       "    }\n",
       "\n",
       "    .dataframe thead th {\n",
       "        text-align: right;\n",
       "    }\n",
       "</style>\n",
       "<table border=\"1\" class=\"dataframe\">\n",
       "  <thead>\n",
       "    <tr style=\"text-align: right;\">\n",
       "      <th></th>\n",
       "      <th>DST_TO_SRC_SECOND_BYTES</th>\n",
       "      <th>IPV4_DST_ADDR</th>\n",
       "      <th>IPV4_SRC_ADDR</th>\n",
       "      <th>PROTOCOL_MAP</th>\n",
       "      <th>SRC_TO_DST_SECOND_BYTES</th>\n",
       "      <th>L7_PROTO_NAME</th>\n",
       "      <th>LABEL</th>\n",
       "    </tr>\n",
       "  </thead>\n",
       "  <tbody>\n",
       "    <tr>\n",
       "      <th>0</th>\n",
       "      <td>40</td>\n",
       "      <td>10.114.225.212</td>\n",
       "      <td>162.142.125.173</td>\n",
       "      <td>tcp</td>\n",
       "      <td>44</td>\n",
       "      <td>Unknown</td>\n",
       "      <td>Normal flow</td>\n",
       "    </tr>\n",
       "    <tr>\n",
       "      <th>1</th>\n",
       "      <td>,</td>\n",
       "      <td>10.114.225.215</td>\n",
       "      <td>45.79.106.170</td>\n",
       "      <td>icmp</td>\n",
       "      <td>68</td>\n",
       "      <td>ICMP</td>\n",
       "      <td>Normal flow</td>\n",
       "    </tr>\n",
       "    <tr>\n",
       "      <th>2</th>\n",
       "      <td>104</td>\n",
       "      <td>10.114.241.165</td>\n",
       "      <td>10.114.224.65</td>\n",
       "      <td>tcp</td>\n",
       "      <td>189</td>\n",
       "      <td>TLS</td>\n",
       "      <td>Normal flow</td>\n",
       "    </tr>\n",
       "    <tr>\n",
       "      <th>3</th>\n",
       "      <td>,</td>\n",
       "      <td>10.114.226.23</td>\n",
       "      <td>202.179.91.28</td>\n",
       "      <td>tcp</td>\n",
       "      <td>52</td>\n",
       "      <td>Unknown</td>\n",
       "      <td>Normal flow</td>\n",
       "    </tr>\n",
       "    <tr>\n",
       "      <th>4</th>\n",
       "      <td>40</td>\n",
       "      <td>10.114.224.65</td>\n",
       "      <td>10.114.241.165</td>\n",
       "      <td>tcp</td>\n",
       "      <td>189</td>\n",
       "      <td>TLS</td>\n",
       "      <td>Normal flow</td>\n",
       "    </tr>\n",
       "  </tbody>\n",
       "</table>\n",
       "</div>"
      ],
      "text/plain": [
       "  DST_TO_SRC_SECOND_BYTES   IPV4_DST_ADDR    IPV4_SRC_ADDR PROTOCOL_MAP  \\\n",
       "0                      40  10.114.225.212  162.142.125.173          tcp   \n",
       "1                       ,  10.114.225.215    45.79.106.170         icmp   \n",
       "2                     104  10.114.241.165    10.114.224.65          tcp   \n",
       "3                       ,   10.114.226.23    202.179.91.28          tcp   \n",
       "4                      40   10.114.224.65   10.114.241.165          tcp   \n",
       "\n",
       "  SRC_TO_DST_SECOND_BYTES L7_PROTO_NAME        LABEL  \n",
       "0                      44       Unknown  Normal flow  \n",
       "1                      68          ICMP  Normal flow  \n",
       "2                     189           TLS  Normal flow  \n",
       "3                      52       Unknown  Normal flow  \n",
       "4                     189           TLS  Normal flow  "
      ]
     },
     "execution_count": 9,
     "metadata": {},
     "output_type": "execute_result"
    }
   ],
   "source": [
    "object_columns = df.select_dtypes(include=['object']).columns\n",
    "df[object_columns].head(5)"
   ]
  },
  {
   "cell_type": "code",
   "execution_count": 10,
   "metadata": {},
   "outputs": [
    {
     "data": {
      "text/plain": [
       "array(['Normal flow', 'SYN Scan - aggressive',\n",
       "       'Denial of Service R-U-Dead-Yet', 'Denial of Service Slowloris'],\n",
       "      dtype=object)"
      ]
     },
     "execution_count": 10,
     "metadata": {},
     "output_type": "execute_result"
    }
   ],
   "source": [
    "df[\"LABEL\"].unique()"
   ]
  },
  {
   "cell_type": "code",
   "execution_count": 11,
   "metadata": {},
   "outputs": [
    {
     "data": {
      "text/plain": [
       "[]"
      ]
     },
     "execution_count": 11,
     "metadata": {},
     "output_type": "execute_result"
    }
   ],
   "source": [
    "# Check for nan columns\n",
    "df.columns[df.isna().any()].tolist()\n",
    "# No nan"
   ]
  },
  {
   "cell_type": "code",
   "execution_count": 12,
   "metadata": {},
   "outputs": [],
   "source": [
    "if not os.path.isfile(\"cleanEDA.html\") and generate_reports:\n",
    "    profile = ProfileReport(df, title=\"Exploratory Data Analysis - Clean DF\", minimal=True)\n",
    "    profile.to_file(\"cleanEDA.html\")"
   ]
  },
  {
   "cell_type": "markdown",
   "metadata": {},
   "source": [
    "## Balancing and sampling"
   ]
  },
  {
   "cell_type": "markdown",
   "metadata": {},
   "source": [
    "### Dataset balancing"
   ]
  },
  {
   "cell_type": "code",
   "execution_count": 13,
   "metadata": {},
   "outputs": [],
   "source": [
    "from imblearn.over_sampling import RandomOverSampler\n",
    "from collections import Counter\n",
    "\n",
    "ros = RandomOverSampler(sampling_strategy='minority')"
   ]
  },
  {
   "cell_type": "code",
   "execution_count": 14,
   "metadata": {},
   "outputs": [],
   "source": [
    "labels_dic = {\n",
    "    0: \"Normal flow\",\n",
    "    1: \"SYN Scan - aggressive\",\n",
    "    2: \"Denial of Service R-U-Dead-Yet\",\n",
    "    3: \"Denial of Service Slowloris\"\n",
    "}"
   ]
  },
  {
   "cell_type": "code",
   "execution_count": 15,
   "metadata": {},
   "outputs": [],
   "source": [
    "normal_flow = df.loc[df[\"LABEL\"] == labels_dic[0]]\n",
    "syn_attacks = df.loc[df[\"LABEL\"] == labels_dic[1]]\n",
    "r_u_dead_attacks = df.loc[df[\"LABEL\"] == labels_dic[2]]\n",
    "dos_attacks = df.loc[df[\"LABEL\"] == labels_dic[3]]"
   ]
  },
  {
   "cell_type": "code",
   "execution_count": 16,
   "metadata": {},
   "outputs": [
    {
     "name": "stdout",
     "output_type": "stream",
     "text": [
      "6570058\n",
      "2496814\n",
      "2276947\n",
      "864054\n"
     ]
    }
   ],
   "source": [
    "print(len(normal_flow))\n",
    "print(len(syn_attacks))\n",
    "print(len(r_u_dead_attacks))\n",
    "print(len(dos_attacks))"
   ]
  },
  {
   "cell_type": "markdown",
   "metadata": {},
   "source": [
    "#### Oversampling DDoS attack"
   ]
  },
  {
   "cell_type": "code",
   "execution_count": 17,
   "metadata": {},
   "outputs": [],
   "source": [
    "attacks_oversampling = pd.concat([syn_attacks, dos_attacks])\n",
    "y_oversampling = attacks_oversampling[\"LABEL\"]\n",
    "x_oversampling = attacks_oversampling.drop([\"LABEL\"], axis= 1)"
   ]
  },
  {
   "cell_type": "code",
   "execution_count": 18,
   "metadata": {},
   "outputs": [],
   "source": [
    "X_oversampling_res, y_oversampling_res = ros.fit_resample(x_oversampling, y_oversampling)"
   ]
  },
  {
   "cell_type": "code",
   "execution_count": 19,
   "metadata": {
    "scrolled": true
   },
   "outputs": [
    {
     "name": "stdout",
     "output_type": "stream",
     "text": [
      "Resampled dataset shape Counter({'SYN Scan - aggressive': 2496814, 'Denial of Service Slowloris': 2496814})\n"
     ]
    }
   ],
   "source": [
    "print('Resampled dataset shape %s' % Counter(y_oversampling_res))"
   ]
  },
  {
   "cell_type": "code",
   "execution_count": 20,
   "metadata": {},
   "outputs": [],
   "source": [
    "oversampling_result = X_oversampling_res.copy()\n",
    "oversampling_result[\"LABEL\"] = y_oversampling_res.copy()"
   ]
  },
  {
   "cell_type": "code",
   "execution_count": 21,
   "metadata": {},
   "outputs": [],
   "source": [
    "df = pd.concat([normal_flow, r_u_dead_attacks, oversampling_result])"
   ]
  },
  {
   "cell_type": "markdown",
   "metadata": {},
   "source": [
    "#### Undersampling benign"
   ]
  },
  {
   "cell_type": "code",
   "execution_count": 22,
   "metadata": {},
   "outputs": [],
   "source": [
    "from imblearn.under_sampling import RandomUnderSampler"
   ]
  },
  {
   "cell_type": "code",
   "execution_count": 23,
   "metadata": {},
   "outputs": [],
   "source": [
    "normal_flow = df.loc[df[\"LABEL\"] == labels_dic[0]]\n",
    "syn_attacks = df.loc[df[\"LABEL\"] == labels_dic[1]]\n",
    "r_u_dead_attacks = df.loc[df[\"LABEL\"] == labels_dic[2]]\n",
    "dos_attacks = df.loc[df[\"LABEL\"] == labels_dic[3]]"
   ]
  },
  {
   "cell_type": "code",
   "execution_count": 24,
   "metadata": {},
   "outputs": [],
   "source": [
    "benign_us = pd.concat([syn_attacks, normal_flow])"
   ]
  },
  {
   "cell_type": "code",
   "execution_count": 25,
   "metadata": {},
   "outputs": [],
   "source": [
    "y = benign_us[\"LABEL\"]\n",
    "X = benign_us.drop([\"LABEL\"], axis=1)"
   ]
  },
  {
   "cell_type": "code",
   "execution_count": 26,
   "metadata": {},
   "outputs": [],
   "source": [
    "rus = RandomUnderSampler(random_state=0)"
   ]
  },
  {
   "cell_type": "code",
   "execution_count": 27,
   "metadata": {},
   "outputs": [
    {
     "name": "stdout",
     "output_type": "stream",
     "text": [
      "Resampled dataset shape Counter({'Normal flow': 2496814, 'SYN Scan - aggressive': 2496814})\n"
     ]
    }
   ],
   "source": [
    "X_undersampled, y_undersampled = rus.fit_resample(X, y)\n",
    "\n",
    "print('Resampled dataset shape %s' % Counter(y_undersampled))"
   ]
  },
  {
   "cell_type": "code",
   "execution_count": 28,
   "metadata": {},
   "outputs": [],
   "source": [
    "X_undersampled[\"LABEL\"] = y_undersampled\n",
    "undersample_res = X_undersampled"
   ]
  },
  {
   "cell_type": "code",
   "execution_count": 29,
   "metadata": {},
   "outputs": [],
   "source": [
    "df = pd.concat([dos_attacks, r_u_dead_attacks, undersample_res])"
   ]
  },
  {
   "cell_type": "code",
   "execution_count": 4,
   "metadata": {},
   "outputs": [
    {
     "name": "stderr",
     "output_type": "stream",
     "text": [
      "/Users/douglasdeleon/Documents/DouglasJr/UVG/semestre9/SecurityDS/proyecto-1/attack-detection/venv/lib/python3.7/site-packages/IPython/core/interactiveshell.py:3457: DtypeWarning: Columns (35) have mixed types.Specify dtype option on import or set low_memory=False.\n",
      "  exec(code_obj, self.user_global_ns, self.user_ns)\n"
     ]
    }
   ],
   "source": [
    "if os.path.isfile(\"dataset/undersampled_df.csv\"):\n",
    "    df = pd.read_csv(\"dataset/undersampled_df.csv\")"
   ]
  },
  {
   "cell_type": "markdown",
   "metadata": {},
   "source": [
    "### Sampling"
   ]
  },
  {
   "cell_type": "code",
   "execution_count": 5,
   "metadata": {},
   "outputs": [
    {
     "data": {
      "text/html": [
       "<div>\n",
       "<style scoped>\n",
       "    .dataframe tbody tr th:only-of-type {\n",
       "        vertical-align: middle;\n",
       "    }\n",
       "\n",
       "    .dataframe tbody tr th {\n",
       "        vertical-align: top;\n",
       "    }\n",
       "\n",
       "    .dataframe thead th {\n",
       "        text-align: right;\n",
       "    }\n",
       "</style>\n",
       "<table border=\"1\" class=\"dataframe\">\n",
       "  <thead>\n",
       "    <tr style=\"text-align: right;\">\n",
       "      <th></th>\n",
       "      <th>Unnamed: 0</th>\n",
       "      <th>BIFLOW_DIRECTION</th>\n",
       "      <th>DIRECTION</th>\n",
       "      <th>DST_TO_SRC_SECOND_BYTES</th>\n",
       "      <th>FIREWALL_EVENT</th>\n",
       "      <th>FIRST_SWITCHED</th>\n",
       "      <th>FLOW_ACTIVE_TIMEOUT</th>\n",
       "      <th>FLOW_DURATION_MICROSECONDS</th>\n",
       "      <th>FLOW_DURATION_MILLISECONDS</th>\n",
       "      <th>FLOW_END_MILLISECONDS</th>\n",
       "      <th>...</th>\n",
       "      <th>TCP_WIN_MSS_IN</th>\n",
       "      <th>TCP_WIN_MSS_OUT</th>\n",
       "      <th>TCP_WIN_SCALE_IN</th>\n",
       "      <th>TCP_WIN_SCALE_OUT</th>\n",
       "      <th>SRC_TOS</th>\n",
       "      <th>DST_TOS</th>\n",
       "      <th>L7_PROTO_NAME</th>\n",
       "      <th>SAMPLING_INTERVAL</th>\n",
       "      <th>TOTAL_FLOWS_EXP</th>\n",
       "      <th>LABEL</th>\n",
       "    </tr>\n",
       "  </thead>\n",
       "  <tbody>\n",
       "    <tr>\n",
       "      <th>2647633</th>\n",
       "      <td>6430449</td>\n",
       "      <td>1</td>\n",
       "      <td>0</td>\n",
       "      <td>112,52,,,,,,,,52</td>\n",
       "      <td>0</td>\n",
       "      <td>1618224176</td>\n",
       "      <td>120</td>\n",
       "      <td>8962478</td>\n",
       "      <td>8962</td>\n",
       "      <td>1618224185547</td>\n",
       "      <td>...</td>\n",
       "      <td>1410</td>\n",
       "      <td>1410</td>\n",
       "      <td>7</td>\n",
       "      <td>8</td>\n",
       "      <td>0</td>\n",
       "      <td>0</td>\n",
       "      <td>HTTP</td>\n",
       "      <td>1</td>\n",
       "      <td>80111274</td>\n",
       "      <td>Denial of Service R-U-Dead-Yet</td>\n",
       "    </tr>\n",
       "    <tr>\n",
       "      <th>3609396</th>\n",
       "      <td>7780076</td>\n",
       "      <td>1</td>\n",
       "      <td>0</td>\n",
       "      <td>164</td>\n",
       "      <td>0</td>\n",
       "      <td>1618228480</td>\n",
       "      <td>120</td>\n",
       "      <td>17814</td>\n",
       "      <td>17</td>\n",
       "      <td>1618228480713</td>\n",
       "      <td>...</td>\n",
       "      <td>1410</td>\n",
       "      <td>1410</td>\n",
       "      <td>7</td>\n",
       "      <td>8</td>\n",
       "      <td>0</td>\n",
       "      <td>0</td>\n",
       "      <td>HTTP</td>\n",
       "      <td>1</td>\n",
       "      <td>81460901</td>\n",
       "      <td>Denial of Service R-U-Dead-Yet</td>\n",
       "    </tr>\n",
       "    <tr>\n",
       "      <th>4160442</th>\n",
       "      <td>8580947</td>\n",
       "      <td>1</td>\n",
       "      <td>0</td>\n",
       "      <td>52,,,,,,,,,,52,,,,,,,,,,52,,,,,,,,,,52,,,,,,,,...</td>\n",
       "      <td>0</td>\n",
       "      <td>1618230693</td>\n",
       "      <td>120</td>\n",
       "      <td>109775604</td>\n",
       "      <td>109775</td>\n",
       "      <td>1618230803060</td>\n",
       "      <td>...</td>\n",
       "      <td>0</td>\n",
       "      <td>0</td>\n",
       "      <td>0</td>\n",
       "      <td>0</td>\n",
       "      <td>0</td>\n",
       "      <td>0</td>\n",
       "      <td>HTTP</td>\n",
       "      <td>1</td>\n",
       "      <td>82261772</td>\n",
       "      <td>Denial of Service R-U-Dead-Yet</td>\n",
       "    </tr>\n",
       "    <tr>\n",
       "      <th>3439161</th>\n",
       "      <td>7558246</td>\n",
       "      <td>1</td>\n",
       "      <td>0</td>\n",
       "      <td>164</td>\n",
       "      <td>0</td>\n",
       "      <td>1618227829</td>\n",
       "      <td>120</td>\n",
       "      <td>16522</td>\n",
       "      <td>16</td>\n",
       "      <td>1618227829891</td>\n",
       "      <td>...</td>\n",
       "      <td>1410</td>\n",
       "      <td>1410</td>\n",
       "      <td>7</td>\n",
       "      <td>8</td>\n",
       "      <td>0</td>\n",
       "      <td>0</td>\n",
       "      <td>HTTP</td>\n",
       "      <td>1</td>\n",
       "      <td>81239071</td>\n",
       "      <td>Denial of Service R-U-Dead-Yet</td>\n",
       "    </tr>\n",
       "    <tr>\n",
       "      <th>3609636</th>\n",
       "      <td>7780344</td>\n",
       "      <td>1</td>\n",
       "      <td>0</td>\n",
       "      <td>52,,,,,,,,,52,,,,,,,,,,52,,,,,,,,,,52,,,,,,,,,...</td>\n",
       "      <td>0</td>\n",
       "      <td>1618228391</td>\n",
       "      <td>120</td>\n",
       "      <td>119477272</td>\n",
       "      <td>119477</td>\n",
       "      <td>1618228510650</td>\n",
       "      <td>...</td>\n",
       "      <td>0</td>\n",
       "      <td>0</td>\n",
       "      <td>0</td>\n",
       "      <td>0</td>\n",
       "      <td>0</td>\n",
       "      <td>0</td>\n",
       "      <td>HTTP</td>\n",
       "      <td>1</td>\n",
       "      <td>81461169</td>\n",
       "      <td>Denial of Service R-U-Dead-Yet</td>\n",
       "    </tr>\n",
       "    <tr>\n",
       "      <th>...</th>\n",
       "      <td>...</td>\n",
       "      <td>...</td>\n",
       "      <td>...</td>\n",
       "      <td>...</td>\n",
       "      <td>...</td>\n",
       "      <td>...</td>\n",
       "      <td>...</td>\n",
       "      <td>...</td>\n",
       "      <td>...</td>\n",
       "      <td>...</td>\n",
       "      <td>...</td>\n",
       "      <td>...</td>\n",
       "      <td>...</td>\n",
       "      <td>...</td>\n",
       "      <td>...</td>\n",
       "      <td>...</td>\n",
       "      <td>...</td>\n",
       "      <td>...</td>\n",
       "      <td>...</td>\n",
       "      <td>...</td>\n",
       "      <td>...</td>\n",
       "    </tr>\n",
       "    <tr>\n",
       "      <th>8925032</th>\n",
       "      <td>4151271</td>\n",
       "      <td>1</td>\n",
       "      <td>0</td>\n",
       "      <td>40</td>\n",
       "      <td>0</td>\n",
       "      <td>1616670618</td>\n",
       "      <td>120</td>\n",
       "      <td>135</td>\n",
       "      <td>0</td>\n",
       "      <td>1616670618409</td>\n",
       "      <td>...</td>\n",
       "      <td>1460</td>\n",
       "      <td>0</td>\n",
       "      <td>0</td>\n",
       "      <td>0</td>\n",
       "      <td>0</td>\n",
       "      <td>0</td>\n",
       "      <td>Unknown</td>\n",
       "      <td>1</td>\n",
       "      <td>4707535</td>\n",
       "      <td>SYN Scan - aggressive</td>\n",
       "    </tr>\n",
       "    <tr>\n",
       "      <th>8216728</th>\n",
       "      <td>3442967</td>\n",
       "      <td>1</td>\n",
       "      <td>0</td>\n",
       "      <td>,</td>\n",
       "      <td>0</td>\n",
       "      <td>1616666252</td>\n",
       "      <td>120</td>\n",
       "      <td>0</td>\n",
       "      <td>0</td>\n",
       "      <td>1616666252794</td>\n",
       "      <td>...</td>\n",
       "      <td>1460</td>\n",
       "      <td>0</td>\n",
       "      <td>0</td>\n",
       "      <td>0</td>\n",
       "      <td>0</td>\n",
       "      <td>0</td>\n",
       "      <td>Unknown</td>\n",
       "      <td>1</td>\n",
       "      <td>3648088</td>\n",
       "      <td>SYN Scan - aggressive</td>\n",
       "    </tr>\n",
       "    <tr>\n",
       "      <th>7300782</th>\n",
       "      <td>2527021</td>\n",
       "      <td>1</td>\n",
       "      <td>0</td>\n",
       "      <td>40</td>\n",
       "      <td>0</td>\n",
       "      <td>1616660212</td>\n",
       "      <td>120</td>\n",
       "      <td>248</td>\n",
       "      <td>0</td>\n",
       "      <td>1616660212878</td>\n",
       "      <td>...</td>\n",
       "      <td>1460</td>\n",
       "      <td>0</td>\n",
       "      <td>0</td>\n",
       "      <td>0</td>\n",
       "      <td>0</td>\n",
       "      <td>0</td>\n",
       "      <td>Unknown</td>\n",
       "      <td>1</td>\n",
       "      <td>2333708</td>\n",
       "      <td>SYN Scan - aggressive</td>\n",
       "    </tr>\n",
       "    <tr>\n",
       "      <th>7399829</th>\n",
       "      <td>2626068</td>\n",
       "      <td>1</td>\n",
       "      <td>0</td>\n",
       "      <td>40</td>\n",
       "      <td>0</td>\n",
       "      <td>1616660749</td>\n",
       "      <td>120</td>\n",
       "      <td>837</td>\n",
       "      <td>0</td>\n",
       "      <td>1616660749255</td>\n",
       "      <td>...</td>\n",
       "      <td>1460</td>\n",
       "      <td>0</td>\n",
       "      <td>0</td>\n",
       "      <td>0</td>\n",
       "      <td>0</td>\n",
       "      <td>0</td>\n",
       "      <td>Unknown</td>\n",
       "      <td>1</td>\n",
       "      <td>2463518</td>\n",
       "      <td>SYN Scan - aggressive</td>\n",
       "    </tr>\n",
       "    <tr>\n",
       "      <th>8461765</th>\n",
       "      <td>3688004</td>\n",
       "      <td>1</td>\n",
       "      <td>0</td>\n",
       "      <td>,</td>\n",
       "      <td>0</td>\n",
       "      <td>1616667646</td>\n",
       "      <td>120</td>\n",
       "      <td>0</td>\n",
       "      <td>0</td>\n",
       "      <td>1616667646970</td>\n",
       "      <td>...</td>\n",
       "      <td>1460</td>\n",
       "      <td>0</td>\n",
       "      <td>0</td>\n",
       "      <td>0</td>\n",
       "      <td>0</td>\n",
       "      <td>0</td>\n",
       "      <td>Unknown</td>\n",
       "      <td>1</td>\n",
       "      <td>3987151</td>\n",
       "      <td>SYN Scan - aggressive</td>\n",
       "    </tr>\n",
       "  </tbody>\n",
       "</table>\n",
       "<p>97673 rows × 51 columns</p>\n",
       "</div>"
      ],
      "text/plain": [
       "         Unnamed: 0  BIFLOW_DIRECTION  DIRECTION  \\\n",
       "2647633     6430449                 1          0   \n",
       "3609396     7780076                 1          0   \n",
       "4160442     8580947                 1          0   \n",
       "3439161     7558246                 1          0   \n",
       "3609636     7780344                 1          0   \n",
       "...             ...               ...        ...   \n",
       "8925032     4151271                 1          0   \n",
       "8216728     3442967                 1          0   \n",
       "7300782     2527021                 1          0   \n",
       "7399829     2626068                 1          0   \n",
       "8461765     3688004                 1          0   \n",
       "\n",
       "                                   DST_TO_SRC_SECOND_BYTES  FIREWALL_EVENT  \\\n",
       "2647633                                   112,52,,,,,,,,52               0   \n",
       "3609396                                                164               0   \n",
       "4160442  52,,,,,,,,,,52,,,,,,,,,,52,,,,,,,,,,52,,,,,,,,...               0   \n",
       "3439161                                                164               0   \n",
       "3609636  52,,,,,,,,,52,,,,,,,,,,52,,,,,,,,,,52,,,,,,,,,...               0   \n",
       "...                                                    ...             ...   \n",
       "8925032                                                 40               0   \n",
       "8216728                                                  ,               0   \n",
       "7300782                                                 40               0   \n",
       "7399829                                                 40               0   \n",
       "8461765                                                  ,               0   \n",
       "\n",
       "         FIRST_SWITCHED  FLOW_ACTIVE_TIMEOUT  FLOW_DURATION_MICROSECONDS  \\\n",
       "2647633      1618224176                  120                     8962478   \n",
       "3609396      1618228480                  120                       17814   \n",
       "4160442      1618230693                  120                   109775604   \n",
       "3439161      1618227829                  120                       16522   \n",
       "3609636      1618228391                  120                   119477272   \n",
       "...                 ...                  ...                         ...   \n",
       "8925032      1616670618                  120                         135   \n",
       "8216728      1616666252                  120                           0   \n",
       "7300782      1616660212                  120                         248   \n",
       "7399829      1616660749                  120                         837   \n",
       "8461765      1616667646                  120                           0   \n",
       "\n",
       "         FLOW_DURATION_MILLISECONDS  FLOW_END_MILLISECONDS  ...  \\\n",
       "2647633                        8962          1618224185547  ...   \n",
       "3609396                          17          1618228480713  ...   \n",
       "4160442                      109775          1618230803060  ...   \n",
       "3439161                          16          1618227829891  ...   \n",
       "3609636                      119477          1618228510650  ...   \n",
       "...                             ...                    ...  ...   \n",
       "8925032                           0          1616670618409  ...   \n",
       "8216728                           0          1616666252794  ...   \n",
       "7300782                           0          1616660212878  ...   \n",
       "7399829                           0          1616660749255  ...   \n",
       "8461765                           0          1616667646970  ...   \n",
       "\n",
       "         TCP_WIN_MSS_IN  TCP_WIN_MSS_OUT  TCP_WIN_SCALE_IN  TCP_WIN_SCALE_OUT  \\\n",
       "2647633            1410             1410                 7                  8   \n",
       "3609396            1410             1410                 7                  8   \n",
       "4160442               0                0                 0                  0   \n",
       "3439161            1410             1410                 7                  8   \n",
       "3609636               0                0                 0                  0   \n",
       "...                 ...              ...               ...                ...   \n",
       "8925032            1460                0                 0                  0   \n",
       "8216728            1460                0                 0                  0   \n",
       "7300782            1460                0                 0                  0   \n",
       "7399829            1460                0                 0                  0   \n",
       "8461765            1460                0                 0                  0   \n",
       "\n",
       "         SRC_TOS  DST_TOS  L7_PROTO_NAME  SAMPLING_INTERVAL TOTAL_FLOWS_EXP  \\\n",
       "2647633        0        0           HTTP                  1        80111274   \n",
       "3609396        0        0           HTTP                  1        81460901   \n",
       "4160442        0        0           HTTP                  1        82261772   \n",
       "3439161        0        0           HTTP                  1        81239071   \n",
       "3609636        0        0           HTTP                  1        81461169   \n",
       "...          ...      ...            ...                ...             ...   \n",
       "8925032        0        0        Unknown                  1         4707535   \n",
       "8216728        0        0        Unknown                  1         3648088   \n",
       "7300782        0        0        Unknown                  1         2333708   \n",
       "7399829        0        0        Unknown                  1         2463518   \n",
       "8461765        0        0        Unknown                  1         3987151   \n",
       "\n",
       "                                  LABEL  \n",
       "2647633  Denial of Service R-U-Dead-Yet  \n",
       "3609396  Denial of Service R-U-Dead-Yet  \n",
       "4160442  Denial of Service R-U-Dead-Yet  \n",
       "3439161  Denial of Service R-U-Dead-Yet  \n",
       "3609636  Denial of Service R-U-Dead-Yet  \n",
       "...                                 ...  \n",
       "8925032           SYN Scan - aggressive  \n",
       "8216728           SYN Scan - aggressive  \n",
       "7300782           SYN Scan - aggressive  \n",
       "7399829           SYN Scan - aggressive  \n",
       "8461765           SYN Scan - aggressive  \n",
       "\n",
       "[97673 rows x 51 columns]"
      ]
     },
     "execution_count": 5,
     "metadata": {},
     "output_type": "execute_result"
    }
   ],
   "source": [
    "if not os.path.isfile(\"dataset/sampled_dataset.csv\"):\n",
    "    df = df.groupby('LABEL', group_keys=False).apply(lambda x: x.sample(frac=0.01))\n",
    "    df.to_csv(\"dataset/sampled_dataset.csv\")\n",
    "else:\n",
    "    df = pd.read_csv(\"dataset/sampled_dataset.csv\")\n",
    "\n",
    "df"
   ]
  },
  {
   "cell_type": "markdown",
   "metadata": {},
   "source": [
    "## Preprocessing"
   ]
  },
  {
   "cell_type": "markdown",
   "metadata": {},
   "source": [
    "### Remove unnecesary variables"
   ]
  },
  {
   "cell_type": "markdown",
   "metadata": {},
   "source": [
    "#### Drop constants"
   ]
  },
  {
   "cell_type": "code",
   "execution_count": 43,
   "metadata": {},
   "outputs": [],
   "source": [
    "# CONSTANTS \n",
    "constants = [\n",
    "    'BIFLOW_DIRECTION',\n",
    "    'FIREWALL_EVENT',\n",
    "    'FLOW_ACTIVE_TIMEOUT',\n",
    "    'FLOW_INACTIVE_TIMEOUT',\n",
    "    'FRAME_LENGTH',\n",
    "    'MAX_IP_PKT_LEN',\n",
    "    'MIN_IP_PKT_LEN',\n",
    "    'SAMPLING_INTERVAL',\n",
    "    'DIRECTION',\n",
    "    'OOORDER_IN_PKTS',\n",
    "    'OOORDER_OUT_PKTS',\n",
    "]\n",
    "\n",
    "# DIRECTION, OOORDER_IN_PKTS and OOORDER_OUT_PKTS has 99%> zero values, so it will be considered a constant."
   ]
  },
  {
   "cell_type": "code",
   "execution_count": 44,
   "metadata": {},
   "outputs": [
    {
     "ename": "KeyError",
     "evalue": "\"['BIFLOW_DIRECTION' 'FIREWALL_EVENT' 'FLOW_ACTIVE_TIMEOUT'\\n 'FLOW_INACTIVE_TIMEOUT' 'FRAME_LENGTH' 'MAX_IP_PKT_LEN' 'MIN_IP_PKT_LEN'\\n 'SAMPLING_INTERVAL' 'DIRECTION' 'OOORDER_IN_PKTS' 'OOORDER_OUT_PKTS'] not found in axis\"",
     "output_type": "error",
     "traceback": [
      "\u001b[0;31m---------------------------------------------------------------------------\u001b[0m",
      "\u001b[0;31mKeyError\u001b[0m                                  Traceback (most recent call last)",
      "\u001b[0;32m/var/folders/kb/wy1kg29n7w5bkjb6m8l945rc0000gn/T/ipykernel_25888/4119634804.py\u001b[0m in \u001b[0;36m<module>\u001b[0;34m\u001b[0m\n\u001b[1;32m      1\u001b[0m \u001b[0;31m# Drop constants from dataframe\u001b[0m\u001b[0;34m\u001b[0m\u001b[0;34m\u001b[0m\u001b[0;34m\u001b[0m\u001b[0m\n\u001b[0;32m----> 2\u001b[0;31m \u001b[0mdf\u001b[0m \u001b[0;34m=\u001b[0m \u001b[0mdf\u001b[0m\u001b[0;34m.\u001b[0m\u001b[0mdrop\u001b[0m\u001b[0;34m(\u001b[0m\u001b[0mconstants\u001b[0m\u001b[0;34m,\u001b[0m \u001b[0maxis\u001b[0m\u001b[0;34m=\u001b[0m\u001b[0;36m1\u001b[0m\u001b[0;34m)\u001b[0m\u001b[0;34m\u001b[0m\u001b[0;34m\u001b[0m\u001b[0m\n\u001b[0m\u001b[1;32m      3\u001b[0m \u001b[0mlen\u001b[0m\u001b[0;34m(\u001b[0m\u001b[0mdf\u001b[0m\u001b[0;34m.\u001b[0m\u001b[0mcolumns\u001b[0m\u001b[0;34m.\u001b[0m\u001b[0mvalues\u001b[0m\u001b[0;34m)\u001b[0m\u001b[0;34m\u001b[0m\u001b[0;34m\u001b[0m\u001b[0m\n",
      "\u001b[0;32m~/Documents/DouglasJr/UVG/semestre9/SecurityDS/proyecto-1/attack-detection/venv/lib/python3.7/site-packages/pandas/util/_decorators.py\u001b[0m in \u001b[0;36mwrapper\u001b[0;34m(*args, **kwargs)\u001b[0m\n\u001b[1;32m    309\u001b[0m                     \u001b[0mstacklevel\u001b[0m\u001b[0;34m=\u001b[0m\u001b[0mstacklevel\u001b[0m\u001b[0;34m,\u001b[0m\u001b[0;34m\u001b[0m\u001b[0;34m\u001b[0m\u001b[0m\n\u001b[1;32m    310\u001b[0m                 )\n\u001b[0;32m--> 311\u001b[0;31m             \u001b[0;32mreturn\u001b[0m \u001b[0mfunc\u001b[0m\u001b[0;34m(\u001b[0m\u001b[0;34m*\u001b[0m\u001b[0margs\u001b[0m\u001b[0;34m,\u001b[0m \u001b[0;34m**\u001b[0m\u001b[0mkwargs\u001b[0m\u001b[0;34m)\u001b[0m\u001b[0;34m\u001b[0m\u001b[0;34m\u001b[0m\u001b[0m\n\u001b[0m\u001b[1;32m    312\u001b[0m \u001b[0;34m\u001b[0m\u001b[0m\n\u001b[1;32m    313\u001b[0m         \u001b[0;32mreturn\u001b[0m \u001b[0mwrapper\u001b[0m\u001b[0;34m\u001b[0m\u001b[0;34m\u001b[0m\u001b[0m\n",
      "\u001b[0;32m~/Documents/DouglasJr/UVG/semestre9/SecurityDS/proyecto-1/attack-detection/venv/lib/python3.7/site-packages/pandas/core/frame.py\u001b[0m in \u001b[0;36mdrop\u001b[0;34m(self, labels, axis, index, columns, level, inplace, errors)\u001b[0m\n\u001b[1;32m   4911\u001b[0m             \u001b[0mlevel\u001b[0m\u001b[0;34m=\u001b[0m\u001b[0mlevel\u001b[0m\u001b[0;34m,\u001b[0m\u001b[0;34m\u001b[0m\u001b[0;34m\u001b[0m\u001b[0m\n\u001b[1;32m   4912\u001b[0m             \u001b[0minplace\u001b[0m\u001b[0;34m=\u001b[0m\u001b[0minplace\u001b[0m\u001b[0;34m,\u001b[0m\u001b[0;34m\u001b[0m\u001b[0;34m\u001b[0m\u001b[0m\n\u001b[0;32m-> 4913\u001b[0;31m             \u001b[0merrors\u001b[0m\u001b[0;34m=\u001b[0m\u001b[0merrors\u001b[0m\u001b[0;34m,\u001b[0m\u001b[0;34m\u001b[0m\u001b[0;34m\u001b[0m\u001b[0m\n\u001b[0m\u001b[1;32m   4914\u001b[0m         )\n\u001b[1;32m   4915\u001b[0m \u001b[0;34m\u001b[0m\u001b[0m\n",
      "\u001b[0;32m~/Documents/DouglasJr/UVG/semestre9/SecurityDS/proyecto-1/attack-detection/venv/lib/python3.7/site-packages/pandas/core/generic.py\u001b[0m in \u001b[0;36mdrop\u001b[0;34m(self, labels, axis, index, columns, level, inplace, errors)\u001b[0m\n\u001b[1;32m   4148\u001b[0m         \u001b[0;32mfor\u001b[0m \u001b[0maxis\u001b[0m\u001b[0;34m,\u001b[0m \u001b[0mlabels\u001b[0m \u001b[0;32min\u001b[0m \u001b[0maxes\u001b[0m\u001b[0;34m.\u001b[0m\u001b[0mitems\u001b[0m\u001b[0;34m(\u001b[0m\u001b[0;34m)\u001b[0m\u001b[0;34m:\u001b[0m\u001b[0;34m\u001b[0m\u001b[0;34m\u001b[0m\u001b[0m\n\u001b[1;32m   4149\u001b[0m             \u001b[0;32mif\u001b[0m \u001b[0mlabels\u001b[0m \u001b[0;32mis\u001b[0m \u001b[0;32mnot\u001b[0m \u001b[0;32mNone\u001b[0m\u001b[0;34m:\u001b[0m\u001b[0;34m\u001b[0m\u001b[0;34m\u001b[0m\u001b[0m\n\u001b[0;32m-> 4150\u001b[0;31m                 \u001b[0mobj\u001b[0m \u001b[0;34m=\u001b[0m \u001b[0mobj\u001b[0m\u001b[0;34m.\u001b[0m\u001b[0m_drop_axis\u001b[0m\u001b[0;34m(\u001b[0m\u001b[0mlabels\u001b[0m\u001b[0;34m,\u001b[0m \u001b[0maxis\u001b[0m\u001b[0;34m,\u001b[0m \u001b[0mlevel\u001b[0m\u001b[0;34m=\u001b[0m\u001b[0mlevel\u001b[0m\u001b[0;34m,\u001b[0m \u001b[0merrors\u001b[0m\u001b[0;34m=\u001b[0m\u001b[0merrors\u001b[0m\u001b[0;34m)\u001b[0m\u001b[0;34m\u001b[0m\u001b[0;34m\u001b[0m\u001b[0m\n\u001b[0m\u001b[1;32m   4151\u001b[0m \u001b[0;34m\u001b[0m\u001b[0m\n\u001b[1;32m   4152\u001b[0m         \u001b[0;32mif\u001b[0m \u001b[0minplace\u001b[0m\u001b[0;34m:\u001b[0m\u001b[0;34m\u001b[0m\u001b[0;34m\u001b[0m\u001b[0m\n",
      "\u001b[0;32m~/Documents/DouglasJr/UVG/semestre9/SecurityDS/proyecto-1/attack-detection/venv/lib/python3.7/site-packages/pandas/core/generic.py\u001b[0m in \u001b[0;36m_drop_axis\u001b[0;34m(self, labels, axis, level, errors)\u001b[0m\n\u001b[1;32m   4183\u001b[0m                 \u001b[0mnew_axis\u001b[0m \u001b[0;34m=\u001b[0m \u001b[0maxis\u001b[0m\u001b[0;34m.\u001b[0m\u001b[0mdrop\u001b[0m\u001b[0;34m(\u001b[0m\u001b[0mlabels\u001b[0m\u001b[0;34m,\u001b[0m \u001b[0mlevel\u001b[0m\u001b[0;34m=\u001b[0m\u001b[0mlevel\u001b[0m\u001b[0;34m,\u001b[0m \u001b[0merrors\u001b[0m\u001b[0;34m=\u001b[0m\u001b[0merrors\u001b[0m\u001b[0;34m)\u001b[0m\u001b[0;34m\u001b[0m\u001b[0;34m\u001b[0m\u001b[0m\n\u001b[1;32m   4184\u001b[0m             \u001b[0;32melse\u001b[0m\u001b[0;34m:\u001b[0m\u001b[0;34m\u001b[0m\u001b[0;34m\u001b[0m\u001b[0m\n\u001b[0;32m-> 4185\u001b[0;31m                 \u001b[0mnew_axis\u001b[0m \u001b[0;34m=\u001b[0m \u001b[0maxis\u001b[0m\u001b[0;34m.\u001b[0m\u001b[0mdrop\u001b[0m\u001b[0;34m(\u001b[0m\u001b[0mlabels\u001b[0m\u001b[0;34m,\u001b[0m \u001b[0merrors\u001b[0m\u001b[0;34m=\u001b[0m\u001b[0merrors\u001b[0m\u001b[0;34m)\u001b[0m\u001b[0;34m\u001b[0m\u001b[0;34m\u001b[0m\u001b[0m\n\u001b[0m\u001b[1;32m   4186\u001b[0m             \u001b[0mresult\u001b[0m \u001b[0;34m=\u001b[0m \u001b[0mself\u001b[0m\u001b[0;34m.\u001b[0m\u001b[0mreindex\u001b[0m\u001b[0;34m(\u001b[0m\u001b[0;34m**\u001b[0m\u001b[0;34m{\u001b[0m\u001b[0maxis_name\u001b[0m\u001b[0;34m:\u001b[0m \u001b[0mnew_axis\u001b[0m\u001b[0;34m}\u001b[0m\u001b[0;34m)\u001b[0m\u001b[0;34m\u001b[0m\u001b[0;34m\u001b[0m\u001b[0m\n\u001b[1;32m   4187\u001b[0m \u001b[0;34m\u001b[0m\u001b[0m\n",
      "\u001b[0;32m~/Documents/DouglasJr/UVG/semestre9/SecurityDS/proyecto-1/attack-detection/venv/lib/python3.7/site-packages/pandas/core/indexes/base.py\u001b[0m in \u001b[0;36mdrop\u001b[0;34m(self, labels, errors)\u001b[0m\n\u001b[1;32m   6015\u001b[0m         \u001b[0;32mif\u001b[0m \u001b[0mmask\u001b[0m\u001b[0;34m.\u001b[0m\u001b[0many\u001b[0m\u001b[0;34m(\u001b[0m\u001b[0;34m)\u001b[0m\u001b[0;34m:\u001b[0m\u001b[0;34m\u001b[0m\u001b[0;34m\u001b[0m\u001b[0m\n\u001b[1;32m   6016\u001b[0m             \u001b[0;32mif\u001b[0m \u001b[0merrors\u001b[0m \u001b[0;34m!=\u001b[0m \u001b[0;34m\"ignore\"\u001b[0m\u001b[0;34m:\u001b[0m\u001b[0;34m\u001b[0m\u001b[0;34m\u001b[0m\u001b[0m\n\u001b[0;32m-> 6017\u001b[0;31m                 \u001b[0;32mraise\u001b[0m \u001b[0mKeyError\u001b[0m\u001b[0;34m(\u001b[0m\u001b[0;34mf\"{labels[mask]} not found in axis\"\u001b[0m\u001b[0;34m)\u001b[0m\u001b[0;34m\u001b[0m\u001b[0;34m\u001b[0m\u001b[0m\n\u001b[0m\u001b[1;32m   6018\u001b[0m             \u001b[0mindexer\u001b[0m \u001b[0;34m=\u001b[0m \u001b[0mindexer\u001b[0m\u001b[0;34m[\u001b[0m\u001b[0;34m~\u001b[0m\u001b[0mmask\u001b[0m\u001b[0;34m]\u001b[0m\u001b[0;34m\u001b[0m\u001b[0;34m\u001b[0m\u001b[0m\n\u001b[1;32m   6019\u001b[0m         \u001b[0;32mreturn\u001b[0m \u001b[0mself\u001b[0m\u001b[0;34m.\u001b[0m\u001b[0mdelete\u001b[0m\u001b[0;34m(\u001b[0m\u001b[0mindexer\u001b[0m\u001b[0;34m)\u001b[0m\u001b[0;34m\u001b[0m\u001b[0;34m\u001b[0m\u001b[0m\n",
      "\u001b[0;31mKeyError\u001b[0m: \"['BIFLOW_DIRECTION' 'FIREWALL_EVENT' 'FLOW_ACTIVE_TIMEOUT'\\n 'FLOW_INACTIVE_TIMEOUT' 'FRAME_LENGTH' 'MAX_IP_PKT_LEN' 'MIN_IP_PKT_LEN'\\n 'SAMPLING_INTERVAL' 'DIRECTION' 'OOORDER_IN_PKTS' 'OOORDER_OUT_PKTS'] not found in axis\""
     ]
    }
   ],
   "source": [
    "# Drop constants from dataframe\n",
    "df = df.drop(constants, axis=1)\n",
    "len(df.columns.values)"
   ]
  },
  {
   "cell_type": "markdown",
   "metadata": {},
   "source": [
    "#### Drop unique values"
   ]
  },
  {
   "cell_type": "code",
   "execution_count": 17,
   "metadata": {},
   "outputs": [],
   "source": [
    "# UNIQUE\n",
    "unique_vars = ['FLOW_ID', 'TOTAL_FLOWS_EXP']"
   ]
  },
  {
   "cell_type": "code",
   "execution_count": null,
   "metadata": {},
   "outputs": [
    {
     "ename": "NameError",
     "evalue": "name 'unique_vars' is not defined",
     "output_type": "error",
     "traceback": [
      "\u001b[0;31m---------------------------------------------------------------------------\u001b[0m",
      "\u001b[0;31mNameError\u001b[0m                                 Traceback (most recent call last)",
      "\u001b[0;32m/var/folders/kb/wy1kg29n7w5bkjb6m8l945rc0000gn/T/ipykernel_25888/3436542264.py\u001b[0m in \u001b[0;36m<module>\u001b[0;34m\u001b[0m\n\u001b[0;32m----> 1\u001b[0;31m \u001b[0mdf\u001b[0m \u001b[0;34m=\u001b[0m \u001b[0mdf\u001b[0m\u001b[0;34m.\u001b[0m\u001b[0mdrop\u001b[0m\u001b[0;34m(\u001b[0m\u001b[0munique_vars\u001b[0m\u001b[0;34m,\u001b[0m \u001b[0maxis\u001b[0m\u001b[0;34m=\u001b[0m\u001b[0;36m1\u001b[0m\u001b[0;34m)\u001b[0m\u001b[0;34m\u001b[0m\u001b[0;34m\u001b[0m\u001b[0m\n\u001b[0m\u001b[1;32m      2\u001b[0m \u001b[0mlen\u001b[0m\u001b[0;34m(\u001b[0m\u001b[0mdf\u001b[0m\u001b[0;34m.\u001b[0m\u001b[0mcolumns\u001b[0m\u001b[0;34m.\u001b[0m\u001b[0mvalues\u001b[0m\u001b[0;34m)\u001b[0m\u001b[0;34m\u001b[0m\u001b[0;34m\u001b[0m\u001b[0m\n",
      "\u001b[0;31mNameError\u001b[0m: name 'unique_vars' is not defined"
     ]
    }
   ],
   "source": [
    "df = df.drop(unique_vars, axis=1)\n",
    "len(df.columns.values)"
   ]
  },
  {
   "cell_type": "markdown",
   "metadata": {},
   "source": [
    "#### DROP IPS"
   ]
  },
  {
   "cell_type": "code",
   "execution_count": null,
   "metadata": {},
   "outputs": [],
   "source": [
    "df = df.drop([\"IPV4_DST_ADDR\", \"IPV4_SRC_ADDR\"], axis = 1)"
   ]
  },
  {
   "cell_type": "markdown",
   "metadata": {},
   "source": [
    "#### DROP PROTOCOL COLUMN"
   ]
  },
  {
   "cell_type": "code",
   "execution_count": null,
   "metadata": {
    "scrolled": true
   },
   "outputs": [],
   "source": [
    "df = df.drop([\"PROTOCOL\"], axis = 1)"
   ]
  },
  {
   "cell_type": "markdown",
   "metadata": {},
   "source": [
    "#### Clean data from report"
   ]
  },
  {
   "cell_type": "code",
   "execution_count": null,
   "metadata": {},
   "outputs": [],
   "source": [
    "# Drop columns that almost everything is 0\n",
    "df = df.drop(columns=[\"RETRANSMITTED_IN_BYTES\", \"RETRANSMITTED_IN_PKTS\"], axis = 1)"
   ]
  },
  {
   "cell_type": "code",
   "execution_count": null,
   "metadata": {},
   "outputs": [],
   "source": [
    "df = df.drop(columns=[\"RETRANSMITTED_OUT_BYTES\", \"RETRANSMITTED_OUT_PKTS\"], axis=1)"
   ]
  },
  {
   "cell_type": "code",
   "execution_count": null,
   "metadata": {},
   "outputs": [],
   "source": [
    "df = df.drop(columns=[\"TCP_WIN_MSS_OUT\", \"TCP_WIN_SCALE_IN\", \"TCP_WIN_SCALE_IN\", \"TCP_WIN_SCALE_OUT\", \"SRC_TOS\", \"DST_TOS\"], axis=1)"
   ]
  },
  {
   "cell_type": "markdown",
   "metadata": {},
   "source": [
    "### Numerical preprocessing"
   ]
  },
  {
   "cell_type": "markdown",
   "metadata": {},
   "source": [
    "#### Fix DST_TO_SRC_SECOND_BYTES column"
   ]
  },
  {
   "cell_type": "code",
   "execution_count": null,
   "metadata": {},
   "outputs": [],
   "source": [
    "# df[\"DST_TO_SRC_SECOND_BYTES\"].apply(np.isreal)\n",
    "DST_TO_SRC_SECOND_BYTES_INT_VALUES = list(filter(utils.is_int, df[\"DST_TO_SRC_SECOND_BYTES\"]))\n",
    "DST_TO_SRC_SECOND_BYTES_NON_INT_VALUES = list(filter(lambda x: not utils.is_int(x), df[\"DST_TO_SRC_SECOND_BYTES\"]))"
   ]
  },
  {
   "cell_type": "code",
   "execution_count": null,
   "metadata": {},
   "outputs": [
    {
     "name": "stdout",
     "output_type": "stream",
     "text": [
      "Correct int values:  5994780\n",
      "Incorrect int values:  6213093\n",
      "Total values count:  12207873\n"
     ]
    }
   ],
   "source": [
    "print(\"Correct int values: \", len(DST_TO_SRC_SECOND_BYTES_INT_VALUES))\n",
    "print(\"Incorrect int values: \", len(DST_TO_SRC_SECOND_BYTES_NON_INT_VALUES))\n",
    "print(\"Total values count: \", len(df[\"DST_TO_SRC_SECOND_BYTES\"]))"
   ]
  },
  {
   "cell_type": "code",
   "execution_count": null,
   "metadata": {},
   "outputs": [],
   "source": [
    "df_safe_clean = df.copy()"
   ]
  },
  {
   "cell_type": "code",
   "execution_count": null,
   "metadata": {},
   "outputs": [
    {
     "data": {
      "text/plain": [
       "0     40\n",
       "1      0\n",
       "2    104\n",
       "3      0\n",
       "4     40\n",
       "Name: DST_TO_SRC_SECOND_BYTES, dtype: int64"
      ]
     },
     "execution_count": 94,
     "metadata": {},
     "output_type": "execute_result"
    }
   ],
   "source": [
    "df[\"DST_TO_SRC_SECOND_BYTES\"] = df[\"DST_TO_SRC_SECOND_BYTES\"].apply(lambda x: int(x) if utils.is_int(x) else utils.normalize_dst_to_src_column(x))\n",
    "df[\"DST_TO_SRC_SECOND_BYTES\"].head()"
   ]
  },
  {
   "cell_type": "code",
   "execution_count": null,
   "metadata": {},
   "outputs": [
    {
     "data": {
      "text/plain": [
       "0     40\n",
       "1      1\n",
       "2    104\n",
       "3      1\n",
       "4     40\n",
       "Name: DST_TO_SRC_SECOND_BYTES, dtype: int64"
      ]
     },
     "execution_count": 95,
     "metadata": {},
     "output_type": "execute_result"
    }
   ],
   "source": [
    "# Replace the 0 with 1\n",
    "df[\"DST_TO_SRC_SECOND_BYTES\"].replace({0: 1}, inplace=True)\n",
    "df[\"DST_TO_SRC_SECOND_BYTES\"].head()"
   ]
  },
  {
   "cell_type": "markdown",
   "metadata": {},
   "source": [
    "#### Fix SRC_TO_DST_SECOND_BYTES column"
   ]
  },
  {
   "cell_type": "code",
   "execution_count": null,
   "metadata": {
    "scrolled": true
   },
   "outputs": [
    {
     "data": {
      "text/plain": [
       "0     44\n",
       "1     68\n",
       "2    189\n",
       "3     52\n",
       "4    189\n",
       "Name: SRC_TO_DST_SECOND_BYTES, dtype: int64"
      ]
     },
     "execution_count": 96,
     "metadata": {},
     "output_type": "execute_result"
    }
   ],
   "source": [
    "df[\"SRC_TO_DST_SECOND_BYTES\"] = df[\"SRC_TO_DST_SECOND_BYTES\"].apply(lambda x: int(x) if utils.is_int(x) else utils.normalize_dst_to_src_column(x))\n",
    "df[\"SRC_TO_DST_SECOND_BYTES\"].head()"
   ]
  },
  {
   "cell_type": "markdown",
   "metadata": {},
   "source": [
    "### Second profile report"
   ]
  },
  {
   "cell_type": "code",
   "execution_count": null,
   "metadata": {
    "scrolled": true
   },
   "outputs": [],
   "source": [
    "if not os.path.isfile(\"profile-numerical.html\") and generate_reports:\n",
    "    ProfileReport(df, title=\"Profile after numerical preprocessing\", minimal=True).to_file(\"profile-numerical.html\")"
   ]
  },
  {
   "cell_type": "markdown",
   "metadata": {},
   "source": [
    "#### Reduce skew data"
   ]
  },
  {
   "cell_type": "code",
   "execution_count": null,
   "metadata": {},
   "outputs": [],
   "source": [
    "import numpy as np\n",
    "from scipy.stats import skew\n",
    "def reduce_skew(column, fn = np.log):\n",
    "    print(\"Skew actual value for column \", column,\": \",skew(df[\"SRC_TO_DST_SECOND_BYTES\"]))\n",
    "    df[column].replace({0: 1}, inplace=True)\n",
    "    df[column] = df[column].apply(fn)\n",
    "    print(\"New value: \", skew(df[column]))"
   ]
  },
  {
   "cell_type": "code",
   "execution_count": null,
   "metadata": {},
   "outputs": [],
   "source": [
    "safe_skew_copy = df.copy()"
   ]
  },
  {
   "cell_type": "code",
   "execution_count": null,
   "metadata": {},
   "outputs": [
    {
     "name": "stdout",
     "output_type": "stream",
     "text": [
      "Skew actual value for column  SRC_TO_DST_SECOND_BYTES :  818.5208677952199\n",
      "New value:  1.1163250325446947\n",
      "Skew actual value for column  DST_TO_SRC_SECOND_BYTES :  1.1163250325446947\n",
      "New value:  0.019386885723273375\n",
      "Skew actual value for column  OUT_BYTES :  1.1163250325446947\n",
      "New value:  0.020163532172746936\n"
     ]
    }
   ],
   "source": [
    "reduce_skew(\"SRC_TO_DST_SECOND_BYTES\")\n",
    "reduce_skew(\"DST_TO_SRC_SECOND_BYTES\")\n",
    "reduce_skew(\"OUT_BYTES\")"
   ]
  },
  {
   "cell_type": "markdown",
   "metadata": {},
   "source": [
    "### Correlation check"
   ]
  },
  {
   "cell_type": "code",
   "execution_count": null,
   "metadata": {},
   "outputs": [],
   "source": [
    "import seaborn as sn\n",
    "import matplotlib.pyplot as plt\n",
    "corrMatrix = df.corr()"
   ]
  },
  {
   "cell_type": "code",
   "execution_count": null,
   "metadata": {
    "scrolled": true
   },
   "outputs": [
    {
     "data": {
      "image/png": "[encoded data removed]",
      "text/plain": [
       "<Figure size 4320x1440 with 2 Axes>"
      ]
     },
     "metadata": {
      "needs_background": "light"
     },
     "output_type": "display_data"
    }
   ],
   "source": [
    "fig, ax = plt.subplots(figsize=(60,20)) \n",
    "sn.heatmap(corrMatrix, annot=True, linewidths=.5, ax=ax)\n",
    "plt.show()"
   ]
  },
  {
   "cell_type": "code",
   "execution_count": null,
   "metadata": {},
   "outputs": [
    {
     "name": "stdout",
     "output_type": "stream",
     "text": [
      "La columna  DST_TO_SRC_SECOND_BYTES  tuvo correlación con las columnas\n",
      "[('OUT_BYTES', 0.9999988861537527)]\n",
      "\n",
      "\n",
      "La columna  FIRST_SWITCHED  tuvo correlación con las columnas\n",
      "[('FLOW_END_MILLISECONDS', 0.9999999985834472), ('FLOW_END_SEC', 0.9999999985843314), ('FLOW_START_MILLISECONDS', 0.9999999999998817), ('FLOW_START_SEC', 1.0), ('LAST_SWITCHED', 0.9999999985843314)]\n",
      "\n",
      "\n",
      "La columna  FLOW_DURATION_MICROSECONDS  tuvo correlación con las columnas\n",
      "[('FLOW_DURATION_MILLISECONDS', 0.9999999999680446)]\n",
      "\n",
      "\n",
      "La columna  FLOW_DURATION_MILLISECONDS  tuvo correlación con las columnas\n",
      "[('FLOW_DURATION_MICROSECONDS', 0.9999999999680446)]\n",
      "\n",
      "\n",
      "La columna  FLOW_END_MILLISECONDS  tuvo correlación con las columnas\n",
      "[('FIRST_SWITCHED', 0.9999999985834472), ('FLOW_END_SEC', 1.0000000000002098), ('FLOW_START_MILLISECONDS', 0.9999999985831539), ('FLOW_START_SEC', 0.9999999985834522), ('LAST_SWITCHED', 1.0000000000002098)]\n",
      "\n",
      "\n",
      "La columna  FLOW_END_SEC  tuvo correlación con las columnas\n",
      "[('FIRST_SWITCHED', 0.9999999985843314), ('FLOW_END_MILLISECONDS', 1.0000000000002098), ('FLOW_START_MILLISECONDS', 0.9999999985838735), ('FLOW_START_SEC', 0.9999999985843313), ('LAST_SWITCHED', 1.0)]\n",
      "\n",
      "\n",
      "La columna  FLOW_START_MILLISECONDS  tuvo correlación con las columnas\n",
      "[('FIRST_SWITCHED', 0.9999999999998817), ('FLOW_END_MILLISECONDS', 0.9999999985831539), ('FLOW_END_SEC', 0.9999999985838735), ('FLOW_START_SEC', 0.9999999999998814), ('LAST_SWITCHED', 0.9999999985838697)]\n",
      "\n",
      "\n",
      "La columna  FLOW_START_SEC  tuvo correlación con las columnas\n",
      "[('FIRST_SWITCHED', 1.0), ('FLOW_END_MILLISECONDS', 0.9999999985834522), ('FLOW_END_SEC', 0.9999999985843313), ('FLOW_START_MILLISECONDS', 0.9999999999998814), ('LAST_SWITCHED', 0.9999999985843314)]\n",
      "\n",
      "\n",
      "La columna  IN_BYTES  tuvo correlación con las columnas\n",
      "[('IN_PKTS', 0.907054683356174)]\n",
      "\n",
      "\n",
      "La columna  IN_PKTS  tuvo correlación con las columnas\n",
      "[('IN_BYTES', 0.907054683356174)]\n",
      "\n",
      "\n",
      "La columna  LAST_SWITCHED  tuvo correlación con las columnas\n",
      "[('FIRST_SWITCHED', 0.9999999985843314), ('FLOW_END_MILLISECONDS', 1.0000000000002098), ('FLOW_END_SEC', 1.0), ('FLOW_START_MILLISECONDS', 0.9999999985838697), ('FLOW_START_SEC', 0.9999999985843314)]\n",
      "\n",
      "\n",
      "La columna  OUT_BYTES  tuvo correlación con las columnas\n",
      "[('DST_TO_SRC_SECOND_BYTES', 0.9999988861537527)]\n",
      "\n",
      "\n",
      "La columna  TCP_WIN_MAX_IN  tuvo correlación con las columnas\n",
      "[('TCP_WIN_MIN_IN', 0.9978839662600456)]\n",
      "\n",
      "\n",
      "La columna  TCP_WIN_MAX_OUT  tuvo correlación con las columnas\n",
      "[('TCP_WIN_MIN_OUT', 0.9987207387904734)]\n",
      "\n",
      "\n",
      "La columna  TCP_WIN_MIN_IN  tuvo correlación con las columnas\n",
      "[('TCP_WIN_MAX_IN', 0.9978839662600456)]\n",
      "\n",
      "\n",
      "La columna  TCP_WIN_MIN_OUT  tuvo correlación con las columnas\n",
      "[('TCP_WIN_MAX_OUT', 0.9987207387904734)]\n",
      "\n",
      "\n"
     ]
    }
   ],
   "source": [
    "for column in corrMatrix:\n",
    "        correl = []\n",
    "        for index in corrMatrix[column].index:\n",
    "            if column != index and abs(corrMatrix[column][index]) >= 0.75:\n",
    "                correl.append((index, corrMatrix[column][index]))\n",
    "        if len(correl) > 0:\n",
    "            print(\"La columna \", column, \" tuvo correlación con las columnas\")\n",
    "            print(correl)\n",
    "            print(\"\\n\")"
   ]
  },
  {
   "cell_type": "code",
   "execution_count": null,
   "metadata": {},
   "outputs": [],
   "source": [
    "# Remove useless columns\n",
    "columns_to_drop = [\n",
    "    \"DST_TO_SRC_SECOND_BYTES\", \"FLOW_END_MILLISECONDS\", \"FLOW_END_SEC\", \"FLOW_START_MILLISECONDS\", \"FLOW_START_SEC\"\n",
    "    \"FLOW_DURATION_MICROSECONDS\",\n",
    "    \"IN_BYTES\",\n",
    "    \"TCP_WIN_MIN_OUT\",\n",
    "    \"TCP_WIN_MIN_IN\",\n",
    "    \"TCP_WIN_MAX_IN\"\n",
    "]\n",
    "df = df.drop(columns=columns_to_drop, axis = 1)"
   ]
  },
  {
   "cell_type": "markdown",
   "metadata": {},
   "source": [
    "### Categorical variables preprocessing"
   ]
  },
  {
   "cell_type": "markdown",
   "metadata": {},
   "source": [
    "#### Create PROTOCOL_MAP dummies"
   ]
  },
  {
   "cell_type": "code",
   "execution_count": null,
   "metadata": {},
   "outputs": [
    {
     "data": {
      "text/html": [
       "<div>\n",
       "<style scoped>\n",
       "    .dataframe tbody tr th:only-of-type {\n",
       "        vertical-align: middle;\n",
       "    }\n",
       "\n",
       "    .dataframe tbody tr th {\n",
       "        vertical-align: top;\n",
       "    }\n",
       "\n",
       "    .dataframe thead th {\n",
       "        text-align: right;\n",
       "    }\n",
       "</style>\n",
       "<table border=\"1\" class=\"dataframe\">\n",
       "  <thead>\n",
       "    <tr style=\"text-align: right;\">\n",
       "      <th></th>\n",
       "      <th>FIRST_SWITCHED</th>\n",
       "      <th>FLOW_DURATION_MILLISECONDS</th>\n",
       "      <th>IN_PKTS</th>\n",
       "      <th>L4_DST_PORT</th>\n",
       "      <th>L4_SRC_PORT</th>\n",
       "      <th>LAST_SWITCHED</th>\n",
       "      <th>OUT_BYTES</th>\n",
       "      <th>OUT_PKTS</th>\n",
       "      <th>SRC_TO_DST_SECOND_BYTES</th>\n",
       "      <th>TCP_FLAGS</th>\n",
       "      <th>TCP_WIN_MAX_IN</th>\n",
       "      <th>TCP_WIN_MAX_OUT</th>\n",
       "      <th>TCP_WIN_MSS_IN</th>\n",
       "      <th>L7_PROTO_NAME</th>\n",
       "      <th>LABEL</th>\n",
       "      <th>PROTOCOL_MAP_gre</th>\n",
       "      <th>PROTOCOL_MAP_icmp</th>\n",
       "      <th>PROTOCOL_MAP_ipv6-icmp</th>\n",
       "      <th>PROTOCOL_MAP_tcp</th>\n",
       "      <th>PROTOCOL_MAP_udp</th>\n",
       "    </tr>\n",
       "  </thead>\n",
       "  <tbody>\n",
       "    <tr>\n",
       "      <th>0</th>\n",
       "      <td>1616660040</td>\n",
       "      <td>0</td>\n",
       "      <td>1</td>\n",
       "      <td>60541</td>\n",
       "      <td>22351</td>\n",
       "      <td>1616660040</td>\n",
       "      <td>3.688879</td>\n",
       "      <td>1</td>\n",
       "      <td>3.784190</td>\n",
       "      <td>22</td>\n",
       "      <td>1024</td>\n",
       "      <td>0</td>\n",
       "      <td>1460</td>\n",
       "      <td>Unknown</td>\n",
       "      <td>Normal flow</td>\n",
       "      <td>0</td>\n",
       "      <td>0</td>\n",
       "      <td>0</td>\n",
       "      <td>1</td>\n",
       "      <td>0</td>\n",
       "    </tr>\n",
       "    <tr>\n",
       "      <th>1</th>\n",
       "      <td>1616660040</td>\n",
       "      <td>0</td>\n",
       "      <td>1</td>\n",
       "      <td>0</td>\n",
       "      <td>0</td>\n",
       "      <td>1616660040</td>\n",
       "      <td>0.000000</td>\n",
       "      <td>0</td>\n",
       "      <td>4.219508</td>\n",
       "      <td>0</td>\n",
       "      <td>0</td>\n",
       "      <td>0</td>\n",
       "      <td>0</td>\n",
       "      <td>ICMP</td>\n",
       "      <td>Normal flow</td>\n",
       "      <td>0</td>\n",
       "      <td>1</td>\n",
       "      <td>0</td>\n",
       "      <td>0</td>\n",
       "      <td>0</td>\n",
       "    </tr>\n",
       "    <tr>\n",
       "      <th>2</th>\n",
       "      <td>1616660040</td>\n",
       "      <td>44</td>\n",
       "      <td>2</td>\n",
       "      <td>24650</td>\n",
       "      <td>443</td>\n",
       "      <td>1616660040</td>\n",
       "      <td>4.644391</td>\n",
       "      <td>2</td>\n",
       "      <td>5.241747</td>\n",
       "      <td>25</td>\n",
       "      <td>122</td>\n",
       "      <td>1634</td>\n",
       "      <td>0</td>\n",
       "      <td>TLS</td>\n",
       "      <td>Normal flow</td>\n",
       "      <td>0</td>\n",
       "      <td>0</td>\n",
       "      <td>0</td>\n",
       "      <td>1</td>\n",
       "      <td>0</td>\n",
       "    </tr>\n",
       "  </tbody>\n",
       "</table>\n",
       "</div>"
      ],
      "text/plain": [
       "   FIRST_SWITCHED  FLOW_DURATION_MILLISECONDS  IN_PKTS  L4_DST_PORT  \\\n",
       "0      1616660040                           0        1        60541   \n",
       "1      1616660040                           0        1            0   \n",
       "2      1616660040                          44        2        24650   \n",
       "\n",
       "   L4_SRC_PORT  LAST_SWITCHED  OUT_BYTES  OUT_PKTS  SRC_TO_DST_SECOND_BYTES  \\\n",
       "0        22351     1616660040   3.688879         1                 3.784190   \n",
       "1            0     1616660040   0.000000         0                 4.219508   \n",
       "2          443     1616660040   4.644391         2                 5.241747   \n",
       "\n",
       "   TCP_FLAGS  TCP_WIN_MAX_IN  TCP_WIN_MAX_OUT  TCP_WIN_MSS_IN L7_PROTO_NAME  \\\n",
       "0         22            1024                0            1460       Unknown   \n",
       "1          0               0                0               0          ICMP   \n",
       "2         25             122             1634               0           TLS   \n",
       "\n",
       "         LABEL  PROTOCOL_MAP_gre  PROTOCOL_MAP_icmp  PROTOCOL_MAP_ipv6-icmp  \\\n",
       "0  Normal flow                 0                  0                       0   \n",
       "1  Normal flow                 0                  1                       0   \n",
       "2  Normal flow                 0                  0                       0   \n",
       "\n",
       "   PROTOCOL_MAP_tcp  PROTOCOL_MAP_udp  \n",
       "0                 1                 0  \n",
       "1                 0                 0  \n",
       "2                 1                 0  "
      ]
     },
     "execution_count": 118,
     "metadata": {},
     "output_type": "execute_result"
    }
   ],
   "source": [
    "# Create the dummies\n",
    "df = pd.get_dummies(df, columns = [\"PROTOCOL_MAP\"])\n",
    "df.head(3)"
   ]
  },
  {
   "cell_type": "markdown",
   "metadata": {},
   "source": [
    "#### L7_PROTO_NAME dummies"
   ]
  },
  {
   "cell_type": "code",
   "execution_count": null,
   "metadata": {},
   "outputs": [
    {
     "data": {
      "text/plain": [
       "array(['Unknown', 'ICMP', 'TLS', 'TLS.Google', 'TLS.Teams', 'SMBv23',\n",
       "       'TLS.Skype', 'DNS.Teams', 'Google', 'DNS.Google', 'QUIC.Google',\n",
       "       'DNS.OpenDNS', 'DNS', 'DNS.Microsoft365', 'DNS.Microsoft',\n",
       "       'HTTP_Proxy', 'NFS', 'TLS.Dropbox', 'DNS.Cloudflare', 'SSH', 'RDP',\n",
       "       'TLS.Cloudflare', 'Telnet', 'BitTorrent', 'BGP', 'HTTP', 'NTP',\n",
       "       'DNS.Yahoo', 'TLS.Microsoft365', 'MsSQL-TDS', 'DNS.Dropbox',\n",
       "       'TeamViewer', 'Memcached', 'TLS.Amazon', 'TLS.Telegram', 's7comm',\n",
       "       'DNS.WhatsApp', 'TLS.WhatsApp', 'MDNS', 'TLS.Microsoft',\n",
       "       'HTTP.Google', 'SIP', 'DNS.GoogleServices', 'TLS.GoogleServices',\n",
       "       'NTP.Cloudflare', 'HTTP.TeamViewer', 'LDAP', 'TLS.WhatsAppFiles',\n",
       "       'DNS.Amazon', 'SNMP', 'COAP.DTLS', 'DNS.Facebook', 'TLS.Yahoo',\n",
       "       'TLS.TeamViewer', 'QUIC.Facebook', 'DNS.MS_OneDrive', 'DNS.Skype',\n",
       "       'TLS.Tor', 'Amazon', 'IMAPS', 'TLS.MS_OneDrive', 'CiscoSkinny',\n",
       "       'WhatsAppFiles', 'DNS.UbuntuONE', 'HTTP.UbuntuONE',\n",
       "       'DNS.GoogleDrive', 'POPS', 'SSDP', 'DNS.GoogleDocs',\n",
       "       'QUIC.GoogleDocs', 'HTTP.Microsoft', 'DNS.GMail', 'RTSP', 'POP3',\n",
       "       'VNC', 'NetBIOS', 'FTP_CONTROL', 'H323', 'SMTP', 'MySQL',\n",
       "       'DCE_RPC', 'SMTPS', 'IMAP', 'RemoteScan', 'IAX', 'IEC60870',\n",
       "       'DNS.Apple', 'DNS.AppleiCloud', 'TLS.Apple', 'TLS.Facebook',\n",
       "       'QUIC.GoogleServices', 'TLS.GMail', 'LDAP.RX', 'DNS.Wikipedia',\n",
       "       'SMTPS.Google', 'ICMP.Amazon', 'ICMP.Cloudflare', 'NTP.UbuntuONE',\n",
       "       'DNS.ApplePush', 'MQTT', 'Apple', 'DNS.WindowsUpdate',\n",
       "       'HTTP.WindowsUpdate', 'RTP', 'TLS.UbuntuONE', 'MongoDB',\n",
       "       'TLS.WindowsUpdate', 'HTTP.Apple', 'TLS.AppleiCloud',\n",
       "       'HTTP.Starcraft', 'TLS.DoH_DoT', 'DNS.Messenger', 'TLS.Messenger',\n",
       "       'FTP_DATA', 'HTTP.Facebook', 'TLS.GoogleDrive', 'SOMEIP',\n",
       "       'DNS.NetFlix', 'HTTP.Telegram', 'NTP.Google', 'HTTP.WhatsApp',\n",
       "       'QUIC.GoogleDrive', 'TLS.Starcraft', 'PostgreSQL',\n",
       "       'MDNS.BitTorrent', 'Modbus', 'OpenVPN', 'Steam',\n",
       "       'HTTP.Microsoft365', 'DNS.LinkedIn', 'TLS.LinkedIn', 'DNS.Xbox',\n",
       "       'TLS.Xbox', 'DNS.Spotify', 'TLS.Spotify', 'HTTP.Cloudflare',\n",
       "       'CiscoVPN', 'Playstation', 'Skype.SkypeCall', 'NestLogSink',\n",
       "       'HTTP.Amazon', 'ICMP.Microsoft', 'DNP3', 'STUN', 'STUN.SkypeCall',\n",
       "       'Playstation.Skype', 'HTTP.Skype', 'ICMP.Skype', 'DNS.YouTube',\n",
       "       'DNS.Github', 'WSD', 'Xbox', 'DNS.AppleSiri', 'DNS.DoH_DoT',\n",
       "       'TLS.AppleSiri', 'TargusDataspeed', 'AFP', 'QUIC.YouTube',\n",
       "       'LotusNotes', 'DNS.Twitter', 'QUIC', 'Kerberos', 'DNS.AppleiTunes',\n",
       "       'TLS.AppleiTunes', 'Skype', 'TLS.Twitter', 'Radius', 'DNS.Tumblr',\n",
       "       'TLS.Tumblr', 'Syslog', 'STUN.RTP', 'ICMP.Facebook', 'Whois-DAS',\n",
       "       'TFTP', 'DNS.PlayStore', 'ICMP.Microsoft365', 'IPsec',\n",
       "       'TLS.YouTube', 'IRC', 'OpenVPN.RTP', 'OSPF', 'XDMCP', 'Mining',\n",
       "       'Viber', 'Redis', 'COAP', 'Playstation.Google', 'Zabbix',\n",
       "       'TLS.Github', 'AJP', 'SOCKS', 'LLMNR', 'Tor',\n",
       "       'STUN.GoogleHangoutDuo', 'IMAPS.Google', 'Oracle', 'CHECKMK',\n",
       "       'DNS.ntop', 'DNS.Instagram', 'Citrix', 'DNS.TeamViewer', 'SAP',\n",
       "       'Starcraft', 'HTTP_Proxy.HTTP', 'Git', 'DoH_DoT', 'RTMP', 'RSYNC',\n",
       "       'HTTP.MS_OneDrive', 'POP3.Nats', 'TINC', 'ICMPV6',\n",
       "       'NFS.BitTorrent', 'VMware', 'DNS.Slack', 'TLS.Slack',\n",
       "       'DNS.Pinterest', 'TLS.Pinterest', 'DNS.Steam', 'TLS.Steam',\n",
       "       'Diameter', 'MySQL.HTTP', 'MySQL.TLS', 'MySQL.RDP', 'MySQL.LDAP',\n",
       "       'MySQL.MsSQL-TDS', 'MySQL.AFP', 'MySQL.Corba',\n",
       "       'AmongUs.BitTorrent', 'AJP.HTTP', 'AJP.TLS', 'HTTP.ApplePush',\n",
       "       'TLS.ApplePush', 'SIP.BitTorrent', 'ICMP.Google',\n",
       "       'Xbox.BitTorrent', 'HTTP.HTTP_Connect', 'TLS.HTTP',\n",
       "       'HTTP.GoogleServices', 'TLS.PlayStore', 'DNS.Webex', 'TLS.Webex',\n",
       "       'Facebook', 'DNS.Twitch', 'TLS.Twitch', 'GTP', 'ICMP.Apple',\n",
       "       'MQTT.TLS', 'RSYNC.Google', 'IMAPS.Apple', 'STUN.Skype',\n",
       "       'NTP.Apple', 'Microsoft', 'QUIC.Cloudflare', 'Twitter', 'VHUA',\n",
       "       'Cloudflare', 'TLS.GoogleDocs', 'SMTPS.SMTP', 'RX',\n",
       "       'HTTP_Proxy.Amazon', 'ICMP.MS_OneDrive', 'TLS.Wikipedia',\n",
       "       'Xbox.NFS', 'DNS.TikTok', 'TLS.TikTok', 'HTTP.HTTP_Proxy',\n",
       "       'QUIC.PlayStore', 'TLS.Instagram', 'QUIC.Instagram', 'Bloomberg',\n",
       "       'HTTP.Dropbox', 'HTTP.Steam', 'Microsoft365', 'WireGuard',\n",
       "       'DNS.Zoom', 'MsSQL-TDS.Amazon', 'MS_OneDrive',\n",
       "       'ICMP.WhatsAppFiles', 'ICMP.Dropbox', 'STUN.Apple',\n",
       "       'SSH.WebSocket', 'QUIC.DNScrypt', 'DNS.DNScrypt', 'GRE',\n",
       "       'HTTP.TLS', 'QUIC.Amazon', 'DNS.Snapchat', 'TLS.Snapchat',\n",
       "       'BGP.Tor', 'QUIC.NFS', 'DNS.AnyDesk', 'Corba', 'DNS.Telegram',\n",
       "       'HTTP_Proxy.Skype', 'WhatsApp', 'AJP.Amazon', 'Twitch', 'UBNTAC2',\n",
       "       'BitTorrent.Google', 'NetFlix', 'Webex', 'Dropbox',\n",
       "       'DNS.AppleStore', 'TLS.AppleStore', 'MPEG_TS', 'DNS.Discord',\n",
       "       'TLS.Discord', 'STUN.Teredo', 'TLS.GoogleMaps', 'DNS.Tor',\n",
       "       'DNS.AmazonVideo', 'UBNTAC2.BitTorrent', 'GTP.BitTorrent',\n",
       "       'STUN.Zoom', 'NetFlow.BitTorrent', 'DNS.GoogleMaps', 'Zoom',\n",
       "       'QUIC.GoogleMaps', 'TLS.NetFlix', 'STUN.BitTorrent', 'ICMP.Tor',\n",
       "       'QUIC.WhatsAppFiles', 'DNS.Sina(Weibo)', 'SSH.Microsoft',\n",
       "       'HTTP_Proxy.BitTorrent', 'TLS.RDP', 'DTLS', 'DNS.Reddit',\n",
       "       'TLS.Reddit', 'STUN.Amazon', 'TLS.TargusDataspeed', 'IPsec.IMO',\n",
       "       'QUIC.Snapchat', 'TLS.Zoom', 'OpenDNS', 'MySQL.Amazon',\n",
       "       'HTTP.Zoom', 'SSH.Skype', 'STUN.Starcraft', 'IMAP.IMAPS',\n",
       "       'STUN.DNS', 'UBNTAC2.NFS', 'ICMP.TeamViewer', 'STUN.MDNS',\n",
       "       'TLS.Whois-DAS', 'NTP.Amazon', 'DNS.Signal', 'TLS.Signal',\n",
       "       'HotspotShield', 'ICMP.HotspotShield', 'HTTP.Wikipedia',\n",
       "       'COAP.NFS', 'DNS.YouTubeUpload', 'TLS.YouTubeUpload',\n",
       "       'QUIC.YouTubeUpload', 'ICMP.Steam', 'ICMP.Zoom', 'SSH.HTTP',\n",
       "       'H323.BitTorrent', 'STUN.Messenger', 'STUN.WhatsAppCall', 'Teredo',\n",
       "       'NFS.HTTP', 'CiscoVPN.Amazon', 'TargusDataspeed.Amazon',\n",
       "       'DNS.BitTorrent', 'SSH.RTMP', 'HTTP_Proxy.TLS', 'IPsec.NFS',\n",
       "       'Telnet.Amazon', 'STUN.Steam', 'DNS.NFS', 'CiscoVPN.BitTorrent',\n",
       "       'H323.NFS', 'BGP.HTTP', 'Kerberos.Amazon', 'Dropbox.NFS',\n",
       "       'IRC.NFS', 'RDP.BitTorrent', 'SOCKS.BitTorrent',\n",
       "       'TeamViewer.MongoDB', 'Radius.BitTorrent', 'Megaco.BitTorrent',\n",
       "       'MDNS.Tor', 'SSH.Redis', 'HTTP.Tor', 'SSH.Amazon',\n",
       "       'WireGuard.BitTorrent', 'ICMP.OpenDNS', 'WSD.NFS', 'Ayiya.NFS',\n",
       "       'COAP.BitTorrent', 'Memcached.BitTorrent', 'DNS.Citrix', 'RDP.NFS',\n",
       "       'EAQ.BitTorrent', 'Viber.BitTorrent', 'NTP.Tor', 'QUIC.DoH_DoT',\n",
       "       'TeamSpeak', 'ICMP.WhatsApp', 'ICMP.Webex', 'OpenVPN.BitTorrent',\n",
       "       'HTTP_Proxy.Google', 'Playstation.NFS', 'HTTP.Mining',\n",
       "       'HTTP.BitTorrent', 'BitTorrent.Amazon', 'SOMEIP.BitTorrent',\n",
       "       'CAPWAP', 'HTTP.GoogleMaps', 'Ayiya.BitTorrent', 'QUIC.DTLS',\n",
       "       'QUIC.Messenger', 'EAQ', 'SSH.Google', 'LLMNR.NFS',\n",
       "       'Starcraft.BitTorrent', 'WireGuard.Amazon', 'CAPWAP.NFS',\n",
       "       'DNS.SoundCloud', 'HTTP.SoundCloud', 'HTTP.WhatsAppFiles',\n",
       "       'DNS.RDP', 'Radius.NFS', 'HTTP.TargusDataspeed', 'HTTP.Whois-DAS',\n",
       "       'OCS', 'VHUA.Amazon', 'DNS.eBay', 'TLS.eBay', 'HTTP.Xbox',\n",
       "       'TLS.SoundCloud', 'HTTP.Spotify', 'ICMP.NetFlix',\n",
       "       'TLS.AmazonVideo', 'TLS.AnyDesk', 'DNS.GooglePlus',\n",
       "       'SMBv23.Amazon', 'sFlow.BitTorrent', 'Dropbox.BitTorrent',\n",
       "       'SSH.TargusDataspeed', 'BJNP.BitTorrent', 'MySQL.PPTP',\n",
       "       'DNS.Ookla', 'MDNS.Amazon', 'Playstation.BitTorrent',\n",
       "       'Collectd.BitTorrent', 'SSH.TLS', 'DNS.HTTP', 'ICMP.Twitter',\n",
       "       'ICMP.Telegram', 'Megaco.NFS', 'Redis.Amazon', 'Tor.AJP',\n",
       "       'HTTP_Proxy.RDP'], dtype=object)"
      ]
     },
     "execution_count": 119,
     "metadata": {},
     "output_type": "execute_result"
    }
   ],
   "source": [
    "df[\"L7_PROTO_NAME\"].unique()"
   ]
  },
  {
   "cell_type": "code",
   "execution_count": null,
   "metadata": {},
   "outputs": [],
   "source": [
    "df[\"L7_PROTO_NAME\"] = df[\"L7_PROTO_NAME\"].map(lambda protocol: utils.lematize_protocol(protocol).upper())"
   ]
  },
  {
   "cell_type": "code",
   "execution_count": null,
   "metadata": {},
   "outputs": [
    {
     "name": "stdout",
     "output_type": "stream",
     "text": [
      "132\n"
     ]
    },
    {
     "data": {
      "text/plain": [
       "array(['UNKNOWN', 'ICMP', 'TLS', 'SMBV23', 'DNS', 'GOOGLE', 'QUIC',\n",
       "       'HTTP_PROXY', 'NFS', 'SSH', 'RDP', 'TELNET', 'BITTORRENT', 'BGP',\n",
       "       'HTTP', 'NTP', 'MSSQL-TDS', 'TEAMVIEWER', 'MEMCACHED', 'S7COMM',\n",
       "       'MDNS', 'SIP', 'LDAP', 'SNMP', 'COAP', 'AMAZON', 'IMAPS',\n",
       "       'CISCOSKINNY', 'WHATSAPPFILES', 'POPS', 'SSDP', 'RTSP', 'POP3',\n",
       "       'VNC', 'NETBIOS', 'FTP_CONTROL', 'H323', 'SMTP', 'MYSQL',\n",
       "       'DCE_RPC', 'SMTPS', 'IMAP', 'REMOTESCAN', 'IAX', 'IEC60870',\n",
       "       'MQTT', 'APPLE', 'RTP', 'MONGODB', 'FTP_DATA', 'SOMEIP',\n",
       "       'POSTGRESQL', 'MODBUS', 'OPENVPN', 'STEAM', 'CISCOVPN',\n",
       "       'PLAYSTATION', 'SKYPE', 'NESTLOGSINK', 'DNP3', 'STUN', 'WSD',\n",
       "       'XBOX', 'TARGUSDATASPEED', 'AFP', 'LOTUSNOTES', 'KERBEROS',\n",
       "       'RADIUS', 'SYSLOG', 'WHOIS-DAS', 'TFTP', 'IPSEC', 'IRC', 'OSPF',\n",
       "       'XDMCP', 'MINING', 'VIBER', 'REDIS', 'ZABBIX', 'AJP', 'SOCKS',\n",
       "       'LLMNR', 'TOR', 'ORACLE', 'CHECKMK', 'CITRIX', 'SAP', 'STARCRAFT',\n",
       "       'GIT', 'DOH_DOT', 'RTMP', 'RSYNC', 'TINC', 'ICMPV6', 'VMWARE',\n",
       "       'DIAMETER', 'AMONGUS', 'FACEBOOK', 'GTP', 'MICROSOFT', 'TWITTER',\n",
       "       'VHUA', 'CLOUDFLARE', 'RX', 'BLOOMBERG', 'MICROSOFT365',\n",
       "       'WIREGUARD', 'MS_ONEDRIVE', 'GRE', 'CORBA', 'WHATSAPP', 'TWITCH',\n",
       "       'UBNTAC2', 'NETFLIX', 'WEBEX', 'DROPBOX', 'MPEG_TS', 'NETFLOW',\n",
       "       'ZOOM', 'DTLS', 'OPENDNS', 'HOTSPOTSHIELD', 'TEREDO', 'MEGACO',\n",
       "       'AYIYA', 'EAQ', 'TEAMSPEAK', 'CAPWAP', 'OCS', 'SFLOW', 'BJNP',\n",
       "       'COLLECTD'], dtype=object)"
      ]
     },
     "execution_count": 121,
     "metadata": {},
     "output_type": "execute_result"
    }
   ],
   "source": [
    "print(len(df[\"L7_PROTO_NAME\"].unique()))\n",
    "\n",
    "df[\"L7_PROTO_NAME\"].unique()"
   ]
  },
  {
   "cell_type": "code",
   "execution_count": null,
   "metadata": {},
   "outputs": [
    {
     "data": {
      "text/html": [
       "<div>\n",
       "<style scoped>\n",
       "    .dataframe tbody tr th:only-of-type {\n",
       "        vertical-align: middle;\n",
       "    }\n",
       "\n",
       "    .dataframe tbody tr th {\n",
       "        vertical-align: top;\n",
       "    }\n",
       "\n",
       "    .dataframe thead th {\n",
       "        text-align: right;\n",
       "    }\n",
       "</style>\n",
       "<table border=\"1\" class=\"dataframe\">\n",
       "  <thead>\n",
       "    <tr style=\"text-align: right;\">\n",
       "      <th></th>\n",
       "      <th>FIRST_SWITCHED</th>\n",
       "      <th>FLOW_DURATION_MILLISECONDS</th>\n",
       "      <th>IN_PKTS</th>\n",
       "      <th>L4_DST_PORT</th>\n",
       "      <th>L4_SRC_PORT</th>\n",
       "      <th>LAST_SWITCHED</th>\n",
       "      <th>OUT_BYTES</th>\n",
       "      <th>OUT_PKTS</th>\n",
       "      <th>SRC_TO_DST_SECOND_BYTES</th>\n",
       "      <th>TCP_FLAGS</th>\n",
       "      <th>...</th>\n",
       "      <th>L7_PROTO_NAME_WEBEX</th>\n",
       "      <th>L7_PROTO_NAME_WHATSAPP</th>\n",
       "      <th>L7_PROTO_NAME_WHATSAPPFILES</th>\n",
       "      <th>L7_PROTO_NAME_WHOIS-DAS</th>\n",
       "      <th>L7_PROTO_NAME_WIREGUARD</th>\n",
       "      <th>L7_PROTO_NAME_WSD</th>\n",
       "      <th>L7_PROTO_NAME_XBOX</th>\n",
       "      <th>L7_PROTO_NAME_XDMCP</th>\n",
       "      <th>L7_PROTO_NAME_ZABBIX</th>\n",
       "      <th>L7_PROTO_NAME_ZOOM</th>\n",
       "    </tr>\n",
       "  </thead>\n",
       "  <tbody>\n",
       "    <tr>\n",
       "      <th>0</th>\n",
       "      <td>1616660040</td>\n",
       "      <td>0</td>\n",
       "      <td>1</td>\n",
       "      <td>60541</td>\n",
       "      <td>22351</td>\n",
       "      <td>1616660040</td>\n",
       "      <td>3.688879</td>\n",
       "      <td>1</td>\n",
       "      <td>3.784190</td>\n",
       "      <td>22</td>\n",
       "      <td>...</td>\n",
       "      <td>0</td>\n",
       "      <td>0</td>\n",
       "      <td>0</td>\n",
       "      <td>0</td>\n",
       "      <td>0</td>\n",
       "      <td>0</td>\n",
       "      <td>0</td>\n",
       "      <td>0</td>\n",
       "      <td>0</td>\n",
       "      <td>0</td>\n",
       "    </tr>\n",
       "    <tr>\n",
       "      <th>1</th>\n",
       "      <td>1616660040</td>\n",
       "      <td>0</td>\n",
       "      <td>1</td>\n",
       "      <td>0</td>\n",
       "      <td>0</td>\n",
       "      <td>1616660040</td>\n",
       "      <td>0.000000</td>\n",
       "      <td>0</td>\n",
       "      <td>4.219508</td>\n",
       "      <td>0</td>\n",
       "      <td>...</td>\n",
       "      <td>0</td>\n",
       "      <td>0</td>\n",
       "      <td>0</td>\n",
       "      <td>0</td>\n",
       "      <td>0</td>\n",
       "      <td>0</td>\n",
       "      <td>0</td>\n",
       "      <td>0</td>\n",
       "      <td>0</td>\n",
       "      <td>0</td>\n",
       "    </tr>\n",
       "    <tr>\n",
       "      <th>2</th>\n",
       "      <td>1616660040</td>\n",
       "      <td>44</td>\n",
       "      <td>2</td>\n",
       "      <td>24650</td>\n",
       "      <td>443</td>\n",
       "      <td>1616660040</td>\n",
       "      <td>4.644391</td>\n",
       "      <td>2</td>\n",
       "      <td>5.241747</td>\n",
       "      <td>25</td>\n",
       "      <td>...</td>\n",
       "      <td>0</td>\n",
       "      <td>0</td>\n",
       "      <td>0</td>\n",
       "      <td>0</td>\n",
       "      <td>0</td>\n",
       "      <td>0</td>\n",
       "      <td>0</td>\n",
       "      <td>0</td>\n",
       "      <td>0</td>\n",
       "      <td>0</td>\n",
       "    </tr>\n",
       "  </tbody>\n",
       "</table>\n",
       "<p>3 rows × 151 columns</p>\n",
       "</div>"
      ],
      "text/plain": [
       "   FIRST_SWITCHED  FLOW_DURATION_MILLISECONDS  IN_PKTS  L4_DST_PORT  \\\n",
       "0      1616660040                           0        1        60541   \n",
       "1      1616660040                           0        1            0   \n",
       "2      1616660040                          44        2        24650   \n",
       "\n",
       "   L4_SRC_PORT  LAST_SWITCHED  OUT_BYTES  OUT_PKTS  SRC_TO_DST_SECOND_BYTES  \\\n",
       "0        22351     1616660040   3.688879         1                 3.784190   \n",
       "1            0     1616660040   0.000000         0                 4.219508   \n",
       "2          443     1616660040   4.644391         2                 5.241747   \n",
       "\n",
       "   TCP_FLAGS  ...  L7_PROTO_NAME_WEBEX  L7_PROTO_NAME_WHATSAPP  \\\n",
       "0         22  ...                    0                       0   \n",
       "1          0  ...                    0                       0   \n",
       "2         25  ...                    0                       0   \n",
       "\n",
       "   L7_PROTO_NAME_WHATSAPPFILES L7_PROTO_NAME_WHOIS-DAS  \\\n",
       "0                            0                       0   \n",
       "1                            0                       0   \n",
       "2                            0                       0   \n",
       "\n",
       "   L7_PROTO_NAME_WIREGUARD  L7_PROTO_NAME_WSD  L7_PROTO_NAME_XBOX  \\\n",
       "0                        0                  0                   0   \n",
       "1                        0                  0                   0   \n",
       "2                        0                  0                   0   \n",
       "\n",
       "   L7_PROTO_NAME_XDMCP  L7_PROTO_NAME_ZABBIX  L7_PROTO_NAME_ZOOM  \n",
       "0                    0                     0                   0  \n",
       "1                    0                     0                   0  \n",
       "2                    0                     0                   0  \n",
       "\n",
       "[3 rows x 151 columns]"
      ]
     },
     "execution_count": 122,
     "metadata": {},
     "output_type": "execute_result"
    }
   ],
   "source": [
    "df = pd.get_dummies(df, columns = [\"L7_PROTO_NAME\"])\n",
    "df.head(3)"
   ]
  },
  {
   "cell_type": "markdown",
   "metadata": {},
   "source": [
    "#### Treat LABEL column"
   ]
  },
  {
   "cell_type": "code",
   "execution_count": null,
   "metadata": {},
   "outputs": [
    {
     "data": {
      "text/plain": [
       "array(['Normal flow', 'SYN Scan - aggressive',\n",
       "       'Denial of Service R-U-Dead-Yet', 'Denial of Service Slowloris'],\n",
       "      dtype=object)"
      ]
     },
     "execution_count": 123,
     "metadata": {},
     "output_type": "execute_result"
    }
   ],
   "source": [
    "df[\"LABEL\"].unique()"
   ]
  },
  {
   "cell_type": "code",
   "execution_count": null,
   "metadata": {},
   "outputs": [
    {
     "data": {
      "text/plain": [
       "array([0, 1, 2, 3])"
      ]
     },
     "execution_count": 124,
     "metadata": {},
     "output_type": "execute_result"
    }
   ],
   "source": [
    "labels_dic = {\n",
    "    \"Normal flow\": 0,\n",
    "    \"SYN Scan - aggressive\": 1,\n",
    "    \"Denial of Service R-U-Dead-Yet\": 2,\n",
    "    \"Denial of Service Slowloris\": 3\n",
    "}\n",
    "df[\"LABEL\"] = df[\"LABEL\"].apply(lambda x: labels_dic[x])\n",
    "df[\"LABEL\"].unique()"
   ]
  },
  {
   "cell_type": "markdown",
   "metadata": {},
   "source": [
    "### Normalize column names"
   ]
  },
  {
   "cell_type": "code",
   "execution_count": null,
   "metadata": {},
   "outputs": [
    {
     "data": {
      "text/plain": [
       "Index(['FIRST_SWITCHED', 'FLOW_DURATION_MILLISECONDS', 'IN_PKTS',\n",
       "       'L4_DST_PORT', 'L4_SRC_PORT', 'LAST_SWITCHED', 'OUT_BYTES', 'OUT_PKTS',\n",
       "       'SRC_TO_DST_SECOND_BYTES', 'TCP_FLAGS',\n",
       "       ...\n",
       "       'L7_PROTO_NAME_WEBEX', 'L7_PROTO_NAME_WHATSAPP',\n",
       "       'L7_PROTO_NAME_WHATSAPPFILES', 'L7_PROTO_NAME_WHOIS_DAS',\n",
       "       'L7_PROTO_NAME_WIREGUARD', 'L7_PROTO_NAME_WSD', 'L7_PROTO_NAME_XBOX',\n",
       "       'L7_PROTO_NAME_XDMCP', 'L7_PROTO_NAME_ZABBIX', 'L7_PROTO_NAME_ZOOM'],\n",
       "      dtype='object', length=151)"
      ]
     },
     "execution_count": 125,
     "metadata": {},
     "output_type": "execute_result"
    }
   ],
   "source": [
    "# Normalize columns\n",
    "df.columns = [column.replace(\"-\", \"_\") for column in df.columns]\n",
    "df.columns"
   ]
  },
  {
   "cell_type": "markdown",
   "metadata": {},
   "source": [
    "### Third profile report"
   ]
  },
  {
   "cell_type": "code",
   "execution_count": null,
   "metadata": {},
   "outputs": [
    {
     "data": {
      "text/plain": [
       "(12207873, 151)"
      ]
     },
     "execution_count": 126,
     "metadata": {},
     "output_type": "execute_result"
    }
   ],
   "source": [
    "df.shape"
   ]
  },
  {
   "cell_type": "code",
   "execution_count": null,
   "metadata": {},
   "outputs": [],
   "source": [
    "if not os.path.isfile(\"profile-categorical.html\") and generate_reports:\n",
    "    ProfileReport(df, title=\"Exploratory Data Analysis 2\").to_file(\"profile-categorical.html\")"
   ]
  },
  {
   "cell_type": "markdown",
   "metadata": {},
   "source": [
    "### Create clean dataset"
   ]
  },
  {
   "cell_type": "code",
   "execution_count": null,
   "metadata": {},
   "outputs": [],
   "source": [
    "sampled_df.to_csv(\"dataset/clean_df.csv\")"
   ]
  },
  {
   "cell_type": "code",
   "execution_count": null,
   "metadata": {},
   "outputs": [
    {
     "data": {
      "text/plain": [
       "Index(['FIRST_SWITCHED', 'FLOW_DURATION_MILLISECONDS', 'IN_PKTS',\n",
       "       'L4_DST_PORT', 'L4_SRC_PORT', 'LAST_SWITCHED', 'OUT_BYTES', 'OUT_PKTS',\n",
       "       'SRC_TO_DST_SECOND_BYTES', 'TCP_FLAGS',\n",
       "       ...\n",
       "       'L7_PROTO_NAME_WEBEX', 'L7_PROTO_NAME_WHATSAPP',\n",
       "       'L7_PROTO_NAME_WHATSAPPFILES', 'L7_PROTO_NAME_WHOIS_DAS',\n",
       "       'L7_PROTO_NAME_WIREGUARD', 'L7_PROTO_NAME_WSD', 'L7_PROTO_NAME_XBOX',\n",
       "       'L7_PROTO_NAME_XDMCP', 'L7_PROTO_NAME_ZABBIX', 'L7_PROTO_NAME_ZOOM'],\n",
       "      dtype='object', length=151)"
      ]
     },
     "execution_count": 148,
     "metadata": {},
     "output_type": "execute_result"
    }
   ],
   "source": [
    "sampled_df.columns"
   ]
  },
  {
   "cell_type": "code",
   "execution_count": null,
   "metadata": {},
   "outputs": [
    {
     "name": "stdout",
     "output_type": "stream",
     "text": [
      "FIRST_SWITCHED\n",
      "FLOW_DURATION_MILLISECONDS\n",
      "IN_PKTS\n",
      "L4_DST_PORT\n",
      "L4_SRC_PORT\n",
      "LAST_SWITCHED\n",
      "OUT_BYTES\n",
      "OUT_PKTS\n",
      "SRC_TO_DST_SECOND_BYTES\n",
      "TCP_FLAGS\n",
      "TCP_WIN_MAX_IN\n",
      "TCP_WIN_MAX_OUT\n",
      "TCP_WIN_MSS_IN\n",
      "LABEL\n",
      "PROTOCOL_MAP_gre\n",
      "PROTOCOL_MAP_icmp\n",
      "PROTOCOL_MAP_ipv6_icmp\n",
      "PROTOCOL_MAP_tcp\n",
      "PROTOCOL_MAP_udp\n",
      "L7_PROTO_NAME_AFP\n",
      "L7_PROTO_NAME_AJP\n",
      "L7_PROTO_NAME_AMAZON\n",
      "L7_PROTO_NAME_AMONGUS\n",
      "L7_PROTO_NAME_APPLE\n",
      "L7_PROTO_NAME_AYIYA\n",
      "L7_PROTO_NAME_BGP\n",
      "L7_PROTO_NAME_BITTORRENT\n",
      "L7_PROTO_NAME_BJNP\n",
      "L7_PROTO_NAME_BLOOMBERG\n",
      "L7_PROTO_NAME_CAPWAP\n",
      "L7_PROTO_NAME_CHECKMK\n",
      "L7_PROTO_NAME_CISCOSKINNY\n",
      "L7_PROTO_NAME_CISCOVPN\n",
      "L7_PROTO_NAME_CITRIX\n",
      "L7_PROTO_NAME_CLOUDFLARE\n",
      "L7_PROTO_NAME_COAP\n",
      "L7_PROTO_NAME_COLLECTD\n",
      "L7_PROTO_NAME_CORBA\n",
      "L7_PROTO_NAME_DCE_RPC\n",
      "L7_PROTO_NAME_DIAMETER\n",
      "L7_PROTO_NAME_DNP3\n",
      "L7_PROTO_NAME_DNS\n",
      "L7_PROTO_NAME_DOH_DOT\n",
      "L7_PROTO_NAME_DROPBOX\n",
      "L7_PROTO_NAME_DTLS\n",
      "L7_PROTO_NAME_EAQ\n",
      "L7_PROTO_NAME_FACEBOOK\n",
      "L7_PROTO_NAME_FTP_CONTROL\n",
      "L7_PROTO_NAME_FTP_DATA\n",
      "L7_PROTO_NAME_GIT\n",
      "L7_PROTO_NAME_GOOGLE\n",
      "L7_PROTO_NAME_GRE\n",
      "L7_PROTO_NAME_GTP\n",
      "L7_PROTO_NAME_H323\n",
      "L7_PROTO_NAME_HOTSPOTSHIELD\n",
      "L7_PROTO_NAME_HTTP\n",
      "L7_PROTO_NAME_HTTP_PROXY\n",
      "L7_PROTO_NAME_IAX\n",
      "L7_PROTO_NAME_ICMP\n",
      "L7_PROTO_NAME_ICMPV6\n",
      "L7_PROTO_NAME_IEC60870\n",
      "L7_PROTO_NAME_IMAP\n",
      "L7_PROTO_NAME_IMAPS\n",
      "L7_PROTO_NAME_IPSEC\n",
      "L7_PROTO_NAME_IRC\n",
      "L7_PROTO_NAME_KERBEROS\n",
      "L7_PROTO_NAME_LDAP\n",
      "L7_PROTO_NAME_LLMNR\n",
      "L7_PROTO_NAME_LOTUSNOTES\n",
      "L7_PROTO_NAME_MDNS\n",
      "L7_PROTO_NAME_MEGACO\n",
      "L7_PROTO_NAME_MEMCACHED\n",
      "L7_PROTO_NAME_MICROSOFT\n",
      "L7_PROTO_NAME_MICROSOFT365\n",
      "L7_PROTO_NAME_MINING\n",
      "L7_PROTO_NAME_MODBUS\n",
      "L7_PROTO_NAME_MONGODB\n",
      "L7_PROTO_NAME_MPEG_TS\n",
      "L7_PROTO_NAME_MQTT\n",
      "L7_PROTO_NAME_MSSQL_TDS\n",
      "L7_PROTO_NAME_MS_ONEDRIVE\n",
      "L7_PROTO_NAME_MYSQL\n",
      "L7_PROTO_NAME_NESTLOGSINK\n",
      "L7_PROTO_NAME_NETBIOS\n",
      "L7_PROTO_NAME_NETFLIX\n",
      "L7_PROTO_NAME_NETFLOW\n",
      "L7_PROTO_NAME_NFS\n",
      "L7_PROTO_NAME_NTP\n",
      "L7_PROTO_NAME_OCS\n",
      "L7_PROTO_NAME_OPENDNS\n",
      "L7_PROTO_NAME_OPENVPN\n",
      "L7_PROTO_NAME_ORACLE\n",
      "L7_PROTO_NAME_OSPF\n",
      "L7_PROTO_NAME_PLAYSTATION\n",
      "L7_PROTO_NAME_POP3\n",
      "L7_PROTO_NAME_POPS\n",
      "L7_PROTO_NAME_POSTGRESQL\n",
      "L7_PROTO_NAME_QUIC\n",
      "L7_PROTO_NAME_RADIUS\n",
      "L7_PROTO_NAME_RDP\n",
      "L7_PROTO_NAME_REDIS\n",
      "L7_PROTO_NAME_REMOTESCAN\n",
      "L7_PROTO_NAME_RSYNC\n",
      "L7_PROTO_NAME_RTMP\n",
      "L7_PROTO_NAME_RTP\n",
      "L7_PROTO_NAME_RTSP\n",
      "L7_PROTO_NAME_RX\n",
      "L7_PROTO_NAME_S7COMM\n",
      "L7_PROTO_NAME_SAP\n",
      "L7_PROTO_NAME_SFLOW\n",
      "L7_PROTO_NAME_SIP\n",
      "L7_PROTO_NAME_SKYPE\n",
      "L7_PROTO_NAME_SMBV23\n",
      "L7_PROTO_NAME_SMTP\n",
      "L7_PROTO_NAME_SMTPS\n",
      "L7_PROTO_NAME_SNMP\n",
      "L7_PROTO_NAME_SOCKS\n",
      "L7_PROTO_NAME_SOMEIP\n",
      "L7_PROTO_NAME_SSDP\n",
      "L7_PROTO_NAME_SSH\n",
      "L7_PROTO_NAME_STARCRAFT\n",
      "L7_PROTO_NAME_STEAM\n",
      "L7_PROTO_NAME_STUN\n",
      "L7_PROTO_NAME_SYSLOG\n",
      "L7_PROTO_NAME_TARGUSDATASPEED\n",
      "L7_PROTO_NAME_TEAMSPEAK\n",
      "L7_PROTO_NAME_TEAMVIEWER\n",
      "L7_PROTO_NAME_TELNET\n",
      "L7_PROTO_NAME_TEREDO\n",
      "L7_PROTO_NAME_TFTP\n",
      "L7_PROTO_NAME_TINC\n",
      "L7_PROTO_NAME_TLS\n",
      "L7_PROTO_NAME_TOR\n",
      "L7_PROTO_NAME_TWITCH\n",
      "L7_PROTO_NAME_TWITTER\n",
      "L7_PROTO_NAME_UBNTAC2\n",
      "L7_PROTO_NAME_UNKNOWN\n",
      "L7_PROTO_NAME_VHUA\n",
      "L7_PROTO_NAME_VIBER\n",
      "L7_PROTO_NAME_VMWARE\n",
      "L7_PROTO_NAME_VNC\n",
      "L7_PROTO_NAME_WEBEX\n",
      "L7_PROTO_NAME_WHATSAPP\n",
      "L7_PROTO_NAME_WHATSAPPFILES\n",
      "L7_PROTO_NAME_WHOIS_DAS\n",
      "L7_PROTO_NAME_WIREGUARD\n",
      "L7_PROTO_NAME_WSD\n",
      "L7_PROTO_NAME_XBOX\n",
      "L7_PROTO_NAME_XDMCP\n",
      "L7_PROTO_NAME_ZABBIX\n",
      "L7_PROTO_NAME_ZOOM\n"
     ]
    }
   ],
   "source": [
    "for column in sampled_df.columns:\n",
    "    print(column)"
   ]
  },
  {
   "cell_type": "code",
   "execution_count": null,
   "metadata": {},
   "outputs": [
    {
     "data": {
      "text/plain": [
       "151"
      ]
     },
     "execution_count": 151,
     "metadata": {},
     "output_type": "execute_result"
    }
   ],
   "source": [
    "len(sampled_df.columns)"
   ]
  },
  {
   "cell_type": "code",
   "execution_count": null,
   "metadata": {},
   "outputs": [],
   "source": []
  }
 ],
 "metadata": {
  "interpreter": {
   "hash": "c30ed9953166c46a373925bc872b270a46ca8c9de287d54e6d16603f90de65fb"
  },
  "kernelspec": {
   "display_name": "Python 3 (ipykernel)",
   "language": "python",
   "name": "python3"
  },
  "language_info": {
   "codemirror_mode": {
    "name": "ipython",
    "version": 3
   },
   "file_extension": ".py",
   "mimetype": "text/x-python",
   "name": "python",
   "nbconvert_exporter": "python",
   "pygments_lexer": "ipython3",
   "version": "3.7.12"
  }
 },
 "nbformat": 4,
 "nbformat_minor": 2
}
