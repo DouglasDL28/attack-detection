{
 "cells": [
  {
   "cell_type": "markdown",
   "metadata": {},
   "source": [
    "# Proyecto 1\n",
    "## Detección de ataques"
   ]
  },
  {
   "cell_type": "code",
   "execution_count": 43,
   "metadata": {},
   "outputs": [],
   "source": [
    "import os.path\n",
    "\n",
    "import pandas as pd\n",
    "from pandas_profiling import ProfileReport\n",
    "\n",
    "import utils"
   ]
  },
  {
   "cell_type": "code",
   "execution_count": 44,
   "metadata": {},
   "outputs": [],
   "source": [
    "generate_reports: bool = True\n",
    "generate_dfs: bool = True"
   ]
  },
  {
   "cell_type": "code",
   "execution_count": 45,
   "metadata": {},
   "outputs": [
    {
     "data": {
      "text/plain": [
       "(488370, 50)"
      ]
     },
     "execution_count": 45,
     "metadata": {},
     "output_type": "execute_result"
    }
   ],
   "source": [
    "df = pd.read_csv(\"dataset/sampled_df.csv\")\n",
    "\n",
    "df.shape"
   ]
  },
  {
   "cell_type": "markdown",
   "metadata": {},
   "source": [
    "## Preprocessing"
   ]
  },
  {
   "cell_type": "markdown",
   "metadata": {},
   "source": [
    "### Remove unnecesary variables"
   ]
  },
  {
   "cell_type": "markdown",
   "metadata": {},
   "source": [
    "#### Drop constants"
   ]
  },
  {
   "cell_type": "code",
   "execution_count": 46,
   "metadata": {},
   "outputs": [],
   "source": [
    "# CONSTANTS \n",
    "constants = [\n",
    "    'BIFLOW_DIRECTION',\n",
    "    'FIREWALL_EVENT',\n",
    "    'FLOW_ACTIVE_TIMEOUT',\n",
    "    'FLOW_INACTIVE_TIMEOUT',\n",
    "    'FRAME_LENGTH',\n",
    "    'MAX_IP_PKT_LEN',\n",
    "    'MIN_IP_PKT_LEN',\n",
    "    'SAMPLING_INTERVAL',\n",
    "    'DIRECTION',\n",
    "    'OOORDER_IN_PKTS',\n",
    "    'OOORDER_OUT_PKTS',\n",
    "]\n",
    "\n",
    "# DIRECTION, OOORDER_IN_PKTS and OOORDER_OUT_PKTS has 99%> zero values, so it will be considered a constant."
   ]
  },
  {
   "cell_type": "code",
   "execution_count": 47,
   "metadata": {},
   "outputs": [
    {
     "data": {
      "text/plain": [
       "39"
      ]
     },
     "execution_count": 47,
     "metadata": {},
     "output_type": "execute_result"
    }
   ],
   "source": [
    "# Drop constants from dataframe\n",
    "df = df.drop(constants, axis=1)\n",
    "len(df.columns.values)"
   ]
  },
  {
   "cell_type": "markdown",
   "metadata": {},
   "source": [
    "#### Drop unique values"
   ]
  },
  {
   "cell_type": "code",
   "execution_count": 48,
   "metadata": {},
   "outputs": [],
   "source": [
    "# UNIQUE\n",
    "unique_vars = ['FLOW_ID', 'TOTAL_FLOWS_EXP']"
   ]
  },
  {
   "cell_type": "code",
   "execution_count": 49,
   "metadata": {},
   "outputs": [
    {
     "data": {
      "text/plain": [
       "37"
      ]
     },
     "execution_count": 49,
     "metadata": {},
     "output_type": "execute_result"
    }
   ],
   "source": [
    "df = df.drop(unique_vars, axis=1)\n",
    "len(df.columns.values)"
   ]
  },
  {
   "cell_type": "markdown",
   "metadata": {},
   "source": [
    "#### DROP IPS"
   ]
  },
  {
   "cell_type": "code",
   "execution_count": 50,
   "metadata": {},
   "outputs": [],
   "source": [
    "df = df.drop([\"IPV4_DST_ADDR\", \"IPV4_SRC_ADDR\"], axis = 1)"
   ]
  },
  {
   "cell_type": "markdown",
   "metadata": {},
   "source": [
    "#### DROP PROTOCOL COLUMN"
   ]
  },
  {
   "cell_type": "code",
   "execution_count": 51,
   "metadata": {
    "scrolled": true
   },
   "outputs": [],
   "source": [
    "df = df.drop([\"PROTOCOL\"], axis = 1)"
   ]
  },
  {
   "cell_type": "markdown",
   "metadata": {},
   "source": [
    "#### Clean data from report"
   ]
  },
  {
   "cell_type": "code",
   "execution_count": 52,
   "metadata": {},
   "outputs": [],
   "source": [
    "# Drop columns that almost everything is 0\n",
    "df = df.drop(columns=[\"RETRANSMITTED_IN_BYTES\", \"RETRANSMITTED_IN_PKTS\"], axis = 1)"
   ]
  },
  {
   "cell_type": "code",
   "execution_count": 53,
   "metadata": {},
   "outputs": [],
   "source": [
    "df = df.drop(columns=[\"RETRANSMITTED_OUT_BYTES\", \"RETRANSMITTED_OUT_PKTS\"], axis=1)"
   ]
  },
  {
   "cell_type": "code",
   "execution_count": 54,
   "metadata": {},
   "outputs": [],
   "source": [
    "df = df.drop(columns=[\"TCP_WIN_MSS_OUT\", \"TCP_WIN_SCALE_IN\", \"TCP_WIN_SCALE_IN\", \"TCP_WIN_SCALE_OUT\", \"SRC_TOS\", \"DST_TOS\"], axis=1)"
   ]
  },
  {
   "cell_type": "markdown",
   "metadata": {},
   "source": [
    "### Numerical preprocessing"
   ]
  },
  {
   "cell_type": "markdown",
   "metadata": {},
   "source": [
    "#### Fix DST_TO_SRC_SECOND_BYTES column"
   ]
  },
  {
   "cell_type": "code",
   "execution_count": 55,
   "metadata": {},
   "outputs": [],
   "source": [
    "# df[\"DST_TO_SRC_SECOND_BYTES\"].apply(np.isreal)\n",
    "DST_TO_SRC_SECOND_BYTES_INT_VALUES = list(filter(utils.is_int, df[\"DST_TO_SRC_SECOND_BYTES\"]))\n",
    "DST_TO_SRC_SECOND_BYTES_NON_INT_VALUES = list(filter(lambda x: not utils.is_int(x), df[\"DST_TO_SRC_SECOND_BYTES\"]))"
   ]
  },
  {
   "cell_type": "code",
   "execution_count": 56,
   "metadata": {},
   "outputs": [
    {
     "name": "stdout",
     "output_type": "stream",
     "text": [
      "Correct int values:  184707\n",
      "Incorrect int values:  303663\n",
      "Total values count:  488370\n"
     ]
    }
   ],
   "source": [
    "print(\"Correct int values: \", len(DST_TO_SRC_SECOND_BYTES_INT_VALUES))\n",
    "print(\"Incorrect int values: \", len(DST_TO_SRC_SECOND_BYTES_NON_INT_VALUES))\n",
    "print(\"Total values count: \", len(df[\"DST_TO_SRC_SECOND_BYTES\"]))"
   ]
  },
  {
   "cell_type": "code",
   "execution_count": 57,
   "metadata": {},
   "outputs": [],
   "source": [
    "df_safe_clean = df.copy()"
   ]
  },
  {
   "cell_type": "code",
   "execution_count": 58,
   "metadata": {},
   "outputs": [
    {
     "data": {
      "text/plain": [
       "3369345    624\n",
       "4767061    156\n",
       "2811993    736\n",
       "3673849    624\n",
       "4013181    624\n",
       "Name: DST_TO_SRC_SECOND_BYTES, dtype: int64"
      ]
     },
     "execution_count": 58,
     "metadata": {},
     "output_type": "execute_result"
    }
   ],
   "source": [
    "df[\"DST_TO_SRC_SECOND_BYTES\"] = df[\"DST_TO_SRC_SECOND_BYTES\"].apply(lambda x: int(x) if utils.is_int(x) else utils.normalize_dst_to_src_column(x))\n",
    "df[\"DST_TO_SRC_SECOND_BYTES\"].head()"
   ]
  },
  {
   "cell_type": "code",
   "execution_count": 59,
   "metadata": {},
   "outputs": [
    {
     "data": {
      "text/plain": [
       "3369345    624\n",
       "4767061    156\n",
       "2811993    736\n",
       "3673849    624\n",
       "4013181    624\n",
       "Name: DST_TO_SRC_SECOND_BYTES, dtype: int64"
      ]
     },
     "execution_count": 59,
     "metadata": {},
     "output_type": "execute_result"
    }
   ],
   "source": [
    "# Replace the 0 with 1\n",
    "df[\"DST_TO_SRC_SECOND_BYTES\"].replace({0: 1}, inplace=True)\n",
    "df[\"DST_TO_SRC_SECOND_BYTES\"].head()"
   ]
  },
  {
   "cell_type": "markdown",
   "metadata": {},
   "source": [
    "#### Fix SRC_TO_DST_SECOND_BYTES column"
   ]
  },
  {
   "cell_type": "code",
   "execution_count": 60,
   "metadata": {
    "scrolled": true
   },
   "outputs": [
    {
     "data": {
      "text/plain": [
       "3369345    1275\n",
       "4767061     349\n",
       "2811993    1563\n",
       "3673849    1329\n",
       "4013181    1155\n",
       "Name: SRC_TO_DST_SECOND_BYTES, dtype: int64"
      ]
     },
     "execution_count": 60,
     "metadata": {},
     "output_type": "execute_result"
    }
   ],
   "source": [
    "df[\"SRC_TO_DST_SECOND_BYTES\"] = df[\"SRC_TO_DST_SECOND_BYTES\"].apply(lambda x: int(x) if utils.is_int(x) else utils.normalize_dst_to_src_column(x))\n",
    "df[\"SRC_TO_DST_SECOND_BYTES\"].head()"
   ]
  },
  {
   "cell_type": "markdown",
   "metadata": {},
   "source": [
    "### Second profile report"
   ]
  },
  {
   "cell_type": "code",
   "execution_count": 61,
   "metadata": {
    "scrolled": true
   },
   "outputs": [],
   "source": [
    "if not os.path.isfile(\"reports/profile-numerical.html\") and generate_reports:\n",
    "    ProfileReport(df, title=\"Profile after numerical preprocessing\", minimal=True).to_file(\"reports/profile-numerical.html\")"
   ]
  },
  {
   "cell_type": "markdown",
   "metadata": {},
   "source": [
    "#### Reduce skew data"
   ]
  },
  {
   "cell_type": "code",
   "execution_count": 62,
   "metadata": {},
   "outputs": [],
   "source": [
    "import numpy as np\n",
    "from scipy.stats import skew\n",
    "\n",
    "def reduce_skew(column, fn = np.log):\n",
    "    print(\"Skew actual value for column \", column,\": \",skew(df[\"SRC_TO_DST_SECOND_BYTES\"]))\n",
    "    df[column].replace({0: 1}, inplace=True)\n",
    "    df[column] = df[column].apply(fn)\n",
    "    print(\"New value: \", skew(df[column]))"
   ]
  },
  {
   "cell_type": "code",
   "execution_count": 63,
   "metadata": {},
   "outputs": [
    {
     "name": "stdout",
     "output_type": "stream",
     "text": [
      "Skew actual value for column  SRC_TO_DST_SECOND_BYTES :  319.2781970169553\n",
      "New value:  0.214632391445567\n",
      "Skew actual value for column  DST_TO_SRC_SECOND_BYTES :  0.214632391445567\n",
      "New value:  -0.5959331050626652\n",
      "Skew actual value for column  OUT_BYTES :  0.214632391445567\n",
      "New value:  -0.5950657677745992\n"
     ]
    }
   ],
   "source": [
    "reduce_skew(\"SRC_TO_DST_SECOND_BYTES\")\n",
    "reduce_skew(\"DST_TO_SRC_SECOND_BYTES\")\n",
    "reduce_skew(\"OUT_BYTES\")"
   ]
  },
  {
   "cell_type": "code",
   "execution_count": 64,
   "metadata": {},
   "outputs": [
    {
     "name": "stdout",
     "output_type": "stream",
     "text": [
      "Skew actual value for column  IN_BYTES :  0.214632391445567\n",
      "New value:  0.21731618581930975\n",
      "Skew actual value for column  IN_PKTS :  0.214632391445567\n",
      "New value:  0.2805405454915055\n",
      "Skew actual value for column  OUT_PKTS :  0.214632391445567\n",
      "New value:  0.4811800921206545\n"
     ]
    }
   ],
   "source": [
    "reduce_skew(\"IN_BYTES\")\n",
    "reduce_skew(\"IN_PKTS\")\n",
    "reduce_skew(\"OUT_PKTS\")"
   ]
  },
  {
   "cell_type": "markdown",
   "metadata": {},
   "source": [
    "### Correlation check"
   ]
  },
  {
   "cell_type": "code",
   "execution_count": 65,
   "metadata": {},
   "outputs": [],
   "source": [
    "import seaborn as sn\n",
    "import matplotlib.pyplot as plt\n",
    "corrMatrix = df.corr()"
   ]
  },
  {
   "cell_type": "code",
   "execution_count": 66,
   "metadata": {
    "scrolled": true
   },
   "outputs": [
    {
     "name": "stderr",
     "output_type": "stream",
     "text": [
      "/Users/douglasdeleon/Documents/DouglasJr/UVG/semestre9/SecurityDS/proyecto-1/attack-detection/venv/lib/python3.7/site-packages/ipykernel_launcher.py:3: UserWarning: Matplotlib is currently using agg, which is a non-GUI backend, so cannot show the figure.\n",
      "  This is separate from the ipykernel package so we can avoid doing imports until\n"
     ]
    }
   ],
   "source": [
    "fig, ax = plt.subplots(figsize=(60,20)) \n",
    "sn.heatmap(corrMatrix, annot=True, linewidths=.5, ax=ax)\n",
    "plt.show()"
   ]
  },
  {
   "cell_type": "code",
   "execution_count": 67,
   "metadata": {},
   "outputs": [
    {
     "name": "stdout",
     "output_type": "stream",
     "text": [
      "La columna  DST_TO_SRC_SECOND_BYTES  tuvo correlación con las columnas\n",
      "[('IN_BYTES', 0.7750787092436623), ('IN_PKTS', 0.7868472677192258), ('OUT_BYTES', 0.9999990908664482), ('OUT_PKTS', 0.8145579752781831), ('SRC_TO_DST_SECOND_BYTES', 0.7751061109748211)]\n",
      "\n",
      "\n",
      "La columna  FIRST_SWITCHED  tuvo correlación con las columnas\n",
      "[('FLOW_END_MILLISECONDS', 0.9999999987112844), ('FLOW_END_SEC', 0.999999998712298), ('FLOW_START_MILLISECONDS', 0.9999999999999297), ('FLOW_START_SEC', 1.0), ('LAST_SWITCHED', 0.999999998712298)]\n",
      "\n",
      "\n",
      "La columna  FLOW_DURATION_MICROSECONDS  tuvo correlación con las columnas\n",
      "[('FLOW_DURATION_MILLISECONDS', 0.999999999972291), ('IN_BYTES', 0.765416536990902), ('IN_PKTS', 0.7951984216949622), ('OUT_PKTS', 0.7876313170396291), ('SRC_TO_DST_SECOND_BYTES', 0.7654817406620488)]\n",
      "\n",
      "\n",
      "La columna  FLOW_DURATION_MILLISECONDS  tuvo correlación con las columnas\n",
      "[('FLOW_DURATION_MICROSECONDS', 0.999999999972291), ('IN_BYTES', 0.7654161809786645), ('IN_PKTS', 0.7951979134524083), ('OUT_PKTS', 0.7876308877147626), ('SRC_TO_DST_SECOND_BYTES', 0.7654813845637972)]\n",
      "\n",
      "\n",
      "La columna  FLOW_END_MILLISECONDS  tuvo correlación con las columnas\n",
      "[('FIRST_SWITCHED', 0.9999999987112844), ('FLOW_END_SEC', 0.9999999999999052), ('FLOW_START_MILLISECONDS', 0.9999999987109722), ('FLOW_START_SEC', 0.9999999987112825), ('LAST_SWITCHED', 0.9999999999999052)]\n",
      "\n",
      "\n",
      "La columna  FLOW_END_SEC  tuvo correlación con las columnas\n",
      "[('FIRST_SWITCHED', 0.999999998712298), ('FLOW_END_MILLISECONDS', 0.9999999999999052), ('FLOW_START_MILLISECONDS', 0.9999999987119229), ('FLOW_START_SEC', 0.9999999987122983), ('LAST_SWITCHED', 1.0)]\n",
      "\n",
      "\n",
      "La columna  FLOW_START_MILLISECONDS  tuvo correlación con las columnas\n",
      "[('FIRST_SWITCHED', 0.9999999999999297), ('FLOW_END_MILLISECONDS', 0.9999999987109722), ('FLOW_END_SEC', 0.9999999987119229), ('FLOW_START_SEC', 0.9999999999999296), ('LAST_SWITCHED', 0.99999999871192)]\n",
      "\n",
      "\n",
      "La columna  FLOW_START_SEC  tuvo correlación con las columnas\n",
      "[('FIRST_SWITCHED', 1.0), ('FLOW_END_MILLISECONDS', 0.9999999987112825), ('FLOW_END_SEC', 0.9999999987122983), ('FLOW_START_MILLISECONDS', 0.9999999999999296), ('LAST_SWITCHED', 0.999999998712298)]\n",
      "\n",
      "\n",
      "La columna  IN_BYTES  tuvo correlación con las columnas\n",
      "[('DST_TO_SRC_SECOND_BYTES', 0.7750787092436623), ('FLOW_DURATION_MICROSECONDS', 0.765416536990902), ('FLOW_DURATION_MILLISECONDS', 0.7654161809786645), ('IN_PKTS', 0.9761918627125425), ('OUT_BYTES', 0.7751026013449172), ('OUT_PKTS', 0.9580134749105393), ('SRC_TO_DST_SECOND_BYTES', 0.9999973165512689)]\n",
      "\n",
      "\n",
      "La columna  IN_PKTS  tuvo correlación con las columnas\n",
      "[('DST_TO_SRC_SECOND_BYTES', 0.7868472677192258), ('FLOW_DURATION_MICROSECONDS', 0.7951984216949622), ('FLOW_DURATION_MILLISECONDS', 0.7951979134524083), ('IN_BYTES', 0.9761918627125425), ('OUT_BYTES', 0.7868791335828941), ('OUT_PKTS', 0.9814072345605042), ('SRC_TO_DST_SECOND_BYTES', 0.9761838595050483)]\n",
      "\n",
      "\n",
      "La columna  LAST_SWITCHED  tuvo correlación con las columnas\n",
      "[('FIRST_SWITCHED', 0.999999998712298), ('FLOW_END_MILLISECONDS', 0.9999999999999052), ('FLOW_END_SEC', 1.0), ('FLOW_START_MILLISECONDS', 0.99999999871192), ('FLOW_START_SEC', 0.999999998712298)]\n",
      "\n",
      "\n",
      "La columna  OUT_BYTES  tuvo correlación con las columnas\n",
      "[('DST_TO_SRC_SECOND_BYTES', 0.9999990908664482), ('IN_BYTES', 0.7751026013449172), ('IN_PKTS', 0.7868791335828941), ('OUT_PKTS', 0.8145941532772873), ('SRC_TO_DST_SECOND_BYTES', 0.7751283810960122)]\n",
      "\n",
      "\n",
      "La columna  OUT_PKTS  tuvo correlación con las columnas\n",
      "[('DST_TO_SRC_SECOND_BYTES', 0.8145579752781831), ('FLOW_DURATION_MICROSECONDS', 0.7876313170396291), ('FLOW_DURATION_MILLISECONDS', 0.7876308877147626), ('IN_BYTES', 0.9580134749105393), ('IN_PKTS', 0.9814072345605042), ('OUT_BYTES', 0.8145941532772873), ('SRC_TO_DST_SECOND_BYTES', 0.9580203369897137)]\n",
      "\n",
      "\n",
      "La columna  SRC_TO_DST_SECOND_BYTES  tuvo correlación con las columnas\n",
      "[('DST_TO_SRC_SECOND_BYTES', 0.7751061109748211), ('FLOW_DURATION_MICROSECONDS', 0.7654817406620488), ('FLOW_DURATION_MILLISECONDS', 0.7654813845637972), ('IN_BYTES', 0.9999973165512689), ('IN_PKTS', 0.9761838595050483), ('OUT_BYTES', 0.7751283810960122), ('OUT_PKTS', 0.9580203369897137)]\n",
      "\n",
      "\n",
      "La columna  TCP_WIN_MAX_IN  tuvo correlación con las columnas\n",
      "[('TCP_WIN_MAX_OUT', 0.8705043526892294), ('TCP_WIN_MIN_IN', 0.9992007610209594), ('TCP_WIN_MIN_OUT', 0.8701508412704616)]\n",
      "\n",
      "\n",
      "La columna  TCP_WIN_MAX_OUT  tuvo correlación con las columnas\n",
      "[('TCP_WIN_MAX_IN', 0.8705043526892294), ('TCP_WIN_MIN_IN', 0.8678487869084045), ('TCP_WIN_MIN_OUT', 0.9990513298337832)]\n",
      "\n",
      "\n",
      "La columna  TCP_WIN_MIN_IN  tuvo correlación con las columnas\n",
      "[('TCP_WIN_MAX_IN', 0.9992007610209594), ('TCP_WIN_MAX_OUT', 0.8678487869084045), ('TCP_WIN_MIN_OUT', 0.8678012148278833)]\n",
      "\n",
      "\n",
      "La columna  TCP_WIN_MIN_OUT  tuvo correlación con las columnas\n",
      "[('TCP_WIN_MAX_IN', 0.8701508412704616), ('TCP_WIN_MAX_OUT', 0.9990513298337832), ('TCP_WIN_MIN_IN', 0.8678012148278833)]\n",
      "\n",
      "\n"
     ]
    }
   ],
   "source": [
    "for column in corrMatrix:\n",
    "        correl = []\n",
    "        for index in corrMatrix[column].index:\n",
    "            if column != index and abs(corrMatrix[column][index]) >= 0.75:\n",
    "                correl.append((index, corrMatrix[column][index]))\n",
    "        if len(correl) > 0:\n",
    "            print(\"La columna \", column, \" tuvo correlación con las columnas\")\n",
    "            print(correl)\n",
    "            print(\"\\n\")"
   ]
  },
  {
   "cell_type": "code",
   "execution_count": 68,
   "metadata": {},
   "outputs": [],
   "source": [
    "# Remove useless columns\n",
    "columns_to_drop = [\n",
    "    \"DST_TO_SRC_SECOND_BYTES\", \"FLOW_END_MILLISECONDS\", \"FLOW_END_SEC\", \"FLOW_START_MILLISECONDS\", \"FLOW_START_SEC\",\n",
    "    \"FLOW_DURATION_MICROSECONDS\",\n",
    "    \"IN_BYTES\",\n",
    "    \"TCP_WIN_MIN_OUT\",\n",
    "    \"TCP_WIN_MIN_IN\",\n",
    "    \"TCP_WIN_MAX_IN\"\n",
    "]\n",
    "df = df.drop(columns=columns_to_drop, axis=1)"
   ]
  },
  {
   "cell_type": "markdown",
   "metadata": {},
   "source": [
    "### Categorical variables preprocessing"
   ]
  },
  {
   "cell_type": "markdown",
   "metadata": {},
   "source": [
    "#### Create PROTOCOL_MAP dummies"
   ]
  },
  {
   "cell_type": "code",
   "execution_count": 69,
   "metadata": {},
   "outputs": [
    {
     "data": {
      "text/html": [
       "<div>\n",
       "<style scoped>\n",
       "    .dataframe tbody tr th:only-of-type {\n",
       "        vertical-align: middle;\n",
       "    }\n",
       "\n",
       "    .dataframe tbody tr th {\n",
       "        vertical-align: top;\n",
       "    }\n",
       "\n",
       "    .dataframe thead th {\n",
       "        text-align: right;\n",
       "    }\n",
       "</style>\n",
       "<table border=\"1\" class=\"dataframe\">\n",
       "  <thead>\n",
       "    <tr style=\"text-align: right;\">\n",
       "      <th></th>\n",
       "      <th>FIRST_SWITCHED</th>\n",
       "      <th>FLOW_DURATION_MILLISECONDS</th>\n",
       "      <th>IN_PKTS</th>\n",
       "      <th>L4_DST_PORT</th>\n",
       "      <th>L4_SRC_PORT</th>\n",
       "      <th>LAST_SWITCHED</th>\n",
       "      <th>OUT_BYTES</th>\n",
       "      <th>OUT_PKTS</th>\n",
       "      <th>SRC_TO_DST_SECOND_BYTES</th>\n",
       "      <th>TCP_FLAGS</th>\n",
       "      <th>TCP_WIN_MAX_OUT</th>\n",
       "      <th>TCP_WIN_MSS_IN</th>\n",
       "      <th>L7_PROTO_NAME</th>\n",
       "      <th>LABEL</th>\n",
       "      <th>PROTOCOL_MAP_icmp</th>\n",
       "      <th>PROTOCOL_MAP_ipv6-icmp</th>\n",
       "      <th>PROTOCOL_MAP_tcp</th>\n",
       "      <th>PROTOCOL_MAP_udp</th>\n",
       "    </tr>\n",
       "  </thead>\n",
       "  <tbody>\n",
       "    <tr>\n",
       "      <th>3369345</th>\n",
       "      <td>1618227349</td>\n",
       "      <td>110802</td>\n",
       "      <td>2.639057</td>\n",
       "      <td>80</td>\n",
       "      <td>49513</td>\n",
       "      <td>1618227459</td>\n",
       "      <td>6.436150</td>\n",
       "      <td>2.484907</td>\n",
       "      <td>7.150701</td>\n",
       "      <td>24</td>\n",
       "      <td>114</td>\n",
       "      <td>0</td>\n",
       "      <td>HTTP</td>\n",
       "      <td>Denial of Service R-U-Dead-Yet</td>\n",
       "      <td>0</td>\n",
       "      <td>0</td>\n",
       "      <td>1</td>\n",
       "      <td>0</td>\n",
       "    </tr>\n",
       "    <tr>\n",
       "      <th>4767061</th>\n",
       "      <td>1618233245</td>\n",
       "      <td>10789</td>\n",
       "      <td>1.609438</td>\n",
       "      <td>80</td>\n",
       "      <td>53526</td>\n",
       "      <td>1618233256</td>\n",
       "      <td>5.049856</td>\n",
       "      <td>1.098612</td>\n",
       "      <td>5.855072</td>\n",
       "      <td>25</td>\n",
       "      <td>114</td>\n",
       "      <td>0</td>\n",
       "      <td>HTTP</td>\n",
       "      <td>Denial of Service R-U-Dead-Yet</td>\n",
       "      <td>0</td>\n",
       "      <td>0</td>\n",
       "      <td>1</td>\n",
       "      <td>0</td>\n",
       "    </tr>\n",
       "    <tr>\n",
       "      <th>2811993</th>\n",
       "      <td>1618225028</td>\n",
       "      <td>114012</td>\n",
       "      <td>2.708050</td>\n",
       "      <td>80</td>\n",
       "      <td>21791</td>\n",
       "      <td>1618225142</td>\n",
       "      <td>6.601230</td>\n",
       "      <td>2.639057</td>\n",
       "      <td>7.354362</td>\n",
       "      <td>26</td>\n",
       "      <td>27960</td>\n",
       "      <td>1410</td>\n",
       "      <td>HTTP</td>\n",
       "      <td>Denial of Service R-U-Dead-Yet</td>\n",
       "      <td>0</td>\n",
       "      <td>0</td>\n",
       "      <td>1</td>\n",
       "      <td>0</td>\n",
       "    </tr>\n",
       "  </tbody>\n",
       "</table>\n",
       "</div>"
      ],
      "text/plain": [
       "         FIRST_SWITCHED  FLOW_DURATION_MILLISECONDS   IN_PKTS  L4_DST_PORT  \\\n",
       "3369345      1618227349                      110802  2.639057           80   \n",
       "4767061      1618233245                       10789  1.609438           80   \n",
       "2811993      1618225028                      114012  2.708050           80   \n",
       "\n",
       "         L4_SRC_PORT  LAST_SWITCHED  OUT_BYTES  OUT_PKTS  \\\n",
       "3369345        49513     1618227459   6.436150  2.484907   \n",
       "4767061        53526     1618233256   5.049856  1.098612   \n",
       "2811993        21791     1618225142   6.601230  2.639057   \n",
       "\n",
       "         SRC_TO_DST_SECOND_BYTES  TCP_FLAGS  TCP_WIN_MAX_OUT  TCP_WIN_MSS_IN  \\\n",
       "3369345                 7.150701         24              114               0   \n",
       "4767061                 5.855072         25              114               0   \n",
       "2811993                 7.354362         26            27960            1410   \n",
       "\n",
       "        L7_PROTO_NAME                           LABEL  PROTOCOL_MAP_icmp  \\\n",
       "3369345          HTTP  Denial of Service R-U-Dead-Yet                  0   \n",
       "4767061          HTTP  Denial of Service R-U-Dead-Yet                  0   \n",
       "2811993          HTTP  Denial of Service R-U-Dead-Yet                  0   \n",
       "\n",
       "         PROTOCOL_MAP_ipv6-icmp  PROTOCOL_MAP_tcp  PROTOCOL_MAP_udp  \n",
       "3369345                       0                 1                 0  \n",
       "4767061                       0                 1                 0  \n",
       "2811993                       0                 1                 0  "
      ]
     },
     "execution_count": 69,
     "metadata": {},
     "output_type": "execute_result"
    }
   ],
   "source": [
    "# Create the dummies\n",
    "df = pd.get_dummies(df, columns=[\"PROTOCOL_MAP\"])\n",
    "df.head(3)"
   ]
  },
  {
   "cell_type": "markdown",
   "metadata": {},
   "source": [
    "#### L7_PROTO_NAME dummies"
   ]
  },
  {
   "cell_type": "code",
   "execution_count": 70,
   "metadata": {},
   "outputs": [
    {
     "data": {
      "text/plain": [
       "array(['HTTP', 'HTTP.TargusDataspeed', 'TLS', 'SSH', 'DNS',\n",
       "       'TLS.Microsoft', 'Unknown', 'TLS.Skype', 'TLS.Amazon',\n",
       "       'BitTorrent', 'SMBv23', 'TLS.Google', 'ICMP', 'DNS.Google',\n",
       "       'DNS.Microsoft', 'DNS.Amazon', 'STUN.Messenger', 'DNS.Yahoo',\n",
       "       'ICMP.Amazon', 'Google', 'TLS.Facebook', 'SOCKS', 'DNS.Spotify',\n",
       "       'NFS', 'TLS.Teams', 'DNS.Telegram', 'NTP', 'TLS.Microsoft365',\n",
       "       'DNS.WhatsApp', 'DNS.Microsoft365', 'TLS.Cloudflare',\n",
       "       'TLS.Dropbox', 'DNS.Facebook', 'TLS.GoogleServices',\n",
       "       'HTTP.Microsoft', 'TeamViewer', 'QUIC.Google', 'Playstation',\n",
       "       'HTTP_Proxy', 'DNS.GoogleServices', 'TLS.Apple', 'OpenVPN',\n",
       "       'DNS.AnyDesk', 'TLS.YouTube', 'DNS.Apple', 'HTTP.Google',\n",
       "       'TLS.Tumblr', 'DNS.Cloudflare', 'Telnet', 'STUN.SkypeCall',\n",
       "       'DNS.Dropbox', 'DNS.UbuntuONE', 'TLS.TeamViewer',\n",
       "       'STUN.GoogleHangoutDuo', 'QUIC.Instagram', 'HTTP_Proxy.HTTP',\n",
       "       'NTP.Cloudflare', 'HTTP.TeamViewer', 'Steam', 'DNS.Teams',\n",
       "       'Amazon', 'DNS.Github', 'DNS.GoogleDrive', 'MsSQL-TDS', 'RDP',\n",
       "       'Memcached', 'DNS.YouTube', 'TLS.MS_OneDrive', 'WhatsAppFiles',\n",
       "       'SNMP', 'TLS.Telegram', 'HTTP.UbuntuONE', 'DNS.AppleiCloud',\n",
       "       'TLS.Yahoo', 'DNS.Webex', 'IMAPS.Google', 'LDAP', 'DNS.GMail',\n",
       "       'SIP', 'Playstation.Skype', 'DNS.MS_OneDrive', 'QUIC.YouTube',\n",
       "       'DNS.GoogleDocs', 'TLS.Zoom', 'IMAPS', 'STUN.Skype', 'DNS.NetFlix',\n",
       "       'PostgreSQL', 'DNS.OpenDNS', 'LDAP.RX', 'TLS.Starcraft',\n",
       "       'TLS.GMail', 'TLS.Discord', 'Cloudflare', 'Redis',\n",
       "       'QUIC.GoogleServices', 'QUIC', 'QUIC.Facebook', 'IMAP',\n",
       "       'ICMP.Google', 'HTTP.WindowsUpdate', 'DNS.Zoom', 'SSDP', 'Skype',\n",
       "       'TLS.WhatsAppFiles', 'QUIC.DNScrypt', 'QUIC.NFS',\n",
       "       'TLS.WindowsUpdate', 'DNS.Skype', 'WSD.NFS', 'TLS.WhatsApp',\n",
       "       'DNS.Slack', 'Apple', 'DNS.Twitter', 'NTP.UbuntuONE',\n",
       "       'DNS.LinkedIn', 'Playstation.Google', 'TLS.LinkedIn', 'RTP',\n",
       "       'HTTP.TLS', 'QUIC.GoogleDocs', 'STUN.WhatsAppCall', 'STUN.Amazon',\n",
       "       'TLS.Twitter', 'TLS.Messenger', 'HTTP.Telegram', 'TLS.Slack',\n",
       "       'VNC', 'TLS.DoH_DoT', 'TLS.GoogleDrive', 's7comm', 'FTP_CONTROL',\n",
       "       'DNP3', 'CiscoSkinny', 'STUN.Apple', 'HTTP.Amazon', 'DNS.Tumblr',\n",
       "       'STUN', 'TLS.Tor', 'STUN.Steam', 'QUIC.Cloudflare', 'NTP.Apple',\n",
       "       'TLS.Spotify', 'DNS.WindowsUpdate', 'XDMCP', 'RSYNC', 'Xbox.NFS',\n",
       "       'DNS.TikTok', 'TargusDataspeed', 'DNS.Reddit', 'DNS.GoogleMaps',\n",
       "       'QUIC.GoogleDrive', 'TLS.Signal', 'ICMPV6', 'HTTP.Microsoft365',\n",
       "       'DNS.Discord', 'Oracle', 'TeamViewer.MongoDB', 'WSD',\n",
       "       'TLS.AppleSiri', 'HTTP.Apple', 'DNS.Pinterest', 'DNS.Xbox', 'Xbox',\n",
       "       'SMTP', 'TLS.Wikipedia', 'TLS.UbuntuONE', 'TLS.Xbox', 'Viber',\n",
       "       'HTTP.Starcraft', 'TLS.GoogleDocs', 'NFS.BitTorrent',\n",
       "       'ICMP.Microsoft365', 'DNS.Instagram', 'RTSP', 'DNS.DNScrypt',\n",
       "       'TLS.AppleiTunes', 'ICMP.Webex', 'LLMNR', 'MQTT', 'AJP',\n",
       "       'DNS.Signal', 'TLS.Instagram', 'HTTP.Mining', 'COAP',\n",
       "       'DNS.AppleiTunes', 'ICMP.Skype', 'DNS.TeamViewer', 'DNS.Wikipedia',\n",
       "       'SMTPS', 'DNS.ApplePush', 'DNS.Sina(Weibo)', 'ICMP.Microsoft',\n",
       "       'STUN.BitTorrent', 'TLS.AppleiCloud', 'Mining', 'DNS.PlayStore',\n",
       "       'Microsoft', 'HTTP.Cloudflare', 'BGP', 'CiscoVPN', 'TLS.Pinterest',\n",
       "       'STUN.DNS', 'COAP.DTLS', 'DNS.Messenger', 'IPsec',\n",
       "       'HTTP.MS_OneDrive', 'HTTP.WhatsApp', 'TLS.Twitch', 'TLS.Steam',\n",
       "       'Tor', 'Kerberos', 'Skype.SkypeCall', 'MDNS', 'Syslog',\n",
       "       'DNS.DoH_DoT', 'IPsec.NFS', 'QUIC.PlayStore', 'ICMP.Facebook',\n",
       "       'POP3', 'POPS', 'AFP', 'TLS.AppleStore', 'MongoDB', 'STUN.RTP',\n",
       "       'IMAP.IMAPS', 'ICMP.Dropbox', 'QUIC.DTLS', 'QUIC.Messenger', 'GTP',\n",
       "       'DoH_DoT', 'IMAPS.Apple', 'TLS.Reddit', 'TLS.ApplePush',\n",
       "       'Starcraft', 'QUIC.GoogleMaps', 'CHECKMK', 'Modbus', 'TFTP',\n",
       "       'TLS.Github', 'DNS.ntop', 'RTMP', 'MDNS.Tor', 'DNS.SoundCloud',\n",
       "       'TLS.TargusDataspeed', 'STUN.Starcraft', 'Diameter', 'FTP_DATA',\n",
       "       'DNS.Twitch', 'VMware', 'MDNS.BitTorrent', 'TLS.PlayStore',\n",
       "       'DNS.Steam', 'DNS.AppleSiri', 'DNS.Tor', 'Facebook', 'MySQL',\n",
       "       'RemoteScan', 'OSPF', 'QUIC.YouTubeUpload', 'Citrix',\n",
       "       'CiscoVPN.BitTorrent', 'ICMP.Cloudflare', 'Microsoft365',\n",
       "       'OpenDNS', 'IAX', 'UBNTAC2', 'HTTP.Wikipedia', 'Megaco.BitTorrent',\n",
       "       'OpenVPN.RTP', 'HTTP.Facebook', 'ICMP.Tor', 'WhatsApp',\n",
       "       'MS_OneDrive', 'IRC', 'HTTP.Steam', 'Git', 'WireGuard.BitTorrent',\n",
       "       'ICMP.WhatsAppFiles', 'DNS.AppleStore', 'Teredo', 'TLS.Webex',\n",
       "       'STUN.Teredo', 'TLS.Snapchat', 'STUN.Zoom', 'TLS.eBay',\n",
       "       'NTP.Google', 'DCE_RPC', 'LotusNotes', 'SAP', 'TINC', 'SOMEIP',\n",
       "       'H323', 'Whois-DAS', 'TLS.HTTP', 'IEC60870', 'Radius',\n",
       "       'NestLogSink', 'Zabbix', 'MySQL.Corba'], dtype=object)"
      ]
     },
     "execution_count": 70,
     "metadata": {},
     "output_type": "execute_result"
    }
   ],
   "source": [
    "df[\"L7_PROTO_NAME\"].unique()"
   ]
  },
  {
   "cell_type": "code",
   "execution_count": 71,
   "metadata": {},
   "outputs": [],
   "source": [
    "df[\"L7_PROTO_NAME\"] = df[\"L7_PROTO_NAME\"].map(lambda protocol: utils.lematize_protocol(protocol).upper())"
   ]
  },
  {
   "cell_type": "code",
   "execution_count": 72,
   "metadata": {},
   "outputs": [
    {
     "name": "stdout",
     "output_type": "stream",
     "text": [
      "HTTP           241062\n",
      "UNKNOWN        154939\n",
      "DNS             35131\n",
      "TLS             31883\n",
      "ICMP             8795\n",
      "                ...  \n",
      "MS_ONEDRIVE         1\n",
      "WHATSAPP            1\n",
      "MEGACO              1\n",
      "OPENDNS             1\n",
      "ZABBIX              1\n",
      "Name: L7_PROTO_NAME, Length: 107, dtype: int64\n"
     ]
    }
   ],
   "source": [
    "print(df[\"L7_PROTO_NAME\"].value_counts())\n",
    "\n",
    "proto_name_dummies = df[\"L7_PROTO_NAME\"].unique()"
   ]
  },
  {
   "cell_type": "code",
   "execution_count": 73,
   "metadata": {},
   "outputs": [
    {
     "data": {
      "text/html": [
       "<div>\n",
       "<style scoped>\n",
       "    .dataframe tbody tr th:only-of-type {\n",
       "        vertical-align: middle;\n",
       "    }\n",
       "\n",
       "    .dataframe tbody tr th {\n",
       "        vertical-align: top;\n",
       "    }\n",
       "\n",
       "    .dataframe thead th {\n",
       "        text-align: right;\n",
       "    }\n",
       "</style>\n",
       "<table border=\"1\" class=\"dataframe\">\n",
       "  <thead>\n",
       "    <tr style=\"text-align: right;\">\n",
       "      <th></th>\n",
       "      <th>FIRST_SWITCHED</th>\n",
       "      <th>FLOW_DURATION_MILLISECONDS</th>\n",
       "      <th>IN_PKTS</th>\n",
       "      <th>L4_DST_PORT</th>\n",
       "      <th>L4_SRC_PORT</th>\n",
       "      <th>LAST_SWITCHED</th>\n",
       "      <th>OUT_BYTES</th>\n",
       "      <th>OUT_PKTS</th>\n",
       "      <th>SRC_TO_DST_SECOND_BYTES</th>\n",
       "      <th>TCP_FLAGS</th>\n",
       "      <th>...</th>\n",
       "      <th>L7_PROTO_NAME_VMWARE</th>\n",
       "      <th>L7_PROTO_NAME_VNC</th>\n",
       "      <th>L7_PROTO_NAME_WHATSAPP</th>\n",
       "      <th>L7_PROTO_NAME_WHATSAPPFILES</th>\n",
       "      <th>L7_PROTO_NAME_WHOIS-DAS</th>\n",
       "      <th>L7_PROTO_NAME_WIREGUARD</th>\n",
       "      <th>L7_PROTO_NAME_WSD</th>\n",
       "      <th>L7_PROTO_NAME_XBOX</th>\n",
       "      <th>L7_PROTO_NAME_XDMCP</th>\n",
       "      <th>L7_PROTO_NAME_ZABBIX</th>\n",
       "    </tr>\n",
       "  </thead>\n",
       "  <tbody>\n",
       "    <tr>\n",
       "      <th>3369345</th>\n",
       "      <td>1618227349</td>\n",
       "      <td>110802</td>\n",
       "      <td>2.639057</td>\n",
       "      <td>80</td>\n",
       "      <td>49513</td>\n",
       "      <td>1618227459</td>\n",
       "      <td>6.436150</td>\n",
       "      <td>2.484907</td>\n",
       "      <td>7.150701</td>\n",
       "      <td>24</td>\n",
       "      <td>...</td>\n",
       "      <td>0</td>\n",
       "      <td>0</td>\n",
       "      <td>0</td>\n",
       "      <td>0</td>\n",
       "      <td>0</td>\n",
       "      <td>0</td>\n",
       "      <td>0</td>\n",
       "      <td>0</td>\n",
       "      <td>0</td>\n",
       "      <td>0</td>\n",
       "    </tr>\n",
       "    <tr>\n",
       "      <th>4767061</th>\n",
       "      <td>1618233245</td>\n",
       "      <td>10789</td>\n",
       "      <td>1.609438</td>\n",
       "      <td>80</td>\n",
       "      <td>53526</td>\n",
       "      <td>1618233256</td>\n",
       "      <td>5.049856</td>\n",
       "      <td>1.098612</td>\n",
       "      <td>5.855072</td>\n",
       "      <td>25</td>\n",
       "      <td>...</td>\n",
       "      <td>0</td>\n",
       "      <td>0</td>\n",
       "      <td>0</td>\n",
       "      <td>0</td>\n",
       "      <td>0</td>\n",
       "      <td>0</td>\n",
       "      <td>0</td>\n",
       "      <td>0</td>\n",
       "      <td>0</td>\n",
       "      <td>0</td>\n",
       "    </tr>\n",
       "    <tr>\n",
       "      <th>2811993</th>\n",
       "      <td>1618225028</td>\n",
       "      <td>114012</td>\n",
       "      <td>2.708050</td>\n",
       "      <td>80</td>\n",
       "      <td>21791</td>\n",
       "      <td>1618225142</td>\n",
       "      <td>6.601230</td>\n",
       "      <td>2.639057</td>\n",
       "      <td>7.354362</td>\n",
       "      <td>26</td>\n",
       "      <td>...</td>\n",
       "      <td>0</td>\n",
       "      <td>0</td>\n",
       "      <td>0</td>\n",
       "      <td>0</td>\n",
       "      <td>0</td>\n",
       "      <td>0</td>\n",
       "      <td>0</td>\n",
       "      <td>0</td>\n",
       "      <td>0</td>\n",
       "      <td>0</td>\n",
       "    </tr>\n",
       "  </tbody>\n",
       "</table>\n",
       "<p>3 rows × 124 columns</p>\n",
       "</div>"
      ],
      "text/plain": [
       "         FIRST_SWITCHED  FLOW_DURATION_MILLISECONDS   IN_PKTS  L4_DST_PORT  \\\n",
       "3369345      1618227349                      110802  2.639057           80   \n",
       "4767061      1618233245                       10789  1.609438           80   \n",
       "2811993      1618225028                      114012  2.708050           80   \n",
       "\n",
       "         L4_SRC_PORT  LAST_SWITCHED  OUT_BYTES  OUT_PKTS  \\\n",
       "3369345        49513     1618227459   6.436150  2.484907   \n",
       "4767061        53526     1618233256   5.049856  1.098612   \n",
       "2811993        21791     1618225142   6.601230  2.639057   \n",
       "\n",
       "         SRC_TO_DST_SECOND_BYTES  TCP_FLAGS  ...  L7_PROTO_NAME_VMWARE  \\\n",
       "3369345                 7.150701         24  ...                     0   \n",
       "4767061                 5.855072         25  ...                     0   \n",
       "2811993                 7.354362         26  ...                     0   \n",
       "\n",
       "         L7_PROTO_NAME_VNC L7_PROTO_NAME_WHATSAPP  \\\n",
       "3369345                  0                      0   \n",
       "4767061                  0                      0   \n",
       "2811993                  0                      0   \n",
       "\n",
       "         L7_PROTO_NAME_WHATSAPPFILES  L7_PROTO_NAME_WHOIS-DAS  \\\n",
       "3369345                            0                        0   \n",
       "4767061                            0                        0   \n",
       "2811993                            0                        0   \n",
       "\n",
       "         L7_PROTO_NAME_WIREGUARD  L7_PROTO_NAME_WSD  L7_PROTO_NAME_XBOX  \\\n",
       "3369345                        0                  0                   0   \n",
       "4767061                        0                  0                   0   \n",
       "2811993                        0                  0                   0   \n",
       "\n",
       "         L7_PROTO_NAME_XDMCP  L7_PROTO_NAME_ZABBIX  \n",
       "3369345                    0                     0  \n",
       "4767061                    0                     0  \n",
       "2811993                    0                     0  \n",
       "\n",
       "[3 rows x 124 columns]"
      ]
     },
     "execution_count": 73,
     "metadata": {},
     "output_type": "execute_result"
    }
   ],
   "source": [
    "df = pd.get_dummies(df, columns = [\"L7_PROTO_NAME\"])\n",
    "df.head(3)"
   ]
  },
  {
   "cell_type": "markdown",
   "metadata": {},
   "source": [
    "##### Remove PROTO_NAME dummies with less than 200 occurences"
   ]
  },
  {
   "cell_type": "code",
   "execution_count": 74,
   "metadata": {},
   "outputs": [
    {
     "name": "stdout",
     "output_type": "stream",
     "text": [
      "Removed column: L7_PROTO_NAME_SMBV23\n",
      "Removed column: L7_PROTO_NAME_SOCKS\n",
      "Removed column: L7_PROTO_NAME_PLAYSTATION\n",
      "Removed column: L7_PROTO_NAME_OPENVPN\n",
      "Removed column: L7_PROTO_NAME_TELNET\n",
      "Removed column: L7_PROTO_NAME_STEAM\n",
      "Removed column: L7_PROTO_NAME_MSSQL-TDS\n",
      "Removed column: L7_PROTO_NAME_RDP\n",
      "Removed column: L7_PROTO_NAME_MEMCACHED\n",
      "Removed column: L7_PROTO_NAME_WHATSAPPFILES\n",
      "Removed column: L7_PROTO_NAME_SNMP\n",
      "Removed column: L7_PROTO_NAME_IMAPS\n",
      "Removed column: L7_PROTO_NAME_LDAP\n",
      "Removed column: L7_PROTO_NAME_SIP\n",
      "Removed column: L7_PROTO_NAME_POSTGRESQL\n",
      "Removed column: L7_PROTO_NAME_CLOUDFLARE\n",
      "Removed column: L7_PROTO_NAME_REDIS\n",
      "Removed column: L7_PROTO_NAME_IMAP\n",
      "Removed column: L7_PROTO_NAME_SSDP\n",
      "Removed column: L7_PROTO_NAME_SKYPE\n",
      "Removed column: L7_PROTO_NAME_WSD\n",
      "Removed column: L7_PROTO_NAME_APPLE\n",
      "Removed column: L7_PROTO_NAME_RTP\n",
      "Removed column: L7_PROTO_NAME_VNC\n",
      "Removed column: L7_PROTO_NAME_S7COMM\n",
      "Removed column: L7_PROTO_NAME_FTP_CONTROL\n",
      "Removed column: L7_PROTO_NAME_DNP3\n",
      "Removed column: L7_PROTO_NAME_CISCOSKINNY\n",
      "Removed column: L7_PROTO_NAME_XDMCP\n",
      "Removed column: L7_PROTO_NAME_RSYNC\n",
      "Removed column: L7_PROTO_NAME_XBOX\n",
      "Removed column: L7_PROTO_NAME_TARGUSDATASPEED\n",
      "Removed column: L7_PROTO_NAME_ICMPV6\n",
      "Removed column: L7_PROTO_NAME_ORACLE\n",
      "Removed column: L7_PROTO_NAME_SMTP\n",
      "Removed column: L7_PROTO_NAME_VIBER\n",
      "Removed column: L7_PROTO_NAME_RTSP\n",
      "Removed column: L7_PROTO_NAME_LLMNR\n",
      "Removed column: L7_PROTO_NAME_MQTT\n",
      "Removed column: L7_PROTO_NAME_AJP\n",
      "Removed column: L7_PROTO_NAME_COAP\n",
      "Removed column: L7_PROTO_NAME_SMTPS\n",
      "Removed column: L7_PROTO_NAME_MINING\n",
      "Removed column: L7_PROTO_NAME_MICROSOFT\n",
      "Removed column: L7_PROTO_NAME_BGP\n",
      "Removed column: L7_PROTO_NAME_CISCOVPN\n",
      "Removed column: L7_PROTO_NAME_IPSEC\n",
      "Removed column: L7_PROTO_NAME_TOR\n",
      "Removed column: L7_PROTO_NAME_KERBEROS\n",
      "Removed column: L7_PROTO_NAME_MDNS\n",
      "Removed column: L7_PROTO_NAME_SYSLOG\n",
      "Removed column: L7_PROTO_NAME_POP3\n",
      "Removed column: L7_PROTO_NAME_POPS\n",
      "Removed column: L7_PROTO_NAME_AFP\n",
      "Removed column: L7_PROTO_NAME_MONGODB\n",
      "Removed column: L7_PROTO_NAME_GTP\n",
      "Removed column: L7_PROTO_NAME_DOH_DOT\n",
      "Removed column: L7_PROTO_NAME_STARCRAFT\n",
      "Removed column: L7_PROTO_NAME_CHECKMK\n",
      "Removed column: L7_PROTO_NAME_MODBUS\n",
      "Removed column: L7_PROTO_NAME_TFTP\n",
      "Removed column: L7_PROTO_NAME_RTMP\n",
      "Removed column: L7_PROTO_NAME_DIAMETER\n",
      "Removed column: L7_PROTO_NAME_FTP_DATA\n",
      "Removed column: L7_PROTO_NAME_VMWARE\n",
      "Removed column: L7_PROTO_NAME_FACEBOOK\n",
      "Removed column: L7_PROTO_NAME_MYSQL\n",
      "Removed column: L7_PROTO_NAME_REMOTESCAN\n",
      "Removed column: L7_PROTO_NAME_OSPF\n",
      "Removed column: L7_PROTO_NAME_CITRIX\n",
      "Removed column: L7_PROTO_NAME_MICROSOFT365\n",
      "Removed column: L7_PROTO_NAME_OPENDNS\n",
      "Removed column: L7_PROTO_NAME_IAX\n",
      "Removed column: L7_PROTO_NAME_UBNTAC2\n",
      "Removed column: L7_PROTO_NAME_MEGACO\n",
      "Removed column: L7_PROTO_NAME_WHATSAPP\n",
      "Removed column: L7_PROTO_NAME_MS_ONEDRIVE\n",
      "Removed column: L7_PROTO_NAME_IRC\n",
      "Removed column: L7_PROTO_NAME_GIT\n",
      "Removed column: L7_PROTO_NAME_WIREGUARD\n",
      "Removed column: L7_PROTO_NAME_TEREDO\n",
      "Removed column: L7_PROTO_NAME_DCE_RPC\n",
      "Removed column: L7_PROTO_NAME_LOTUSNOTES\n",
      "Removed column: L7_PROTO_NAME_SAP\n",
      "Removed column: L7_PROTO_NAME_TINC\n",
      "Removed column: L7_PROTO_NAME_SOMEIP\n",
      "Removed column: L7_PROTO_NAME_H323\n",
      "Removed column: L7_PROTO_NAME_WHOIS-DAS\n",
      "Removed column: L7_PROTO_NAME_IEC60870\n",
      "Removed column: L7_PROTO_NAME_RADIUS\n",
      "Removed column: L7_PROTO_NAME_NESTLOGSINK\n",
      "Removed column: L7_PROTO_NAME_ZABBIX\n",
      "Removed 92 columns.\n"
     ]
    }
   ],
   "source": [
    "count = 0\n",
    "for name in proto_name_dummies:\n",
    "    column = f\"L7_PROTO_NAME_{name}\"\n",
    "    if len(df[df[column] == 1]) < 200:\n",
    "        df = df.drop(column, axis=1)\n",
    "        print(f\"Removed column: {column}\")\n",
    "        count += 1\n",
    "\n",
    "print(f\"Removed {count} columns.\")\n"
   ]
  },
  {
   "cell_type": "code",
   "execution_count": 75,
   "metadata": {},
   "outputs": [
    {
     "data": {
      "text/plain": [
       "(488370, 32)"
      ]
     },
     "execution_count": 75,
     "metadata": {},
     "output_type": "execute_result"
    }
   ],
   "source": [
    "df.shape"
   ]
  },
  {
   "cell_type": "markdown",
   "metadata": {},
   "source": [
    "#### Treat LABEL column"
   ]
  },
  {
   "cell_type": "code",
   "execution_count": 76,
   "metadata": {},
   "outputs": [
    {
     "data": {
      "text/plain": [
       "array(['Denial of Service R-U-Dead-Yet', 'Denial of Service Slowloris',\n",
       "       'Normal flow', 'SYN Scan - aggressive'], dtype=object)"
      ]
     },
     "execution_count": 76,
     "metadata": {},
     "output_type": "execute_result"
    }
   ],
   "source": [
    "df[\"LABEL\"].unique()"
   ]
  },
  {
   "cell_type": "code",
   "execution_count": 77,
   "metadata": {},
   "outputs": [
    {
     "data": {
      "text/plain": [
       "array([2, 3, 0, 1])"
      ]
     },
     "execution_count": 77,
     "metadata": {},
     "output_type": "execute_result"
    }
   ],
   "source": [
    "labels_dic = {\n",
    "    \"Normal flow\": 0,\n",
    "    \"SYN Scan - aggressive\": 1,\n",
    "    \"Denial of Service R-U-Dead-Yet\": 2,\n",
    "    \"Denial of Service Slowloris\": 3\n",
    "}\n",
    "df[\"LABEL\"] = df[\"LABEL\"].apply(lambda x: labels_dic[x])\n",
    "df[\"LABEL\"].unique()"
   ]
  },
  {
   "cell_type": "markdown",
   "metadata": {},
   "source": [
    "### Normalize column names"
   ]
  },
  {
   "cell_type": "code",
   "execution_count": 78,
   "metadata": {},
   "outputs": [
    {
     "data": {
      "text/plain": [
       "Index(['FIRST_SWITCHED', 'FLOW_DURATION_MILLISECONDS', 'IN_PKTS',\n",
       "       'L4_DST_PORT', 'L4_SRC_PORT', 'LAST_SWITCHED', 'OUT_BYTES', 'OUT_PKTS',\n",
       "       'SRC_TO_DST_SECOND_BYTES', 'TCP_FLAGS', 'TCP_WIN_MAX_OUT',\n",
       "       'TCP_WIN_MSS_IN', 'LABEL', 'PROTOCOL_MAP_ICMP',\n",
       "       'PROTOCOL_MAP_IPV6_ICMP', 'PROTOCOL_MAP_TCP', 'PROTOCOL_MAP_UDP',\n",
       "       'L7_PROTO_NAME_AMAZON', 'L7_PROTO_NAME_BITTORRENT', 'L7_PROTO_NAME_DNS',\n",
       "       'L7_PROTO_NAME_GOOGLE', 'L7_PROTO_NAME_HTTP',\n",
       "       'L7_PROTO_NAME_HTTP_PROXY', 'L7_PROTO_NAME_ICMP', 'L7_PROTO_NAME_NFS',\n",
       "       'L7_PROTO_NAME_NTP', 'L7_PROTO_NAME_QUIC', 'L7_PROTO_NAME_SSH',\n",
       "       'L7_PROTO_NAME_STUN', 'L7_PROTO_NAME_TEAMVIEWER', 'L7_PROTO_NAME_TLS',\n",
       "       'L7_PROTO_NAME_UNKNOWN'],\n",
       "      dtype='object')"
      ]
     },
     "execution_count": 78,
     "metadata": {},
     "output_type": "execute_result"
    }
   ],
   "source": [
    "# Normalize columns\n",
    "df.columns = [column.upper().replace(\"-\", \"_\") for column in df.columns]\n",
    "df.columns"
   ]
  },
  {
   "cell_type": "markdown",
   "metadata": {},
   "source": [
    "### Third profile report"
   ]
  },
  {
   "cell_type": "code",
   "execution_count": 79,
   "metadata": {},
   "outputs": [
    {
     "data": {
      "text/plain": [
       "(488370, 32)"
      ]
     },
     "execution_count": 79,
     "metadata": {},
     "output_type": "execute_result"
    }
   ],
   "source": [
    "df.shape"
   ]
  },
  {
   "cell_type": "code",
   "execution_count": 80,
   "metadata": {},
   "outputs": [],
   "source": [
    "if not os.path.isfile(\"reports/profile-categorical.html\") and generate_reports:\n",
    "    ProfileReport(df, title=\"Exploratory Data Analysis 2\").to_file(\"reports/profile-categorical.html\")"
   ]
  },
  {
   "cell_type": "markdown",
   "metadata": {},
   "source": [
    "### Create clean dataset"
   ]
  },
  {
   "cell_type": "code",
   "execution_count": 81,
   "metadata": {},
   "outputs": [],
   "source": [
    "df.to_csv(\"dataset/clean_df.csv\", index_label=False)"
   ]
  },
  {
   "cell_type": "code",
   "execution_count": 86,
   "metadata": {},
   "outputs": [
    {
     "name": "stdout",
     "output_type": "stream",
     "text": [
      "32\n"
     ]
    },
    {
     "data": {
      "text/plain": [
       "Index(['FIRST_SWITCHED', 'FLOW_DURATION_MILLISECONDS', 'IN_PKTS',\n",
       "       'L4_DST_PORT', 'L4_SRC_PORT', 'LAST_SWITCHED', 'OUT_BYTES', 'OUT_PKTS',\n",
       "       'SRC_TO_DST_SECOND_BYTES', 'TCP_FLAGS', 'TCP_WIN_MAX_OUT',\n",
       "       'TCP_WIN_MSS_IN', 'LABEL', 'PROTOCOL_MAP_ICMP',\n",
       "       'PROTOCOL_MAP_IPV6_ICMP', 'PROTOCOL_MAP_TCP', 'PROTOCOL_MAP_UDP',\n",
       "       'L7_PROTO_NAME_AMAZON', 'L7_PROTO_NAME_BITTORRENT', 'L7_PROTO_NAME_DNS',\n",
       "       'L7_PROTO_NAME_GOOGLE', 'L7_PROTO_NAME_HTTP',\n",
       "       'L7_PROTO_NAME_HTTP_PROXY', 'L7_PROTO_NAME_ICMP', 'L7_PROTO_NAME_NFS',\n",
       "       'L7_PROTO_NAME_NTP', 'L7_PROTO_NAME_QUIC', 'L7_PROTO_NAME_SSH',\n",
       "       'L7_PROTO_NAME_STUN', 'L7_PROTO_NAME_TEAMVIEWER', 'L7_PROTO_NAME_TLS',\n",
       "       'L7_PROTO_NAME_UNKNOWN'],\n",
       "      dtype='object')"
      ]
     },
     "execution_count": 86,
     "metadata": {},
     "output_type": "execute_result"
    }
   ],
   "source": [
    "print(len(df.columns))\n",
    "\n",
    "df.columns"
   ]
  }
 ],
 "metadata": {
  "interpreter": {
   "hash": "c30ed9953166c46a373925bc872b270a46ca8c9de287d54e6d16603f90de65fb"
  },
  "kernelspec": {
   "display_name": "Python 3 (ipykernel)",
   "language": "python",
   "name": "python3"
  },
  "language_info": {
   "codemirror_mode": {
    "name": "ipython",
    "version": 3
   },
   "file_extension": ".py",
   "mimetype": "text/x-python",
   "name": "python",
   "nbconvert_exporter": "python",
   "pygments_lexer": "ipython3",
   "version": "3.7.12"
  }
 },
 "nbformat": 4,
 "nbformat_minor": 2
}
